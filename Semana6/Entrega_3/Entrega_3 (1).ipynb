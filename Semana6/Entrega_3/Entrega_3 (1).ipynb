{
  "nbformat": 4,
  "nbformat_minor": 0,
  "metadata": {
    "colab": {
      "provenance": []
    },
    "kernelspec": {
      "name": "python3",
      "display_name": "Python 3"
    },
    "language_info": {
      "name": "python"
    }
  },
  "cells": [
    {
      "cell_type": "markdown",
      "source": [
        "#### Mayo 2024\n",
        "[Canción mas escuchada en Colombia en el 2020 🎼🎼](hhttps://open.spotify.com/track/380HmhwTE2NJgawn1NwkXi?si=1020cd84a15b48dc)\n",
        "# Entrega 3\n",
        "## [Por: Juan Felipe Calderón Cárdenas]"
      ],
      "metadata": {
        "id": "jB94tVdZF0ZU"
      }
    },
    {
      "cell_type": "markdown",
      "source": [
        "###Sección 0"
      ],
      "metadata": {
        "id": "242bkBSkGIzo"
      }
    },
    {
      "cell_type": "code",
      "execution_count": 41,
      "metadata": {
        "colab": {
          "base_uri": "https://localhost:8080/"
        },
        "id": "TUIEb9TRwxwU",
        "outputId": "94223c51-e537-4501-e604-b5c96d24c07d"
      },
      "outputs": [
        {
          "output_type": "stream",
          "name": "stdout",
          "text": [
            "Drive already mounted at /content/drive; to attempt to forcibly remount, call drive.mount(\"/content/drive\", force_remount=True).\n"
          ]
        }
      ],
      "source": [
        "from google.colab import drive\n",
        "drive.mount('/content/drive')"
      ]
    },
    {
      "cell_type": "code",
      "source": [
        "%load_ext sql"
      ],
      "metadata": {
        "id": "Qz3KWsrlNNPG"
      },
      "execution_count": 4,
      "outputs": []
    },
    {
      "cell_type": "code",
      "source": [
        "%sql  sqlite:////content/drive/MyDrive/Colab_Notebooks/music_smaller_10000.db"
      ],
      "metadata": {
        "id": "UmtZ5TXrywhS"
      },
      "execution_count": 5,
      "outputs": []
    },
    {
      "cell_type": "code",
      "source": [
        "%%sql\n",
        "SELECT * FROM song LIMIT 20"
      ],
      "metadata": {
        "colab": {
          "base_uri": "https://localhost:8080/",
          "height": 736
        },
        "id": "wA_-J3gCSMMw",
        "outputId": "23cf39a5-d62a-4df5-a6a5-6055b7a8ed86"
      },
      "execution_count": 30,
      "outputs": [
        {
          "output_type": "stream",
          "name": "stdout",
          "text": [
            " * sqlite:////content/drive/MyDrive/Colab_Notebooks/music_smaller_10000.db\n",
            "Done.\n"
          ]
        },
        {
          "output_type": "execute_result",
          "data": {
            "text/plain": [
              "[('spotify:track:4SDywo3ykB2PEthjXvo1UP', 6, 0, 'Creedence Clearwater Revival', 'spotify:artist:3IYUhFvPQItj6xySrBmZkd', 'I Put A Spell On You', 'spotify:album:7oIftk0P8cViwNpNEdCYl2', 271786, 'Creedence Clearwater Revival'),\n",
              " ('spotify:track:229SqGbacrLSBfb9XfJczF', 6, 1, 'STRFKR', 'spotify:artist:2Tz1DTzVJ5Gyh8ZwVr6ekU', 'Bury Us Alive', 'spotify:album:5pfqk4oFycMVynOD8S2Cqs', 190360, 'Reptilians'),\n",
              " ('spotify:track:0orNm6qQT2B5WFi0l7l3PV', 6, 2, '311', 'spotify:artist:41Q0HrwWBtuUkJc7C1Rp6K', \"Jackolantern's Weather\", 'spotify:album:6VIeIM5tetuv7FrYxISffU', 204160, '311'),\n",
              " ('spotify:track:1hWQvA6oGVJ2mAVsZ59AaV', 6, 3, 'Nathaniel Rateliff & The Night Sweats', 'spotify:artist:02seUFsFQP7TH4hLrTj77o', 'S.O.B.', 'spotify:album:2UCyiayMoJOwBilPLQPQvK', 247612, 'Nathaniel Rateliff & The Night Sweats'),\n",
              " ('spotify:track:56SkdBKyR2zOkjk6wVFI9s', 6, 4, 'Toadies', 'spotify:artist:2QMMktUMtwMSwUZATX1cRO', 'Possum Kingdom', 'spotify:album:7tFTqVGHceSlXOaz8IylBN', 309573, 'Rubberneck'),\n",
              " ('spotify:track:6y20BV5L33R8YXM0YuI38N', 6, 5, 'Queens of the Stone Age', 'spotify:artist:4pejUc4iciQfgdX6OKulQn', 'No One Knows', 'spotify:album:4w3NeXtywU398NYW4903rY', 278746, 'Songs For The Deaf'),\n",
              " ('spotify:track:6xy6jNeNTYwjnKTDzMyHw2', 6, 6, 'The Cranberries', 'spotify:artist:7t0rwkOPGlDPEhaOcVtOt9', 'Zombie', 'spotify:album:2KsgTeLQXz7yDV1joGOd2L', 306440, 'No Need To Argue (The Complete Sessions 1994-1995)'),\n",
              " ('spotify:track:0rK3iUuoyQp6QReDPzwlYD', 6, 7, 'Misfits', 'spotify:artist:1cXi8ALPQCBHZbf0EgP4Ey', 'Monster Mash', 'spotify:album:6MzZSl19bVR3xWwFCOZyhg', 157000, 'Project 1950'),\n",
              " ('spotify:track:2k5lMt43DRIoEZPuswnULH', 6, 8, 'Misfits', 'spotify:artist:1cXi8ALPQCBHZbf0EgP4Ey', 'Ghouls Night Out - Live', 'spotify:album:4CWxS5ASY9eRE2zXP8BTRd', 102539, 'Evilive'),\n",
              " ('spotify:track:3gN4UFoOnRHlMl3K4kU5zG', 6, 9, 'Misfits', 'spotify:artist:1cXi8ALPQCBHZbf0EgP4Ey', 'Hybrid Moments', 'spotify:album:51tAz06EJxwhsk8uNfWxBo', 102266, 'Static Age'),\n",
              " ('spotify:track:37gYTPAIfSk7igC3cpf7BL', 6, 10, 'Willy Moon', 'spotify:artist:5aPH21KxzBBb7SZTpuITrC', 'Yeah Yeah', 'spotify:album:2S3gt2I3A1xWMdce85Bf8M', 164773, \"Here's Willy Moon\"),\n",
              " ('spotify:track:1xpd5XqLsrQDBa81ON2kOb', 6, 11, 'The Flys', 'spotify:artist:3brlG1zNhqIkYhdneCaPVi', 'Got You (Where I Want You)', 'spotify:album:6926E0NLdNZiEjK9ygGUCq', 242453, 'Holiday Man'),\n",
              " ('spotify:track:4g3Ax56IslQkI6XVfYKVc5', 6, 12, 'Tame Impala', 'spotify:artist:5INjqkS1o8h1imAzPqGZBb', 'The Less I Know The Better', 'spotify:album:0rxKf57PZvWEoU8v3m5W2q', 216318, 'Currents'),\n",
              " ('spotify:track:4VrWlk8IQxevMvERoX08iC', 6, 13, 'Sia', 'spotify:artist:5WUlDfRSoLAfcVSX1WnrxN', 'Chandelier', 'spotify:album:3xFSl9lIRaYXIYkIn3OIl9', 216120, '1000 Forms Of Fear'),\n",
              " ('spotify:track:6kwAbEjseqBob48jCus7Sz', 6, 14, 'Sia', 'spotify:artist:5WUlDfRSoLAfcVSX1WnrxN', 'Elastic Heart', 'spotify:album:3xFSl9lIRaYXIYkIn3OIl9', 257200, '1000 Forms Of Fear'),\n",
              " ('spotify:track:0hAMkY2kwdXPPDfQ1e3BmJ', 6, 15, 'Arctic Monkeys', 'spotify:artist:7Ln80lUS6He07XvHI8qqHH', 'Dancing Shoes', 'spotify:album:50Zz8CkIhATKUlQMbHO3k1', 141133, \"Whatever People Say I Am, That's What I'm Not\"),\n",
              " ('spotify:track:2c4QEzLpcIQ6vPRJ26XQqg', 8, 0, 'Catfish and the Bottlemen', 'spotify:artist:2xaAOVImG2O6lURwqperlD', 'Twice', 'spotify:album:6PrcsM0LNzEYEmxvLNTJQN', 196946, 'The Ride'),\n",
              " ('spotify:track:1MoDk4XDqdX25GXaRfXY2O', 8, 1, 'Catfish and the Bottlemen', 'spotify:artist:2xaAOVImG2O6lURwqperlD', '7', 'spotify:album:6PrcsM0LNzEYEmxvLNTJQN', 256306, 'The Ride'),\n",
              " ('spotify:track:5atlAt28h9xM5wxPspr5MU', 8, 2, 'Cage The Elephant', 'spotify:artist:26T3LtbuGT1Fu9m0eRq5X3', 'Whole Wide World - Unpeeled', 'spotify:album:4zpN41aGAYPWX3dzE19rH7', 205706, 'Unpeeled'),\n",
              " ('spotify:track:2XTkpF9T2PKvcLgamGJGx1', 8, 3, 'Red Hot Chili Peppers', 'spotify:artist:0L8ExT028jH3ddEcZwqJJ5', 'Goodbye Angels', 'spotify:album:43otFXrY0bgaq5fB3GrZj6', 268733, 'The Getaway')]"
            ],
            "text/html": [
              "<table>\n",
              "    <thead>\n",
              "        <tr>\n",
              "            <th>track_uri</th>\n",
              "            <th>pid</th>\n",
              "            <th>pos</th>\n",
              "            <th>artist_name</th>\n",
              "            <th>artist_uri</th>\n",
              "            <th>track_name</th>\n",
              "            <th>album_uri</th>\n",
              "            <th>duration_ms</th>\n",
              "            <th>album_name</th>\n",
              "        </tr>\n",
              "    </thead>\n",
              "    <tbody>\n",
              "        <tr>\n",
              "            <td>spotify:track:4SDywo3ykB2PEthjXvo1UP</td>\n",
              "            <td>6</td>\n",
              "            <td>0</td>\n",
              "            <td>Creedence Clearwater Revival</td>\n",
              "            <td>spotify:artist:3IYUhFvPQItj6xySrBmZkd</td>\n",
              "            <td>I Put A Spell On You</td>\n",
              "            <td>spotify:album:7oIftk0P8cViwNpNEdCYl2</td>\n",
              "            <td>271786</td>\n",
              "            <td>Creedence Clearwater Revival</td>\n",
              "        </tr>\n",
              "        <tr>\n",
              "            <td>spotify:track:229SqGbacrLSBfb9XfJczF</td>\n",
              "            <td>6</td>\n",
              "            <td>1</td>\n",
              "            <td>STRFKR</td>\n",
              "            <td>spotify:artist:2Tz1DTzVJ5Gyh8ZwVr6ekU</td>\n",
              "            <td>Bury Us Alive</td>\n",
              "            <td>spotify:album:5pfqk4oFycMVynOD8S2Cqs</td>\n",
              "            <td>190360</td>\n",
              "            <td>Reptilians</td>\n",
              "        </tr>\n",
              "        <tr>\n",
              "            <td>spotify:track:0orNm6qQT2B5WFi0l7l3PV</td>\n",
              "            <td>6</td>\n",
              "            <td>2</td>\n",
              "            <td>311</td>\n",
              "            <td>spotify:artist:41Q0HrwWBtuUkJc7C1Rp6K</td>\n",
              "            <td>Jackolantern&#x27;s Weather</td>\n",
              "            <td>spotify:album:6VIeIM5tetuv7FrYxISffU</td>\n",
              "            <td>204160</td>\n",
              "            <td>311</td>\n",
              "        </tr>\n",
              "        <tr>\n",
              "            <td>spotify:track:1hWQvA6oGVJ2mAVsZ59AaV</td>\n",
              "            <td>6</td>\n",
              "            <td>3</td>\n",
              "            <td>Nathaniel Rateliff &amp; The Night Sweats</td>\n",
              "            <td>spotify:artist:02seUFsFQP7TH4hLrTj77o</td>\n",
              "            <td>S.O.B.</td>\n",
              "            <td>spotify:album:2UCyiayMoJOwBilPLQPQvK</td>\n",
              "            <td>247612</td>\n",
              "            <td>Nathaniel Rateliff &amp; The Night Sweats</td>\n",
              "        </tr>\n",
              "        <tr>\n",
              "            <td>spotify:track:56SkdBKyR2zOkjk6wVFI9s</td>\n",
              "            <td>6</td>\n",
              "            <td>4</td>\n",
              "            <td>Toadies</td>\n",
              "            <td>spotify:artist:2QMMktUMtwMSwUZATX1cRO</td>\n",
              "            <td>Possum Kingdom</td>\n",
              "            <td>spotify:album:7tFTqVGHceSlXOaz8IylBN</td>\n",
              "            <td>309573</td>\n",
              "            <td>Rubberneck</td>\n",
              "        </tr>\n",
              "        <tr>\n",
              "            <td>spotify:track:6y20BV5L33R8YXM0YuI38N</td>\n",
              "            <td>6</td>\n",
              "            <td>5</td>\n",
              "            <td>Queens of the Stone Age</td>\n",
              "            <td>spotify:artist:4pejUc4iciQfgdX6OKulQn</td>\n",
              "            <td>No One Knows</td>\n",
              "            <td>spotify:album:4w3NeXtywU398NYW4903rY</td>\n",
              "            <td>278746</td>\n",
              "            <td>Songs For The Deaf</td>\n",
              "        </tr>\n",
              "        <tr>\n",
              "            <td>spotify:track:6xy6jNeNTYwjnKTDzMyHw2</td>\n",
              "            <td>6</td>\n",
              "            <td>6</td>\n",
              "            <td>The Cranberries</td>\n",
              "            <td>spotify:artist:7t0rwkOPGlDPEhaOcVtOt9</td>\n",
              "            <td>Zombie</td>\n",
              "            <td>spotify:album:2KsgTeLQXz7yDV1joGOd2L</td>\n",
              "            <td>306440</td>\n",
              "            <td>No Need To Argue (The Complete Sessions 1994-1995)</td>\n",
              "        </tr>\n",
              "        <tr>\n",
              "            <td>spotify:track:0rK3iUuoyQp6QReDPzwlYD</td>\n",
              "            <td>6</td>\n",
              "            <td>7</td>\n",
              "            <td>Misfits</td>\n",
              "            <td>spotify:artist:1cXi8ALPQCBHZbf0EgP4Ey</td>\n",
              "            <td>Monster Mash</td>\n",
              "            <td>spotify:album:6MzZSl19bVR3xWwFCOZyhg</td>\n",
              "            <td>157000</td>\n",
              "            <td>Project 1950</td>\n",
              "        </tr>\n",
              "        <tr>\n",
              "            <td>spotify:track:2k5lMt43DRIoEZPuswnULH</td>\n",
              "            <td>6</td>\n",
              "            <td>8</td>\n",
              "            <td>Misfits</td>\n",
              "            <td>spotify:artist:1cXi8ALPQCBHZbf0EgP4Ey</td>\n",
              "            <td>Ghouls Night Out - Live</td>\n",
              "            <td>spotify:album:4CWxS5ASY9eRE2zXP8BTRd</td>\n",
              "            <td>102539</td>\n",
              "            <td>Evilive</td>\n",
              "        </tr>\n",
              "        <tr>\n",
              "            <td>spotify:track:3gN4UFoOnRHlMl3K4kU5zG</td>\n",
              "            <td>6</td>\n",
              "            <td>9</td>\n",
              "            <td>Misfits</td>\n",
              "            <td>spotify:artist:1cXi8ALPQCBHZbf0EgP4Ey</td>\n",
              "            <td>Hybrid Moments</td>\n",
              "            <td>spotify:album:51tAz06EJxwhsk8uNfWxBo</td>\n",
              "            <td>102266</td>\n",
              "            <td>Static Age</td>\n",
              "        </tr>\n",
              "        <tr>\n",
              "            <td>spotify:track:37gYTPAIfSk7igC3cpf7BL</td>\n",
              "            <td>6</td>\n",
              "            <td>10</td>\n",
              "            <td>Willy Moon</td>\n",
              "            <td>spotify:artist:5aPH21KxzBBb7SZTpuITrC</td>\n",
              "            <td>Yeah Yeah</td>\n",
              "            <td>spotify:album:2S3gt2I3A1xWMdce85Bf8M</td>\n",
              "            <td>164773</td>\n",
              "            <td>Here&#x27;s Willy Moon</td>\n",
              "        </tr>\n",
              "        <tr>\n",
              "            <td>spotify:track:1xpd5XqLsrQDBa81ON2kOb</td>\n",
              "            <td>6</td>\n",
              "            <td>11</td>\n",
              "            <td>The Flys</td>\n",
              "            <td>spotify:artist:3brlG1zNhqIkYhdneCaPVi</td>\n",
              "            <td>Got You (Where I Want You)</td>\n",
              "            <td>spotify:album:6926E0NLdNZiEjK9ygGUCq</td>\n",
              "            <td>242453</td>\n",
              "            <td>Holiday Man</td>\n",
              "        </tr>\n",
              "        <tr>\n",
              "            <td>spotify:track:4g3Ax56IslQkI6XVfYKVc5</td>\n",
              "            <td>6</td>\n",
              "            <td>12</td>\n",
              "            <td>Tame Impala</td>\n",
              "            <td>spotify:artist:5INjqkS1o8h1imAzPqGZBb</td>\n",
              "            <td>The Less I Know The Better</td>\n",
              "            <td>spotify:album:0rxKf57PZvWEoU8v3m5W2q</td>\n",
              "            <td>216318</td>\n",
              "            <td>Currents</td>\n",
              "        </tr>\n",
              "        <tr>\n",
              "            <td>spotify:track:4VrWlk8IQxevMvERoX08iC</td>\n",
              "            <td>6</td>\n",
              "            <td>13</td>\n",
              "            <td>Sia</td>\n",
              "            <td>spotify:artist:5WUlDfRSoLAfcVSX1WnrxN</td>\n",
              "            <td>Chandelier</td>\n",
              "            <td>spotify:album:3xFSl9lIRaYXIYkIn3OIl9</td>\n",
              "            <td>216120</td>\n",
              "            <td>1000 Forms Of Fear</td>\n",
              "        </tr>\n",
              "        <tr>\n",
              "            <td>spotify:track:6kwAbEjseqBob48jCus7Sz</td>\n",
              "            <td>6</td>\n",
              "            <td>14</td>\n",
              "            <td>Sia</td>\n",
              "            <td>spotify:artist:5WUlDfRSoLAfcVSX1WnrxN</td>\n",
              "            <td>Elastic Heart</td>\n",
              "            <td>spotify:album:3xFSl9lIRaYXIYkIn3OIl9</td>\n",
              "            <td>257200</td>\n",
              "            <td>1000 Forms Of Fear</td>\n",
              "        </tr>\n",
              "        <tr>\n",
              "            <td>spotify:track:0hAMkY2kwdXPPDfQ1e3BmJ</td>\n",
              "            <td>6</td>\n",
              "            <td>15</td>\n",
              "            <td>Arctic Monkeys</td>\n",
              "            <td>spotify:artist:7Ln80lUS6He07XvHI8qqHH</td>\n",
              "            <td>Dancing Shoes</td>\n",
              "            <td>spotify:album:50Zz8CkIhATKUlQMbHO3k1</td>\n",
              "            <td>141133</td>\n",
              "            <td>Whatever People Say I Am, That&#x27;s What I&#x27;m Not</td>\n",
              "        </tr>\n",
              "        <tr>\n",
              "            <td>spotify:track:2c4QEzLpcIQ6vPRJ26XQqg</td>\n",
              "            <td>8</td>\n",
              "            <td>0</td>\n",
              "            <td>Catfish and the Bottlemen</td>\n",
              "            <td>spotify:artist:2xaAOVImG2O6lURwqperlD</td>\n",
              "            <td>Twice</td>\n",
              "            <td>spotify:album:6PrcsM0LNzEYEmxvLNTJQN</td>\n",
              "            <td>196946</td>\n",
              "            <td>The Ride</td>\n",
              "        </tr>\n",
              "        <tr>\n",
              "            <td>spotify:track:1MoDk4XDqdX25GXaRfXY2O</td>\n",
              "            <td>8</td>\n",
              "            <td>1</td>\n",
              "            <td>Catfish and the Bottlemen</td>\n",
              "            <td>spotify:artist:2xaAOVImG2O6lURwqperlD</td>\n",
              "            <td>7</td>\n",
              "            <td>spotify:album:6PrcsM0LNzEYEmxvLNTJQN</td>\n",
              "            <td>256306</td>\n",
              "            <td>The Ride</td>\n",
              "        </tr>\n",
              "        <tr>\n",
              "            <td>spotify:track:5atlAt28h9xM5wxPspr5MU</td>\n",
              "            <td>8</td>\n",
              "            <td>2</td>\n",
              "            <td>Cage The Elephant</td>\n",
              "            <td>spotify:artist:26T3LtbuGT1Fu9m0eRq5X3</td>\n",
              "            <td>Whole Wide World - Unpeeled</td>\n",
              "            <td>spotify:album:4zpN41aGAYPWX3dzE19rH7</td>\n",
              "            <td>205706</td>\n",
              "            <td>Unpeeled</td>\n",
              "        </tr>\n",
              "        <tr>\n",
              "            <td>spotify:track:2XTkpF9T2PKvcLgamGJGx1</td>\n",
              "            <td>8</td>\n",
              "            <td>3</td>\n",
              "            <td>Red Hot Chili Peppers</td>\n",
              "            <td>spotify:artist:0L8ExT028jH3ddEcZwqJJ5</td>\n",
              "            <td>Goodbye Angels</td>\n",
              "            <td>spotify:album:43otFXrY0bgaq5fB3GrZj6</td>\n",
              "            <td>268733</td>\n",
              "            <td>The Getaway</td>\n",
              "        </tr>\n",
              "    </tbody>\n",
              "</table>"
            ]
          },
          "metadata": {},
          "execution_count": 30
        }
      ]
    },
    {
      "cell_type": "markdown",
      "source": [
        "###Sección 1"
      ],
      "metadata": {
        "id": "6iqHmUMKHXbr"
      }
    },
    {
      "cell_type": "markdown",
      "source": [
        "Pregunta 5: Contar el  número total de canciones"
      ],
      "metadata": {
        "id": "ZDnuVcuTl_XY"
      }
    },
    {
      "cell_type": "code",
      "source": [
        "%%sql\n",
        "SELECT COUNT(track_name)\n",
        "FROM song"
      ],
      "metadata": {
        "colab": {
          "base_uri": "https://localhost:8080/",
          "height": 95
        },
        "id": "YNBhojUCmQl9",
        "outputId": "5c030b7f-926b-49a9-c9af-6dffc7aa3f41"
      },
      "execution_count": 18,
      "outputs": [
        {
          "output_type": "stream",
          "name": "stdout",
          "text": [
            " * sqlite:////content/drive/MyDrive/Colab_Notebooks/music_smaller_10000.db\n",
            "Done.\n"
          ]
        },
        {
          "output_type": "execute_result",
          "data": {
            "text/plain": [
              "[(529108,)]"
            ],
            "text/html": [
              "<table>\n",
              "    <thead>\n",
              "        <tr>\n",
              "            <th>COUNT(track_name)</th>\n",
              "        </tr>\n",
              "    </thead>\n",
              "    <tbody>\n",
              "        <tr>\n",
              "            <td>529108</td>\n",
              "        </tr>\n",
              "    </tbody>\n",
              "</table>"
            ]
          },
          "metadata": {},
          "execution_count": 18
        }
      ]
    },
    {
      "cell_type": "markdown",
      "source": [
        "Pregunta 6: Contar el número total de canciones únicas"
      ],
      "metadata": {
        "id": "Ey784hknkz76"
      }
    },
    {
      "cell_type": "code",
      "source": [
        "%%sql\n",
        "SELECT COUNT(DISTINCT track_name)\n",
        "FROM song"
      ],
      "metadata": {
        "colab": {
          "base_uri": "https://localhost:8080/",
          "height": 95
        },
        "id": "ByWHW47Ek2fk",
        "outputId": "5a09daa3-5497-4d51-dfe2-a9f46c952f4d"
      },
      "execution_count": 20,
      "outputs": [
        {
          "output_type": "stream",
          "name": "stdout",
          "text": [
            " * sqlite:////content/drive/MyDrive/Colab_Notebooks/music_smaller_10000.db\n",
            "Done.\n"
          ]
        },
        {
          "output_type": "execute_result",
          "data": {
            "text/plain": [
              "[(114492,)]"
            ],
            "text/html": [
              "<table>\n",
              "    <thead>\n",
              "        <tr>\n",
              "            <th>COUNT(DISTINCT track_name)</th>\n",
              "        </tr>\n",
              "    </thead>\n",
              "    <tbody>\n",
              "        <tr>\n",
              "            <td>114492</td>\n",
              "        </tr>\n",
              "    </tbody>\n",
              "</table>"
            ]
          },
          "metadata": {},
          "execution_count": 20
        }
      ]
    },
    {
      "cell_type": "markdown",
      "source": [
        "Pregunta 9: Nombres de las 10 canciones mas largas en duración"
      ],
      "metadata": {
        "id": "SzzgoXuRoFRe"
      }
    },
    {
      "cell_type": "code",
      "source": [
        "%%sql\n",
        "SELECT duration_ms\n",
        "FROM song\n",
        "ORDER BY duration_ms DESC\n",
        "LIMIT 10"
      ],
      "metadata": {
        "colab": {
          "base_uri": "https://localhost:8080/",
          "height": 284
        },
        "id": "_Ev2CgJElZVg",
        "outputId": "b0084015-57ef-40b5-a37d-327991930a6a"
      },
      "execution_count": 25,
      "outputs": [
        {
          "output_type": "stream",
          "name": "stdout",
          "text": [
            " * sqlite:////content/drive/MyDrive/Colab_Notebooks/music_smaller_10000.db\n",
            "Done.\n"
          ]
        },
        {
          "output_type": "execute_result",
          "data": {
            "text/plain": [
              "[(5279768,),\n",
              " (5062000,),\n",
              " (4556387,),\n",
              " (4497994,),\n",
              " (4471884,),\n",
              " (4436000,),\n",
              " (4316154,),\n",
              " (4276000,),\n",
              " (4195000,),\n",
              " (4120258,)]"
            ],
            "text/html": [
              "<table>\n",
              "    <thead>\n",
              "        <tr>\n",
              "            <th>duration_ms</th>\n",
              "        </tr>\n",
              "    </thead>\n",
              "    <tbody>\n",
              "        <tr>\n",
              "            <td>5279768</td>\n",
              "        </tr>\n",
              "        <tr>\n",
              "            <td>5062000</td>\n",
              "        </tr>\n",
              "        <tr>\n",
              "            <td>4556387</td>\n",
              "        </tr>\n",
              "        <tr>\n",
              "            <td>4497994</td>\n",
              "        </tr>\n",
              "        <tr>\n",
              "            <td>4471884</td>\n",
              "        </tr>\n",
              "        <tr>\n",
              "            <td>4436000</td>\n",
              "        </tr>\n",
              "        <tr>\n",
              "            <td>4316154</td>\n",
              "        </tr>\n",
              "        <tr>\n",
              "            <td>4276000</td>\n",
              "        </tr>\n",
              "        <tr>\n",
              "            <td>4195000</td>\n",
              "        </tr>\n",
              "        <tr>\n",
              "            <td>4120258</td>\n",
              "        </tr>\n",
              "    </tbody>\n",
              "</table>"
            ]
          },
          "metadata": {},
          "execution_count": 25
        }
      ]
    },
    {
      "cell_type": "code",
      "source": [
        "%%sql\n",
        "SELECT track_name, duration_ms\n",
        "FROM song\n",
        "WHERE duration_ms >=4120258\n",
        "ORDER BY duration_ms DESC\n",
        "LIMIT 10"
      ],
      "metadata": {
        "colab": {
          "base_uri": "https://localhost:8080/",
          "height": 284
        },
        "id": "wtpv4_F0nbI1",
        "outputId": "7065c753-23bf-42b5-9487-4c095987f76b"
      },
      "execution_count": 29,
      "outputs": [
        {
          "output_type": "stream",
          "name": "stdout",
          "text": [
            " * sqlite:////content/drive/MyDrive/Colab_Notebooks/music_smaller_10000.db\n",
            "Done.\n"
          ]
        },
        {
          "output_type": "execute_result",
          "data": {
            "text/plain": [
              "[('Heavy Rains with Thunder and Lightning - Natural Sounds of Nature', 5279768),\n",
              " ('Faze DJ-Set 08 - Continuous DJ Mix', 5062000),\n",
              " ('Dancehall Mix Tape, Vol. 2 (Continuous Mix)', 4556387),\n",
              " ('Bonobo Late Night Tales Continuous Mix', 4497994),\n",
              " ('Club Life: Miami (Continuous DJ Mix)', 4471884),\n",
              " ('Blue Marlin Ibiza - Continuous DJ Mix 1', 4436000),\n",
              " ('Blue Marlin Ibiza - Continuous DJ Mix 2', 4316154),\n",
              " ('Mixtape 13', 4276000),\n",
              " ('4x4=12 - Continuous Mix', 4195000),\n",
              " ('Ocean Waves for Sleep', 4120258)]"
            ],
            "text/html": [
              "<table>\n",
              "    <thead>\n",
              "        <tr>\n",
              "            <th>track_name</th>\n",
              "            <th>duration_ms</th>\n",
              "        </tr>\n",
              "    </thead>\n",
              "    <tbody>\n",
              "        <tr>\n",
              "            <td>Heavy Rains with Thunder and Lightning - Natural Sounds of Nature</td>\n",
              "            <td>5279768</td>\n",
              "        </tr>\n",
              "        <tr>\n",
              "            <td>Faze DJ-Set 08 - Continuous DJ Mix</td>\n",
              "            <td>5062000</td>\n",
              "        </tr>\n",
              "        <tr>\n",
              "            <td>Dancehall Mix Tape, Vol. 2 (Continuous Mix)</td>\n",
              "            <td>4556387</td>\n",
              "        </tr>\n",
              "        <tr>\n",
              "            <td>Bonobo Late Night Tales Continuous Mix</td>\n",
              "            <td>4497994</td>\n",
              "        </tr>\n",
              "        <tr>\n",
              "            <td>Club Life: Miami (Continuous DJ Mix)</td>\n",
              "            <td>4471884</td>\n",
              "        </tr>\n",
              "        <tr>\n",
              "            <td>Blue Marlin Ibiza - Continuous DJ Mix 1</td>\n",
              "            <td>4436000</td>\n",
              "        </tr>\n",
              "        <tr>\n",
              "            <td>Blue Marlin Ibiza - Continuous DJ Mix 2</td>\n",
              "            <td>4316154</td>\n",
              "        </tr>\n",
              "        <tr>\n",
              "            <td>Mixtape 13</td>\n",
              "            <td>4276000</td>\n",
              "        </tr>\n",
              "        <tr>\n",
              "            <td>4x4=12 - Continuous Mix</td>\n",
              "            <td>4195000</td>\n",
              "        </tr>\n",
              "        <tr>\n",
              "            <td>Ocean Waves for Sleep</td>\n",
              "            <td>4120258</td>\n",
              "        </tr>\n",
              "    </tbody>\n",
              "</table>"
            ]
          },
          "metadata": {},
          "execution_count": 29
        }
      ]
    },
    {
      "cell_type": "markdown",
      "source": [
        "###Sección 2:"
      ],
      "metadata": {
        "id": "Au5bx6rIk1rd"
      }
    },
    {
      "cell_type": "markdown",
      "source": [
        "Pregunta 1: Calcular la duración total de todas las canciones en una playlist específica"
      ],
      "metadata": {
        "id": "miV2A83ur4K-"
      }
    },
    {
      "cell_type": "code",
      "source": [
        "%%sql\n",
        "SELECT COUNT(DISTINCT pid)\n",
        "FROM song"
      ],
      "metadata": {
        "colab": {
          "base_uri": "https://localhost:8080/",
          "height": 95
        },
        "id": "q749VCHXouO7",
        "outputId": "e11409a6-478e-4178-e869-f2db9d9b3bea"
      },
      "execution_count": 31,
      "outputs": [
        {
          "output_type": "stream",
          "name": "stdout",
          "text": [
            " * sqlite:////content/drive/MyDrive/Colab_Notebooks/music_smaller_10000.db\n",
            "Done.\n"
          ]
        },
        {
          "output_type": "execute_result",
          "data": {
            "text/plain": [
              "[(8000,)]"
            ],
            "text/html": [
              "<table>\n",
              "    <thead>\n",
              "        <tr>\n",
              "            <th>COUNT(DISTINCT pid)</th>\n",
              "        </tr>\n",
              "    </thead>\n",
              "    <tbody>\n",
              "        <tr>\n",
              "            <td>8000</td>\n",
              "        </tr>\n",
              "    </tbody>\n",
              "</table>"
            ]
          },
          "metadata": {},
          "execution_count": 31
        }
      ]
    },
    {
      "cell_type": "code",
      "source": [
        "%%sql\n",
        "SELECT pid, COUNT(pid), SUM (duration_ms)\n",
        "FROM song\n",
        "GROUP BY pid\n",
        "ORDER BY COUNT(pid) DESC\n",
        "LIMIT 10"
      ],
      "metadata": {
        "colab": {
          "base_uri": "https://localhost:8080/",
          "height": 284
        },
        "id": "60YJsgqOo1M2",
        "outputId": "256f0f18-2754-45c6-cd1f-51a164b8f36d"
      },
      "execution_count": 39,
      "outputs": [
        {
          "output_type": "stream",
          "name": "stdout",
          "text": [
            " * sqlite:////content/drive/MyDrive/Colab_Notebooks/music_smaller_10000.db\n",
            "Done.\n"
          ]
        },
        {
          "output_type": "execute_result",
          "data": {
            "text/plain": [
              "[(10211, 250, 56522074),\n",
              " (10160, 250, 65442850),\n",
              " (7063, 250, 56260788),\n",
              " (7278, 248, 59211102),\n",
              " (3149, 248, 57599896),\n",
              " (10063, 247, 58715653),\n",
              " (6627, 247, 61772580),\n",
              " (2500, 247, 56282170),\n",
              " (6892, 246, 58348450),\n",
              " (3626, 246, 52356692)]"
            ],
            "text/html": [
              "<table>\n",
              "    <thead>\n",
              "        <tr>\n",
              "            <th>pid</th>\n",
              "            <th>COUNT(pid)</th>\n",
              "            <th>SUM (duration_ms)</th>\n",
              "        </tr>\n",
              "    </thead>\n",
              "    <tbody>\n",
              "        <tr>\n",
              "            <td>10211</td>\n",
              "            <td>250</td>\n",
              "            <td>56522074</td>\n",
              "        </tr>\n",
              "        <tr>\n",
              "            <td>10160</td>\n",
              "            <td>250</td>\n",
              "            <td>65442850</td>\n",
              "        </tr>\n",
              "        <tr>\n",
              "            <td>7063</td>\n",
              "            <td>250</td>\n",
              "            <td>56260788</td>\n",
              "        </tr>\n",
              "        <tr>\n",
              "            <td>7278</td>\n",
              "            <td>248</td>\n",
              "            <td>59211102</td>\n",
              "        </tr>\n",
              "        <tr>\n",
              "            <td>3149</td>\n",
              "            <td>248</td>\n",
              "            <td>57599896</td>\n",
              "        </tr>\n",
              "        <tr>\n",
              "            <td>10063</td>\n",
              "            <td>247</td>\n",
              "            <td>58715653</td>\n",
              "        </tr>\n",
              "        <tr>\n",
              "            <td>6627</td>\n",
              "            <td>247</td>\n",
              "            <td>61772580</td>\n",
              "        </tr>\n",
              "        <tr>\n",
              "            <td>2500</td>\n",
              "            <td>247</td>\n",
              "            <td>56282170</td>\n",
              "        </tr>\n",
              "        <tr>\n",
              "            <td>6892</td>\n",
              "            <td>246</td>\n",
              "            <td>58348450</td>\n",
              "        </tr>\n",
              "        <tr>\n",
              "            <td>3626</td>\n",
              "            <td>246</td>\n",
              "            <td>52356692</td>\n",
              "        </tr>\n",
              "    </tbody>\n",
              "</table>"
            ]
          },
          "metadata": {},
          "execution_count": 39
        }
      ]
    },
    {
      "cell_type": "code",
      "source": [],
      "metadata": {
        "id": "QYC58kUPpEm_"
      },
      "execution_count": null,
      "outputs": []
    },
    {
      "cell_type": "code",
      "source": [
        "%%sql\n",
        "SELECT pid, COUNT(pid), SUM (duration_ms)\n",
        "FROM song\n",
        "WHERE pid=6\n"
      ],
      "metadata": {
        "colab": {
          "base_uri": "https://localhost:8080/",
          "height": 95
        },
        "id": "dxqfX9x5qm-T",
        "outputId": "34edb633-3a48-4e8c-a714-5a7f56ced14d"
      },
      "execution_count": 38,
      "outputs": [
        {
          "output_type": "stream",
          "name": "stdout",
          "text": [
            " * sqlite:////content/drive/MyDrive/Colab_Notebooks/music_smaller_10000.db\n",
            "Done.\n"
          ]
        },
        {
          "output_type": "execute_result",
          "data": {
            "text/plain": [
              "[(6, 16, 3408479)]"
            ],
            "text/html": [
              "<table>\n",
              "    <thead>\n",
              "        <tr>\n",
              "            <th>pid</th>\n",
              "            <th>COUNT(pid)</th>\n",
              "            <th>SUM (duration_ms)</th>\n",
              "        </tr>\n",
              "    </thead>\n",
              "    <tbody>\n",
              "        <tr>\n",
              "            <td>6</td>\n",
              "            <td>16</td>\n",
              "            <td>3408479</td>\n",
              "        </tr>\n",
              "    </tbody>\n",
              "</table>"
            ]
          },
          "metadata": {},
          "execution_count": 38
        }
      ]
    },
    {
      "cell_type": "markdown",
      "source": [
        "**Respuesta:** la duracion total de la playlist 6 es 3408479 ms"
      ],
      "metadata": {
        "id": "Aq9157brsAVX"
      }
    },
    {
      "cell_type": "markdown",
      "source": [
        "Pregunta 2: Obtener la duración promedio de las canciones de las 10 playlists con más canciones"
      ],
      "metadata": {
        "id": "8oLha9HOsSTL"
      }
    },
    {
      "cell_type": "code",
      "source": [
        "%%sql\n",
        "SELECT pid, COUNT(track_uri), AVG (duration_ms) AS Average\n",
        "FROM song\n",
        "GROUP BY pid\n",
        "ORDER BY COUNT (track_uri) DESC\n",
        "LIMIT 10"
      ],
      "metadata": {
        "colab": {
          "base_uri": "https://localhost:8080/",
          "height": 284
        },
        "id": "nFXrGjmusTQW",
        "outputId": "e1d61743-caba-44d7-c53d-bcf1a823c7fb"
      },
      "execution_count": 47,
      "outputs": [
        {
          "output_type": "stream",
          "name": "stdout",
          "text": [
            " * sqlite:////content/drive/MyDrive/Colab_Notebooks/music_smaller_10000.db\n",
            "Done.\n"
          ]
        },
        {
          "output_type": "execute_result",
          "data": {
            "text/plain": [
              "[(10211, 250, 226088.296),\n",
              " (10160, 250, 261771.4),\n",
              " (7063, 250, 225043.152),\n",
              " (7278, 248, 238754.4435483871),\n",
              " (3149, 248, 232257.64516129033),\n",
              " (10063, 247, 237715.1943319838),\n",
              " (6627, 247, 250091.4170040486),\n",
              " (2500, 247, 227863.03643724698),\n",
              " (6892, 246, 237188.82113821138),\n",
              " (3626, 246, 212832.081300813)]"
            ],
            "text/html": [
              "<table>\n",
              "    <thead>\n",
              "        <tr>\n",
              "            <th>pid</th>\n",
              "            <th>COUNT(track_uri)</th>\n",
              "            <th>Average</th>\n",
              "        </tr>\n",
              "    </thead>\n",
              "    <tbody>\n",
              "        <tr>\n",
              "            <td>10211</td>\n",
              "            <td>250</td>\n",
              "            <td>226088.296</td>\n",
              "        </tr>\n",
              "        <tr>\n",
              "            <td>10160</td>\n",
              "            <td>250</td>\n",
              "            <td>261771.4</td>\n",
              "        </tr>\n",
              "        <tr>\n",
              "            <td>7063</td>\n",
              "            <td>250</td>\n",
              "            <td>225043.152</td>\n",
              "        </tr>\n",
              "        <tr>\n",
              "            <td>7278</td>\n",
              "            <td>248</td>\n",
              "            <td>238754.4435483871</td>\n",
              "        </tr>\n",
              "        <tr>\n",
              "            <td>3149</td>\n",
              "            <td>248</td>\n",
              "            <td>232257.64516129033</td>\n",
              "        </tr>\n",
              "        <tr>\n",
              "            <td>10063</td>\n",
              "            <td>247</td>\n",
              "            <td>237715.1943319838</td>\n",
              "        </tr>\n",
              "        <tr>\n",
              "            <td>6627</td>\n",
              "            <td>247</td>\n",
              "            <td>250091.4170040486</td>\n",
              "        </tr>\n",
              "        <tr>\n",
              "            <td>2500</td>\n",
              "            <td>247</td>\n",
              "            <td>227863.03643724698</td>\n",
              "        </tr>\n",
              "        <tr>\n",
              "            <td>6892</td>\n",
              "            <td>246</td>\n",
              "            <td>237188.82113821138</td>\n",
              "        </tr>\n",
              "        <tr>\n",
              "            <td>3626</td>\n",
              "            <td>246</td>\n",
              "            <td>212832.081300813</td>\n",
              "        </tr>\n",
              "    </tbody>\n",
              "</table>"
            ]
          },
          "metadata": {},
          "execution_count": 47
        }
      ]
    },
    {
      "cell_type": "markdown",
      "source": [
        "Pregunta 5: Encontrar la duración más larga y más corta de todas las canciones"
      ],
      "metadata": {
        "id": "Gm_CMTVwuZ_l"
      }
    },
    {
      "cell_type": "code",
      "source": [
        "%%sql\n",
        "SELECT track_name, MAX (duration_ms)\n",
        "FROM song\n",
        "GROUP BY track_name\n",
        "ORDER BY MAX (duration_ms) DESC\n",
        "LIMIT 10"
      ],
      "metadata": {
        "colab": {
          "base_uri": "https://localhost:8080/",
          "height": 284
        },
        "id": "ZnZTi2U5tsH0",
        "outputId": "07672614-838a-43c7-f134-1f79e5adec2b"
      },
      "execution_count": 6,
      "outputs": [
        {
          "output_type": "stream",
          "name": "stdout",
          "text": [
            " * sqlite:////content/drive/MyDrive/Colab_Notebooks/music_smaller_10000.db\n",
            "Done.\n"
          ]
        },
        {
          "output_type": "execute_result",
          "data": {
            "text/plain": [
              "[('Heavy Rains with Thunder and Lightning - Natural Sounds of Nature', 5279768),\n",
              " ('Faze DJ-Set 08 - Continuous DJ Mix', 5062000),\n",
              " ('Dancehall Mix Tape, Vol. 2 (Continuous Mix)', 4556387),\n",
              " ('Bonobo Late Night Tales Continuous Mix', 4497994),\n",
              " ('Club Life: Miami (Continuous DJ Mix)', 4471884),\n",
              " ('Blue Marlin Ibiza - Continuous DJ Mix 1', 4436000),\n",
              " ('Blue Marlin Ibiza - Continuous DJ Mix 2', 4316154),\n",
              " ('Mixtape 13', 4276000),\n",
              " ('4x4=12 - Continuous Mix', 4195000),\n",
              " ('Ocean Waves for Sleep', 4120258)]"
            ],
            "text/html": [
              "<table>\n",
              "    <thead>\n",
              "        <tr>\n",
              "            <th>track_name</th>\n",
              "            <th>MAX (duration_ms)</th>\n",
              "        </tr>\n",
              "    </thead>\n",
              "    <tbody>\n",
              "        <tr>\n",
              "            <td>Heavy Rains with Thunder and Lightning - Natural Sounds of Nature</td>\n",
              "            <td>5279768</td>\n",
              "        </tr>\n",
              "        <tr>\n",
              "            <td>Faze DJ-Set 08 - Continuous DJ Mix</td>\n",
              "            <td>5062000</td>\n",
              "        </tr>\n",
              "        <tr>\n",
              "            <td>Dancehall Mix Tape, Vol. 2 (Continuous Mix)</td>\n",
              "            <td>4556387</td>\n",
              "        </tr>\n",
              "        <tr>\n",
              "            <td>Bonobo Late Night Tales Continuous Mix</td>\n",
              "            <td>4497994</td>\n",
              "        </tr>\n",
              "        <tr>\n",
              "            <td>Club Life: Miami (Continuous DJ Mix)</td>\n",
              "            <td>4471884</td>\n",
              "        </tr>\n",
              "        <tr>\n",
              "            <td>Blue Marlin Ibiza - Continuous DJ Mix 1</td>\n",
              "            <td>4436000</td>\n",
              "        </tr>\n",
              "        <tr>\n",
              "            <td>Blue Marlin Ibiza - Continuous DJ Mix 2</td>\n",
              "            <td>4316154</td>\n",
              "        </tr>\n",
              "        <tr>\n",
              "            <td>Mixtape 13</td>\n",
              "            <td>4276000</td>\n",
              "        </tr>\n",
              "        <tr>\n",
              "            <td>4x4=12 - Continuous Mix</td>\n",
              "            <td>4195000</td>\n",
              "        </tr>\n",
              "        <tr>\n",
              "            <td>Ocean Waves for Sleep</td>\n",
              "            <td>4120258</td>\n",
              "        </tr>\n",
              "    </tbody>\n",
              "</table>"
            ]
          },
          "metadata": {},
          "execution_count": 6
        }
      ]
    },
    {
      "cell_type": "code",
      "source": [
        "%%sql\n",
        "SELECT track_name, MAX (duration_ms)\n",
        "FROM song\n",
        "WHERE track_name= \"Heavy Rains with Thunder and Lightning - Natural Sounds of Nature\""
      ],
      "metadata": {
        "colab": {
          "base_uri": "https://localhost:8080/",
          "height": 95
        },
        "id": "YoTO3p5cwh1_",
        "outputId": "283b9579-081c-4a12-cfd9-784e05ca3c99"
      },
      "execution_count": 9,
      "outputs": [
        {
          "output_type": "stream",
          "name": "stdout",
          "text": [
            " * sqlite:////content/drive/MyDrive/Colab_Notebooks/music_smaller_10000.db\n",
            "Done.\n"
          ]
        },
        {
          "output_type": "execute_result",
          "data": {
            "text/plain": [
              "[('Heavy Rains with Thunder and Lightning - Natural Sounds of Nature', 5279768)]"
            ],
            "text/html": [
              "<table>\n",
              "    <thead>\n",
              "        <tr>\n",
              "            <th>track_name</th>\n",
              "            <th>MAX (duration_ms)</th>\n",
              "        </tr>\n",
              "    </thead>\n",
              "    <tbody>\n",
              "        <tr>\n",
              "            <td>Heavy Rains with Thunder and Lightning - Natural Sounds of Nature</td>\n",
              "            <td>5279768</td>\n",
              "        </tr>\n",
              "    </tbody>\n",
              "</table>"
            ]
          },
          "metadata": {},
          "execution_count": 9
        }
      ]
    },
    {
      "cell_type": "code",
      "source": [
        "%%sql\n",
        "SELECT track_name, MIN (duration_ms)\n",
        "FROM song\n",
        "GROUP BY track_name\n",
        "ORDER BY MIN (duration_ms) ASC\n",
        "LIMIT 10"
      ],
      "metadata": {
        "colab": {
          "base_uri": "https://localhost:8080/",
          "height": 284
        },
        "id": "QqrN54e6xNCd",
        "outputId": "f4b7f7b5-c852-4f46-a244-b317dd371d44"
      },
      "execution_count": 11,
      "outputs": [
        {
          "output_type": "stream",
          "name": "stdout",
          "text": [
            " * sqlite:////content/drive/MyDrive/Colab_Notebooks/music_smaller_10000.db\n",
            "Done.\n"
          ]
        },
        {
          "output_type": "execute_result",
          "data": {
            "text/plain": [
              "[('Another State', 0),\n",
              " ('Paris', 0),\n",
              " ('The Famm', 0),\n",
              " ('Oxygen - Radio Edit', 186),\n",
              " ('Secret Mission - From \"Galavant\"', 188),\n",
              " ('Gravity', 198),\n",
              " ('In Cold Blood', 206),\n",
              " ('Carousel', 231),\n",
              " ('Deadcrush', 231),\n",
              " ('Contradiction', 240)]"
            ],
            "text/html": [
              "<table>\n",
              "    <thead>\n",
              "        <tr>\n",
              "            <th>track_name</th>\n",
              "            <th>MIN (duration_ms)</th>\n",
              "        </tr>\n",
              "    </thead>\n",
              "    <tbody>\n",
              "        <tr>\n",
              "            <td>Another State</td>\n",
              "            <td>0</td>\n",
              "        </tr>\n",
              "        <tr>\n",
              "            <td>Paris</td>\n",
              "            <td>0</td>\n",
              "        </tr>\n",
              "        <tr>\n",
              "            <td>The Famm</td>\n",
              "            <td>0</td>\n",
              "        </tr>\n",
              "        <tr>\n",
              "            <td>Oxygen - Radio Edit</td>\n",
              "            <td>186</td>\n",
              "        </tr>\n",
              "        <tr>\n",
              "            <td>Secret Mission - From &quot;Galavant&quot;</td>\n",
              "            <td>188</td>\n",
              "        </tr>\n",
              "        <tr>\n",
              "            <td>Gravity</td>\n",
              "            <td>198</td>\n",
              "        </tr>\n",
              "        <tr>\n",
              "            <td>In Cold Blood</td>\n",
              "            <td>206</td>\n",
              "        </tr>\n",
              "        <tr>\n",
              "            <td>Carousel</td>\n",
              "            <td>231</td>\n",
              "        </tr>\n",
              "        <tr>\n",
              "            <td>Deadcrush</td>\n",
              "            <td>231</td>\n",
              "        </tr>\n",
              "        <tr>\n",
              "            <td>Contradiction</td>\n",
              "            <td>240</td>\n",
              "        </tr>\n",
              "    </tbody>\n",
              "</table>"
            ]
          },
          "metadata": {},
          "execution_count": 11
        }
      ]
    },
    {
      "cell_type": "code",
      "source": [
        "%%sql\n",
        "SELECT track_name, MIN (duration_ms)\n",
        "FROM song\n",
        "WHERE track_name= \"Another State\""
      ],
      "metadata": {
        "colab": {
          "base_uri": "https://localhost:8080/",
          "height": 95
        },
        "id": "i-aIBlxvx0as",
        "outputId": "04bc6998-263f-43f9-d482-db3ba0b89042"
      },
      "execution_count": 12,
      "outputs": [
        {
          "output_type": "stream",
          "name": "stdout",
          "text": [
            " * sqlite:////content/drive/MyDrive/Colab_Notebooks/music_smaller_10000.db\n",
            "Done.\n"
          ]
        },
        {
          "output_type": "execute_result",
          "data": {
            "text/plain": [
              "[('Another State', 0)]"
            ],
            "text/html": [
              "<table>\n",
              "    <thead>\n",
              "        <tr>\n",
              "            <th>track_name</th>\n",
              "            <th>MIN (duration_ms)</th>\n",
              "        </tr>\n",
              "    </thead>\n",
              "    <tbody>\n",
              "        <tr>\n",
              "            <td>Another State</td>\n",
              "            <td>0</td>\n",
              "        </tr>\n",
              "    </tbody>\n",
              "</table>"
            ]
          },
          "metadata": {},
          "execution_count": 12
        }
      ]
    },
    {
      "cell_type": "markdown",
      "source": [
        "Pregunta 6: Calcular la suma total de duraciones de todas las canciones de un artista específico"
      ],
      "metadata": {
        "id": "RXmfOrmFyfqC"
      }
    },
    {
      "cell_type": "code",
      "source": [
        "%%sql\n",
        "SELECT artist_name, SUM (duration_ms)\n",
        "FROM song\n",
        "WHERE artist_name= \"Queens of the Stone Age\""
      ],
      "metadata": {
        "colab": {
          "base_uri": "https://localhost:8080/",
          "height": 95
        },
        "id": "mOvakxFVyh3a",
        "outputId": "b1ba0f0f-7fdc-4117-e48b-ec45bc3301fb"
      },
      "execution_count": 13,
      "outputs": [
        {
          "output_type": "stream",
          "name": "stdout",
          "text": [
            " * sqlite:////content/drive/MyDrive/Colab_Notebooks/music_smaller_10000.db\n",
            "Done.\n"
          ]
        },
        {
          "output_type": "execute_result",
          "data": {
            "text/plain": [
              "[('Queens of the Stone Age', 21649771)]"
            ],
            "text/html": [
              "<table>\n",
              "    <thead>\n",
              "        <tr>\n",
              "            <th>artist_name</th>\n",
              "            <th>SUM (duration_ms)</th>\n",
              "        </tr>\n",
              "    </thead>\n",
              "    <tbody>\n",
              "        <tr>\n",
              "            <td>Queens of the Stone Age</td>\n",
              "            <td>21649771</td>\n",
              "        </tr>\n",
              "    </tbody>\n",
              "</table>"
            ]
          },
          "metadata": {},
          "execution_count": 13
        }
      ]
    },
    {
      "cell_type": "markdown",
      "source": [
        "###Sección 3:"
      ],
      "metadata": {
        "id": "9gniwnURzaqx"
      }
    },
    {
      "cell_type": "markdown",
      "source": [
        "Pregunta 1: Calcular la duración total y promedio de todas las canciones en una playlist específica"
      ],
      "metadata": {
        "id": "jkRRXUu50ylX"
      }
    },
    {
      "cell_type": "code",
      "source": [
        "%%sql\n",
        "SELECT pid, SUM (duration_ms), AVG (duration_ms)\n",
        "FROM song\n",
        "WHERE pid= 8"
      ],
      "metadata": {
        "colab": {
          "base_uri": "https://localhost:8080/",
          "height": 95
        },
        "id": "Pfzzuad80tnJ",
        "outputId": "d31df8cf-12c9-4acb-bcc3-043e88dc98ba"
      },
      "execution_count": 15,
      "outputs": [
        {
          "output_type": "stream",
          "name": "stdout",
          "text": [
            " * sqlite:////content/drive/MyDrive/Colab_Notebooks/music_smaller_10000.db\n",
            "Done.\n"
          ]
        },
        {
          "output_type": "execute_result",
          "data": {
            "text/plain": [
              "[(8, 9948921, 216280.89130434784)]"
            ],
            "text/html": [
              "<table>\n",
              "    <thead>\n",
              "        <tr>\n",
              "            <th>pid</th>\n",
              "            <th>SUM (duration_ms)</th>\n",
              "            <th>AVG (duration_ms)</th>\n",
              "        </tr>\n",
              "    </thead>\n",
              "    <tbody>\n",
              "        <tr>\n",
              "            <td>8</td>\n",
              "            <td>9948921</td>\n",
              "            <td>216280.89130434784</td>\n",
              "        </tr>\n",
              "    </tbody>\n",
              "</table>"
            ]
          },
          "metadata": {},
          "execution_count": 15
        }
      ]
    },
    {
      "cell_type": "code",
      "source": [
        "%%sql\n",
        "SELECT pid, track_name, duration_ms, COUNT(track_name)\n",
        "FROM song\n",
        "where pid=8\n",
        "GROUP BY pid, track_name\n",
        "order by pid ASC\n"
      ],
      "metadata": {
        "colab": {
          "base_uri": "https://localhost:8080/",
          "height": 0
        },
        "collapsed": true,
        "id": "91tMX_ro1W3c",
        "outputId": "61f1d41e-0d2b-4fe3-be5e-3bd9f99ed090"
      },
      "execution_count": 26,
      "outputs": [
        {
          "output_type": "stream",
          "name": "stdout",
          "text": [
            " * sqlite:////content/drive/MyDrive/Colab_Notebooks/music_smaller_10000.db\n",
            "Done.\n"
          ]
        },
        {
          "output_type": "execute_result",
          "data": {
            "text/plain": [
              "[(8, '7', 256306, 1),\n",
              " (8, 'A-Punk', 137760, 1),\n",
              " (8, 'All My Loving - Remastered', 127853, 1),\n",
              " (8, 'Cabron', 218373, 1),\n",
              " (8, 'Come Together - Remastered', 259946, 1),\n",
              " (8, 'Daydream Believer', 179613, 1),\n",
              " (8, 'Dog Days Are Over', 251840, 1),\n",
              " (8, 'Feel It Still', 163253, 1),\n",
              " (8, 'First', 200360, 1),\n",
              " (8, 'Goodbye Angels', 268733, 1),\n",
              " (8, 'Hard To Concentrate', 241840, 1),\n",
              " (8, 'Help! - Remastered', 139560, 1),\n",
              " (8, 'Hey Jude - Remastered 2015', 425653, 1),\n",
              " (8, 'I Could Die For You', 192826, 1),\n",
              " (8, 'I Want To Hold Your Hand - Remastered 2015', 145746, 1),\n",
              " (8, 'Kathleen', 160886, 1),\n",
              " (8, 'Lay Me Down', 217520, 1),\n",
              " (8, 'Left Hand Free', 173630, 1),\n",
              " (8, 'Let It Be - Remastered', 243026, 1),\n",
              " (8, 'Love Is Mystical', 214360, 1),\n",
              " (8, 'Make You Feel Better', 231733, 1),\n",
              " (8, 'Minor Thing', 217200, 1),\n",
              " (8, 'Mr. Blue Sky', 303373, 1),\n",
              " (8, 'On Melancholy Hill', 233866, 1),\n",
              " (8, 'Ordinary World', 182893, 1),\n",
              " (8, 'Outlaws', 302333, 1),\n",
              " (8, 'Rainbow', 218640, 1),\n",
              " (8, 'Red Red Wine - Edit', 183853, 1),\n",
              " (8, 'Reverend', 234080, 1),\n",
              " (8, 'Revolution - Remastered', 205293, 1),\n",
              " (8, 'She Moves In Her Own Way', 169306, 1),\n",
              " (8, 'Ship To Wreck', 234526, 1),\n",
              " (8, 'Soul Meets Body', 229413, 1),\n",
              " (8, 'Soul To Squeeze', 289533, 1),\n",
              " (8, 'Soundcheck', 261560, 1),\n",
              " (8, 'Take It or Leave It', 207320, 1),\n",
              " (8, 'The Night We Met', 208211, 1),\n",
              " (8, 'Tongue Tied', 218013, 1),\n",
              " (8, 'Too Much To Think', 234451, 1),\n",
              " (8, 'Twice', 196946, 1),\n",
              " (8, 'Waste A Moment', 183093, 1),\n",
              " (8, 'Welcome To Your Life', 227800, 1),\n",
              " (8, 'What Kind Of Man', 216176, 1),\n",
              " (8, 'Whole Wide World - Unpeeled', 205706, 1),\n",
              " (8, 'Yesterday - Remastered', 125666, 1),\n",
              " (8, 'Young Blood', 208853, 1)]"
            ],
            "text/html": [
              "<table>\n",
              "    <thead>\n",
              "        <tr>\n",
              "            <th>pid</th>\n",
              "            <th>track_name</th>\n",
              "            <th>duration_ms</th>\n",
              "            <th>COUNT(track_name)</th>\n",
              "        </tr>\n",
              "    </thead>\n",
              "    <tbody>\n",
              "        <tr>\n",
              "            <td>8</td>\n",
              "            <td>7</td>\n",
              "            <td>256306</td>\n",
              "            <td>1</td>\n",
              "        </tr>\n",
              "        <tr>\n",
              "            <td>8</td>\n",
              "            <td>A-Punk</td>\n",
              "            <td>137760</td>\n",
              "            <td>1</td>\n",
              "        </tr>\n",
              "        <tr>\n",
              "            <td>8</td>\n",
              "            <td>All My Loving - Remastered</td>\n",
              "            <td>127853</td>\n",
              "            <td>1</td>\n",
              "        </tr>\n",
              "        <tr>\n",
              "            <td>8</td>\n",
              "            <td>Cabron</td>\n",
              "            <td>218373</td>\n",
              "            <td>1</td>\n",
              "        </tr>\n",
              "        <tr>\n",
              "            <td>8</td>\n",
              "            <td>Come Together - Remastered</td>\n",
              "            <td>259946</td>\n",
              "            <td>1</td>\n",
              "        </tr>\n",
              "        <tr>\n",
              "            <td>8</td>\n",
              "            <td>Daydream Believer</td>\n",
              "            <td>179613</td>\n",
              "            <td>1</td>\n",
              "        </tr>\n",
              "        <tr>\n",
              "            <td>8</td>\n",
              "            <td>Dog Days Are Over</td>\n",
              "            <td>251840</td>\n",
              "            <td>1</td>\n",
              "        </tr>\n",
              "        <tr>\n",
              "            <td>8</td>\n",
              "            <td>Feel It Still</td>\n",
              "            <td>163253</td>\n",
              "            <td>1</td>\n",
              "        </tr>\n",
              "        <tr>\n",
              "            <td>8</td>\n",
              "            <td>First</td>\n",
              "            <td>200360</td>\n",
              "            <td>1</td>\n",
              "        </tr>\n",
              "        <tr>\n",
              "            <td>8</td>\n",
              "            <td>Goodbye Angels</td>\n",
              "            <td>268733</td>\n",
              "            <td>1</td>\n",
              "        </tr>\n",
              "        <tr>\n",
              "            <td>8</td>\n",
              "            <td>Hard To Concentrate</td>\n",
              "            <td>241840</td>\n",
              "            <td>1</td>\n",
              "        </tr>\n",
              "        <tr>\n",
              "            <td>8</td>\n",
              "            <td>Help! - Remastered</td>\n",
              "            <td>139560</td>\n",
              "            <td>1</td>\n",
              "        </tr>\n",
              "        <tr>\n",
              "            <td>8</td>\n",
              "            <td>Hey Jude - Remastered 2015</td>\n",
              "            <td>425653</td>\n",
              "            <td>1</td>\n",
              "        </tr>\n",
              "        <tr>\n",
              "            <td>8</td>\n",
              "            <td>I Could Die For You</td>\n",
              "            <td>192826</td>\n",
              "            <td>1</td>\n",
              "        </tr>\n",
              "        <tr>\n",
              "            <td>8</td>\n",
              "            <td>I Want To Hold Your Hand - Remastered 2015</td>\n",
              "            <td>145746</td>\n",
              "            <td>1</td>\n",
              "        </tr>\n",
              "        <tr>\n",
              "            <td>8</td>\n",
              "            <td>Kathleen</td>\n",
              "            <td>160886</td>\n",
              "            <td>1</td>\n",
              "        </tr>\n",
              "        <tr>\n",
              "            <td>8</td>\n",
              "            <td>Lay Me Down</td>\n",
              "            <td>217520</td>\n",
              "            <td>1</td>\n",
              "        </tr>\n",
              "        <tr>\n",
              "            <td>8</td>\n",
              "            <td>Left Hand Free</td>\n",
              "            <td>173630</td>\n",
              "            <td>1</td>\n",
              "        </tr>\n",
              "        <tr>\n",
              "            <td>8</td>\n",
              "            <td>Let It Be - Remastered</td>\n",
              "            <td>243026</td>\n",
              "            <td>1</td>\n",
              "        </tr>\n",
              "        <tr>\n",
              "            <td>8</td>\n",
              "            <td>Love Is Mystical</td>\n",
              "            <td>214360</td>\n",
              "            <td>1</td>\n",
              "        </tr>\n",
              "        <tr>\n",
              "            <td>8</td>\n",
              "            <td>Make You Feel Better</td>\n",
              "            <td>231733</td>\n",
              "            <td>1</td>\n",
              "        </tr>\n",
              "        <tr>\n",
              "            <td>8</td>\n",
              "            <td>Minor Thing</td>\n",
              "            <td>217200</td>\n",
              "            <td>1</td>\n",
              "        </tr>\n",
              "        <tr>\n",
              "            <td>8</td>\n",
              "            <td>Mr. Blue Sky</td>\n",
              "            <td>303373</td>\n",
              "            <td>1</td>\n",
              "        </tr>\n",
              "        <tr>\n",
              "            <td>8</td>\n",
              "            <td>On Melancholy Hill</td>\n",
              "            <td>233866</td>\n",
              "            <td>1</td>\n",
              "        </tr>\n",
              "        <tr>\n",
              "            <td>8</td>\n",
              "            <td>Ordinary World</td>\n",
              "            <td>182893</td>\n",
              "            <td>1</td>\n",
              "        </tr>\n",
              "        <tr>\n",
              "            <td>8</td>\n",
              "            <td>Outlaws</td>\n",
              "            <td>302333</td>\n",
              "            <td>1</td>\n",
              "        </tr>\n",
              "        <tr>\n",
              "            <td>8</td>\n",
              "            <td>Rainbow</td>\n",
              "            <td>218640</td>\n",
              "            <td>1</td>\n",
              "        </tr>\n",
              "        <tr>\n",
              "            <td>8</td>\n",
              "            <td>Red Red Wine - Edit</td>\n",
              "            <td>183853</td>\n",
              "            <td>1</td>\n",
              "        </tr>\n",
              "        <tr>\n",
              "            <td>8</td>\n",
              "            <td>Reverend</td>\n",
              "            <td>234080</td>\n",
              "            <td>1</td>\n",
              "        </tr>\n",
              "        <tr>\n",
              "            <td>8</td>\n",
              "            <td>Revolution - Remastered</td>\n",
              "            <td>205293</td>\n",
              "            <td>1</td>\n",
              "        </tr>\n",
              "        <tr>\n",
              "            <td>8</td>\n",
              "            <td>She Moves In Her Own Way</td>\n",
              "            <td>169306</td>\n",
              "            <td>1</td>\n",
              "        </tr>\n",
              "        <tr>\n",
              "            <td>8</td>\n",
              "            <td>Ship To Wreck</td>\n",
              "            <td>234526</td>\n",
              "            <td>1</td>\n",
              "        </tr>\n",
              "        <tr>\n",
              "            <td>8</td>\n",
              "            <td>Soul Meets Body</td>\n",
              "            <td>229413</td>\n",
              "            <td>1</td>\n",
              "        </tr>\n",
              "        <tr>\n",
              "            <td>8</td>\n",
              "            <td>Soul To Squeeze</td>\n",
              "            <td>289533</td>\n",
              "            <td>1</td>\n",
              "        </tr>\n",
              "        <tr>\n",
              "            <td>8</td>\n",
              "            <td>Soundcheck</td>\n",
              "            <td>261560</td>\n",
              "            <td>1</td>\n",
              "        </tr>\n",
              "        <tr>\n",
              "            <td>8</td>\n",
              "            <td>Take It or Leave It</td>\n",
              "            <td>207320</td>\n",
              "            <td>1</td>\n",
              "        </tr>\n",
              "        <tr>\n",
              "            <td>8</td>\n",
              "            <td>The Night We Met</td>\n",
              "            <td>208211</td>\n",
              "            <td>1</td>\n",
              "        </tr>\n",
              "        <tr>\n",
              "            <td>8</td>\n",
              "            <td>Tongue Tied</td>\n",
              "            <td>218013</td>\n",
              "            <td>1</td>\n",
              "        </tr>\n",
              "        <tr>\n",
              "            <td>8</td>\n",
              "            <td>Too Much To Think</td>\n",
              "            <td>234451</td>\n",
              "            <td>1</td>\n",
              "        </tr>\n",
              "        <tr>\n",
              "            <td>8</td>\n",
              "            <td>Twice</td>\n",
              "            <td>196946</td>\n",
              "            <td>1</td>\n",
              "        </tr>\n",
              "        <tr>\n",
              "            <td>8</td>\n",
              "            <td>Waste A Moment</td>\n",
              "            <td>183093</td>\n",
              "            <td>1</td>\n",
              "        </tr>\n",
              "        <tr>\n",
              "            <td>8</td>\n",
              "            <td>Welcome To Your Life</td>\n",
              "            <td>227800</td>\n",
              "            <td>1</td>\n",
              "        </tr>\n",
              "        <tr>\n",
              "            <td>8</td>\n",
              "            <td>What Kind Of Man</td>\n",
              "            <td>216176</td>\n",
              "            <td>1</td>\n",
              "        </tr>\n",
              "        <tr>\n",
              "            <td>8</td>\n",
              "            <td>Whole Wide World - Unpeeled</td>\n",
              "            <td>205706</td>\n",
              "            <td>1</td>\n",
              "        </tr>\n",
              "        <tr>\n",
              "            <td>8</td>\n",
              "            <td>Yesterday - Remastered</td>\n",
              "            <td>125666</td>\n",
              "            <td>1</td>\n",
              "        </tr>\n",
              "        <tr>\n",
              "            <td>8</td>\n",
              "            <td>Young Blood</td>\n",
              "            <td>208853</td>\n",
              "            <td>1</td>\n",
              "        </tr>\n",
              "    </tbody>\n",
              "</table>"
            ]
          },
          "metadata": {},
          "execution_count": 26
        }
      ]
    },
    {
      "cell_type": "markdown",
      "source": [
        "Pregunta 3: Contar la cantidad de playlists que contienen más de un álbum diferente"
      ],
      "metadata": {
        "id": "9KXj5qr15zZ_"
      }
    },
    {
      "cell_type": "code",
      "source": [
        "%%sql\n",
        "WITH ALBUM_DIF AS (\n",
        "    SELECT pid,\n",
        "           COUNT(DISTINCT album_uri) AS album_count,\n",
        "           CASE\n",
        "               WHEN COUNT(DISTINCT album_uri) > 1 THEN 'MAYOR QUE UNO'\n",
        "               ELSE 'MENOR QUE UNO'\n",
        "           END AS albums\n",
        "    FROM song\n",
        "    GROUP BY pid\n",
        ")\n",
        "SELECT COUNT(*) AS total_records\n",
        "FROM ALBUM_DIF;\n",
        "\n"
      ],
      "metadata": {
        "colab": {
          "base_uri": "https://localhost:8080/",
          "height": 95
        },
        "collapsed": true,
        "id": "UGAgxsg95yTi",
        "outputId": "5296f450-32b4-4ff6-8af8-41fdee8b01de"
      },
      "execution_count": 53,
      "outputs": [
        {
          "output_type": "stream",
          "name": "stdout",
          "text": [
            " * sqlite:////content/drive/MyDrive/Colab_Notebooks/music_smaller_10000.db\n",
            "Done.\n"
          ]
        },
        {
          "output_type": "execute_result",
          "data": {
            "text/plain": [
              "[(8000,)]"
            ],
            "text/html": [
              "<table>\n",
              "    <thead>\n",
              "        <tr>\n",
              "            <th>total_records</th>\n",
              "        </tr>\n",
              "    </thead>\n",
              "    <tbody>\n",
              "        <tr>\n",
              "            <td>8000</td>\n",
              "        </tr>\n",
              "    </tbody>\n",
              "</table>"
            ]
          },
          "metadata": {},
          "execution_count": 53
        }
      ]
    },
    {
      "cell_type": "markdown",
      "source": [
        "Pregunta 6: Contar la cantidad total de playlists que contienen más de 10 canciones -> Utilizar un COUNT(*)"
      ],
      "metadata": {
        "id": "IcHz7JmyA0Ol"
      }
    },
    {
      "cell_type": "code",
      "source": [
        "%%sql\n",
        "WITH TRACK_DIF AS (\n",
        "    SELECT pid,\n",
        "           COUNT( track_uri ) AS trackNUM,\n",
        "           CASE\n",
        "               WHEN COUNT(track_uri) > 10 THEN 'MAYOR QUE DIEZ'\n",
        "               ELSE 'MENOR O IGUAL QUE DIEZ'\n",
        "           END AS counts\n",
        "    FROM song\n",
        "    GROUP BY pid\n",
        ")\n",
        "SELECT COUNT(*) AS total_tracks\n",
        "FROM TRACK_DIF;\n"
      ],
      "metadata": {
        "colab": {
          "base_uri": "https://localhost:8080/",
          "height": 95
        },
        "id": "VzZpAESTA00-",
        "outputId": "f6a1cd61-8ca3-4831-900a-e6b9f77feeac"
      },
      "execution_count": 68,
      "outputs": [
        {
          "output_type": "stream",
          "name": "stdout",
          "text": [
            " * sqlite:////content/drive/MyDrive/Colab_Notebooks/music_smaller_10000.db\n",
            "Done.\n"
          ]
        },
        {
          "output_type": "execute_result",
          "data": {
            "text/plain": [
              "[(8000,)]"
            ],
            "text/html": [
              "<table>\n",
              "    <thead>\n",
              "        <tr>\n",
              "            <th>total_tracks</th>\n",
              "        </tr>\n",
              "    </thead>\n",
              "    <tbody>\n",
              "        <tr>\n",
              "            <td>8000</td>\n",
              "        </tr>\n",
              "    </tbody>\n",
              "</table>"
            ]
          },
          "metadata": {},
          "execution_count": 68
        }
      ]
    }
  ]
}