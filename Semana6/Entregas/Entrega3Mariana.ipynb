{
  "nbformat": 4,
  "nbformat_minor": 0,
  "metadata": {
    "colab": {
      "provenance": []
    },
    "kernelspec": {
      "name": "python3",
      "display_name": "Python 3"
    },
    "language_info": {
      "name": "python"
    }
  },
  "cells": [
    {
      "cell_type": "markdown",
      "source": [
        "PREPARACIÓN PARA LA PROGRAMACIÓN"
      ],
      "metadata": {
        "id": "vmb9GCECb-4X"
      }
    },
    {
      "cell_type": "code",
      "execution_count": 1,
      "metadata": {
        "colab": {
          "base_uri": "https://localhost:8080/"
        },
        "id": "sCR9dTeCF5jM",
        "outputId": "4a2b1cd4-135f-4063-db4d-aac71af9d113"
      },
      "outputs": [
        {
          "output_type": "stream",
          "name": "stdout",
          "text": [
            "Drive already mounted at /content/drive; to attempt to forcibly remount, call drive.mount(\"/content/drive\", force_remount=True).\n"
          ]
        }
      ],
      "source": [
        "from google.colab import drive\n",
        "drive.mount('/content/drive')"
      ]
    },
    {
      "cell_type": "code",
      "source": [
        "%load_ext sql"
      ],
      "metadata": {
        "id": "OuX0sUo1LABT"
      },
      "execution_count": 2,
      "outputs": []
    },
    {
      "cell_type": "code",
      "source": [
        "%sql  sqlite:////content/drive/MyDrive/music_smaller_10000.db"
      ],
      "metadata": {
        "id": "oix0vArALZ2t"
      },
      "execution_count": 3,
      "outputs": []
    },
    {
      "cell_type": "markdown",
      "source": [
        "COMPRENSIÓN DE CÓMO ESTÁ HECHA LA BASE DE DATOS"
      ],
      "metadata": {
        "id": "9SW7RpuTcESk"
      }
    },
    {
      "cell_type": "code",
      "source": [
        "%sql SELECT name, type FROM sqlite_master WHERE type='table' AND name NOT LIKE 'sqlite_%';%s"
      ],
      "metadata": {
        "colab": {
          "base_uri": "https://localhost:8080/",
          "height": 156
        },
        "id": "Ix8oxzQZPn44",
        "outputId": "b8d12e90-0a0e-4653-81e3-a98d4a90734e"
      },
      "execution_count": null,
      "outputs": [
        {
          "output_type": "stream",
          "name": "stdout",
          "text": [
            "   sqlite:////content/drive/MyDrive/music_smaller_10000\n",
            " * sqlite:////content/drive/MyDrive/music_smaller_10000.db\n",
            "Done.\n"
          ]
        },
        {
          "output_type": "execute_result",
          "data": {
            "text/plain": [
              "[('slice_time', 'table'), ('playlists', 'table'), ('song', 'table')]"
            ],
            "text/html": [
              "<table>\n",
              "    <thead>\n",
              "        <tr>\n",
              "            <th>name</th>\n",
              "            <th>type</th>\n",
              "        </tr>\n",
              "    </thead>\n",
              "    <tbody>\n",
              "        <tr>\n",
              "            <td>slice_time</td>\n",
              "            <td>table</td>\n",
              "        </tr>\n",
              "        <tr>\n",
              "            <td>playlists</td>\n",
              "            <td>table</td>\n",
              "        </tr>\n",
              "        <tr>\n",
              "            <td>song</td>\n",
              "            <td>table</td>\n",
              "        </tr>\n",
              "    </tbody>\n",
              "</table>"
            ]
          },
          "metadata": {},
          "execution_count": 24
        }
      ]
    },
    {
      "cell_type": "code",
      "source": [
        "%sql SELECT * FROM playlists limit 5"
      ],
      "metadata": {
        "colab": {
          "base_uri": "https://localhost:8080/",
          "height": 305
        },
        "id": "Z7aR8Nw_PuZ_",
        "outputId": "ea9eb47b-33dc-4d9f-c244-9246d8cb22d2"
      },
      "execution_count": null,
      "outputs": [
        {
          "output_type": "stream",
          "name": "stdout",
          "text": [
            "   sqlite:////content/drive/MyDrive/music_smaller_10000\n",
            " * sqlite:////content/drive/MyDrive/music_smaller_10000.db\n",
            "Done.\n"
          ]
        },
        {
          "output_type": "execute_result",
          "data": {
            "text/plain": [
              "[('0-999', 0, 1493424000, 52, 47, 1, 6, 11532414, 37),\n",
              " ('0-999', 1, 1506556800, 39, 23, 1, 5, 11656470, 21),\n",
              " ('0-999', 2, 1505692800, 64, 51, 1, 18, 14039958, 31),\n",
              " ('0-999', 3, 1501027200, 126, 107, 1, 4, 28926058, 86),\n",
              " ('0-999', 4, 1401667200, 17, 16, 2, 7, 4335282, 16)]"
            ],
            "text/html": [
              "<table>\n",
              "    <thead>\n",
              "        <tr>\n",
              "            <th>slice</th>\n",
              "            <th>pid</th>\n",
              "            <th>modified_at</th>\n",
              "            <th>num_tracks</th>\n",
              "            <th>num_albums</th>\n",
              "            <th>num_followers</th>\n",
              "            <th>num_edits</th>\n",
              "            <th>duration_ms</th>\n",
              "            <th>num_artists</th>\n",
              "        </tr>\n",
              "    </thead>\n",
              "    <tbody>\n",
              "        <tr>\n",
              "            <td>0-999</td>\n",
              "            <td>0</td>\n",
              "            <td>1493424000</td>\n",
              "            <td>52</td>\n",
              "            <td>47</td>\n",
              "            <td>1</td>\n",
              "            <td>6</td>\n",
              "            <td>11532414</td>\n",
              "            <td>37</td>\n",
              "        </tr>\n",
              "        <tr>\n",
              "            <td>0-999</td>\n",
              "            <td>1</td>\n",
              "            <td>1506556800</td>\n",
              "            <td>39</td>\n",
              "            <td>23</td>\n",
              "            <td>1</td>\n",
              "            <td>5</td>\n",
              "            <td>11656470</td>\n",
              "            <td>21</td>\n",
              "        </tr>\n",
              "        <tr>\n",
              "            <td>0-999</td>\n",
              "            <td>2</td>\n",
              "            <td>1505692800</td>\n",
              "            <td>64</td>\n",
              "            <td>51</td>\n",
              "            <td>1</td>\n",
              "            <td>18</td>\n",
              "            <td>14039958</td>\n",
              "            <td>31</td>\n",
              "        </tr>\n",
              "        <tr>\n",
              "            <td>0-999</td>\n",
              "            <td>3</td>\n",
              "            <td>1501027200</td>\n",
              "            <td>126</td>\n",
              "            <td>107</td>\n",
              "            <td>1</td>\n",
              "            <td>4</td>\n",
              "            <td>28926058</td>\n",
              "            <td>86</td>\n",
              "        </tr>\n",
              "        <tr>\n",
              "            <td>0-999</td>\n",
              "            <td>4</td>\n",
              "            <td>1401667200</td>\n",
              "            <td>17</td>\n",
              "            <td>16</td>\n",
              "            <td>2</td>\n",
              "            <td>7</td>\n",
              "            <td>4335282</td>\n",
              "            <td>16</td>\n",
              "        </tr>\n",
              "    </tbody>\n",
              "</table>"
            ]
          },
          "metadata": {},
          "execution_count": 29
        }
      ]
    },
    {
      "cell_type": "markdown",
      "source": [
        "PREGUNTA 1 BLOQUE 1\n",
        "\n",
        "a) Seleccionar las playlists que tienen más de cierta cantidad de seguidores (#4)"
      ],
      "metadata": {
        "id": "YRosC9yjcYi2"
      }
    },
    {
      "cell_type": "code",
      "source": [
        "%sql  SELECT COUNT(*) AS total_playlists FROM playlists"
      ],
      "metadata": {
        "colab": {
          "base_uri": "https://localhost:8080/",
          "height": 114
        },
        "id": "5dw5tTXdREzX",
        "outputId": "1d54d514-2ec5-4034-8f4f-e6d33ddc4ac5"
      },
      "execution_count": null,
      "outputs": [
        {
          "output_type": "stream",
          "name": "stdout",
          "text": [
            "   sqlite:////content/drive/MyDrive/music_smaller_10000\n",
            " * sqlite:////content/drive/MyDrive/music_smaller_10000.db\n",
            "Done.\n"
          ]
        },
        {
          "output_type": "execute_result",
          "data": {
            "text/plain": [
              "[(8000,)]"
            ],
            "text/html": [
              "<table>\n",
              "    <thead>\n",
              "        <tr>\n",
              "            <th>total_playlists</th>\n",
              "        </tr>\n",
              "    </thead>\n",
              "    <tbody>\n",
              "        <tr>\n",
              "            <td>8000</td>\n",
              "        </tr>\n",
              "    </tbody>\n",
              "</table>"
            ]
          },
          "metadata": {},
          "execution_count": 34
        }
      ]
    },
    {
      "cell_type": "code",
      "source": [
        "%sql SELECT COUNT(*) FROM playlists WHERE (num_followers>5)"
      ],
      "metadata": {
        "colab": {
          "base_uri": "https://localhost:8080/",
          "height": 96
        },
        "id": "9lB-QfMeziEt",
        "outputId": "0679300b-1ad4-429e-dd8a-542984d5cfec"
      },
      "execution_count": null,
      "outputs": [
        {
          "output_type": "stream",
          "name": "stdout",
          "text": [
            " * sqlite:////content/drive/MyDrive/music_smaller_10000.db\n",
            "Done.\n"
          ]
        },
        {
          "output_type": "execute_result",
          "data": {
            "text/plain": [
              "[(149,)]"
            ],
            "text/html": [
              "<table>\n",
              "    <thead>\n",
              "        <tr>\n",
              "            <th>COUNT(*)</th>\n",
              "        </tr>\n",
              "    </thead>\n",
              "    <tbody>\n",
              "        <tr>\n",
              "            <td>149</td>\n",
              "        </tr>\n",
              "    </tbody>\n",
              "</table>"
            ]
          },
          "metadata": {},
          "execution_count": 8
        }
      ]
    },
    {
      "cell_type": "code",
      "source": [
        "%sql SELECT * FROM playlists WHERE (num_followers>5) ORDER BY num_followers desc LIMIT 10"
      ],
      "metadata": {
        "colab": {
          "base_uri": "https://localhost:8080/",
          "height": 284
        },
        "id": "gfp2Crk-z9j7",
        "outputId": "5b8e7a16-9d1b-4677-98a4-a5cce7e6238a"
      },
      "execution_count": null,
      "outputs": [
        {
          "output_type": "stream",
          "name": "stdout",
          "text": [
            " * sqlite:////content/drive/MyDrive/music_smaller_10000.db\n",
            "Done.\n"
          ]
        },
        {
          "output_type": "execute_result",
          "data": {
            "text/plain": [
              "[('7000-7999', 7215, 1501804800, 52, 46, 15842, 2, 11005740, 41),\n",
              " ('2000-2999', 2957, 1509321600, 50, 47, 2699, 14, 11765108, 46),\n",
              " ('0-999', 765, 1499040000, 81, 37, 1038, 15, 15112167, 59),\n",
              " ('9000-9999', 9307, 1502323200, 104, 32, 58, 54, 26797359, 8),\n",
              " ('3000-3999', 3305, 1426723200, 36, 28, 53, 9, 7720923, 25),\n",
              " ('3000-3999', 3089, 1507939200, 149, 107, 52, 66, 31986562, 59),\n",
              " ('3000-3999', 3980, 1462060800, 111, 107, 52, 9, 25178698, 96),\n",
              " ('2000-2999', 2416, 1482192000, 24, 19, 44, 5, 5530418, 16),\n",
              " ('7000-7999', 7206, 1480032000, 36, 34, 44, 13, 8238206, 33),\n",
              " ('2000-2999', 2282, 1495584000, 35, 27, 43, 13, 8273427, 23)]"
            ],
            "text/html": [
              "<table>\n",
              "    <thead>\n",
              "        <tr>\n",
              "            <th>slice</th>\n",
              "            <th>pid</th>\n",
              "            <th>modified_at</th>\n",
              "            <th>num_tracks</th>\n",
              "            <th>num_albums</th>\n",
              "            <th>num_followers</th>\n",
              "            <th>num_edits</th>\n",
              "            <th>duration_ms</th>\n",
              "            <th>num_artists</th>\n",
              "        </tr>\n",
              "    </thead>\n",
              "    <tbody>\n",
              "        <tr>\n",
              "            <td>7000-7999</td>\n",
              "            <td>7215</td>\n",
              "            <td>1501804800</td>\n",
              "            <td>52</td>\n",
              "            <td>46</td>\n",
              "            <td>15842</td>\n",
              "            <td>2</td>\n",
              "            <td>11005740</td>\n",
              "            <td>41</td>\n",
              "        </tr>\n",
              "        <tr>\n",
              "            <td>2000-2999</td>\n",
              "            <td>2957</td>\n",
              "            <td>1509321600</td>\n",
              "            <td>50</td>\n",
              "            <td>47</td>\n",
              "            <td>2699</td>\n",
              "            <td>14</td>\n",
              "            <td>11765108</td>\n",
              "            <td>46</td>\n",
              "        </tr>\n",
              "        <tr>\n",
              "            <td>0-999</td>\n",
              "            <td>765</td>\n",
              "            <td>1499040000</td>\n",
              "            <td>81</td>\n",
              "            <td>37</td>\n",
              "            <td>1038</td>\n",
              "            <td>15</td>\n",
              "            <td>15112167</td>\n",
              "            <td>59</td>\n",
              "        </tr>\n",
              "        <tr>\n",
              "            <td>9000-9999</td>\n",
              "            <td>9307</td>\n",
              "            <td>1502323200</td>\n",
              "            <td>104</td>\n",
              "            <td>32</td>\n",
              "            <td>58</td>\n",
              "            <td>54</td>\n",
              "            <td>26797359</td>\n",
              "            <td>8</td>\n",
              "        </tr>\n",
              "        <tr>\n",
              "            <td>3000-3999</td>\n",
              "            <td>3305</td>\n",
              "            <td>1426723200</td>\n",
              "            <td>36</td>\n",
              "            <td>28</td>\n",
              "            <td>53</td>\n",
              "            <td>9</td>\n",
              "            <td>7720923</td>\n",
              "            <td>25</td>\n",
              "        </tr>\n",
              "        <tr>\n",
              "            <td>3000-3999</td>\n",
              "            <td>3089</td>\n",
              "            <td>1507939200</td>\n",
              "            <td>149</td>\n",
              "            <td>107</td>\n",
              "            <td>52</td>\n",
              "            <td>66</td>\n",
              "            <td>31986562</td>\n",
              "            <td>59</td>\n",
              "        </tr>\n",
              "        <tr>\n",
              "            <td>3000-3999</td>\n",
              "            <td>3980</td>\n",
              "            <td>1462060800</td>\n",
              "            <td>111</td>\n",
              "            <td>107</td>\n",
              "            <td>52</td>\n",
              "            <td>9</td>\n",
              "            <td>25178698</td>\n",
              "            <td>96</td>\n",
              "        </tr>\n",
              "        <tr>\n",
              "            <td>2000-2999</td>\n",
              "            <td>2416</td>\n",
              "            <td>1482192000</td>\n",
              "            <td>24</td>\n",
              "            <td>19</td>\n",
              "            <td>44</td>\n",
              "            <td>5</td>\n",
              "            <td>5530418</td>\n",
              "            <td>16</td>\n",
              "        </tr>\n",
              "        <tr>\n",
              "            <td>7000-7999</td>\n",
              "            <td>7206</td>\n",
              "            <td>1480032000</td>\n",
              "            <td>36</td>\n",
              "            <td>34</td>\n",
              "            <td>44</td>\n",
              "            <td>13</td>\n",
              "            <td>8238206</td>\n",
              "            <td>33</td>\n",
              "        </tr>\n",
              "        <tr>\n",
              "            <td>2000-2999</td>\n",
              "            <td>2282</td>\n",
              "            <td>1495584000</td>\n",
              "            <td>35</td>\n",
              "            <td>27</td>\n",
              "            <td>43</td>\n",
              "            <td>13</td>\n",
              "            <td>8273427</td>\n",
              "            <td>23</td>\n",
              "        </tr>\n",
              "    </tbody>\n",
              "</table>"
            ]
          },
          "metadata": {},
          "execution_count": 11
        }
      ]
    },
    {
      "cell_type": "markdown",
      "source": [
        "PREGUNTA 2 BLOQUE 1\n",
        "\n",
        "b) Contar el número total de canciones únicas (#6)\n"
      ],
      "metadata": {
        "id": "uWgBRdCT2ZUL"
      }
    },
    {
      "cell_type": "code",
      "source": [
        "%sql SELECT * FROM song limit 5"
      ],
      "metadata": {
        "colab": {
          "base_uri": "https://localhost:8080/",
          "height": 284
        },
        "id": "Vh5OLkcp064J",
        "outputId": "7d5bac58-a766-4b39-9473-488845d4eda3"
      },
      "execution_count": null,
      "outputs": [
        {
          "output_type": "stream",
          "name": "stdout",
          "text": [
            " * sqlite:////content/drive/MyDrive/music_smaller_10000.db\n",
            "Done.\n"
          ]
        },
        {
          "output_type": "execute_result",
          "data": {
            "text/plain": [
              "[('spotify:track:4SDywo3ykB2PEthjXvo1UP', 6, 0, 'Creedence Clearwater Revival', 'spotify:artist:3IYUhFvPQItj6xySrBmZkd', 'I Put A Spell On You', 'spotify:album:7oIftk0P8cViwNpNEdCYl2', 271786, 'Creedence Clearwater Revival'),\n",
              " ('spotify:track:229SqGbacrLSBfb9XfJczF', 6, 1, 'STRFKR', 'spotify:artist:2Tz1DTzVJ5Gyh8ZwVr6ekU', 'Bury Us Alive', 'spotify:album:5pfqk4oFycMVynOD8S2Cqs', 190360, 'Reptilians'),\n",
              " ('spotify:track:0orNm6qQT2B5WFi0l7l3PV', 6, 2, '311', 'spotify:artist:41Q0HrwWBtuUkJc7C1Rp6K', \"Jackolantern's Weather\", 'spotify:album:6VIeIM5tetuv7FrYxISffU', 204160, '311'),\n",
              " ('spotify:track:1hWQvA6oGVJ2mAVsZ59AaV', 6, 3, 'Nathaniel Rateliff & The Night Sweats', 'spotify:artist:02seUFsFQP7TH4hLrTj77o', 'S.O.B.', 'spotify:album:2UCyiayMoJOwBilPLQPQvK', 247612, 'Nathaniel Rateliff & The Night Sweats'),\n",
              " ('spotify:track:56SkdBKyR2zOkjk6wVFI9s', 6, 4, 'Toadies', 'spotify:artist:2QMMktUMtwMSwUZATX1cRO', 'Possum Kingdom', 'spotify:album:7tFTqVGHceSlXOaz8IylBN', 309573, 'Rubberneck')]"
            ],
            "text/html": [
              "<table>\n",
              "    <thead>\n",
              "        <tr>\n",
              "            <th>track_uri</th>\n",
              "            <th>pid</th>\n",
              "            <th>pos</th>\n",
              "            <th>artist_name</th>\n",
              "            <th>artist_uri</th>\n",
              "            <th>track_name</th>\n",
              "            <th>album_uri</th>\n",
              "            <th>duration_ms</th>\n",
              "            <th>album_name</th>\n",
              "        </tr>\n",
              "    </thead>\n",
              "    <tbody>\n",
              "        <tr>\n",
              "            <td>spotify:track:4SDywo3ykB2PEthjXvo1UP</td>\n",
              "            <td>6</td>\n",
              "            <td>0</td>\n",
              "            <td>Creedence Clearwater Revival</td>\n",
              "            <td>spotify:artist:3IYUhFvPQItj6xySrBmZkd</td>\n",
              "            <td>I Put A Spell On You</td>\n",
              "            <td>spotify:album:7oIftk0P8cViwNpNEdCYl2</td>\n",
              "            <td>271786</td>\n",
              "            <td>Creedence Clearwater Revival</td>\n",
              "        </tr>\n",
              "        <tr>\n",
              "            <td>spotify:track:229SqGbacrLSBfb9XfJczF</td>\n",
              "            <td>6</td>\n",
              "            <td>1</td>\n",
              "            <td>STRFKR</td>\n",
              "            <td>spotify:artist:2Tz1DTzVJ5Gyh8ZwVr6ekU</td>\n",
              "            <td>Bury Us Alive</td>\n",
              "            <td>spotify:album:5pfqk4oFycMVynOD8S2Cqs</td>\n",
              "            <td>190360</td>\n",
              "            <td>Reptilians</td>\n",
              "        </tr>\n",
              "        <tr>\n",
              "            <td>spotify:track:0orNm6qQT2B5WFi0l7l3PV</td>\n",
              "            <td>6</td>\n",
              "            <td>2</td>\n",
              "            <td>311</td>\n",
              "            <td>spotify:artist:41Q0HrwWBtuUkJc7C1Rp6K</td>\n",
              "            <td>Jackolantern&#x27;s Weather</td>\n",
              "            <td>spotify:album:6VIeIM5tetuv7FrYxISffU</td>\n",
              "            <td>204160</td>\n",
              "            <td>311</td>\n",
              "        </tr>\n",
              "        <tr>\n",
              "            <td>spotify:track:1hWQvA6oGVJ2mAVsZ59AaV</td>\n",
              "            <td>6</td>\n",
              "            <td>3</td>\n",
              "            <td>Nathaniel Rateliff &amp; The Night Sweats</td>\n",
              "            <td>spotify:artist:02seUFsFQP7TH4hLrTj77o</td>\n",
              "            <td>S.O.B.</td>\n",
              "            <td>spotify:album:2UCyiayMoJOwBilPLQPQvK</td>\n",
              "            <td>247612</td>\n",
              "            <td>Nathaniel Rateliff &amp; The Night Sweats</td>\n",
              "        </tr>\n",
              "        <tr>\n",
              "            <td>spotify:track:56SkdBKyR2zOkjk6wVFI9s</td>\n",
              "            <td>6</td>\n",
              "            <td>4</td>\n",
              "            <td>Toadies</td>\n",
              "            <td>spotify:artist:2QMMktUMtwMSwUZATX1cRO</td>\n",
              "            <td>Possum Kingdom</td>\n",
              "            <td>spotify:album:7tFTqVGHceSlXOaz8IylBN</td>\n",
              "            <td>309573</td>\n",
              "            <td>Rubberneck</td>\n",
              "        </tr>\n",
              "    </tbody>\n",
              "</table>"
            ]
          },
          "metadata": {},
          "execution_count": 12
        }
      ]
    },
    {
      "cell_type": "code",
      "source": [
        "%sql SELECT COUNT (DISTINCT track_uri) FROM song"
      ],
      "metadata": {
        "colab": {
          "base_uri": "https://localhost:8080/",
          "height": 96
        },
        "id": "JM8w6uzS23R5",
        "outputId": "271a2858-b0f3-4b74-a910-cf3274c60e96"
      },
      "execution_count": null,
      "outputs": [
        {
          "output_type": "stream",
          "name": "stdout",
          "text": [
            " * sqlite:////content/drive/MyDrive/music_smaller_10000.db\n",
            "Done.\n"
          ]
        },
        {
          "output_type": "execute_result",
          "data": {
            "text/plain": [
              "[(145127,)]"
            ],
            "text/html": [
              "<table>\n",
              "    <thead>\n",
              "        <tr>\n",
              "            <th>COUNT (DISTINCT track_uri)</th>\n",
              "        </tr>\n",
              "    </thead>\n",
              "    <tbody>\n",
              "        <tr>\n",
              "            <td>145127</td>\n",
              "        </tr>\n",
              "    </tbody>\n",
              "</table>"
            ]
          },
          "metadata": {},
          "execution_count": 13
        }
      ]
    },
    {
      "cell_type": "code",
      "source": [
        "%sql SELECT COUNT (*) FROM song"
      ],
      "metadata": {
        "colab": {
          "base_uri": "https://localhost:8080/",
          "height": 96
        },
        "id": "5OCpj5H-4WRX",
        "outputId": "043090ce-1f3e-4bb6-d72a-c977c984dbb1"
      },
      "execution_count": null,
      "outputs": [
        {
          "output_type": "stream",
          "name": "stdout",
          "text": [
            " * sqlite:////content/drive/MyDrive/music_smaller_10000.db\n",
            "Done.\n"
          ]
        },
        {
          "output_type": "execute_result",
          "data": {
            "text/plain": [
              "[(529108,)]"
            ],
            "text/html": [
              "<table>\n",
              "    <thead>\n",
              "        <tr>\n",
              "            <th>COUNT (*)</th>\n",
              "        </tr>\n",
              "    </thead>\n",
              "    <tbody>\n",
              "        <tr>\n",
              "            <td>529108</td>\n",
              "        </tr>\n",
              "    </tbody>\n",
              "</table>"
            ]
          },
          "metadata": {},
          "execution_count": 14
        }
      ]
    },
    {
      "cell_type": "code",
      "source": [
        "%sql SELECT COUNT (DISTINCT pid) FROM song"
      ],
      "metadata": {
        "colab": {
          "base_uri": "https://localhost:8080/",
          "height": 96
        },
        "id": "PHZeMo2b4kki",
        "outputId": "b941c2cc-e32b-4cea-b455-a6920a445576"
      },
      "execution_count": null,
      "outputs": [
        {
          "output_type": "stream",
          "name": "stdout",
          "text": [
            " * sqlite:////content/drive/MyDrive/music_smaller_10000.db\n",
            "Done.\n"
          ]
        },
        {
          "output_type": "execute_result",
          "data": {
            "text/plain": [
              "[(8000,)]"
            ],
            "text/html": [
              "<table>\n",
              "    <thead>\n",
              "        <tr>\n",
              "            <th>COUNT (DISTINCT pid)</th>\n",
              "        </tr>\n",
              "    </thead>\n",
              "    <tbody>\n",
              "        <tr>\n",
              "            <td>8000</td>\n",
              "        </tr>\n",
              "    </tbody>\n",
              "</table>"
            ]
          },
          "metadata": {},
          "execution_count": 16
        }
      ]
    },
    {
      "cell_type": "code",
      "source": [],
      "metadata": {
        "id": "b7zBYBbL6Ic3"
      },
      "execution_count": null,
      "outputs": []
    },
    {
      "cell_type": "markdown",
      "source": [
        "PREGUNTA 3 BLOQUE 1\n",
        "\n",
        "c) Seleccionar la playlist con un pid específico:incluyendo las canciones -> Utilizar un JOIN (#3)"
      ],
      "metadata": {
        "id": "V_1o5tXl7iAS"
      }
    },
    {
      "cell_type": "code",
      "source": [
        "%sql SELECT * FROM playlists JOIN song ON playlists.pid = song.pid WHERE playlists.pid = 999 LIMIT 5"
      ],
      "metadata": {
        "colab": {
          "base_uri": "https://localhost:8080/",
          "height": 321
        },
        "id": "Vis5PcYz7npu",
        "outputId": "bb15a47b-4d42-405f-821d-a7ea8f65e9f3"
      },
      "execution_count": null,
      "outputs": [
        {
          "output_type": "stream",
          "name": "stdout",
          "text": [
            " * sqlite:////content/drive/MyDrive/music_smaller_10000.db\n",
            "Done.\n"
          ]
        },
        {
          "output_type": "execute_result",
          "data": {
            "text/plain": [
              "[('0-999', 999, 1507766400, 44, 43, 1, 34, 9065801, 37, 'spotify:track:3rUTBx7gmn1IAAwsrjtnO0', 999, 0, 'Pvris', 'spotify:artist:6oFs3qk4VepIVFdoD4jmsy', 'Mind over Matter (Acoustic)', 'spotify:album:33oxbqzo7poSO2IbSMqrPS', 203649, 'Acoustic'),\n",
              " ('0-999', 999, 1507766400, 44, 43, 1, 34, 9065801, 37, 'spotify:track:6zYqyOJuyXDOvWJwKkZ8tg', 999, 1, 'Ingrid Michaelson', 'spotify:artist:2vm8GdHyrJh2O2MfbQFYG0', 'You and I', 'spotify:album:7o2VLivg95UduHjTMTIEIf', 148400, 'Be OK'),\n",
              " ('0-999', 999, 1507766400, 44, 43, 1, 34, 9065801, 37, 'spotify:track:0nRuVPZx2iA3KWR4xSzryl', 999, 2, 'Troye Sivan', 'spotify:artist:3WGpXCj9YhhfX11TToZcXP', 'TALK ME DOWN', 'spotify:album:5ouTDazE4LF9bVJPx1nlgW', 237464, 'Blue Neighbourhood'),\n",
              " ('0-999', 999, 1507766400, 44, 43, 1, 34, 9065801, 37, 'spotify:track:2pbxqEYiXJTvFsybGGgSAi', 999, 3, 'City and Colour', 'spotify:artist:74gcBzlQza1bSfob90yRhR', \"Un-Thinkable - I'm Ready\", 'spotify:album:2wCLwVcPgBG1UHszyqV6EA', 297133, 'Covers, Pt. 3'),\n",
              " ('0-999', 999, 1507766400, 44, 43, 1, 34, 9065801, 37, 'spotify:track:4v0SA7SC65KJ9ToJm15qCk', 999, 4, 'Skylar Grey', 'spotify:artist:4utLUGcTvOJFr6aqIJtYWV', 'Addicted To Love', 'spotify:album:41MBuPQn9Pha9F7hc4vLLR', 203600, 'Addicted To Love')]"
            ],
            "text/html": [
              "<table>\n",
              "    <thead>\n",
              "        <tr>\n",
              "            <th>slice</th>\n",
              "            <th>pid</th>\n",
              "            <th>modified_at</th>\n",
              "            <th>num_tracks</th>\n",
              "            <th>num_albums</th>\n",
              "            <th>num_followers</th>\n",
              "            <th>num_edits</th>\n",
              "            <th>duration_ms</th>\n",
              "            <th>num_artists</th>\n",
              "            <th>track_uri</th>\n",
              "            <th>pid_1</th>\n",
              "            <th>pos</th>\n",
              "            <th>artist_name</th>\n",
              "            <th>artist_uri</th>\n",
              "            <th>track_name</th>\n",
              "            <th>album_uri</th>\n",
              "            <th>duration_ms_1</th>\n",
              "            <th>album_name</th>\n",
              "        </tr>\n",
              "    </thead>\n",
              "    <tbody>\n",
              "        <tr>\n",
              "            <td>0-999</td>\n",
              "            <td>999</td>\n",
              "            <td>1507766400</td>\n",
              "            <td>44</td>\n",
              "            <td>43</td>\n",
              "            <td>1</td>\n",
              "            <td>34</td>\n",
              "            <td>9065801</td>\n",
              "            <td>37</td>\n",
              "            <td>spotify:track:3rUTBx7gmn1IAAwsrjtnO0</td>\n",
              "            <td>999</td>\n",
              "            <td>0</td>\n",
              "            <td>Pvris</td>\n",
              "            <td>spotify:artist:6oFs3qk4VepIVFdoD4jmsy</td>\n",
              "            <td>Mind over Matter (Acoustic)</td>\n",
              "            <td>spotify:album:33oxbqzo7poSO2IbSMqrPS</td>\n",
              "            <td>203649</td>\n",
              "            <td>Acoustic</td>\n",
              "        </tr>\n",
              "        <tr>\n",
              "            <td>0-999</td>\n",
              "            <td>999</td>\n",
              "            <td>1507766400</td>\n",
              "            <td>44</td>\n",
              "            <td>43</td>\n",
              "            <td>1</td>\n",
              "            <td>34</td>\n",
              "            <td>9065801</td>\n",
              "            <td>37</td>\n",
              "            <td>spotify:track:6zYqyOJuyXDOvWJwKkZ8tg</td>\n",
              "            <td>999</td>\n",
              "            <td>1</td>\n",
              "            <td>Ingrid Michaelson</td>\n",
              "            <td>spotify:artist:2vm8GdHyrJh2O2MfbQFYG0</td>\n",
              "            <td>You and I</td>\n",
              "            <td>spotify:album:7o2VLivg95UduHjTMTIEIf</td>\n",
              "            <td>148400</td>\n",
              "            <td>Be OK</td>\n",
              "        </tr>\n",
              "        <tr>\n",
              "            <td>0-999</td>\n",
              "            <td>999</td>\n",
              "            <td>1507766400</td>\n",
              "            <td>44</td>\n",
              "            <td>43</td>\n",
              "            <td>1</td>\n",
              "            <td>34</td>\n",
              "            <td>9065801</td>\n",
              "            <td>37</td>\n",
              "            <td>spotify:track:0nRuVPZx2iA3KWR4xSzryl</td>\n",
              "            <td>999</td>\n",
              "            <td>2</td>\n",
              "            <td>Troye Sivan</td>\n",
              "            <td>spotify:artist:3WGpXCj9YhhfX11TToZcXP</td>\n",
              "            <td>TALK ME DOWN</td>\n",
              "            <td>spotify:album:5ouTDazE4LF9bVJPx1nlgW</td>\n",
              "            <td>237464</td>\n",
              "            <td>Blue Neighbourhood</td>\n",
              "        </tr>\n",
              "        <tr>\n",
              "            <td>0-999</td>\n",
              "            <td>999</td>\n",
              "            <td>1507766400</td>\n",
              "            <td>44</td>\n",
              "            <td>43</td>\n",
              "            <td>1</td>\n",
              "            <td>34</td>\n",
              "            <td>9065801</td>\n",
              "            <td>37</td>\n",
              "            <td>spotify:track:2pbxqEYiXJTvFsybGGgSAi</td>\n",
              "            <td>999</td>\n",
              "            <td>3</td>\n",
              "            <td>City and Colour</td>\n",
              "            <td>spotify:artist:74gcBzlQza1bSfob90yRhR</td>\n",
              "            <td>Un-Thinkable - I&#x27;m Ready</td>\n",
              "            <td>spotify:album:2wCLwVcPgBG1UHszyqV6EA</td>\n",
              "            <td>297133</td>\n",
              "            <td>Covers, Pt. 3</td>\n",
              "        </tr>\n",
              "        <tr>\n",
              "            <td>0-999</td>\n",
              "            <td>999</td>\n",
              "            <td>1507766400</td>\n",
              "            <td>44</td>\n",
              "            <td>43</td>\n",
              "            <td>1</td>\n",
              "            <td>34</td>\n",
              "            <td>9065801</td>\n",
              "            <td>37</td>\n",
              "            <td>spotify:track:4v0SA7SC65KJ9ToJm15qCk</td>\n",
              "            <td>999</td>\n",
              "            <td>4</td>\n",
              "            <td>Skylar Grey</td>\n",
              "            <td>spotify:artist:4utLUGcTvOJFr6aqIJtYWV</td>\n",
              "            <td>Addicted To Love</td>\n",
              "            <td>spotify:album:41MBuPQn9Pha9F7hc4vLLR</td>\n",
              "            <td>203600</td>\n",
              "            <td>Addicted To Love</td>\n",
              "        </tr>\n",
              "    </tbody>\n",
              "</table>"
            ]
          },
          "metadata": {},
          "execution_count": 32
        }
      ]
    },
    {
      "cell_type": "code",
      "source": [],
      "metadata": {
        "id": "dmQBvhfJ9yJu"
      },
      "execution_count": null,
      "outputs": []
    },
    {
      "cell_type": "markdown",
      "source": [
        "PREGUNTA 1 BLOQUE 2\n",
        "\n",
        "d) Encontrar la cantidad máxima de tracks en todas las playlists (#3)"
      ],
      "metadata": {
        "id": "eeBlj8BsAzOJ"
      }
    },
    {
      "cell_type": "code",
      "source": [
        "%sql SELECT MAX(num_tracks) FROM playlists"
      ],
      "metadata": {
        "colab": {
          "base_uri": "https://localhost:8080/",
          "height": 96
        },
        "id": "rM3EIqwlA77f",
        "outputId": "82d691eb-0801-4dfb-903e-f31f7cdf714f"
      },
      "execution_count": null,
      "outputs": [
        {
          "output_type": "stream",
          "name": "stdout",
          "text": [
            " * sqlite:////content/drive/MyDrive/music_smaller_10000.db\n",
            "Done.\n"
          ]
        },
        {
          "output_type": "execute_result",
          "data": {
            "text/plain": [
              "[(250,)]"
            ],
            "text/html": [
              "<table>\n",
              "    <thead>\n",
              "        <tr>\n",
              "            <th>MAX(num_tracks)</th>\n",
              "        </tr>\n",
              "    </thead>\n",
              "    <tbody>\n",
              "        <tr>\n",
              "            <td>250</td>\n",
              "        </tr>\n",
              "    </tbody>\n",
              "</table>"
            ]
          },
          "metadata": {},
          "execution_count": 34
        }
      ]
    },
    {
      "cell_type": "code",
      "source": [],
      "metadata": {
        "id": "D2DDnvpbBI4_"
      },
      "execution_count": null,
      "outputs": []
    },
    {
      "cell_type": "markdown",
      "source": [
        "PREGUNTA 2 BLOQUE 2\n",
        "\n",
        "e) Calcular la suma total de duraciones de todas las canciones de un artista específico (#6)"
      ],
      "metadata": {
        "id": "PriFf1voB4xH"
      }
    },
    {
      "cell_type": "code",
      "source": [
        "%sql SELECT SUM(duration_ms) FROM song WHERE artist_name = 'Taylor Swift'"
      ],
      "metadata": {
        "colab": {
          "base_uri": "https://localhost:8080/",
          "height": 96
        },
        "id": "0upFbQdoB-ph",
        "outputId": "1cb71441-f1a3-476a-dffe-78306a31f1ff"
      },
      "execution_count": null,
      "outputs": [
        {
          "output_type": "stream",
          "name": "stdout",
          "text": [
            " * sqlite:////content/drive/MyDrive/music_smaller_10000.db\n",
            "Done.\n"
          ]
        },
        {
          "output_type": "execute_result",
          "data": {
            "text/plain": [
              "[(193252463,)]"
            ],
            "text/html": [
              "<table>\n",
              "    <thead>\n",
              "        <tr>\n",
              "            <th>SUM(duration_ms)</th>\n",
              "        </tr>\n",
              "    </thead>\n",
              "    <tbody>\n",
              "        <tr>\n",
              "            <td>193252463</td>\n",
              "        </tr>\n",
              "    </tbody>\n",
              "</table>"
            ]
          },
          "metadata": {},
          "execution_count": 15
        }
      ]
    },
    {
      "cell_type": "code",
      "source": [
        "%sql SELECT SUM(duration_ms) FROM (SELECT DISTINCT track_uri, duration_ms FROM song WHERE artist_name = 'Taylor Swift') song"
      ],
      "metadata": {
        "colab": {
          "base_uri": "https://localhost:8080/",
          "height": 96
        },
        "id": "h4tfoOEACz2v",
        "outputId": "673fffa0-fcff-4d79-924e-72205bfd9d93"
      },
      "execution_count": null,
      "outputs": [
        {
          "output_type": "stream",
          "name": "stdout",
          "text": [
            " * sqlite:////content/drive/MyDrive/music_smaller_10000.db\n",
            "Done.\n"
          ]
        },
        {
          "output_type": "execute_result",
          "data": {
            "text/plain": [
              "[(25576835,)]"
            ],
            "text/html": [
              "<table>\n",
              "    <thead>\n",
              "        <tr>\n",
              "            <th>SUM(duration_ms)</th>\n",
              "        </tr>\n",
              "    </thead>\n",
              "    <tbody>\n",
              "        <tr>\n",
              "            <td>25576835</td>\n",
              "        </tr>\n",
              "    </tbody>\n",
              "</table>"
            ]
          },
          "metadata": {},
          "execution_count": 38
        }
      ]
    },
    {
      "cell_type": "code",
      "source": [
        "%sql SELECT SUM(duration_ms) /60000 FROM (SELECT DISTINCT track_uri, duration_ms FROM song WHERE artist_name = 'Taylor Swift') song"
      ],
      "metadata": {
        "colab": {
          "base_uri": "https://localhost:8080/",
          "height": 96
        },
        "id": "HX8q9hQTEEKf",
        "outputId": "467fa8da-9a3f-4586-a80e-4864c8bb86e0"
      },
      "execution_count": null,
      "outputs": [
        {
          "output_type": "stream",
          "name": "stdout",
          "text": [
            " * sqlite:////content/drive/MyDrive/music_smaller_10000.db\n",
            "Done.\n"
          ]
        },
        {
          "output_type": "execute_result",
          "data": {
            "text/plain": [
              "[(426,)]"
            ],
            "text/html": [
              "<table>\n",
              "    <thead>\n",
              "        <tr>\n",
              "            <th>SUM(duration_ms) /60000</th>\n",
              "        </tr>\n",
              "    </thead>\n",
              "    <tbody>\n",
              "        <tr>\n",
              "            <td>426</td>\n",
              "        </tr>\n",
              "    </tbody>\n",
              "</table>"
            ]
          },
          "metadata": {},
          "execution_count": 40
        }
      ]
    },
    {
      "cell_type": "code",
      "source": [
        "%sql SELECT DISTINCT track_uri, track_name, duration_ms FROM song WHERE artist_name = 'Taylor Swift' ORDER BY duration_ms desc"
      ],
      "metadata": {
        "colab": {
          "base_uri": "https://localhost:8080/",
          "height": 1000
        },
        "id": "7yTZL7g_ELXM",
        "outputId": "6b3080a2-e75c-44ba-a633-6c2c59edebce"
      },
      "execution_count": null,
      "outputs": [
        {
          "output_type": "stream",
          "name": "stdout",
          "text": [
            " * sqlite:////content/drive/MyDrive/music_smaller_10000.db\n",
            "Done.\n"
          ]
        },
        {
          "output_type": "execute_result",
          "data": {
            "text/plain": [
              "[('spotify:track:7hZuICN5eaCuQyp443RCt6', 'Dear John', 403920),\n",
              " ('spotify:track:4h0EXpatqJImv4VRgvX6po', 'Last Kiss', 367133),\n",
              " ('spotify:track:1IsquhJFJ0qcFZI7FeAEuN', \"Back To December/Apologize/You're Not Sorry - Live/2011/Medley\", 362826),\n",
              " ('spotify:track:10eBRyImhfqVvkiVEGf0N0', 'Enchanted', 352186),\n",
              " ('spotify:track:6505MLhnqTDDg4tjoUz2Wp', 'Better Than Revenge - Live/2011', 344573),\n",
              " ('spotify:track:1aBJNc2thaKyh5THWzIqHX', 'Sparks Fly - Live/2011', 336826),\n",
              " ('spotify:track:4XMP3zVxrnr58T0tjIHvpR', 'All Too Well', 327893),\n",
              " ('spotify:track:5G9AVKld9q7DCrmoY42raf', 'State Of Grace - Acoustic Version', 323080),\n",
              " ('spotify:track:6XDBA3QWX51lDJ0oZbaJJN', 'Long Live', 317946),\n",
              " ('spotify:track:0BSmbCIY36iw04azzJ3S0S', 'Drops Of Jupiter - Live/2011', 315173),\n",
              " ('spotify:track:5GPwN5iZ9ZMSXAkppj4Uvv', 'Innocent', 302253),\n",
              " ('spotify:track:3n9mzjgAzjyKawvbHzciXF', 'The Last Time', 298293),\n",
              " ('spotify:track:4t0OI7XrODjSkAu3bTPmWj', 'Fifteen', 294333),\n",
              " ('spotify:track:3DrjZArsPsoqbLzUZZV1Id', 'Back To December', 293026),\n",
              " ('spotify:track:1wJL1A0QUHJPf2cm7tsrdw', 'Never Grow Up', 290466),\n",
              " ('spotify:track:6LKjHhOW1az75pCQ9XJJtF', 'Sad Beautiful Tragic', 283680),\n",
              " ('spotify:track:1yACRKAwlXWhXXFUSkvzhD', 'Change', 280240),\n",
              " ('spotify:track:2R7C9dDqv1UPycvepBFziA', 'Superman', 275960),\n",
              " ('spotify:track:1NmVZsG18CzCAtw7rnV3yA', 'Clean', 271000),\n",
              " ('spotify:track:2KrOAg6FftbjgSKdd2a4rS', 'You Are In Love', 267106),\n",
              " ('spotify:track:3lXekiVK1ZPZbKconsys73', 'The Story Of Us', 265680),\n",
              " ('spotify:track:3RBluWmSoG2pGA1OePzGJI', 'The Story Of Us', 265666),\n",
              " ('spotify:track:49mWEy5MgtNujgT7xU3emT', 'Breathe', 263973),\n",
              " ('spotify:track:0HmCuN0Z3OX1Qrz43FLOPL', \"You're Not Sorry\", 261786),\n",
              " ('spotify:track:6d9IiDcFxtFVIvt9pCqyGH', 'Sparks Fly', 260933),\n",
              " ('spotify:track:4WXzzCof26KJLTK5kK53dS', 'Hey Stephen', 254306),\n",
              " ('spotify:track:06FXaDDdg0BzXl15cthMS5', \"Should've Said No - Live Show / Event\", 253800),\n",
              " ('spotify:track:4L560fic5PaTuCFm6CviKa', 'This Love', 250093),\n",
              " ('spotify:track:0ziBUEvoStwOKuvVC74iuc', 'Everything Has Changed - Remix', 249760),\n",
              " ('spotify:track:6K0CJLVXqbGMeJSmJ4ENKK', 'Tied Together with a Smile', 248106),\n",
              " ('spotify:track:0fM9dEhUFV4MHDuJgrcfOv', 'How You Get The Girl', 247533),\n",
              " ('spotify:track:0DxlNrE6Hy1TP3XjPV7bV0', 'How You Get the Girl', 247000),\n",
              " ('spotify:track:6RvRzl1YJTDnUvdOtV21IK', 'Wonderland', 245560),\n",
              " ('spotify:track:3esA216TyLHEkNiBCeCmcg', 'The Best Day', 245333),\n",
              " ('spotify:track:7wjbSn8QHsxqKXU5M0jXGM', 'Eyes Open', 244586),\n",
              " ('spotify:track:5P4wWhUYWM0IaVYLuZxdar', 'The Way I Loved You', 244226),\n",
              " ('spotify:track:4NAmRvqSITAAzKWnC8yRq3', 'Everything Has Changed', 243933),\n",
              " ('spotify:track:2imoPg5wVO2ZinBFKujxVi', 'Today Was A Fairytale', 243626),\n",
              " ('spotify:track:5VwFkx7JOimOGTYfha5rs1', 'I Almost Do', 242573),\n",
              " ('spotify:track:16MVSD0mGI4RMQT83Qzm69', \"Should've Said No\", 242200),\n",
              " ('spotify:track:28M2gifMU282QBM3fKajIS', 'Haunted', 242080),\n",
              " ('spotify:track:6Eu31gddWw0gOGO506pJYA', 'Fearless', 241986),\n",
              " ('spotify:track:5kYFVSQoPu7yRpfiHBwMUk', 'Treacherous', 240773),\n",
              " ('spotify:track:24DefNCFiWTP8OjYWiXuYe', 'Speak Now', 240760),\n",
              " ('spotify:track:2X2J0BhxaLTmnxO4pPUhSd', 'The Lucky One', 240133),\n",
              " ('spotify:track:0z9UVN8VBHJ9HdfYsOuuNf', 'Safe & Sound - from The Hunger Games Soundtrack', 240066),\n",
              " ('spotify:track:7BT9K9BDqq6HI2oWH5UMZQ', 'Treacherous - Original Demo Recording', 239720),\n",
              " ('spotify:track:7htVW723e0UeQpi1LRJHNX', 'Cold As You', 239013),\n",
              " ('spotify:track:1EQn3Uc5AyUXoiPLeyCrrg', 'Ours', 237920),\n",
              " ('spotify:track:5yEPktRqvIhko5QFF3aBhQ', 'Mean', 237733),\n",
              " ('spotify:track:0L4YCNRfXAoTvdpWeH2RGj', 'Begin Again', 237613),\n",
              " ('spotify:track:08gavXombT6KR0af88i9tA', 'Jump Then Fall', 237066),\n",
              " ('spotify:track:2ZoOmCSgj0ypVAmGd1ve4y', 'Stay Beautiful', 236053),\n",
              " ('spotify:track:0qUnBLZ8bJqUNEeQgayL9t', 'Out Of The Woods', 235800),\n",
              " ('spotify:track:4DiVC6guuabKeZ0LqLTrdH', 'Sweeter Than Fiction', 235640),\n",
              " ('spotify:track:1vrd6UOGamcKNGnSHJQlSt', 'Love Story', 235266),\n",
              " ('spotify:track:0vvt4IZOMkRug195S4MUq0', 'If This Was A Movie', 234546),\n",
              " ('spotify:track:6wn61Fzx9XMxQmieLpoIhW', 'White Horse', 234426),\n",
              " ('spotify:track:6utNwjJgCT1DPpir6HIj0r', 'Love Story - US Pop Mix', 234200),\n",
              " ('spotify:track:0Om9WAB5RS09L80DyOfTNa', 'Tim McGraw', 232106),\n",
              " ('spotify:track:1u8c2t2Cy7UBoG4ArRcF5g', 'Blank Space', 231826),\n",
              " ('spotify:track:3GCL1PydwsLodcpv0Ll1ch', 'You Belong With Me', 231133),\n",
              " ('spotify:track:0ug5NqcwcFR2xrfTkc7k8e', 'Style', 231000),\n",
              " ('spotify:track:1fscxlCZZpjzDnS8CSJmuL', 'Blank Space', 231000),\n",
              " ('spotify:track:0dBW6ZsW8skfvoRfgeerBF', 'Mine', 230706),\n",
              " ('spotify:track:0qAIiGFKLdV1xpNlEhjpq8', 'New Romantics', 230466),\n",
              " ('spotify:track:2ULNeSomDxVNmdDy8VxEBU', '22', 230133),\n",
              " ('spotify:track:47HtKpfzpAt8rQjjXWotFj', 'Forever & Always', 225320),\n",
              " ('spotify:track:4qyalTRMRH5YuEntvvMvq0', 'Come Back...Be Here', 222706),\n",
              " ('spotify:track:0cITLOYn1Sv4q27zZPqlNK', 'Red', 220826),\n",
              " ('spotify:track:3fVnlF4pGqWI9flVENcT28', 'Wildest Dreams', 220440),\n",
              " ('spotify:track:0KPNFpl66BLu5kjG6jluWx', 'A Perfectly Good Heart', 220146),\n",
              " ('spotify:track:1zsYMMoLICPfL4dPbbWsKL', 'Wildest Dreams', 220000),\n",
              " ('spotify:track:0cqRj7pUJDkTCEsJkx8snD', 'Shake It Off', 219200),\n",
              " ('spotify:track:30nn05UHfcfy0znDxV4hho', 'Shake It Off', 219000),\n",
              " ('spotify:track:72jCZdH0Lhg93z6Z4hBjgj', 'I Knew You Were Trouble.', 217973),\n",
              " ('spotify:track:7MecVsMj22MneZt7kVFaCr', 'Starlight', 217826),\n",
              " ('spotify:track:62rlxI6g2PNaWsHoiRryto', 'Haunted - Acoustic', 217613),\n",
              " ('spotify:track:2ythurkTtSiyfK7GprJoFW', 'Better Than Revenge', 217160),\n",
              " ('spotify:track:2QrQCMel6v2JiLxqrg4p2O', \"Mary's Song (Oh My My My)\", 213080),\n",
              " ('spotify:track:0JIdBrXGSJXS72zjF9ss9u', \"I'm Only Me When I'm With You\", 213053),\n",
              " ('spotify:track:10nqz67NQWWa7XPq7ycihi', 'Welcome To New York', 212600),\n",
              " ('spotify:track:0TvQLMecTE8utzoNmvXRbK', 'Bad Blood', 211933),\n",
              " ('spotify:track:6uFsE1JgZ20EXyU0JQZbUR', 'Look What You Made Me Do', 211859),\n",
              " ('spotify:track:6aU9WABbPXrV0moONji2g7', 'Bad Blood', 211000),\n",
              " ('spotify:track:0bQNuLZ0yB3MgMnJjIGWnd', 'Silent Night', 209893),\n",
              " ('spotify:track:5Gd19NupVe5X8bAqxf9Iaz', 'Gorgeous', 209680),\n",
              " ('spotify:track:19WjVVgXjdKXfLXoaDPwTM', '...Ready For It?', 208198),\n",
              " ('spotify:track:5gRYrtvyVyaCRvLt56OfuV', 'I Wish You Would', 207440),\n",
              " ('spotify:track:1U6riPmEZzICc3NVAlxihh', 'The Outside', 207106),\n",
              " ('spotify:track:1qLeEu4iXEclkLwoBlMiou', 'Stay Stay Stay', 204826),\n",
              " ('spotify:track:0kBK5JmObrCZw4OfcwvsWL', 'Invisible', 203226),\n",
              " ('spotify:track:4tXsR2Hv3l85TQTwgEn3Um', 'Teardrops On My Guitar', 203040),\n",
              " ('spotify:track:1fGsZsIkQkOspfsT24nQP6', 'Holy Ground', 201853),\n",
              " ('spotify:track:15DeqWWQB4dcEWzJg15VrN', 'Our Song', 201106),\n",
              " ('spotify:track:3rnI1UCyGJvUTVvT97VQr5', 'Tell Me Why', 200546),\n",
              " ('spotify:track:3QdYxkiZu3ilLRHU6lXYvn', 'Bad Blood', 200106),\n",
              " ('spotify:track:71i2QDJVjNMta2W6XeuyeX', 'A Place In This World', 199200),\n",
              " ('spotify:track:6Ck9WerfsyvC4v4AylUoDp', 'I Know Places', 195706),\n",
              " ('spotify:track:4NNolUeL5m2ju7kf8pdg6H', 'All You Had To Do Was Stay', 193293),\n",
              " ('spotify:track:5vyxXfD5gLlyPxGZMEjtmd', 'Crazier', 191946),\n",
              " ('spotify:track:7AEAGTc8cReDqcbPoY9gwo', 'We Are Never Ever Getting Back Together', 191880),\n",
              " ('spotify:track:119Lk6ghv7d3WFY2g7cb8s', 'Christmases When You Were Mine', 186173),\n",
              " ('spotify:track:4pJi1rVt9GNegU9kywjg4z', 'Teardrops on My Guitar - Pop Version', 179066),\n",
              " ('spotify:track:32mVHdy0bi1XKgr0ajsBlG', 'Picture To Burn', 173066)]"
            ],
            "text/html": [
              "<table>\n",
              "    <thead>\n",
              "        <tr>\n",
              "            <th>track_uri</th>\n",
              "            <th>track_name</th>\n",
              "            <th>duration_ms</th>\n",
              "        </tr>\n",
              "    </thead>\n",
              "    <tbody>\n",
              "        <tr>\n",
              "            <td>spotify:track:7hZuICN5eaCuQyp443RCt6</td>\n",
              "            <td>Dear John</td>\n",
              "            <td>403920</td>\n",
              "        </tr>\n",
              "        <tr>\n",
              "            <td>spotify:track:4h0EXpatqJImv4VRgvX6po</td>\n",
              "            <td>Last Kiss</td>\n",
              "            <td>367133</td>\n",
              "        </tr>\n",
              "        <tr>\n",
              "            <td>spotify:track:1IsquhJFJ0qcFZI7FeAEuN</td>\n",
              "            <td>Back To December/Apologize/You&#x27;re Not Sorry - Live/2011/Medley</td>\n",
              "            <td>362826</td>\n",
              "        </tr>\n",
              "        <tr>\n",
              "            <td>spotify:track:10eBRyImhfqVvkiVEGf0N0</td>\n",
              "            <td>Enchanted</td>\n",
              "            <td>352186</td>\n",
              "        </tr>\n",
              "        <tr>\n",
              "            <td>spotify:track:6505MLhnqTDDg4tjoUz2Wp</td>\n",
              "            <td>Better Than Revenge - Live/2011</td>\n",
              "            <td>344573</td>\n",
              "        </tr>\n",
              "        <tr>\n",
              "            <td>spotify:track:1aBJNc2thaKyh5THWzIqHX</td>\n",
              "            <td>Sparks Fly - Live/2011</td>\n",
              "            <td>336826</td>\n",
              "        </tr>\n",
              "        <tr>\n",
              "            <td>spotify:track:4XMP3zVxrnr58T0tjIHvpR</td>\n",
              "            <td>All Too Well</td>\n",
              "            <td>327893</td>\n",
              "        </tr>\n",
              "        <tr>\n",
              "            <td>spotify:track:5G9AVKld9q7DCrmoY42raf</td>\n",
              "            <td>State Of Grace - Acoustic Version</td>\n",
              "            <td>323080</td>\n",
              "        </tr>\n",
              "        <tr>\n",
              "            <td>spotify:track:6XDBA3QWX51lDJ0oZbaJJN</td>\n",
              "            <td>Long Live</td>\n",
              "            <td>317946</td>\n",
              "        </tr>\n",
              "        <tr>\n",
              "            <td>spotify:track:0BSmbCIY36iw04azzJ3S0S</td>\n",
              "            <td>Drops Of Jupiter - Live/2011</td>\n",
              "            <td>315173</td>\n",
              "        </tr>\n",
              "        <tr>\n",
              "            <td>spotify:track:5GPwN5iZ9ZMSXAkppj4Uvv</td>\n",
              "            <td>Innocent</td>\n",
              "            <td>302253</td>\n",
              "        </tr>\n",
              "        <tr>\n",
              "            <td>spotify:track:3n9mzjgAzjyKawvbHzciXF</td>\n",
              "            <td>The Last Time</td>\n",
              "            <td>298293</td>\n",
              "        </tr>\n",
              "        <tr>\n",
              "            <td>spotify:track:4t0OI7XrODjSkAu3bTPmWj</td>\n",
              "            <td>Fifteen</td>\n",
              "            <td>294333</td>\n",
              "        </tr>\n",
              "        <tr>\n",
              "            <td>spotify:track:3DrjZArsPsoqbLzUZZV1Id</td>\n",
              "            <td>Back To December</td>\n",
              "            <td>293026</td>\n",
              "        </tr>\n",
              "        <tr>\n",
              "            <td>spotify:track:1wJL1A0QUHJPf2cm7tsrdw</td>\n",
              "            <td>Never Grow Up</td>\n",
              "            <td>290466</td>\n",
              "        </tr>\n",
              "        <tr>\n",
              "            <td>spotify:track:6LKjHhOW1az75pCQ9XJJtF</td>\n",
              "            <td>Sad Beautiful Tragic</td>\n",
              "            <td>283680</td>\n",
              "        </tr>\n",
              "        <tr>\n",
              "            <td>spotify:track:1yACRKAwlXWhXXFUSkvzhD</td>\n",
              "            <td>Change</td>\n",
              "            <td>280240</td>\n",
              "        </tr>\n",
              "        <tr>\n",
              "            <td>spotify:track:2R7C9dDqv1UPycvepBFziA</td>\n",
              "            <td>Superman</td>\n",
              "            <td>275960</td>\n",
              "        </tr>\n",
              "        <tr>\n",
              "            <td>spotify:track:1NmVZsG18CzCAtw7rnV3yA</td>\n",
              "            <td>Clean</td>\n",
              "            <td>271000</td>\n",
              "        </tr>\n",
              "        <tr>\n",
              "            <td>spotify:track:2KrOAg6FftbjgSKdd2a4rS</td>\n",
              "            <td>You Are In Love</td>\n",
              "            <td>267106</td>\n",
              "        </tr>\n",
              "        <tr>\n",
              "            <td>spotify:track:3lXekiVK1ZPZbKconsys73</td>\n",
              "            <td>The Story Of Us</td>\n",
              "            <td>265680</td>\n",
              "        </tr>\n",
              "        <tr>\n",
              "            <td>spotify:track:3RBluWmSoG2pGA1OePzGJI</td>\n",
              "            <td>The Story Of Us</td>\n",
              "            <td>265666</td>\n",
              "        </tr>\n",
              "        <tr>\n",
              "            <td>spotify:track:49mWEy5MgtNujgT7xU3emT</td>\n",
              "            <td>Breathe</td>\n",
              "            <td>263973</td>\n",
              "        </tr>\n",
              "        <tr>\n",
              "            <td>spotify:track:0HmCuN0Z3OX1Qrz43FLOPL</td>\n",
              "            <td>You&#x27;re Not Sorry</td>\n",
              "            <td>261786</td>\n",
              "        </tr>\n",
              "        <tr>\n",
              "            <td>spotify:track:6d9IiDcFxtFVIvt9pCqyGH</td>\n",
              "            <td>Sparks Fly</td>\n",
              "            <td>260933</td>\n",
              "        </tr>\n",
              "        <tr>\n",
              "            <td>spotify:track:4WXzzCof26KJLTK5kK53dS</td>\n",
              "            <td>Hey Stephen</td>\n",
              "            <td>254306</td>\n",
              "        </tr>\n",
              "        <tr>\n",
              "            <td>spotify:track:06FXaDDdg0BzXl15cthMS5</td>\n",
              "            <td>Should&#x27;ve Said No - Live Show / Event</td>\n",
              "            <td>253800</td>\n",
              "        </tr>\n",
              "        <tr>\n",
              "            <td>spotify:track:4L560fic5PaTuCFm6CviKa</td>\n",
              "            <td>This Love</td>\n",
              "            <td>250093</td>\n",
              "        </tr>\n",
              "        <tr>\n",
              "            <td>spotify:track:0ziBUEvoStwOKuvVC74iuc</td>\n",
              "            <td>Everything Has Changed - Remix</td>\n",
              "            <td>249760</td>\n",
              "        </tr>\n",
              "        <tr>\n",
              "            <td>spotify:track:6K0CJLVXqbGMeJSmJ4ENKK</td>\n",
              "            <td>Tied Together with a Smile</td>\n",
              "            <td>248106</td>\n",
              "        </tr>\n",
              "        <tr>\n",
              "            <td>spotify:track:0fM9dEhUFV4MHDuJgrcfOv</td>\n",
              "            <td>How You Get The Girl</td>\n",
              "            <td>247533</td>\n",
              "        </tr>\n",
              "        <tr>\n",
              "            <td>spotify:track:0DxlNrE6Hy1TP3XjPV7bV0</td>\n",
              "            <td>How You Get the Girl</td>\n",
              "            <td>247000</td>\n",
              "        </tr>\n",
              "        <tr>\n",
              "            <td>spotify:track:6RvRzl1YJTDnUvdOtV21IK</td>\n",
              "            <td>Wonderland</td>\n",
              "            <td>245560</td>\n",
              "        </tr>\n",
              "        <tr>\n",
              "            <td>spotify:track:3esA216TyLHEkNiBCeCmcg</td>\n",
              "            <td>The Best Day</td>\n",
              "            <td>245333</td>\n",
              "        </tr>\n",
              "        <tr>\n",
              "            <td>spotify:track:7wjbSn8QHsxqKXU5M0jXGM</td>\n",
              "            <td>Eyes Open</td>\n",
              "            <td>244586</td>\n",
              "        </tr>\n",
              "        <tr>\n",
              "            <td>spotify:track:5P4wWhUYWM0IaVYLuZxdar</td>\n",
              "            <td>The Way I Loved You</td>\n",
              "            <td>244226</td>\n",
              "        </tr>\n",
              "        <tr>\n",
              "            <td>spotify:track:4NAmRvqSITAAzKWnC8yRq3</td>\n",
              "            <td>Everything Has Changed</td>\n",
              "            <td>243933</td>\n",
              "        </tr>\n",
              "        <tr>\n",
              "            <td>spotify:track:2imoPg5wVO2ZinBFKujxVi</td>\n",
              "            <td>Today Was A Fairytale</td>\n",
              "            <td>243626</td>\n",
              "        </tr>\n",
              "        <tr>\n",
              "            <td>spotify:track:5VwFkx7JOimOGTYfha5rs1</td>\n",
              "            <td>I Almost Do</td>\n",
              "            <td>242573</td>\n",
              "        </tr>\n",
              "        <tr>\n",
              "            <td>spotify:track:16MVSD0mGI4RMQT83Qzm69</td>\n",
              "            <td>Should&#x27;ve Said No</td>\n",
              "            <td>242200</td>\n",
              "        </tr>\n",
              "        <tr>\n",
              "            <td>spotify:track:28M2gifMU282QBM3fKajIS</td>\n",
              "            <td>Haunted</td>\n",
              "            <td>242080</td>\n",
              "        </tr>\n",
              "        <tr>\n",
              "            <td>spotify:track:6Eu31gddWw0gOGO506pJYA</td>\n",
              "            <td>Fearless</td>\n",
              "            <td>241986</td>\n",
              "        </tr>\n",
              "        <tr>\n",
              "            <td>spotify:track:5kYFVSQoPu7yRpfiHBwMUk</td>\n",
              "            <td>Treacherous</td>\n",
              "            <td>240773</td>\n",
              "        </tr>\n",
              "        <tr>\n",
              "            <td>spotify:track:24DefNCFiWTP8OjYWiXuYe</td>\n",
              "            <td>Speak Now</td>\n",
              "            <td>240760</td>\n",
              "        </tr>\n",
              "        <tr>\n",
              "            <td>spotify:track:2X2J0BhxaLTmnxO4pPUhSd</td>\n",
              "            <td>The Lucky One</td>\n",
              "            <td>240133</td>\n",
              "        </tr>\n",
              "        <tr>\n",
              "            <td>spotify:track:0z9UVN8VBHJ9HdfYsOuuNf</td>\n",
              "            <td>Safe &amp; Sound - from The Hunger Games Soundtrack</td>\n",
              "            <td>240066</td>\n",
              "        </tr>\n",
              "        <tr>\n",
              "            <td>spotify:track:7BT9K9BDqq6HI2oWH5UMZQ</td>\n",
              "            <td>Treacherous - Original Demo Recording</td>\n",
              "            <td>239720</td>\n",
              "        </tr>\n",
              "        <tr>\n",
              "            <td>spotify:track:7htVW723e0UeQpi1LRJHNX</td>\n",
              "            <td>Cold As You</td>\n",
              "            <td>239013</td>\n",
              "        </tr>\n",
              "        <tr>\n",
              "            <td>spotify:track:1EQn3Uc5AyUXoiPLeyCrrg</td>\n",
              "            <td>Ours</td>\n",
              "            <td>237920</td>\n",
              "        </tr>\n",
              "        <tr>\n",
              "            <td>spotify:track:5yEPktRqvIhko5QFF3aBhQ</td>\n",
              "            <td>Mean</td>\n",
              "            <td>237733</td>\n",
              "        </tr>\n",
              "        <tr>\n",
              "            <td>spotify:track:0L4YCNRfXAoTvdpWeH2RGj</td>\n",
              "            <td>Begin Again</td>\n",
              "            <td>237613</td>\n",
              "        </tr>\n",
              "        <tr>\n",
              "            <td>spotify:track:08gavXombT6KR0af88i9tA</td>\n",
              "            <td>Jump Then Fall</td>\n",
              "            <td>237066</td>\n",
              "        </tr>\n",
              "        <tr>\n",
              "            <td>spotify:track:2ZoOmCSgj0ypVAmGd1ve4y</td>\n",
              "            <td>Stay Beautiful</td>\n",
              "            <td>236053</td>\n",
              "        </tr>\n",
              "        <tr>\n",
              "            <td>spotify:track:0qUnBLZ8bJqUNEeQgayL9t</td>\n",
              "            <td>Out Of The Woods</td>\n",
              "            <td>235800</td>\n",
              "        </tr>\n",
              "        <tr>\n",
              "            <td>spotify:track:4DiVC6guuabKeZ0LqLTrdH</td>\n",
              "            <td>Sweeter Than Fiction</td>\n",
              "            <td>235640</td>\n",
              "        </tr>\n",
              "        <tr>\n",
              "            <td>spotify:track:1vrd6UOGamcKNGnSHJQlSt</td>\n",
              "            <td>Love Story</td>\n",
              "            <td>235266</td>\n",
              "        </tr>\n",
              "        <tr>\n",
              "            <td>spotify:track:0vvt4IZOMkRug195S4MUq0</td>\n",
              "            <td>If This Was A Movie</td>\n",
              "            <td>234546</td>\n",
              "        </tr>\n",
              "        <tr>\n",
              "            <td>spotify:track:6wn61Fzx9XMxQmieLpoIhW</td>\n",
              "            <td>White Horse</td>\n",
              "            <td>234426</td>\n",
              "        </tr>\n",
              "        <tr>\n",
              "            <td>spotify:track:6utNwjJgCT1DPpir6HIj0r</td>\n",
              "            <td>Love Story - US Pop Mix</td>\n",
              "            <td>234200</td>\n",
              "        </tr>\n",
              "        <tr>\n",
              "            <td>spotify:track:0Om9WAB5RS09L80DyOfTNa</td>\n",
              "            <td>Tim McGraw</td>\n",
              "            <td>232106</td>\n",
              "        </tr>\n",
              "        <tr>\n",
              "            <td>spotify:track:1u8c2t2Cy7UBoG4ArRcF5g</td>\n",
              "            <td>Blank Space</td>\n",
              "            <td>231826</td>\n",
              "        </tr>\n",
              "        <tr>\n",
              "            <td>spotify:track:3GCL1PydwsLodcpv0Ll1ch</td>\n",
              "            <td>You Belong With Me</td>\n",
              "            <td>231133</td>\n",
              "        </tr>\n",
              "        <tr>\n",
              "            <td>spotify:track:0ug5NqcwcFR2xrfTkc7k8e</td>\n",
              "            <td>Style</td>\n",
              "            <td>231000</td>\n",
              "        </tr>\n",
              "        <tr>\n",
              "            <td>spotify:track:1fscxlCZZpjzDnS8CSJmuL</td>\n",
              "            <td>Blank Space</td>\n",
              "            <td>231000</td>\n",
              "        </tr>\n",
              "        <tr>\n",
              "            <td>spotify:track:0dBW6ZsW8skfvoRfgeerBF</td>\n",
              "            <td>Mine</td>\n",
              "            <td>230706</td>\n",
              "        </tr>\n",
              "        <tr>\n",
              "            <td>spotify:track:0qAIiGFKLdV1xpNlEhjpq8</td>\n",
              "            <td>New Romantics</td>\n",
              "            <td>230466</td>\n",
              "        </tr>\n",
              "        <tr>\n",
              "            <td>spotify:track:2ULNeSomDxVNmdDy8VxEBU</td>\n",
              "            <td>22</td>\n",
              "            <td>230133</td>\n",
              "        </tr>\n",
              "        <tr>\n",
              "            <td>spotify:track:47HtKpfzpAt8rQjjXWotFj</td>\n",
              "            <td>Forever &amp; Always</td>\n",
              "            <td>225320</td>\n",
              "        </tr>\n",
              "        <tr>\n",
              "            <td>spotify:track:4qyalTRMRH5YuEntvvMvq0</td>\n",
              "            <td>Come Back...Be Here</td>\n",
              "            <td>222706</td>\n",
              "        </tr>\n",
              "        <tr>\n",
              "            <td>spotify:track:0cITLOYn1Sv4q27zZPqlNK</td>\n",
              "            <td>Red</td>\n",
              "            <td>220826</td>\n",
              "        </tr>\n",
              "        <tr>\n",
              "            <td>spotify:track:3fVnlF4pGqWI9flVENcT28</td>\n",
              "            <td>Wildest Dreams</td>\n",
              "            <td>220440</td>\n",
              "        </tr>\n",
              "        <tr>\n",
              "            <td>spotify:track:0KPNFpl66BLu5kjG6jluWx</td>\n",
              "            <td>A Perfectly Good Heart</td>\n",
              "            <td>220146</td>\n",
              "        </tr>\n",
              "        <tr>\n",
              "            <td>spotify:track:1zsYMMoLICPfL4dPbbWsKL</td>\n",
              "            <td>Wildest Dreams</td>\n",
              "            <td>220000</td>\n",
              "        </tr>\n",
              "        <tr>\n",
              "            <td>spotify:track:0cqRj7pUJDkTCEsJkx8snD</td>\n",
              "            <td>Shake It Off</td>\n",
              "            <td>219200</td>\n",
              "        </tr>\n",
              "        <tr>\n",
              "            <td>spotify:track:30nn05UHfcfy0znDxV4hho</td>\n",
              "            <td>Shake It Off</td>\n",
              "            <td>219000</td>\n",
              "        </tr>\n",
              "        <tr>\n",
              "            <td>spotify:track:72jCZdH0Lhg93z6Z4hBjgj</td>\n",
              "            <td>I Knew You Were Trouble.</td>\n",
              "            <td>217973</td>\n",
              "        </tr>\n",
              "        <tr>\n",
              "            <td>spotify:track:7MecVsMj22MneZt7kVFaCr</td>\n",
              "            <td>Starlight</td>\n",
              "            <td>217826</td>\n",
              "        </tr>\n",
              "        <tr>\n",
              "            <td>spotify:track:62rlxI6g2PNaWsHoiRryto</td>\n",
              "            <td>Haunted - Acoustic</td>\n",
              "            <td>217613</td>\n",
              "        </tr>\n",
              "        <tr>\n",
              "            <td>spotify:track:2ythurkTtSiyfK7GprJoFW</td>\n",
              "            <td>Better Than Revenge</td>\n",
              "            <td>217160</td>\n",
              "        </tr>\n",
              "        <tr>\n",
              "            <td>spotify:track:2QrQCMel6v2JiLxqrg4p2O</td>\n",
              "            <td>Mary&#x27;s Song (Oh My My My)</td>\n",
              "            <td>213080</td>\n",
              "        </tr>\n",
              "        <tr>\n",
              "            <td>spotify:track:0JIdBrXGSJXS72zjF9ss9u</td>\n",
              "            <td>I&#x27;m Only Me When I&#x27;m With You</td>\n",
              "            <td>213053</td>\n",
              "        </tr>\n",
              "        <tr>\n",
              "            <td>spotify:track:10nqz67NQWWa7XPq7ycihi</td>\n",
              "            <td>Welcome To New York</td>\n",
              "            <td>212600</td>\n",
              "        </tr>\n",
              "        <tr>\n",
              "            <td>spotify:track:0TvQLMecTE8utzoNmvXRbK</td>\n",
              "            <td>Bad Blood</td>\n",
              "            <td>211933</td>\n",
              "        </tr>\n",
              "        <tr>\n",
              "            <td>spotify:track:6uFsE1JgZ20EXyU0JQZbUR</td>\n",
              "            <td>Look What You Made Me Do</td>\n",
              "            <td>211859</td>\n",
              "        </tr>\n",
              "        <tr>\n",
              "            <td>spotify:track:6aU9WABbPXrV0moONji2g7</td>\n",
              "            <td>Bad Blood</td>\n",
              "            <td>211000</td>\n",
              "        </tr>\n",
              "        <tr>\n",
              "            <td>spotify:track:0bQNuLZ0yB3MgMnJjIGWnd</td>\n",
              "            <td>Silent Night</td>\n",
              "            <td>209893</td>\n",
              "        </tr>\n",
              "        <tr>\n",
              "            <td>spotify:track:5Gd19NupVe5X8bAqxf9Iaz</td>\n",
              "            <td>Gorgeous</td>\n",
              "            <td>209680</td>\n",
              "        </tr>\n",
              "        <tr>\n",
              "            <td>spotify:track:19WjVVgXjdKXfLXoaDPwTM</td>\n",
              "            <td>...Ready For It?</td>\n",
              "            <td>208198</td>\n",
              "        </tr>\n",
              "        <tr>\n",
              "            <td>spotify:track:5gRYrtvyVyaCRvLt56OfuV</td>\n",
              "            <td>I Wish You Would</td>\n",
              "            <td>207440</td>\n",
              "        </tr>\n",
              "        <tr>\n",
              "            <td>spotify:track:1U6riPmEZzICc3NVAlxihh</td>\n",
              "            <td>The Outside</td>\n",
              "            <td>207106</td>\n",
              "        </tr>\n",
              "        <tr>\n",
              "            <td>spotify:track:1qLeEu4iXEclkLwoBlMiou</td>\n",
              "            <td>Stay Stay Stay</td>\n",
              "            <td>204826</td>\n",
              "        </tr>\n",
              "        <tr>\n",
              "            <td>spotify:track:0kBK5JmObrCZw4OfcwvsWL</td>\n",
              "            <td>Invisible</td>\n",
              "            <td>203226</td>\n",
              "        </tr>\n",
              "        <tr>\n",
              "            <td>spotify:track:4tXsR2Hv3l85TQTwgEn3Um</td>\n",
              "            <td>Teardrops On My Guitar</td>\n",
              "            <td>203040</td>\n",
              "        </tr>\n",
              "        <tr>\n",
              "            <td>spotify:track:1fGsZsIkQkOspfsT24nQP6</td>\n",
              "            <td>Holy Ground</td>\n",
              "            <td>201853</td>\n",
              "        </tr>\n",
              "        <tr>\n",
              "            <td>spotify:track:15DeqWWQB4dcEWzJg15VrN</td>\n",
              "            <td>Our Song</td>\n",
              "            <td>201106</td>\n",
              "        </tr>\n",
              "        <tr>\n",
              "            <td>spotify:track:3rnI1UCyGJvUTVvT97VQr5</td>\n",
              "            <td>Tell Me Why</td>\n",
              "            <td>200546</td>\n",
              "        </tr>\n",
              "        <tr>\n",
              "            <td>spotify:track:3QdYxkiZu3ilLRHU6lXYvn</td>\n",
              "            <td>Bad Blood</td>\n",
              "            <td>200106</td>\n",
              "        </tr>\n",
              "        <tr>\n",
              "            <td>spotify:track:71i2QDJVjNMta2W6XeuyeX</td>\n",
              "            <td>A Place In This World</td>\n",
              "            <td>199200</td>\n",
              "        </tr>\n",
              "        <tr>\n",
              "            <td>spotify:track:6Ck9WerfsyvC4v4AylUoDp</td>\n",
              "            <td>I Know Places</td>\n",
              "            <td>195706</td>\n",
              "        </tr>\n",
              "        <tr>\n",
              "            <td>spotify:track:4NNolUeL5m2ju7kf8pdg6H</td>\n",
              "            <td>All You Had To Do Was Stay</td>\n",
              "            <td>193293</td>\n",
              "        </tr>\n",
              "        <tr>\n",
              "            <td>spotify:track:5vyxXfD5gLlyPxGZMEjtmd</td>\n",
              "            <td>Crazier</td>\n",
              "            <td>191946</td>\n",
              "        </tr>\n",
              "        <tr>\n",
              "            <td>spotify:track:7AEAGTc8cReDqcbPoY9gwo</td>\n",
              "            <td>We Are Never Ever Getting Back Together</td>\n",
              "            <td>191880</td>\n",
              "        </tr>\n",
              "        <tr>\n",
              "            <td>spotify:track:119Lk6ghv7d3WFY2g7cb8s</td>\n",
              "            <td>Christmases When You Were Mine</td>\n",
              "            <td>186173</td>\n",
              "        </tr>\n",
              "        <tr>\n",
              "            <td>spotify:track:4pJi1rVt9GNegU9kywjg4z</td>\n",
              "            <td>Teardrops on My Guitar - Pop Version</td>\n",
              "            <td>179066</td>\n",
              "        </tr>\n",
              "        <tr>\n",
              "            <td>spotify:track:32mVHdy0bi1XKgr0ajsBlG</td>\n",
              "            <td>Picture To Burn</td>\n",
              "            <td>173066</td>\n",
              "        </tr>\n",
              "    </tbody>\n",
              "</table>"
            ]
          },
          "metadata": {},
          "execution_count": 43
        }
      ]
    },
    {
      "cell_type": "markdown",
      "source": [
        "PREGUNTA 3 BLOQUE 2\n",
        "\n",
        " f) Número de canciones por lista -> Utilizar CASE (#9)"
      ],
      "metadata": {
        "id": "hfMhxyLNHTLk"
      }
    },
    {
      "cell_type": "code",
      "source": [
        "%sql SELECT pid, num_tracks, CASE WHEN num_tracks <30 THEN 'BAJA'WHEN num_tracks <=40 THEN 'MEDIA' ELSE 'ALTA' END AS tracks_num_quuantity FROM playlists LIMIT 15"
      ],
      "metadata": {
        "colab": {
          "base_uri": "https://localhost:8080/",
          "height": 388
        },
        "id": "OE6Qc5TwHKIz",
        "outputId": "f670685f-e2f8-4511-f162-658aa0fa28f3"
      },
      "execution_count": null,
      "outputs": [
        {
          "output_type": "stream",
          "name": "stdout",
          "text": [
            " * sqlite:////content/drive/MyDrive/music_smaller_10000.db\n",
            "Done.\n"
          ]
        },
        {
          "output_type": "execute_result",
          "data": {
            "text/plain": [
              "[(0, 52, 'ALTA'),\n",
              " (1, 39, 'MEDIA'),\n",
              " (2, 64, 'ALTA'),\n",
              " (3, 126, 'ALTA'),\n",
              " (4, 17, 'BAJA'),\n",
              " (5, 80, 'ALTA'),\n",
              " (6, 16, 'BAJA'),\n",
              " (7, 53, 'ALTA'),\n",
              " (8, 46, 'ALTA'),\n",
              " (9, 21, 'BAJA'),\n",
              " (10, 72, 'ALTA'),\n",
              " (11, 134, 'ALTA'),\n",
              " (12, 9, 'BAJA'),\n",
              " (13, 13, 'BAJA'),\n",
              " (14, 103, 'ALTA')]"
            ],
            "text/html": [
              "<table>\n",
              "    <thead>\n",
              "        <tr>\n",
              "            <th>pid</th>\n",
              "            <th>num_tracks</th>\n",
              "            <th>tracks_num_quuantity</th>\n",
              "        </tr>\n",
              "    </thead>\n",
              "    <tbody>\n",
              "        <tr>\n",
              "            <td>0</td>\n",
              "            <td>52</td>\n",
              "            <td>ALTA</td>\n",
              "        </tr>\n",
              "        <tr>\n",
              "            <td>1</td>\n",
              "            <td>39</td>\n",
              "            <td>MEDIA</td>\n",
              "        </tr>\n",
              "        <tr>\n",
              "            <td>2</td>\n",
              "            <td>64</td>\n",
              "            <td>ALTA</td>\n",
              "        </tr>\n",
              "        <tr>\n",
              "            <td>3</td>\n",
              "            <td>126</td>\n",
              "            <td>ALTA</td>\n",
              "        </tr>\n",
              "        <tr>\n",
              "            <td>4</td>\n",
              "            <td>17</td>\n",
              "            <td>BAJA</td>\n",
              "        </tr>\n",
              "        <tr>\n",
              "            <td>5</td>\n",
              "            <td>80</td>\n",
              "            <td>ALTA</td>\n",
              "        </tr>\n",
              "        <tr>\n",
              "            <td>6</td>\n",
              "            <td>16</td>\n",
              "            <td>BAJA</td>\n",
              "        </tr>\n",
              "        <tr>\n",
              "            <td>7</td>\n",
              "            <td>53</td>\n",
              "            <td>ALTA</td>\n",
              "        </tr>\n",
              "        <tr>\n",
              "            <td>8</td>\n",
              "            <td>46</td>\n",
              "            <td>ALTA</td>\n",
              "        </tr>\n",
              "        <tr>\n",
              "            <td>9</td>\n",
              "            <td>21</td>\n",
              "            <td>BAJA</td>\n",
              "        </tr>\n",
              "        <tr>\n",
              "            <td>10</td>\n",
              "            <td>72</td>\n",
              "            <td>ALTA</td>\n",
              "        </tr>\n",
              "        <tr>\n",
              "            <td>11</td>\n",
              "            <td>134</td>\n",
              "            <td>ALTA</td>\n",
              "        </tr>\n",
              "        <tr>\n",
              "            <td>12</td>\n",
              "            <td>9</td>\n",
              "            <td>BAJA</td>\n",
              "        </tr>\n",
              "        <tr>\n",
              "            <td>13</td>\n",
              "            <td>13</td>\n",
              "            <td>BAJA</td>\n",
              "        </tr>\n",
              "        <tr>\n",
              "            <td>14</td>\n",
              "            <td>103</td>\n",
              "            <td>ALTA</td>\n",
              "        </tr>\n",
              "    </tbody>\n",
              "</table>"
            ]
          },
          "metadata": {},
          "execution_count": 57
        }
      ]
    },
    {
      "cell_type": "code",
      "source": [
        "%sql SELECT CASE WHEN num_tracks <30 THEN 'BAJA'WHEN num_tracks <=40 THEN 'MEDIA' ELSE 'ALTA' END AS tracks_num_quuantity, COUNT(pid) AS num_playlists FROM playlists GROUP BY tracks_num_quuantity"
      ],
      "metadata": {
        "colab": {
          "base_uri": "https://localhost:8080/",
          "height": 138
        },
        "id": "p0FmmKknIe_D",
        "outputId": "21f95373-99f1-4393-a0b3-9a7526a0501f"
      },
      "execution_count": null,
      "outputs": [
        {
          "output_type": "stream",
          "name": "stdout",
          "text": [
            " * sqlite:////content/drive/MyDrive/music_smaller_10000.db\n",
            "Done.\n"
          ]
        },
        {
          "output_type": "execute_result",
          "data": {
            "text/plain": [
              "[('ALTA', 4627), ('BAJA', 2369), ('MEDIA', 1004)]"
            ],
            "text/html": [
              "<table>\n",
              "    <thead>\n",
              "        <tr>\n",
              "            <th>tracks_num_quuantity</th>\n",
              "            <th>num_playlists</th>\n",
              "        </tr>\n",
              "    </thead>\n",
              "    <tbody>\n",
              "        <tr>\n",
              "            <td>ALTA</td>\n",
              "            <td>4627</td>\n",
              "        </tr>\n",
              "        <tr>\n",
              "            <td>BAJA</td>\n",
              "            <td>2369</td>\n",
              "        </tr>\n",
              "        <tr>\n",
              "            <td>MEDIA</td>\n",
              "            <td>1004</td>\n",
              "        </tr>\n",
              "    </tbody>\n",
              "</table>"
            ]
          },
          "metadata": {},
          "execution_count": 56
        }
      ]
    },
    {
      "cell_type": "code",
      "source": [],
      "metadata": {
        "id": "Mg38tyaPKUfu"
      },
      "execution_count": null,
      "outputs": []
    },
    {
      "cell_type": "markdown",
      "source": [
        "PREGUNTA 4 BLOQUE 2\n",
        "\n",
        "g) Encontrar la duración más larga y más corta de todas las canciones (#5)\n"
      ],
      "metadata": {
        "id": "PzooIyWXM_-V"
      }
    },
    {
      "cell_type": "code",
      "source": [
        "from google.colab import drive\n",
        "drive.mount('/content/drive')"
      ],
      "metadata": {
        "colab": {
          "base_uri": "https://localhost:8080/"
        },
        "id": "cbANk4IiLMro",
        "outputId": "a6621d3c-2472-4f68-e0df-d9f3158d9652"
      },
      "execution_count": null,
      "outputs": [
        {
          "output_type": "stream",
          "name": "stdout",
          "text": [
            "Drive already mounted at /content/drive; to attempt to forcibly remount, call drive.mount(\"/content/drive\", force_remount=True).\n"
          ]
        }
      ]
    },
    {
      "cell_type": "code",
      "source": [
        "%load_ext sql"
      ],
      "metadata": {
        "colab": {
          "base_uri": "https://localhost:8080/"
        },
        "id": "_YvEWarULM7R",
        "outputId": "006f06ac-abcb-471a-e515-298ac3f22bcd"
      },
      "execution_count": null,
      "outputs": [
        {
          "output_type": "stream",
          "name": "stdout",
          "text": [
            "The sql extension is already loaded. To reload it, use:\n",
            "  %reload_ext sql\n"
          ]
        }
      ]
    },
    {
      "cell_type": "code",
      "source": [
        "%sql  sqlite:////content/drive/MyDrive/music_smaller_10000.db"
      ],
      "metadata": {
        "id": "EQqJDPUqLUyY"
      },
      "execution_count": null,
      "outputs": []
    },
    {
      "cell_type": "code",
      "source": [
        "%sql SELECT MAX(duration_ms)/60000, MIN(duration_ms) FROM song WHERE duration_ms is not 0"
      ],
      "metadata": {
        "colab": {
          "base_uri": "https://localhost:8080/",
          "height": 96
        },
        "id": "ju7W-966LBBP",
        "outputId": "5d0c7775-e126-4e60-f205-f7b5d48ebea2"
      },
      "execution_count": null,
      "outputs": [
        {
          "output_type": "stream",
          "name": "stdout",
          "text": [
            " * sqlite:////content/drive/MyDrive/music_smaller_10000.db\n",
            "Done.\n"
          ]
        },
        {
          "output_type": "execute_result",
          "data": {
            "text/plain": [
              "[(87, 186)]"
            ],
            "text/html": [
              "<table>\n",
              "    <thead>\n",
              "        <tr>\n",
              "            <th>MAX(duration_ms)/60000</th>\n",
              "            <th>MIN(duration_ms)</th>\n",
              "        </tr>\n",
              "    </thead>\n",
              "    <tbody>\n",
              "        <tr>\n",
              "            <td>87</td>\n",
              "            <td>186</td>\n",
              "        </tr>\n",
              "    </tbody>\n",
              "</table>"
            ]
          },
          "metadata": {},
          "execution_count": 12
        }
      ]
    },
    {
      "cell_type": "code",
      "source": [
        "%sql SELECT track_name, duration_ms FROM song WHERE duration_ms= (SELECT MAX(duration_ms) FROM song) OR duration_ms= (SELECT MIN(duration_ms) FROM song WHERE duration_ms is not 0)"
      ],
      "metadata": {
        "colab": {
          "base_uri": "https://localhost:8080/",
          "height": 117
        },
        "id": "GWasPMhoLJGm",
        "outputId": "85ac35f4-6737-4a40-cde3-a65b9f601e96"
      },
      "execution_count": null,
      "outputs": [
        {
          "output_type": "stream",
          "name": "stdout",
          "text": [
            " * sqlite:////content/drive/MyDrive/music_smaller_10000.db\n",
            "Done.\n"
          ]
        },
        {
          "output_type": "execute_result",
          "data": {
            "text/plain": [
              "[('Oxygen - Radio Edit', 186),\n",
              " ('Heavy Rains with Thunder and Lightning - Natural Sounds of Nature', 5279768)]"
            ],
            "text/html": [
              "<table>\n",
              "    <thead>\n",
              "        <tr>\n",
              "            <th>track_name</th>\n",
              "            <th>duration_ms</th>\n",
              "        </tr>\n",
              "    </thead>\n",
              "    <tbody>\n",
              "        <tr>\n",
              "            <td>Oxygen - Radio Edit</td>\n",
              "            <td>186</td>\n",
              "        </tr>\n",
              "        <tr>\n",
              "            <td>Heavy Rains with Thunder and Lightning - Natural Sounds of Nature</td>\n",
              "            <td>5279768</td>\n",
              "        </tr>\n",
              "    </tbody>\n",
              "</table>"
            ]
          },
          "metadata": {},
          "execution_count": 14
        }
      ]
    },
    {
      "cell_type": "markdown",
      "source": [
        "PREGUNTA 1 BLOQUE 3\n",
        "\n",
        "h) Calcular la duración total y promedio de todas las canciones en una playlist específica (#1)"
      ],
      "metadata": {
        "id": "UiUxVjUkQuGj"
      }
    },
    {
      "cell_type": "code",
      "source": [
        "%sql SELECT * FROM song LIMIT 5"
      ],
      "metadata": {
        "colab": {
          "base_uri": "https://localhost:8080/",
          "height": 284
        },
        "id": "Wbjt4903R6wl",
        "outputId": "8cc72ea9-44d8-4a1d-bf3d-3e8ea0142112"
      },
      "execution_count": null,
      "outputs": [
        {
          "output_type": "stream",
          "name": "stdout",
          "text": [
            " * sqlite:////content/drive/MyDrive/music_smaller_10000.db\n",
            "Done.\n"
          ]
        },
        {
          "output_type": "execute_result",
          "data": {
            "text/plain": [
              "[('spotify:track:4SDywo3ykB2PEthjXvo1UP', 6, 0, 'Creedence Clearwater Revival', 'spotify:artist:3IYUhFvPQItj6xySrBmZkd', 'I Put A Spell On You', 'spotify:album:7oIftk0P8cViwNpNEdCYl2', 271786, 'Creedence Clearwater Revival'),\n",
              " ('spotify:track:229SqGbacrLSBfb9XfJczF', 6, 1, 'STRFKR', 'spotify:artist:2Tz1DTzVJ5Gyh8ZwVr6ekU', 'Bury Us Alive', 'spotify:album:5pfqk4oFycMVynOD8S2Cqs', 190360, 'Reptilians'),\n",
              " ('spotify:track:0orNm6qQT2B5WFi0l7l3PV', 6, 2, '311', 'spotify:artist:41Q0HrwWBtuUkJc7C1Rp6K', \"Jackolantern's Weather\", 'spotify:album:6VIeIM5tetuv7FrYxISffU', 204160, '311'),\n",
              " ('spotify:track:1hWQvA6oGVJ2mAVsZ59AaV', 6, 3, 'Nathaniel Rateliff & The Night Sweats', 'spotify:artist:02seUFsFQP7TH4hLrTj77o', 'S.O.B.', 'spotify:album:2UCyiayMoJOwBilPLQPQvK', 247612, 'Nathaniel Rateliff & The Night Sweats'),\n",
              " ('spotify:track:56SkdBKyR2zOkjk6wVFI9s', 6, 4, 'Toadies', 'spotify:artist:2QMMktUMtwMSwUZATX1cRO', 'Possum Kingdom', 'spotify:album:7tFTqVGHceSlXOaz8IylBN', 309573, 'Rubberneck')]"
            ],
            "text/html": [
              "<table>\n",
              "    <thead>\n",
              "        <tr>\n",
              "            <th>track_uri</th>\n",
              "            <th>pid</th>\n",
              "            <th>pos</th>\n",
              "            <th>artist_name</th>\n",
              "            <th>artist_uri</th>\n",
              "            <th>track_name</th>\n",
              "            <th>album_uri</th>\n",
              "            <th>duration_ms</th>\n",
              "            <th>album_name</th>\n",
              "        </tr>\n",
              "    </thead>\n",
              "    <tbody>\n",
              "        <tr>\n",
              "            <td>spotify:track:4SDywo3ykB2PEthjXvo1UP</td>\n",
              "            <td>6</td>\n",
              "            <td>0</td>\n",
              "            <td>Creedence Clearwater Revival</td>\n",
              "            <td>spotify:artist:3IYUhFvPQItj6xySrBmZkd</td>\n",
              "            <td>I Put A Spell On You</td>\n",
              "            <td>spotify:album:7oIftk0P8cViwNpNEdCYl2</td>\n",
              "            <td>271786</td>\n",
              "            <td>Creedence Clearwater Revival</td>\n",
              "        </tr>\n",
              "        <tr>\n",
              "            <td>spotify:track:229SqGbacrLSBfb9XfJczF</td>\n",
              "            <td>6</td>\n",
              "            <td>1</td>\n",
              "            <td>STRFKR</td>\n",
              "            <td>spotify:artist:2Tz1DTzVJ5Gyh8ZwVr6ekU</td>\n",
              "            <td>Bury Us Alive</td>\n",
              "            <td>spotify:album:5pfqk4oFycMVynOD8S2Cqs</td>\n",
              "            <td>190360</td>\n",
              "            <td>Reptilians</td>\n",
              "        </tr>\n",
              "        <tr>\n",
              "            <td>spotify:track:0orNm6qQT2B5WFi0l7l3PV</td>\n",
              "            <td>6</td>\n",
              "            <td>2</td>\n",
              "            <td>311</td>\n",
              "            <td>spotify:artist:41Q0HrwWBtuUkJc7C1Rp6K</td>\n",
              "            <td>Jackolantern&#x27;s Weather</td>\n",
              "            <td>spotify:album:6VIeIM5tetuv7FrYxISffU</td>\n",
              "            <td>204160</td>\n",
              "            <td>311</td>\n",
              "        </tr>\n",
              "        <tr>\n",
              "            <td>spotify:track:1hWQvA6oGVJ2mAVsZ59AaV</td>\n",
              "            <td>6</td>\n",
              "            <td>3</td>\n",
              "            <td>Nathaniel Rateliff &amp; The Night Sweats</td>\n",
              "            <td>spotify:artist:02seUFsFQP7TH4hLrTj77o</td>\n",
              "            <td>S.O.B.</td>\n",
              "            <td>spotify:album:2UCyiayMoJOwBilPLQPQvK</td>\n",
              "            <td>247612</td>\n",
              "            <td>Nathaniel Rateliff &amp; The Night Sweats</td>\n",
              "        </tr>\n",
              "        <tr>\n",
              "            <td>spotify:track:56SkdBKyR2zOkjk6wVFI9s</td>\n",
              "            <td>6</td>\n",
              "            <td>4</td>\n",
              "            <td>Toadies</td>\n",
              "            <td>spotify:artist:2QMMktUMtwMSwUZATX1cRO</td>\n",
              "            <td>Possum Kingdom</td>\n",
              "            <td>spotify:album:7tFTqVGHceSlXOaz8IylBN</td>\n",
              "            <td>309573</td>\n",
              "            <td>Rubberneck</td>\n",
              "        </tr>\n",
              "    </tbody>\n",
              "</table>"
            ]
          },
          "metadata": {},
          "execution_count": 18
        }
      ]
    },
    {
      "cell_type": "code",
      "source": [
        "%sql SELECT pos, duration_ms FROM song WHERE pid is 999"
      ],
      "metadata": {
        "colab": {
          "base_uri": "https://localhost:8080/",
          "height": 992
        },
        "id": "ZV1U8wZDSXZb",
        "outputId": "0a8e7072-1101-42b9-abc7-f3d9ed01854a"
      },
      "execution_count": null,
      "outputs": [
        {
          "output_type": "stream",
          "name": "stdout",
          "text": [
            " * sqlite:////content/drive/MyDrive/music_smaller_10000.db\n",
            "Done.\n"
          ]
        },
        {
          "output_type": "execute_result",
          "data": {
            "text/plain": [
              "[(0, 203649),\n",
              " (1, 148400),\n",
              " (2, 237464),\n",
              " (3, 297133),\n",
              " (4, 203600),\n",
              " (5, 198545),\n",
              " (6, 162185),\n",
              " (7, 228186),\n",
              " (8, 191572),\n",
              " (9, 240560),\n",
              " (10, 263633),\n",
              " (11, 199358),\n",
              " (12, 268760),\n",
              " (13, 153500),\n",
              " (14, 120372),\n",
              " (15, 268979),\n",
              " (16, 125610),\n",
              " (17, 227369),\n",
              " (18, 193813),\n",
              " (19, 193000),\n",
              " (20, 174000),\n",
              " (21, 185029),\n",
              " (22, 275826),\n",
              " (23, 172133),\n",
              " (24, 218086),\n",
              " (25, 245293),\n",
              " (26, 177986),\n",
              " (27, 189400),\n",
              " (28, 219528),\n",
              " (29, 203675),\n",
              " (30, 240670),\n",
              " (31, 223226),\n",
              " (32, 105500),\n",
              " (33, 148466),\n",
              " (34, 228909),\n",
              " (35, 237007),\n",
              " (36, 140733),\n",
              " (37, 189183),\n",
              " (38, 249191),\n",
              " (39, 211466),\n",
              " (40, 263679),\n",
              " (41, 189213),\n",
              " (42, 194720),\n",
              " (43, 257194)]"
            ],
            "text/html": [
              "<table>\n",
              "    <thead>\n",
              "        <tr>\n",
              "            <th>pos</th>\n",
              "            <th>duration_ms</th>\n",
              "        </tr>\n",
              "    </thead>\n",
              "    <tbody>\n",
              "        <tr>\n",
              "            <td>0</td>\n",
              "            <td>203649</td>\n",
              "        </tr>\n",
              "        <tr>\n",
              "            <td>1</td>\n",
              "            <td>148400</td>\n",
              "        </tr>\n",
              "        <tr>\n",
              "            <td>2</td>\n",
              "            <td>237464</td>\n",
              "        </tr>\n",
              "        <tr>\n",
              "            <td>3</td>\n",
              "            <td>297133</td>\n",
              "        </tr>\n",
              "        <tr>\n",
              "            <td>4</td>\n",
              "            <td>203600</td>\n",
              "        </tr>\n",
              "        <tr>\n",
              "            <td>5</td>\n",
              "            <td>198545</td>\n",
              "        </tr>\n",
              "        <tr>\n",
              "            <td>6</td>\n",
              "            <td>162185</td>\n",
              "        </tr>\n",
              "        <tr>\n",
              "            <td>7</td>\n",
              "            <td>228186</td>\n",
              "        </tr>\n",
              "        <tr>\n",
              "            <td>8</td>\n",
              "            <td>191572</td>\n",
              "        </tr>\n",
              "        <tr>\n",
              "            <td>9</td>\n",
              "            <td>240560</td>\n",
              "        </tr>\n",
              "        <tr>\n",
              "            <td>10</td>\n",
              "            <td>263633</td>\n",
              "        </tr>\n",
              "        <tr>\n",
              "            <td>11</td>\n",
              "            <td>199358</td>\n",
              "        </tr>\n",
              "        <tr>\n",
              "            <td>12</td>\n",
              "            <td>268760</td>\n",
              "        </tr>\n",
              "        <tr>\n",
              "            <td>13</td>\n",
              "            <td>153500</td>\n",
              "        </tr>\n",
              "        <tr>\n",
              "            <td>14</td>\n",
              "            <td>120372</td>\n",
              "        </tr>\n",
              "        <tr>\n",
              "            <td>15</td>\n",
              "            <td>268979</td>\n",
              "        </tr>\n",
              "        <tr>\n",
              "            <td>16</td>\n",
              "            <td>125610</td>\n",
              "        </tr>\n",
              "        <tr>\n",
              "            <td>17</td>\n",
              "            <td>227369</td>\n",
              "        </tr>\n",
              "        <tr>\n",
              "            <td>18</td>\n",
              "            <td>193813</td>\n",
              "        </tr>\n",
              "        <tr>\n",
              "            <td>19</td>\n",
              "            <td>193000</td>\n",
              "        </tr>\n",
              "        <tr>\n",
              "            <td>20</td>\n",
              "            <td>174000</td>\n",
              "        </tr>\n",
              "        <tr>\n",
              "            <td>21</td>\n",
              "            <td>185029</td>\n",
              "        </tr>\n",
              "        <tr>\n",
              "            <td>22</td>\n",
              "            <td>275826</td>\n",
              "        </tr>\n",
              "        <tr>\n",
              "            <td>23</td>\n",
              "            <td>172133</td>\n",
              "        </tr>\n",
              "        <tr>\n",
              "            <td>24</td>\n",
              "            <td>218086</td>\n",
              "        </tr>\n",
              "        <tr>\n",
              "            <td>25</td>\n",
              "            <td>245293</td>\n",
              "        </tr>\n",
              "        <tr>\n",
              "            <td>26</td>\n",
              "            <td>177986</td>\n",
              "        </tr>\n",
              "        <tr>\n",
              "            <td>27</td>\n",
              "            <td>189400</td>\n",
              "        </tr>\n",
              "        <tr>\n",
              "            <td>28</td>\n",
              "            <td>219528</td>\n",
              "        </tr>\n",
              "        <tr>\n",
              "            <td>29</td>\n",
              "            <td>203675</td>\n",
              "        </tr>\n",
              "        <tr>\n",
              "            <td>30</td>\n",
              "            <td>240670</td>\n",
              "        </tr>\n",
              "        <tr>\n",
              "            <td>31</td>\n",
              "            <td>223226</td>\n",
              "        </tr>\n",
              "        <tr>\n",
              "            <td>32</td>\n",
              "            <td>105500</td>\n",
              "        </tr>\n",
              "        <tr>\n",
              "            <td>33</td>\n",
              "            <td>148466</td>\n",
              "        </tr>\n",
              "        <tr>\n",
              "            <td>34</td>\n",
              "            <td>228909</td>\n",
              "        </tr>\n",
              "        <tr>\n",
              "            <td>35</td>\n",
              "            <td>237007</td>\n",
              "        </tr>\n",
              "        <tr>\n",
              "            <td>36</td>\n",
              "            <td>140733</td>\n",
              "        </tr>\n",
              "        <tr>\n",
              "            <td>37</td>\n",
              "            <td>189183</td>\n",
              "        </tr>\n",
              "        <tr>\n",
              "            <td>38</td>\n",
              "            <td>249191</td>\n",
              "        </tr>\n",
              "        <tr>\n",
              "            <td>39</td>\n",
              "            <td>211466</td>\n",
              "        </tr>\n",
              "        <tr>\n",
              "            <td>40</td>\n",
              "            <td>263679</td>\n",
              "        </tr>\n",
              "        <tr>\n",
              "            <td>41</td>\n",
              "            <td>189213</td>\n",
              "        </tr>\n",
              "        <tr>\n",
              "            <td>42</td>\n",
              "            <td>194720</td>\n",
              "        </tr>\n",
              "        <tr>\n",
              "            <td>43</td>\n",
              "            <td>257194</td>\n",
              "        </tr>\n",
              "    </tbody>\n",
              "</table>"
            ]
          },
          "metadata": {},
          "execution_count": 23
        }
      ]
    },
    {
      "cell_type": "code",
      "source": [
        "%sql SELECT SUM(duration_ms)/60000 FROM song WHERE pid is 999"
      ],
      "metadata": {
        "colab": {
          "base_uri": "https://localhost:8080/",
          "height": 96
        },
        "id": "A1kLUPRfSvNt",
        "outputId": "a02f893d-1ede-43e0-bc86-9d222e4443f5"
      },
      "execution_count": null,
      "outputs": [
        {
          "output_type": "stream",
          "name": "stdout",
          "text": [
            " * sqlite:////content/drive/MyDrive/music_smaller_10000.db\n",
            "Done.\n"
          ]
        },
        {
          "output_type": "execute_result",
          "data": {
            "text/plain": [
              "[(151,)]"
            ],
            "text/html": [
              "<table>\n",
              "    <thead>\n",
              "        <tr>\n",
              "            <th>SUM(duration_ms)/60000</th>\n",
              "        </tr>\n",
              "    </thead>\n",
              "    <tbody>\n",
              "        <tr>\n",
              "            <td>151</td>\n",
              "        </tr>\n",
              "    </tbody>\n",
              "</table>"
            ]
          },
          "metadata": {},
          "execution_count": 28
        }
      ]
    },
    {
      "cell_type": "code",
      "source": [
        "%sql SELECT AVG(duration_ms)/60000 FROM song WHERE pid is 999"
      ],
      "metadata": {
        "colab": {
          "base_uri": "https://localhost:8080/",
          "height": 96
        },
        "id": "rC75MEFnTa9m",
        "outputId": "86a067d9-3b1a-43e2-db19-ae3aa6ea9937"
      },
      "execution_count": null,
      "outputs": [
        {
          "output_type": "stream",
          "name": "stdout",
          "text": [
            " * sqlite:////content/drive/MyDrive/music_smaller_10000.db\n",
            "Done.\n"
          ]
        },
        {
          "output_type": "execute_result",
          "data": {
            "text/plain": [
              "[(3.4340155303030304,)]"
            ],
            "text/html": [
              "<table>\n",
              "    <thead>\n",
              "        <tr>\n",
              "            <th>AVG(duration_ms)/60000</th>\n",
              "        </tr>\n",
              "    </thead>\n",
              "    <tbody>\n",
              "        <tr>\n",
              "            <td>3.4340155303030304</td>\n",
              "        </tr>\n",
              "    </tbody>\n",
              "</table>"
            ]
          },
          "metadata": {},
          "execution_count": 27
        }
      ]
    },
    {
      "cell_type": "code",
      "source": [
        "%sql SELECT SUM(duration_ms)/60000 as total_duration, AVG(duration_ms)/60000 as average_duration FROM song WHERE pid is 999"
      ],
      "metadata": {
        "colab": {
          "base_uri": "https://localhost:8080/",
          "height": 96
        },
        "id": "cvu71d8yTwcu",
        "outputId": "df0b7992-351f-465b-873a-2656fbe3213a"
      },
      "execution_count": null,
      "outputs": [
        {
          "output_type": "stream",
          "name": "stdout",
          "text": [
            " * sqlite:////content/drive/MyDrive/music_smaller_10000.db\n",
            "Done.\n"
          ]
        },
        {
          "output_type": "execute_result",
          "data": {
            "text/plain": [
              "[(151, 3.4340155303030304)]"
            ],
            "text/html": [
              "<table>\n",
              "    <thead>\n",
              "        <tr>\n",
              "            <th>total_duration</th>\n",
              "            <th>average_duration</th>\n",
              "        </tr>\n",
              "    </thead>\n",
              "    <tbody>\n",
              "        <tr>\n",
              "            <td>151</td>\n",
              "            <td>3.4340155303030304</td>\n",
              "        </tr>\n",
              "    </tbody>\n",
              "</table>"
            ]
          },
          "metadata": {},
          "execution_count": 32
        }
      ]
    },
    {
      "cell_type": "markdown",
      "source": [
        "PREGUNTA 2 BLOQUE 3\n",
        "\n",
        "i) Obtener el promedio de canciones por playlist (#5)"
      ],
      "metadata": {
        "id": "r_2_NLjqWuL0"
      }
    },
    {
      "cell_type": "code",
      "source": [
        "%sql SELECT * FROM playlists LIMIT 3"
      ],
      "metadata": {
        "colab": {
          "base_uri": "https://localhost:8080/",
          "height": 138
        },
        "id": "qNRM5qwEW93k",
        "outputId": "b4a1bee5-5050-417a-c3d4-e791d381d291"
      },
      "execution_count": null,
      "outputs": [
        {
          "output_type": "stream",
          "name": "stdout",
          "text": [
            " * sqlite:////content/drive/MyDrive/music_smaller_10000.db\n",
            "Done.\n"
          ]
        },
        {
          "output_type": "execute_result",
          "data": {
            "text/plain": [
              "[('0-999', 0, 1493424000, 52, 47, 1, 6, 11532414, 37),\n",
              " ('0-999', 1, 1506556800, 39, 23, 1, 5, 11656470, 21),\n",
              " ('0-999', 2, 1505692800, 64, 51, 1, 18, 14039958, 31)]"
            ],
            "text/html": [
              "<table>\n",
              "    <thead>\n",
              "        <tr>\n",
              "            <th>slice</th>\n",
              "            <th>pid</th>\n",
              "            <th>modified_at</th>\n",
              "            <th>num_tracks</th>\n",
              "            <th>num_albums</th>\n",
              "            <th>num_followers</th>\n",
              "            <th>num_edits</th>\n",
              "            <th>duration_ms</th>\n",
              "            <th>num_artists</th>\n",
              "        </tr>\n",
              "    </thead>\n",
              "    <tbody>\n",
              "        <tr>\n",
              "            <td>0-999</td>\n",
              "            <td>0</td>\n",
              "            <td>1493424000</td>\n",
              "            <td>52</td>\n",
              "            <td>47</td>\n",
              "            <td>1</td>\n",
              "            <td>6</td>\n",
              "            <td>11532414</td>\n",
              "            <td>37</td>\n",
              "        </tr>\n",
              "        <tr>\n",
              "            <td>0-999</td>\n",
              "            <td>1</td>\n",
              "            <td>1506556800</td>\n",
              "            <td>39</td>\n",
              "            <td>23</td>\n",
              "            <td>1</td>\n",
              "            <td>5</td>\n",
              "            <td>11656470</td>\n",
              "            <td>21</td>\n",
              "        </tr>\n",
              "        <tr>\n",
              "            <td>0-999</td>\n",
              "            <td>2</td>\n",
              "            <td>1505692800</td>\n",
              "            <td>64</td>\n",
              "            <td>51</td>\n",
              "            <td>1</td>\n",
              "            <td>18</td>\n",
              "            <td>14039958</td>\n",
              "            <td>31</td>\n",
              "        </tr>\n",
              "    </tbody>\n",
              "</table>"
            ]
          },
          "metadata": {},
          "execution_count": 7
        }
      ]
    },
    {
      "cell_type": "code",
      "source": [
        "%sql SELECT AVG(num_tracks) as average_tracks_per_playlist FROM playlists"
      ],
      "metadata": {
        "colab": {
          "base_uri": "https://localhost:8080/",
          "height": 96
        },
        "id": "hUJUMn1AXT1m",
        "outputId": "d064afbb-d717-4bf8-9115-a1a8903e1035"
      },
      "execution_count": null,
      "outputs": [
        {
          "output_type": "stream",
          "name": "stdout",
          "text": [
            " * sqlite:////content/drive/MyDrive/music_smaller_10000.db\n",
            "Done.\n"
          ]
        },
        {
          "output_type": "execute_result",
          "data": {
            "text/plain": [
              "[(66.1385,)]"
            ],
            "text/html": [
              "<table>\n",
              "    <thead>\n",
              "        <tr>\n",
              "            <th>average_tracks_per_playlist</th>\n",
              "        </tr>\n",
              "    </thead>\n",
              "    <tbody>\n",
              "        <tr>\n",
              "            <td>66.1385</td>\n",
              "        </tr>\n",
              "    </tbody>\n",
              "</table>"
            ]
          },
          "metadata": {},
          "execution_count": 8
        }
      ]
    },
    {
      "cell_type": "markdown",
      "source": [
        "PREGUNTA 3 BLOQUE 3\n",
        "\n",
        "j) Calcular la duración total de todas las canciones en playlists con más de 50 tracks (#9)"
      ],
      "metadata": {
        "id": "8suOyf1mYrMf"
      }
    },
    {
      "cell_type": "code",
      "source": [
        "%sql SELECT SUM(duration_ms)/60000 FROM playlists WHERE num_tracks>50"
      ],
      "metadata": {
        "colab": {
          "base_uri": "https://localhost:8080/",
          "height": 96
        },
        "id": "WXX0S90-XpQz",
        "outputId": "d9c8d97e-c924-419e-af2f-145df9742435"
      },
      "execution_count": null,
      "outputs": [
        {
          "output_type": "stream",
          "name": "stdout",
          "text": [
            " * sqlite:////content/drive/MyDrive/music_smaller_10000.db\n",
            "Done.\n"
          ]
        },
        {
          "output_type": "execute_result",
          "data": {
            "text/plain": [
              "[(1628134,)]"
            ],
            "text/html": [
              "<table>\n",
              "    <thead>\n",
              "        <tr>\n",
              "            <th>SUM(duration_ms)/60000</th>\n",
              "        </tr>\n",
              "    </thead>\n",
              "    <tbody>\n",
              "        <tr>\n",
              "            <td>1628134</td>\n",
              "        </tr>\n",
              "    </tbody>\n",
              "</table>"
            ]
          },
          "metadata": {},
          "execution_count": 10
        }
      ]
    },
    {
      "cell_type": "code",
      "source": [
        "%sql SELECT SUM(duration_ms)/(60000*60) as total_duration_playlists_with_more_than_50_tracks FROM playlists WHERE num_tracks>50"
      ],
      "metadata": {
        "colab": {
          "base_uri": "https://localhost:8080/",
          "height": 96
        },
        "id": "SYa1X4zMZPe2",
        "outputId": "ba073b8f-95e4-4495-9697-51fc76edeb3a"
      },
      "execution_count": null,
      "outputs": [
        {
          "output_type": "stream",
          "name": "stdout",
          "text": [
            " * sqlite:////content/drive/MyDrive/music_smaller_10000.db\n",
            "Done.\n"
          ]
        },
        {
          "output_type": "execute_result",
          "data": {
            "text/plain": [
              "[(27135,)]"
            ],
            "text/html": [
              "<table>\n",
              "    <thead>\n",
              "        <tr>\n",
              "            <th>total_duration_playlists_with_more_than_50_tracks</th>\n",
              "        </tr>\n",
              "    </thead>\n",
              "    <tbody>\n",
              "        <tr>\n",
              "            <td>27135</td>\n",
              "        </tr>\n",
              "    </tbody>\n",
              "</table>"
            ]
          },
          "metadata": {},
          "execution_count": 12
        }
      ]
    },
    {
      "cell_type": "code",
      "source": [
        "%sql SELECT SUM(duration_ms)/(60000*60*24*365) as total_duration_playlists_with_more_than_50_tracks FROM playlists WHERE num_tracks>50"
      ],
      "metadata": {
        "colab": {
          "base_uri": "https://localhost:8080/",
          "height": 96
        },
        "id": "TwUIHI3uZh8C",
        "outputId": "fcc75b24-c6b2-441d-9ffe-e7103ffa1193"
      },
      "execution_count": null,
      "outputs": [
        {
          "output_type": "stream",
          "name": "stdout",
          "text": [
            " * sqlite:////content/drive/MyDrive/music_smaller_10000.db\n",
            "Done.\n"
          ]
        },
        {
          "output_type": "execute_result",
          "data": {
            "text/plain": [
              "[(3,)]"
            ],
            "text/html": [
              "<table>\n",
              "    <thead>\n",
              "        <tr>\n",
              "            <th>total_duration_playlists_with_more_than_50_tracks</th>\n",
              "        </tr>\n",
              "    </thead>\n",
              "    <tbody>\n",
              "        <tr>\n",
              "            <td>3</td>\n",
              "        </tr>\n",
              "    </tbody>\n",
              "</table>"
            ]
          },
          "metadata": {},
          "execution_count": 15
        }
      ]
    },
    {
      "cell_type": "code",
      "source": [],
      "metadata": {
        "id": "aiTDUTKkbe3I"
      },
      "execution_count": null,
      "outputs": []
    }
  ]
}