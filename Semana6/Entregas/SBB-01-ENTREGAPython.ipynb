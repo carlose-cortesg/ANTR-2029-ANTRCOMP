{
 "cells": [
  {
   "cell_type": "markdown",
   "metadata": {},
   "source": [
    "## Sofía Biermann \n",
    "### Entrega Python"
   ]
  },
  {
   "cell_type": "code",
   "execution_count": 1,
   "metadata": {},
   "outputs": [],
   "source": [
    "%load_ext sql"
   ]
  },
  {
   "cell_type": "code",
   "execution_count": 2,
   "metadata": {},
   "outputs": [],
   "source": [
    "%sql sqlite:///music.db"
   ]
  },
  {
   "cell_type": "code",
   "execution_count": 8,
   "metadata": {},
   "outputs": [],
   "source": [
    "import sqlite3"
   ]
  },
  {
   "cell_type": "code",
   "execution_count": 10,
   "metadata": {},
   "outputs": [],
   "source": [
    "conn = sqlite3.connect ('music.db')"
   ]
  },
  {
   "cell_type": "code",
   "execution_count": 13,
   "metadata": {},
   "outputs": [
    {
     "name": "stdout",
     "output_type": "stream",
     "text": [
      " * sqlite:///music.db\n",
      "Done.\n"
     ]
    },
    {
     "data": {
      "text/html": [
       "<table>\n",
       "    <thead>\n",
       "        <tr>\n",
       "            <th>slice</th>\n",
       "            <th>pid</th>\n",
       "            <th>modified_at</th>\n",
       "            <th>num_tracks</th>\n",
       "            <th>num_albums</th>\n",
       "            <th>num_followers</th>\n",
       "            <th>num_edits</th>\n",
       "            <th>duration_ms</th>\n",
       "            <th>num_artists</th>\n",
       "        </tr>\n",
       "    </thead>\n",
       "    <tbody>\n",
       "        <tr>\n",
       "            <td>0-999</td>\n",
       "            <td>0</td>\n",
       "            <td>1493424000</td>\n",
       "            <td>52</td>\n",
       "            <td>47</td>\n",
       "            <td>1</td>\n",
       "            <td>6</td>\n",
       "            <td>11532414</td>\n",
       "            <td>37</td>\n",
       "        </tr>\n",
       "        <tr>\n",
       "            <td>0-999</td>\n",
       "            <td>1</td>\n",
       "            <td>1506556800</td>\n",
       "            <td>39</td>\n",
       "            <td>23</td>\n",
       "            <td>1</td>\n",
       "            <td>5</td>\n",
       "            <td>11656470</td>\n",
       "            <td>21</td>\n",
       "        </tr>\n",
       "        <tr>\n",
       "            <td>0-999</td>\n",
       "            <td>2</td>\n",
       "            <td>1505692800</td>\n",
       "            <td>64</td>\n",
       "            <td>51</td>\n",
       "            <td>1</td>\n",
       "            <td>18</td>\n",
       "            <td>14039958</td>\n",
       "            <td>31</td>\n",
       "        </tr>\n",
       "        <tr>\n",
       "            <td>0-999</td>\n",
       "            <td>3</td>\n",
       "            <td>1501027200</td>\n",
       "            <td>126</td>\n",
       "            <td>107</td>\n",
       "            <td>1</td>\n",
       "            <td>4</td>\n",
       "            <td>28926058</td>\n",
       "            <td>86</td>\n",
       "        </tr>\n",
       "        <tr>\n",
       "            <td>0-999</td>\n",
       "            <td>4</td>\n",
       "            <td>1401667200</td>\n",
       "            <td>17</td>\n",
       "            <td>16</td>\n",
       "            <td>2</td>\n",
       "            <td>7</td>\n",
       "            <td>4335282</td>\n",
       "            <td>16</td>\n",
       "        </tr>\n",
       "        <tr>\n",
       "            <td>0-999</td>\n",
       "            <td>5</td>\n",
       "            <td>1430956800</td>\n",
       "            <td>80</td>\n",
       "            <td>71</td>\n",
       "            <td>1</td>\n",
       "            <td>3</td>\n",
       "            <td>19156557</td>\n",
       "            <td>56</td>\n",
       "        </tr>\n",
       "        <tr>\n",
       "            <td>0-999</td>\n",
       "            <td>6</td>\n",
       "            <td>1477094400</td>\n",
       "            <td>16</td>\n",
       "            <td>15</td>\n",
       "            <td>1</td>\n",
       "            <td>2</td>\n",
       "            <td>3408479</td>\n",
       "            <td>13</td>\n",
       "        </tr>\n",
       "        <tr>\n",
       "            <td>0-999</td>\n",
       "            <td>7</td>\n",
       "            <td>1509321600</td>\n",
       "            <td>53</td>\n",
       "            <td>52</td>\n",
       "            <td>1</td>\n",
       "            <td>38</td>\n",
       "            <td>12674796</td>\n",
       "            <td>48</td>\n",
       "        </tr>\n",
       "        <tr>\n",
       "            <td>0-999</td>\n",
       "            <td>8</td>\n",
       "            <td>1508976000</td>\n",
       "            <td>46</td>\n",
       "            <td>37</td>\n",
       "            <td>2</td>\n",
       "            <td>21</td>\n",
       "            <td>9948921</td>\n",
       "            <td>23</td>\n",
       "        </tr>\n",
       "        <tr>\n",
       "            <td>0-999</td>\n",
       "            <td>9</td>\n",
       "            <td>1501804800</td>\n",
       "            <td>21</td>\n",
       "            <td>20</td>\n",
       "            <td>1</td>\n",
       "            <td>10</td>\n",
       "            <td>4297488</td>\n",
       "            <td>18</td>\n",
       "        </tr>\n",
       "    </tbody>\n",
       "</table>"
      ],
      "text/plain": [
       "[('0-999', 0, 1493424000, 52, 47, 1, 6, 11532414, 37),\n",
       " ('0-999', 1, 1506556800, 39, 23, 1, 5, 11656470, 21),\n",
       " ('0-999', 2, 1505692800, 64, 51, 1, 18, 14039958, 31),\n",
       " ('0-999', 3, 1501027200, 126, 107, 1, 4, 28926058, 86),\n",
       " ('0-999', 4, 1401667200, 17, 16, 2, 7, 4335282, 16),\n",
       " ('0-999', 5, 1430956800, 80, 71, 1, 3, 19156557, 56),\n",
       " ('0-999', 6, 1477094400, 16, 15, 1, 2, 3408479, 13),\n",
       " ('0-999', 7, 1509321600, 53, 52, 1, 38, 12674796, 48),\n",
       " ('0-999', 8, 1508976000, 46, 37, 2, 21, 9948921, 23),\n",
       " ('0-999', 9, 1501804800, 21, 20, 1, 10, 4297488, 18)]"
      ]
     },
     "execution_count": 13,
     "metadata": {},
     "output_type": "execute_result"
    }
   ],
   "source": [
    "%%sql\n",
    "SELECT *\n",
    "FROM playlists\n",
    "LIMIT 10\n"
   ]
  },
  {
   "cell_type": "code",
   "execution_count": 15,
   "metadata": {},
   "outputs": [
    {
     "name": "stdout",
     "output_type": "stream",
     "text": [
      " * sqlite:///music.db\n",
      "Done.\n"
     ]
    },
    {
     "data": {
      "text/html": [
       "<table>\n",
       "    <thead>\n",
       "        <tr>\n",
       "            <th>track_uri</th>\n",
       "            <th>pid</th>\n",
       "            <th>pos</th>\n",
       "            <th>artist_name</th>\n",
       "            <th>artist_uri</th>\n",
       "            <th>track_name</th>\n",
       "            <th>album_uri</th>\n",
       "            <th>duration_ms</th>\n",
       "            <th>album_name</th>\n",
       "        </tr>\n",
       "    </thead>\n",
       "    <tbody>\n",
       "        <tr>\n",
       "            <td>spotify:track:4SDywo3ykB2PEthjXvo1UP</td>\n",
       "            <td>6</td>\n",
       "            <td>0</td>\n",
       "            <td>Creedence Clearwater Revival</td>\n",
       "            <td>spotify:artist:3IYUhFvPQItj6xySrBmZkd</td>\n",
       "            <td>I Put A Spell On You</td>\n",
       "            <td>spotify:album:7oIftk0P8cViwNpNEdCYl2</td>\n",
       "            <td>271786</td>\n",
       "            <td>Creedence Clearwater Revival</td>\n",
       "        </tr>\n",
       "        <tr>\n",
       "            <td>spotify:track:229SqGbacrLSBfb9XfJczF</td>\n",
       "            <td>6</td>\n",
       "            <td>1</td>\n",
       "            <td>STRFKR</td>\n",
       "            <td>spotify:artist:2Tz1DTzVJ5Gyh8ZwVr6ekU</td>\n",
       "            <td>Bury Us Alive</td>\n",
       "            <td>spotify:album:5pfqk4oFycMVynOD8S2Cqs</td>\n",
       "            <td>190360</td>\n",
       "            <td>Reptilians</td>\n",
       "        </tr>\n",
       "        <tr>\n",
       "            <td>spotify:track:0orNm6qQT2B5WFi0l7l3PV</td>\n",
       "            <td>6</td>\n",
       "            <td>2</td>\n",
       "            <td>311</td>\n",
       "            <td>spotify:artist:41Q0HrwWBtuUkJc7C1Rp6K</td>\n",
       "            <td>Jackolantern&#x27;s Weather</td>\n",
       "            <td>spotify:album:6VIeIM5tetuv7FrYxISffU</td>\n",
       "            <td>204160</td>\n",
       "            <td>311</td>\n",
       "        </tr>\n",
       "        <tr>\n",
       "            <td>spotify:track:1hWQvA6oGVJ2mAVsZ59AaV</td>\n",
       "            <td>6</td>\n",
       "            <td>3</td>\n",
       "            <td>Nathaniel Rateliff &amp; The Night Sweats</td>\n",
       "            <td>spotify:artist:02seUFsFQP7TH4hLrTj77o</td>\n",
       "            <td>S.O.B.</td>\n",
       "            <td>spotify:album:2UCyiayMoJOwBilPLQPQvK</td>\n",
       "            <td>247612</td>\n",
       "            <td>Nathaniel Rateliff &amp; The Night Sweats</td>\n",
       "        </tr>\n",
       "        <tr>\n",
       "            <td>spotify:track:56SkdBKyR2zOkjk6wVFI9s</td>\n",
       "            <td>6</td>\n",
       "            <td>4</td>\n",
       "            <td>Toadies</td>\n",
       "            <td>spotify:artist:2QMMktUMtwMSwUZATX1cRO</td>\n",
       "            <td>Possum Kingdom</td>\n",
       "            <td>spotify:album:7tFTqVGHceSlXOaz8IylBN</td>\n",
       "            <td>309573</td>\n",
       "            <td>Rubberneck</td>\n",
       "        </tr>\n",
       "        <tr>\n",
       "            <td>spotify:track:6y20BV5L33R8YXM0YuI38N</td>\n",
       "            <td>6</td>\n",
       "            <td>5</td>\n",
       "            <td>Queens of the Stone Age</td>\n",
       "            <td>spotify:artist:4pejUc4iciQfgdX6OKulQn</td>\n",
       "            <td>No One Knows</td>\n",
       "            <td>spotify:album:4w3NeXtywU398NYW4903rY</td>\n",
       "            <td>278746</td>\n",
       "            <td>Songs For The Deaf</td>\n",
       "        </tr>\n",
       "        <tr>\n",
       "            <td>spotify:track:6xy6jNeNTYwjnKTDzMyHw2</td>\n",
       "            <td>6</td>\n",
       "            <td>6</td>\n",
       "            <td>The Cranberries</td>\n",
       "            <td>spotify:artist:7t0rwkOPGlDPEhaOcVtOt9</td>\n",
       "            <td>Zombie</td>\n",
       "            <td>spotify:album:2KsgTeLQXz7yDV1joGOd2L</td>\n",
       "            <td>306440</td>\n",
       "            <td>No Need To Argue (The Complete Sessions 1994-1995)</td>\n",
       "        </tr>\n",
       "        <tr>\n",
       "            <td>spotify:track:0rK3iUuoyQp6QReDPzwlYD</td>\n",
       "            <td>6</td>\n",
       "            <td>7</td>\n",
       "            <td>Misfits</td>\n",
       "            <td>spotify:artist:1cXi8ALPQCBHZbf0EgP4Ey</td>\n",
       "            <td>Monster Mash</td>\n",
       "            <td>spotify:album:6MzZSl19bVR3xWwFCOZyhg</td>\n",
       "            <td>157000</td>\n",
       "            <td>Project 1950</td>\n",
       "        </tr>\n",
       "        <tr>\n",
       "            <td>spotify:track:2k5lMt43DRIoEZPuswnULH</td>\n",
       "            <td>6</td>\n",
       "            <td>8</td>\n",
       "            <td>Misfits</td>\n",
       "            <td>spotify:artist:1cXi8ALPQCBHZbf0EgP4Ey</td>\n",
       "            <td>Ghouls Night Out - Live</td>\n",
       "            <td>spotify:album:4CWxS5ASY9eRE2zXP8BTRd</td>\n",
       "            <td>102539</td>\n",
       "            <td>Evilive</td>\n",
       "        </tr>\n",
       "        <tr>\n",
       "            <td>spotify:track:3gN4UFoOnRHlMl3K4kU5zG</td>\n",
       "            <td>6</td>\n",
       "            <td>9</td>\n",
       "            <td>Misfits</td>\n",
       "            <td>spotify:artist:1cXi8ALPQCBHZbf0EgP4Ey</td>\n",
       "            <td>Hybrid Moments</td>\n",
       "            <td>spotify:album:51tAz06EJxwhsk8uNfWxBo</td>\n",
       "            <td>102266</td>\n",
       "            <td>Static Age</td>\n",
       "        </tr>\n",
       "    </tbody>\n",
       "</table>"
      ],
      "text/plain": [
       "[('spotify:track:4SDywo3ykB2PEthjXvo1UP', 6, 0, 'Creedence Clearwater Revival', 'spotify:artist:3IYUhFvPQItj6xySrBmZkd', 'I Put A Spell On You', 'spotify:album:7oIftk0P8cViwNpNEdCYl2', 271786, 'Creedence Clearwater Revival'),\n",
       " ('spotify:track:229SqGbacrLSBfb9XfJczF', 6, 1, 'STRFKR', 'spotify:artist:2Tz1DTzVJ5Gyh8ZwVr6ekU', 'Bury Us Alive', 'spotify:album:5pfqk4oFycMVynOD8S2Cqs', 190360, 'Reptilians'),\n",
       " ('spotify:track:0orNm6qQT2B5WFi0l7l3PV', 6, 2, '311', 'spotify:artist:41Q0HrwWBtuUkJc7C1Rp6K', \"Jackolantern's Weather\", 'spotify:album:6VIeIM5tetuv7FrYxISffU', 204160, '311'),\n",
       " ('spotify:track:1hWQvA6oGVJ2mAVsZ59AaV', 6, 3, 'Nathaniel Rateliff & The Night Sweats', 'spotify:artist:02seUFsFQP7TH4hLrTj77o', 'S.O.B.', 'spotify:album:2UCyiayMoJOwBilPLQPQvK', 247612, 'Nathaniel Rateliff & The Night Sweats'),\n",
       " ('spotify:track:56SkdBKyR2zOkjk6wVFI9s', 6, 4, 'Toadies', 'spotify:artist:2QMMktUMtwMSwUZATX1cRO', 'Possum Kingdom', 'spotify:album:7tFTqVGHceSlXOaz8IylBN', 309573, 'Rubberneck'),\n",
       " ('spotify:track:6y20BV5L33R8YXM0YuI38N', 6, 5, 'Queens of the Stone Age', 'spotify:artist:4pejUc4iciQfgdX6OKulQn', 'No One Knows', 'spotify:album:4w3NeXtywU398NYW4903rY', 278746, 'Songs For The Deaf'),\n",
       " ('spotify:track:6xy6jNeNTYwjnKTDzMyHw2', 6, 6, 'The Cranberries', 'spotify:artist:7t0rwkOPGlDPEhaOcVtOt9', 'Zombie', 'spotify:album:2KsgTeLQXz7yDV1joGOd2L', 306440, 'No Need To Argue (The Complete Sessions 1994-1995)'),\n",
       " ('spotify:track:0rK3iUuoyQp6QReDPzwlYD', 6, 7, 'Misfits', 'spotify:artist:1cXi8ALPQCBHZbf0EgP4Ey', 'Monster Mash', 'spotify:album:6MzZSl19bVR3xWwFCOZyhg', 157000, 'Project 1950'),\n",
       " ('spotify:track:2k5lMt43DRIoEZPuswnULH', 6, 8, 'Misfits', 'spotify:artist:1cXi8ALPQCBHZbf0EgP4Ey', 'Ghouls Night Out - Live', 'spotify:album:4CWxS5ASY9eRE2zXP8BTRd', 102539, 'Evilive'),\n",
       " ('spotify:track:3gN4UFoOnRHlMl3K4kU5zG', 6, 9, 'Misfits', 'spotify:artist:1cXi8ALPQCBHZbf0EgP4Ey', 'Hybrid Moments', 'spotify:album:51tAz06EJxwhsk8uNfWxBo', 102266, 'Static Age')]"
      ]
     },
     "execution_count": 15,
     "metadata": {},
     "output_type": "execute_result"
    }
   ],
   "source": [
    "%%sql\n",
    "SELECT *\n",
    "FROM song\n",
    "LIMIT 10"
   ]
  },
  {
   "cell_type": "markdown",
   "metadata": {},
   "source": [
    "## Bloque 1 pregunta 1: \n",
    "Top 20 de playlists mas recientes"
   ]
  },
  {
   "cell_type": "code",
   "execution_count": 17,
   "metadata": {},
   "outputs": [
    {
     "name": "stdout",
     "output_type": "stream",
     "text": [
      " * sqlite:///music.db\n",
      "Done.\n"
     ]
    },
    {
     "data": {
      "text/html": [
       "<table>\n",
       "    <thead>\n",
       "        <tr>\n",
       "            <th>slice</th>\n",
       "            <th>pid</th>\n",
       "            <th>modified_at</th>\n",
       "            <th>num_tracks</th>\n",
       "            <th>num_albums</th>\n",
       "            <th>num_followers</th>\n",
       "            <th>num_edits</th>\n",
       "            <th>duration_ms</th>\n",
       "            <th>num_artists</th>\n",
       "        </tr>\n",
       "    </thead>\n",
       "    <tbody>\n",
       "        <tr>\n",
       "            <td>0-999</td>\n",
       "            <td>20</td>\n",
       "            <td>1509494400</td>\n",
       "            <td>14</td>\n",
       "            <td>9</td>\n",
       "            <td>3</td>\n",
       "            <td>11</td>\n",
       "            <td>2165531</td>\n",
       "            <td>6</td>\n",
       "        </tr>\n",
       "        <tr>\n",
       "            <td>0-999</td>\n",
       "            <td>324</td>\n",
       "            <td>1509494400</td>\n",
       "            <td>74</td>\n",
       "            <td>63</td>\n",
       "            <td>3</td>\n",
       "            <td>21</td>\n",
       "            <td>22279115</td>\n",
       "            <td>40</td>\n",
       "        </tr>\n",
       "        <tr>\n",
       "            <td>0-999</td>\n",
       "            <td>350</td>\n",
       "            <td>1509494400</td>\n",
       "            <td>83</td>\n",
       "            <td>70</td>\n",
       "            <td>1</td>\n",
       "            <td>5</td>\n",
       "            <td>19787271</td>\n",
       "            <td>40</td>\n",
       "        </tr>\n",
       "        <tr>\n",
       "            <td>0-999</td>\n",
       "            <td>984</td>\n",
       "            <td>1509494400</td>\n",
       "            <td>203</td>\n",
       "            <td>150</td>\n",
       "            <td>1</td>\n",
       "            <td>50</td>\n",
       "            <td>48616835</td>\n",
       "            <td>78</td>\n",
       "        </tr>\n",
       "        <tr>\n",
       "            <td>2000-2999</td>\n",
       "            <td>2150</td>\n",
       "            <td>1509494400</td>\n",
       "            <td>104</td>\n",
       "            <td>93</td>\n",
       "            <td>1</td>\n",
       "            <td>65</td>\n",
       "            <td>23038338</td>\n",
       "            <td>68</td>\n",
       "        </tr>\n",
       "        <tr>\n",
       "            <td>2000-2999</td>\n",
       "            <td>2318</td>\n",
       "            <td>1509494400</td>\n",
       "            <td>236</td>\n",
       "            <td>159</td>\n",
       "            <td>1</td>\n",
       "            <td>29</td>\n",
       "            <td>54021904</td>\n",
       "            <td>115</td>\n",
       "        </tr>\n",
       "        <tr>\n",
       "            <td>2000-2999</td>\n",
       "            <td>2327</td>\n",
       "            <td>1509494400</td>\n",
       "            <td>142</td>\n",
       "            <td>92</td>\n",
       "            <td>1</td>\n",
       "            <td>29</td>\n",
       "            <td>31584411</td>\n",
       "            <td>69</td>\n",
       "        </tr>\n",
       "        <tr>\n",
       "            <td>2000-2999</td>\n",
       "            <td>2339</td>\n",
       "            <td>1509494400</td>\n",
       "            <td>183</td>\n",
       "            <td>142</td>\n",
       "            <td>1</td>\n",
       "            <td>110</td>\n",
       "            <td>51666285</td>\n",
       "            <td>111</td>\n",
       "        </tr>\n",
       "        <tr>\n",
       "            <td>2000-2999</td>\n",
       "            <td>2558</td>\n",
       "            <td>1509494400</td>\n",
       "            <td>67</td>\n",
       "            <td>59</td>\n",
       "            <td>1</td>\n",
       "            <td>40</td>\n",
       "            <td>16308964</td>\n",
       "            <td>54</td>\n",
       "        </tr>\n",
       "        <tr>\n",
       "            <td>2000-2999</td>\n",
       "            <td>2573</td>\n",
       "            <td>1509494400</td>\n",
       "            <td>37</td>\n",
       "            <td>25</td>\n",
       "            <td>1</td>\n",
       "            <td>12</td>\n",
       "            <td>8589783</td>\n",
       "            <td>15</td>\n",
       "        </tr>\n",
       "        <tr>\n",
       "            <td>2000-2999</td>\n",
       "            <td>2810</td>\n",
       "            <td>1509494400</td>\n",
       "            <td>40</td>\n",
       "            <td>34</td>\n",
       "            <td>1</td>\n",
       "            <td>26</td>\n",
       "            <td>8843240</td>\n",
       "            <td>27</td>\n",
       "        </tr>\n",
       "        <tr>\n",
       "            <td>3000-3999</td>\n",
       "            <td>3248</td>\n",
       "            <td>1509494400</td>\n",
       "            <td>141</td>\n",
       "            <td>92</td>\n",
       "            <td>1</td>\n",
       "            <td>73</td>\n",
       "            <td>30644891</td>\n",
       "            <td>47</td>\n",
       "        </tr>\n",
       "        <tr>\n",
       "            <td>3000-3999</td>\n",
       "            <td>3416</td>\n",
       "            <td>1509494400</td>\n",
       "            <td>31</td>\n",
       "            <td>31</td>\n",
       "            <td>1</td>\n",
       "            <td>9</td>\n",
       "            <td>7363056</td>\n",
       "            <td>29</td>\n",
       "        </tr>\n",
       "        <tr>\n",
       "            <td>3000-3999</td>\n",
       "            <td>3928</td>\n",
       "            <td>1509494400</td>\n",
       "            <td>40</td>\n",
       "            <td>36</td>\n",
       "            <td>1</td>\n",
       "            <td>17</td>\n",
       "            <td>9071291</td>\n",
       "            <td>31</td>\n",
       "        </tr>\n",
       "        <tr>\n",
       "            <td>6000-6999</td>\n",
       "            <td>6249</td>\n",
       "            <td>1509494400</td>\n",
       "            <td>73</td>\n",
       "            <td>54</td>\n",
       "            <td>1</td>\n",
       "            <td>17</td>\n",
       "            <td>15443194</td>\n",
       "            <td>45</td>\n",
       "        </tr>\n",
       "        <tr>\n",
       "            <td>6000-6999</td>\n",
       "            <td>6625</td>\n",
       "            <td>1509494400</td>\n",
       "            <td>24</td>\n",
       "            <td>20</td>\n",
       "            <td>1</td>\n",
       "            <td>14</td>\n",
       "            <td>5303944</td>\n",
       "            <td>18</td>\n",
       "        </tr>\n",
       "        <tr>\n",
       "            <td>7000-7999</td>\n",
       "            <td>7025</td>\n",
       "            <td>1509494400</td>\n",
       "            <td>111</td>\n",
       "            <td>31</td>\n",
       "            <td>1</td>\n",
       "            <td>16</td>\n",
       "            <td>19375137</td>\n",
       "            <td>21</td>\n",
       "        </tr>\n",
       "        <tr>\n",
       "            <td>7000-7999</td>\n",
       "            <td>7487</td>\n",
       "            <td>1509494400</td>\n",
       "            <td>168</td>\n",
       "            <td>136</td>\n",
       "            <td>1</td>\n",
       "            <td>54</td>\n",
       "            <td>36263538</td>\n",
       "            <td>109</td>\n",
       "        </tr>\n",
       "        <tr>\n",
       "            <td>7000-7999</td>\n",
       "            <td>7493</td>\n",
       "            <td>1509494400</td>\n",
       "            <td>78</td>\n",
       "            <td>49</td>\n",
       "            <td>3</td>\n",
       "            <td>39</td>\n",
       "            <td>17624408</td>\n",
       "            <td>34</td>\n",
       "        </tr>\n",
       "        <tr>\n",
       "            <td>8000-8999</td>\n",
       "            <td>8193</td>\n",
       "            <td>1509494400</td>\n",
       "            <td>106</td>\n",
       "            <td>89</td>\n",
       "            <td>1</td>\n",
       "            <td>80</td>\n",
       "            <td>25185678</td>\n",
       "            <td>68</td>\n",
       "        </tr>\n",
       "    </tbody>\n",
       "</table>"
      ],
      "text/plain": [
       "[('0-999', 20, 1509494400, 14, 9, 3, 11, 2165531, 6),\n",
       " ('0-999', 324, 1509494400, 74, 63, 3, 21, 22279115, 40),\n",
       " ('0-999', 350, 1509494400, 83, 70, 1, 5, 19787271, 40),\n",
       " ('0-999', 984, 1509494400, 203, 150, 1, 50, 48616835, 78),\n",
       " ('2000-2999', 2150, 1509494400, 104, 93, 1, 65, 23038338, 68),\n",
       " ('2000-2999', 2318, 1509494400, 236, 159, 1, 29, 54021904, 115),\n",
       " ('2000-2999', 2327, 1509494400, 142, 92, 1, 29, 31584411, 69),\n",
       " ('2000-2999', 2339, 1509494400, 183, 142, 1, 110, 51666285, 111),\n",
       " ('2000-2999', 2558, 1509494400, 67, 59, 1, 40, 16308964, 54),\n",
       " ('2000-2999', 2573, 1509494400, 37, 25, 1, 12, 8589783, 15),\n",
       " ('2000-2999', 2810, 1509494400, 40, 34, 1, 26, 8843240, 27),\n",
       " ('3000-3999', 3248, 1509494400, 141, 92, 1, 73, 30644891, 47),\n",
       " ('3000-3999', 3416, 1509494400, 31, 31, 1, 9, 7363056, 29),\n",
       " ('3000-3999', 3928, 1509494400, 40, 36, 1, 17, 9071291, 31),\n",
       " ('6000-6999', 6249, 1509494400, 73, 54, 1, 17, 15443194, 45),\n",
       " ('6000-6999', 6625, 1509494400, 24, 20, 1, 14, 5303944, 18),\n",
       " ('7000-7999', 7025, 1509494400, 111, 31, 1, 16, 19375137, 21),\n",
       " ('7000-7999', 7487, 1509494400, 168, 136, 1, 54, 36263538, 109),\n",
       " ('7000-7999', 7493, 1509494400, 78, 49, 3, 39, 17624408, 34),\n",
       " ('8000-8999', 8193, 1509494400, 106, 89, 1, 80, 25185678, 68)]"
      ]
     },
     "execution_count": 17,
     "metadata": {},
     "output_type": "execute_result"
    }
   ],
   "source": [
    "%%sql\n",
    "SELECT *\n",
    "FROM playlists\n",
    "ORDER BY modified_at DESC\n",
    "LIMIT 20"
   ]
  },
  {
   "cell_type": "markdown",
   "metadata": {},
   "source": [
    "## Bloque 1 pregunta 2:\n",
    "Contar el numero total de playlists"
   ]
  },
  {
   "cell_type": "code",
   "execution_count": 18,
   "metadata": {},
   "outputs": [
    {
     "name": "stdout",
     "output_type": "stream",
     "text": [
      " * sqlite:///music.db\n",
      "Done.\n"
     ]
    },
    {
     "data": {
      "text/html": [
       "<table>\n",
       "    <thead>\n",
       "        <tr>\n",
       "            <th>total_playlists</th>\n",
       "        </tr>\n",
       "    </thead>\n",
       "    <tbody>\n",
       "        <tr>\n",
       "            <td>8000</td>\n",
       "        </tr>\n",
       "    </tbody>\n",
       "</table>"
      ],
      "text/plain": [
       "[(8000,)]"
      ]
     },
     "execution_count": 18,
     "metadata": {},
     "output_type": "execute_result"
    }
   ],
   "source": [
    "%%sql\n",
    "SELECT \n",
    "COUNT (*) AS total_playlists\n",
    "FROM playlists\n"
   ]
  },
  {
   "cell_type": "markdown",
   "metadata": {},
   "source": [
    "## Bloque 1 pregunta 11:\n",
    "Contar cuantas listas existen por número de canciones"
   ]
  },
  {
   "cell_type": "code",
   "execution_count": 44,
   "metadata": {},
   "outputs": [
    {
     "name": "stdout",
     "output_type": "stream",
     "text": [
      " * sqlite:///music.db\n",
      "Done.\n"
     ]
    },
    {
     "data": {
      "text/html": [
       "<table>\n",
       "    <thead>\n",
       "        <tr>\n",
       "            <th>slice</th>\n",
       "            <th>pid</th>\n",
       "            <th>modified_at</th>\n",
       "            <th>num_tracks</th>\n",
       "            <th>num_albums</th>\n",
       "            <th>num_followers</th>\n",
       "            <th>num_edits</th>\n",
       "            <th>duration_ms</th>\n",
       "            <th>num_artists</th>\n",
       "        </tr>\n",
       "    </thead>\n",
       "    <tbody>\n",
       "        <tr>\n",
       "            <td>7000-7999</td>\n",
       "            <td>7063</td>\n",
       "            <td>1489017600</td>\n",
       "            <td>250</td>\n",
       "            <td>140</td>\n",
       "            <td>1</td>\n",
       "            <td>13</td>\n",
       "            <td>56260788</td>\n",
       "            <td>63</td>\n",
       "        </tr>\n",
       "    </tbody>\n",
       "</table>"
      ],
      "text/plain": [
       "[('7000-7999', 7063, 1489017600, 250, 140, 1, 13, 56260788, 63)]"
      ]
     },
     "execution_count": 44,
     "metadata": {},
     "output_type": "execute_result"
    }
   ],
   "source": [
    "##Primero busco cual es la cantidad maxima de tracks en una plylist para sbaer los límites del CASE\n",
    "%%sql\n",
    "SELECT *\n",
    "FROM playlists\n",
    "ORDER BY num_tracks DESC\n",
    "LIMIT 1\n"
   ]
  },
  {
   "cell_type": "code",
   "execution_count": 30,
   "metadata": {},
   "outputs": [
    {
     "name": "stdout",
     "output_type": "stream",
     "text": [
      " * sqlite:///music.db\n",
      "Done.\n"
     ]
    },
    {
     "data": {
      "text/html": [
       "<table>\n",
       "    <thead>\n",
       "        <tr>\n",
       "            <th>numcanciones</th>\n",
       "            <th>COUNT (*)</th>\n",
       "        </tr>\n",
       "    </thead>\n",
       "    <tbody>\n",
       "        <tr>\n",
       "            <td>Alta</td>\n",
       "            <td>277</td>\n",
       "        </tr>\n",
       "        <tr>\n",
       "            <td>Baja</td>\n",
       "            <td>4037</td>\n",
       "        </tr>\n",
       "        <tr>\n",
       "            <td>Media</td>\n",
       "            <td>3686</td>\n",
       "        </tr>\n",
       "    </tbody>\n",
       "</table>"
      ],
      "text/plain": [
       "[('Alta', 277), ('Baja', 4037), ('Media', 3686)]"
      ]
     },
     "execution_count": 30,
     "metadata": {},
     "output_type": "execute_result"
    }
   ],
   "source": [
    "%%sql\n",
    "SELECT \n",
    "CASE\n",
    "WHEN num_tracks < 50 THEN 'Baja'\n",
    "WHEN num_tracks >= 50 AND num_tracks <= 200 THEN 'Media'\n",
    "ELSE 'Alta'\n",
    "END AS numcanciones,\n",
    "COUNT (*)\n",
    "FROM playlists\n",
    "GROUP BY numcanciones\n",
    "\n",
    "\n"
   ]
  },
  {
   "cell_type": "markdown",
   "metadata": {},
   "source": [
    "## Bloque 2 pregunta 3:\n",
    "Encontrar la cantidad máxima de tracks en todas las playlists\n"
   ]
  },
  {
   "cell_type": "code",
   "execution_count": 40,
   "metadata": {},
   "outputs": [
    {
     "name": "stdout",
     "output_type": "stream",
     "text": [
      " * sqlite:///music.db\n",
      "Done.\n"
     ]
    },
    {
     "data": {
      "text/html": [
       "<table>\n",
       "    <thead>\n",
       "        <tr>\n",
       "            <th>max_tracks</th>\n",
       "        </tr>\n",
       "    </thead>\n",
       "    <tbody>\n",
       "        <tr>\n",
       "            <td>250</td>\n",
       "        </tr>\n",
       "    </tbody>\n",
       "</table>"
      ],
      "text/plain": [
       "[(250,)]"
      ]
     },
     "execution_count": 40,
     "metadata": {},
     "output_type": "execute_result"
    }
   ],
   "source": [
    "%%sql\n",
    "SELECT MAX (num_tracks) AS max_tracks\n",
    "FROM playlists\n",
    "\n"
   ]
  },
  {
   "cell_type": "markdown",
   "metadata": {},
   "source": [
    "## Bloque 2 pregunta 4:\n",
    "Contar la cantidad total de playlists que contienen más de 10 canciones"
   ]
  },
  {
   "cell_type": "code",
   "execution_count": 47,
   "metadata": {},
   "outputs": [
    {
     "name": "stdout",
     "output_type": "stream",
     "text": [
      " * sqlite:///music.db\n",
      "Done.\n"
     ]
    },
    {
     "data": {
      "text/html": [
       "<table>\n",
       "    <thead>\n",
       "        <tr>\n",
       "            <th>playlists_masdiez</th>\n",
       "        </tr>\n",
       "    </thead>\n",
       "    <tbody>\n",
       "        <tr>\n",
       "            <td>7658</td>\n",
       "        </tr>\n",
       "    </tbody>\n",
       "</table>"
      ],
      "text/plain": [
       "[(7658,)]"
      ]
     },
     "execution_count": 47,
     "metadata": {},
     "output_type": "execute_result"
    }
   ],
   "source": [
    "%%sql\n",
    "SELECT \n",
    "COUNT (*) AS playlists_masdiez\n",
    "FROM playlists\n",
    "WHERE num_tracks >10\n",
    "\n"
   ]
  },
  {
   "cell_type": "markdown",
   "metadata": {},
   "source": [
    "## Bloque 2 pregunta 6:\n",
    "Calcular la suma total de duraciones de todas las canciones de un artista específico"
   ]
  },
  {
   "cell_type": "code",
   "execution_count": 50,
   "metadata": {},
   "outputs": [
    {
     "name": "stdout",
     "output_type": "stream",
     "text": [
      " * sqlite:///music.db\n",
      "Done.\n"
     ]
    },
    {
     "data": {
      "text/html": [
       "<table>\n",
       "    <thead>\n",
       "        <tr>\n",
       "            <th>duración_total</th>\n",
       "        </tr>\n",
       "    </thead>\n",
       "    <tbody>\n",
       "        <tr>\n",
       "            <td>4199647</td>\n",
       "        </tr>\n",
       "    </tbody>\n",
       "</table>"
      ],
      "text/plain": [
       "[(4199647,)]"
      ]
     },
     "execution_count": 50,
     "metadata": {},
     "output_type": "execute_result"
    }
   ],
   "source": [
    "%%sql\n",
    "SELECT SUM (duration_ms) AS duración_total\n",
    "FROM song \n",
    "WHERE artist_name = 'Misfits'\n"
   ]
  },
  {
   "cell_type": "markdown",
   "metadata": {},
   "source": [
    "## Bloque 2 pregunta 7:\n",
    "Contar la cantidad de playlists que contienen canciones de más de un álbum "
   ]
  },
  {
   "cell_type": "code",
   "execution_count": 54,
   "metadata": {},
   "outputs": [
    {
     "name": "stdout",
     "output_type": "stream",
     "text": [
      " * sqlite:///music.db\n",
      "Done.\n"
     ]
    },
    {
     "data": {
      "text/html": [
       "<table>\n",
       "    <thead>\n",
       "        <tr>\n",
       "            <th>playlist_masdeunalbum</th>\n",
       "        </tr>\n",
       "    </thead>\n",
       "    <tbody>\n",
       "        <tr>\n",
       "            <td>8000</td>\n",
       "        </tr>\n",
       "    </tbody>\n",
       "</table>"
      ],
      "text/plain": [
       "[(8000,)]"
      ]
     },
     "execution_count": 54,
     "metadata": {},
     "output_type": "execute_result"
    }
   ],
   "source": [
    "%%sql\n",
    "SELECT COUNT (*) AS playlist_masdeunalbum\n",
    "FROM playlists\n",
    "HAVING num_albums >1"
   ]
  },
  {
   "cell_type": "markdown",
   "metadata": {},
   "source": [
    "## Boque 3 pregunta 1:\n",
    "Calcular la duración total y promedio de todas las canciones en una playlist específica"
   ]
  },
  {
   "cell_type": "code",
   "execution_count": 56,
   "metadata": {},
   "outputs": [
    {
     "name": "stdout",
     "output_type": "stream",
     "text": [
      " * sqlite:///music.db\n"
     ]
    },
    {
     "name": "stdout",
     "output_type": "stream",
     "text": [
      "Done.\n"
     ]
    },
    {
     "data": {
      "text/html": [
       "<table>\n",
       "    <thead>\n",
       "        <tr>\n",
       "            <th>duración_total</th>\n",
       "            <th>promedio</th>\n",
       "        </tr>\n",
       "    </thead>\n",
       "    <tbody>\n",
       "        <tr>\n",
       "            <td>11656470</td>\n",
       "            <td>298883.8461538461</td>\n",
       "        </tr>\n",
       "    </tbody>\n",
       "</table>"
      ],
      "text/plain": [
       "[(11656470, 298883.8461538461)]"
      ]
     },
     "execution_count": 56,
     "metadata": {},
     "output_type": "execute_result"
    }
   ],
   "source": [
    "%%sql\n",
    "SELECT SUM (duration_ms) AS duración_total,\n",
    "AVG (duration_ms) AS promedio\n",
    "FROM song\n",
    "WHERE pid = 1\n"
   ]
  },
  {
   "cell_type": "markdown",
   "metadata": {},
   "source": [
    "## Bloque 3 pregunta 5: \n",
    "Obtener el promedio de canciones por playlist"
   ]
  },
  {
   "cell_type": "code",
   "execution_count": 59,
   "metadata": {},
   "outputs": [
    {
     "name": "stdout",
     "output_type": "stream",
     "text": [
      " * sqlite:///music.db\n",
      "Done.\n"
     ]
    },
    {
     "data": {
      "text/html": [
       "<table>\n",
       "    <thead>\n",
       "        <tr>\n",
       "            <th>promedio_canciones</th>\n",
       "        </tr>\n",
       "    </thead>\n",
       "    <tbody>\n",
       "        <tr>\n",
       "            <td>66.1385</td>\n",
       "        </tr>\n",
       "    </tbody>\n",
       "</table>"
      ],
      "text/plain": [
       "[(66.1385,)]"
      ]
     },
     "execution_count": 59,
     "metadata": {},
     "output_type": "execute_result"
    }
   ],
   "source": [
    "%%sql\n",
    "SELECT AVG (num_tracks) AS promedio_canciones\n",
    "FROM playlists"
   ]
  },
  {
   "cell_type": "markdown",
   "metadata": {},
   "source": [
    "## Bloque 3 pregunta 9:\n",
    "Calcular la duración total de todas las canciones en playlists con más de 50 tracks"
   ]
  },
  {
   "cell_type": "code",
   "execution_count": 63,
   "metadata": {},
   "outputs": [
    {
     "name": "stdout",
     "output_type": "stream",
     "text": [
      " * sqlite:///music.db\n",
      "Done.\n"
     ]
    },
    {
     "data": {
      "text/html": [
       "<table>\n",
       "    <thead>\n",
       "        <tr>\n",
       "            <th>duracion_total</th>\n",
       "        </tr>\n",
       "    </thead>\n",
       "    <tbody>\n",
       "        <tr>\n",
       "            <td>123999603342</td>\n",
       "        </tr>\n",
       "    </tbody>\n",
       "</table>"
      ],
      "text/plain": [
       "[(123999603342,)]"
      ]
     },
     "execution_count": 63,
     "metadata": {},
     "output_type": "execute_result"
    }
   ],
   "source": [
    "%%sql \n",
    "SELECT SUM (duration_ms) AS duracion_total\n",
    "FROM playlists\n",
    "HAVING num_tracks > 50\n",
    "\n"
   ]
  },
  {
   "cell_type": "code",
   "execution_count": null,
   "metadata": {},
   "outputs": [],
   "source": []
  }
 ],
 "metadata": {
  "kernelspec": {
   "display_name": "Python 3",
   "language": "python",
   "name": "python3"
  },
  "language_info": {
   "codemirror_mode": {
    "name": "ipython",
    "version": 3
   },
   "file_extension": ".py",
   "mimetype": "text/x-python",
   "name": "python",
   "nbconvert_exporter": "python",
   "pygments_lexer": "ipython3",
   "version": "3.12.3"
  }
 },
 "nbformat": 4,
 "nbformat_minor": 2
}
