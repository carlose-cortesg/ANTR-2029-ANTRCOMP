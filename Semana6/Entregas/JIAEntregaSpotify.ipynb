{
 "cells": [
  {
   "cell_type": "code",
   "execution_count": 107,
   "metadata": {},
   "outputs": [
    {
     "name": "stdout",
     "output_type": "stream",
     "text": [
      "The sql extension is already loaded. To reload it, use:\n",
      "  %reload_ext sql\n"
     ]
    }
   ],
   "source": [
    "%load_ext sql"
   ]
  },
  {
   "cell_type": "code",
   "execution_count": 108,
   "metadata": {},
   "outputs": [],
   "source": [
    "%sql sqlite:///music_small.db"
   ]
  },
  {
   "cell_type": "code",
   "execution_count": 176,
   "metadata": {},
   "outputs": [
    {
     "name": "stdout",
     "output_type": "stream",
     "text": [
      " * sqlite:///music_small.db\n",
      "Done.\n"
     ]
    },
    {
     "data": {
      "text/html": [
       "<table>\n",
       "    <thead>\n",
       "        <tr>\n",
       "            <th>track_uri</th>\n",
       "            <th>pid</th>\n",
       "            <th>pos</th>\n",
       "            <th>artist_name</th>\n",
       "            <th>artist_uri</th>\n",
       "            <th>track_name</th>\n",
       "            <th>album_uri</th>\n",
       "            <th>duration_ms</th>\n",
       "            <th>album_name</th>\n",
       "        </tr>\n",
       "    </thead>\n",
       "    <tbody>\n",
       "        <tr>\n",
       "            <td>spotify:track:4SDywo3ykB2PEthjXvo1UP</td>\n",
       "            <td>6</td>\n",
       "            <td>0</td>\n",
       "            <td>Creedence Clearwater Revival</td>\n",
       "            <td>spotify:artist:3IYUhFvPQItj6xySrBmZkd</td>\n",
       "            <td>I Put A Spell On You</td>\n",
       "            <td>spotify:album:7oIftk0P8cViwNpNEdCYl2</td>\n",
       "            <td>271786</td>\n",
       "            <td>Creedence Clearwater Revival</td>\n",
       "        </tr>\n",
       "        <tr>\n",
       "            <td>spotify:track:229SqGbacrLSBfb9XfJczF</td>\n",
       "            <td>6</td>\n",
       "            <td>1</td>\n",
       "            <td>STRFKR</td>\n",
       "            <td>spotify:artist:2Tz1DTzVJ5Gyh8ZwVr6ekU</td>\n",
       "            <td>Bury Us Alive</td>\n",
       "            <td>spotify:album:5pfqk4oFycMVynOD8S2Cqs</td>\n",
       "            <td>190360</td>\n",
       "            <td>Reptilians</td>\n",
       "        </tr>\n",
       "        <tr>\n",
       "            <td>spotify:track:0orNm6qQT2B5WFi0l7l3PV</td>\n",
       "            <td>6</td>\n",
       "            <td>2</td>\n",
       "            <td>311</td>\n",
       "            <td>spotify:artist:41Q0HrwWBtuUkJc7C1Rp6K</td>\n",
       "            <td>Jackolantern&#x27;s Weather</td>\n",
       "            <td>spotify:album:6VIeIM5tetuv7FrYxISffU</td>\n",
       "            <td>204160</td>\n",
       "            <td>311</td>\n",
       "        </tr>\n",
       "        <tr>\n",
       "            <td>spotify:track:1hWQvA6oGVJ2mAVsZ59AaV</td>\n",
       "            <td>6</td>\n",
       "            <td>3</td>\n",
       "            <td>Nathaniel Rateliff &amp; The Night Sweats</td>\n",
       "            <td>spotify:artist:02seUFsFQP7TH4hLrTj77o</td>\n",
       "            <td>S.O.B.</td>\n",
       "            <td>spotify:album:2UCyiayMoJOwBilPLQPQvK</td>\n",
       "            <td>247612</td>\n",
       "            <td>Nathaniel Rateliff &amp; The Night Sweats</td>\n",
       "        </tr>\n",
       "        <tr>\n",
       "            <td>spotify:track:56SkdBKyR2zOkjk6wVFI9s</td>\n",
       "            <td>6</td>\n",
       "            <td>4</td>\n",
       "            <td>Toadies</td>\n",
       "            <td>spotify:artist:2QMMktUMtwMSwUZATX1cRO</td>\n",
       "            <td>Possum Kingdom</td>\n",
       "            <td>spotify:album:7tFTqVGHceSlXOaz8IylBN</td>\n",
       "            <td>309573</td>\n",
       "            <td>Rubberneck</td>\n",
       "        </tr>\n",
       "        <tr>\n",
       "            <td>spotify:track:6y20BV5L33R8YXM0YuI38N</td>\n",
       "            <td>6</td>\n",
       "            <td>5</td>\n",
       "            <td>Queens of the Stone Age</td>\n",
       "            <td>spotify:artist:4pejUc4iciQfgdX6OKulQn</td>\n",
       "            <td>No One Knows</td>\n",
       "            <td>spotify:album:4w3NeXtywU398NYW4903rY</td>\n",
       "            <td>278746</td>\n",
       "            <td>Songs For The Deaf</td>\n",
       "        </tr>\n",
       "        <tr>\n",
       "            <td>spotify:track:6xy6jNeNTYwjnKTDzMyHw2</td>\n",
       "            <td>6</td>\n",
       "            <td>6</td>\n",
       "            <td>The Cranberries</td>\n",
       "            <td>spotify:artist:7t0rwkOPGlDPEhaOcVtOt9</td>\n",
       "            <td>Zombie</td>\n",
       "            <td>spotify:album:2KsgTeLQXz7yDV1joGOd2L</td>\n",
       "            <td>306440</td>\n",
       "            <td>No Need To Argue (The Complete Sessions 1994-1995)</td>\n",
       "        </tr>\n",
       "        <tr>\n",
       "            <td>spotify:track:0rK3iUuoyQp6QReDPzwlYD</td>\n",
       "            <td>6</td>\n",
       "            <td>7</td>\n",
       "            <td>Misfits</td>\n",
       "            <td>spotify:artist:1cXi8ALPQCBHZbf0EgP4Ey</td>\n",
       "            <td>Monster Mash</td>\n",
       "            <td>spotify:album:6MzZSl19bVR3xWwFCOZyhg</td>\n",
       "            <td>157000</td>\n",
       "            <td>Project 1950</td>\n",
       "        </tr>\n",
       "        <tr>\n",
       "            <td>spotify:track:2k5lMt43DRIoEZPuswnULH</td>\n",
       "            <td>6</td>\n",
       "            <td>8</td>\n",
       "            <td>Misfits</td>\n",
       "            <td>spotify:artist:1cXi8ALPQCBHZbf0EgP4Ey</td>\n",
       "            <td>Ghouls Night Out - Live</td>\n",
       "            <td>spotify:album:4CWxS5ASY9eRE2zXP8BTRd</td>\n",
       "            <td>102539</td>\n",
       "            <td>Evilive</td>\n",
       "        </tr>\n",
       "        <tr>\n",
       "            <td>spotify:track:3gN4UFoOnRHlMl3K4kU5zG</td>\n",
       "            <td>6</td>\n",
       "            <td>9</td>\n",
       "            <td>Misfits</td>\n",
       "            <td>spotify:artist:1cXi8ALPQCBHZbf0EgP4Ey</td>\n",
       "            <td>Hybrid Moments</td>\n",
       "            <td>spotify:album:51tAz06EJxwhsk8uNfWxBo</td>\n",
       "            <td>102266</td>\n",
       "            <td>Static Age</td>\n",
       "        </tr>\n",
       "    </tbody>\n",
       "</table>"
      ],
      "text/plain": [
       "[('spotify:track:4SDywo3ykB2PEthjXvo1UP', 6, 0, 'Creedence Clearwater Revival', 'spotify:artist:3IYUhFvPQItj6xySrBmZkd', 'I Put A Spell On You', 'spotify:album:7oIftk0P8cViwNpNEdCYl2', 271786, 'Creedence Clearwater Revival'),\n",
       " ('spotify:track:229SqGbacrLSBfb9XfJczF', 6, 1, 'STRFKR', 'spotify:artist:2Tz1DTzVJ5Gyh8ZwVr6ekU', 'Bury Us Alive', 'spotify:album:5pfqk4oFycMVynOD8S2Cqs', 190360, 'Reptilians'),\n",
       " ('spotify:track:0orNm6qQT2B5WFi0l7l3PV', 6, 2, '311', 'spotify:artist:41Q0HrwWBtuUkJc7C1Rp6K', \"Jackolantern's Weather\", 'spotify:album:6VIeIM5tetuv7FrYxISffU', 204160, '311'),\n",
       " ('spotify:track:1hWQvA6oGVJ2mAVsZ59AaV', 6, 3, 'Nathaniel Rateliff & The Night Sweats', 'spotify:artist:02seUFsFQP7TH4hLrTj77o', 'S.O.B.', 'spotify:album:2UCyiayMoJOwBilPLQPQvK', 247612, 'Nathaniel Rateliff & The Night Sweats'),\n",
       " ('spotify:track:56SkdBKyR2zOkjk6wVFI9s', 6, 4, 'Toadies', 'spotify:artist:2QMMktUMtwMSwUZATX1cRO', 'Possum Kingdom', 'spotify:album:7tFTqVGHceSlXOaz8IylBN', 309573, 'Rubberneck'),\n",
       " ('spotify:track:6y20BV5L33R8YXM0YuI38N', 6, 5, 'Queens of the Stone Age', 'spotify:artist:4pejUc4iciQfgdX6OKulQn', 'No One Knows', 'spotify:album:4w3NeXtywU398NYW4903rY', 278746, 'Songs For The Deaf'),\n",
       " ('spotify:track:6xy6jNeNTYwjnKTDzMyHw2', 6, 6, 'The Cranberries', 'spotify:artist:7t0rwkOPGlDPEhaOcVtOt9', 'Zombie', 'spotify:album:2KsgTeLQXz7yDV1joGOd2L', 306440, 'No Need To Argue (The Complete Sessions 1994-1995)'),\n",
       " ('spotify:track:0rK3iUuoyQp6QReDPzwlYD', 6, 7, 'Misfits', 'spotify:artist:1cXi8ALPQCBHZbf0EgP4Ey', 'Monster Mash', 'spotify:album:6MzZSl19bVR3xWwFCOZyhg', 157000, 'Project 1950'),\n",
       " ('spotify:track:2k5lMt43DRIoEZPuswnULH', 6, 8, 'Misfits', 'spotify:artist:1cXi8ALPQCBHZbf0EgP4Ey', 'Ghouls Night Out - Live', 'spotify:album:4CWxS5ASY9eRE2zXP8BTRd', 102539, 'Evilive'),\n",
       " ('spotify:track:3gN4UFoOnRHlMl3K4kU5zG', 6, 9, 'Misfits', 'spotify:artist:1cXi8ALPQCBHZbf0EgP4Ey', 'Hybrid Moments', 'spotify:album:51tAz06EJxwhsk8uNfWxBo', 102266, 'Static Age')]"
      ]
     },
     "execution_count": 176,
     "metadata": {},
     "output_type": "execute_result"
    }
   ],
   "source": [
    "%%sql\n",
    "\n",
    "SELECT *\n",
    "FROM song\n",
    "LIMIT 10"
   ]
  },
  {
   "cell_type": "code",
   "execution_count": 6,
   "metadata": {},
   "outputs": [
    {
     "name": "stdout",
     "output_type": "stream",
     "text": [
      " * sqlite:///music_small.db\n",
      "Done.\n"
     ]
    },
    {
     "data": {
      "text/html": [
       "<table>\n",
       "    <thead>\n",
       "        <tr>\n",
       "            <th>slice</th>\n",
       "            <th>pid</th>\n",
       "            <th>modified_at</th>\n",
       "            <th>num_tracks</th>\n",
       "            <th>num_albums</th>\n",
       "            <th>num_followers</th>\n",
       "            <th>num_edits</th>\n",
       "            <th>duration_ms</th>\n",
       "            <th>num_artists</th>\n",
       "        </tr>\n",
       "    </thead>\n",
       "    <tbody>\n",
       "        <tr>\n",
       "            <td>0-999</td>\n",
       "            <td>0</td>\n",
       "            <td>1493424000</td>\n",
       "            <td>52</td>\n",
       "            <td>47</td>\n",
       "            <td>1</td>\n",
       "            <td>6</td>\n",
       "            <td>11532414</td>\n",
       "            <td>37</td>\n",
       "        </tr>\n",
       "        <tr>\n",
       "            <td>0-999</td>\n",
       "            <td>1</td>\n",
       "            <td>1506556800</td>\n",
       "            <td>39</td>\n",
       "            <td>23</td>\n",
       "            <td>1</td>\n",
       "            <td>5</td>\n",
       "            <td>11656470</td>\n",
       "            <td>21</td>\n",
       "        </tr>\n",
       "        <tr>\n",
       "            <td>0-999</td>\n",
       "            <td>2</td>\n",
       "            <td>1505692800</td>\n",
       "            <td>64</td>\n",
       "            <td>51</td>\n",
       "            <td>1</td>\n",
       "            <td>18</td>\n",
       "            <td>14039958</td>\n",
       "            <td>31</td>\n",
       "        </tr>\n",
       "        <tr>\n",
       "            <td>0-999</td>\n",
       "            <td>3</td>\n",
       "            <td>1501027200</td>\n",
       "            <td>126</td>\n",
       "            <td>107</td>\n",
       "            <td>1</td>\n",
       "            <td>4</td>\n",
       "            <td>28926058</td>\n",
       "            <td>86</td>\n",
       "        </tr>\n",
       "        <tr>\n",
       "            <td>0-999</td>\n",
       "            <td>4</td>\n",
       "            <td>1401667200</td>\n",
       "            <td>17</td>\n",
       "            <td>16</td>\n",
       "            <td>2</td>\n",
       "            <td>7</td>\n",
       "            <td>4335282</td>\n",
       "            <td>16</td>\n",
       "        </tr>\n",
       "        <tr>\n",
       "            <td>0-999</td>\n",
       "            <td>5</td>\n",
       "            <td>1430956800</td>\n",
       "            <td>80</td>\n",
       "            <td>71</td>\n",
       "            <td>1</td>\n",
       "            <td>3</td>\n",
       "            <td>19156557</td>\n",
       "            <td>56</td>\n",
       "        </tr>\n",
       "        <tr>\n",
       "            <td>0-999</td>\n",
       "            <td>6</td>\n",
       "            <td>1477094400</td>\n",
       "            <td>16</td>\n",
       "            <td>15</td>\n",
       "            <td>1</td>\n",
       "            <td>2</td>\n",
       "            <td>3408479</td>\n",
       "            <td>13</td>\n",
       "        </tr>\n",
       "        <tr>\n",
       "            <td>0-999</td>\n",
       "            <td>7</td>\n",
       "            <td>1509321600</td>\n",
       "            <td>53</td>\n",
       "            <td>52</td>\n",
       "            <td>1</td>\n",
       "            <td>38</td>\n",
       "            <td>12674796</td>\n",
       "            <td>48</td>\n",
       "        </tr>\n",
       "        <tr>\n",
       "            <td>0-999</td>\n",
       "            <td>8</td>\n",
       "            <td>1508976000</td>\n",
       "            <td>46</td>\n",
       "            <td>37</td>\n",
       "            <td>2</td>\n",
       "            <td>21</td>\n",
       "            <td>9948921</td>\n",
       "            <td>23</td>\n",
       "        </tr>\n",
       "        <tr>\n",
       "            <td>0-999</td>\n",
       "            <td>9</td>\n",
       "            <td>1501804800</td>\n",
       "            <td>21</td>\n",
       "            <td>20</td>\n",
       "            <td>1</td>\n",
       "            <td>10</td>\n",
       "            <td>4297488</td>\n",
       "            <td>18</td>\n",
       "        </tr>\n",
       "    </tbody>\n",
       "</table>"
      ],
      "text/plain": [
       "[('0-999', 0, 1493424000, 52, 47, 1, 6, 11532414, 37),\n",
       " ('0-999', 1, 1506556800, 39, 23, 1, 5, 11656470, 21),\n",
       " ('0-999', 2, 1505692800, 64, 51, 1, 18, 14039958, 31),\n",
       " ('0-999', 3, 1501027200, 126, 107, 1, 4, 28926058, 86),\n",
       " ('0-999', 4, 1401667200, 17, 16, 2, 7, 4335282, 16),\n",
       " ('0-999', 5, 1430956800, 80, 71, 1, 3, 19156557, 56),\n",
       " ('0-999', 6, 1477094400, 16, 15, 1, 2, 3408479, 13),\n",
       " ('0-999', 7, 1509321600, 53, 52, 1, 38, 12674796, 48),\n",
       " ('0-999', 8, 1508976000, 46, 37, 2, 21, 9948921, 23),\n",
       " ('0-999', 9, 1501804800, 21, 20, 1, 10, 4297488, 18)]"
      ]
     },
     "execution_count": 6,
     "metadata": {},
     "output_type": "execute_result"
    }
   ],
   "source": [
    "%%sql\n",
    "\n",
    "SELECT *\n",
    "FROM playlists\n",
    "LIMIT 10"
   ]
  },
  {
   "cell_type": "code",
   "execution_count": 7,
   "metadata": {},
   "outputs": [],
   "source": [
    "import json"
   ]
  },
  {
   "cell_type": "code",
   "execution_count": 109,
   "metadata": {},
   "outputs": [
    {
     "name": "stdout",
     "output_type": "stream",
     "text": [
      " * sqlite:///music_small.db\n",
      "Done.\n"
     ]
    },
    {
     "data": {
      "text/html": [
       "<table>\n",
       "    <thead>\n",
       "        <tr>\n",
       "            <th>name</th>\n",
       "        </tr>\n",
       "    </thead>\n",
       "    <tbody>\n",
       "        <tr>\n",
       "            <td>slice_time</td>\n",
       "        </tr>\n",
       "        <tr>\n",
       "            <td>playlists</td>\n",
       "        </tr>\n",
       "        <tr>\n",
       "            <td>song</td>\n",
       "        </tr>\n",
       "    </tbody>\n",
       "</table>"
      ],
      "text/plain": [
       "[('slice_time',), ('playlists',), ('song',)]"
      ]
     },
     "execution_count": 109,
     "metadata": {},
     "output_type": "execute_result"
    }
   ],
   "source": [
    "%sql SELECT name FROM sqlite_master WHERE type='table';"
   ]
  },
  {
   "cell_type": "markdown",
   "metadata": {},
   "source": [
    "# BLOQUE 1"
   ]
  },
  {
   "cell_type": "markdown",
   "metadata": {},
   "source": [
    "### 1. CONTEO DE PLAYLISTS"
   ]
  },
  {
   "cell_type": "code",
   "execution_count": 110,
   "metadata": {},
   "outputs": [
    {
     "name": "stdout",
     "output_type": "stream",
     "text": [
      " * sqlite:///music_small.db\n",
      "Done.\n"
     ]
    },
    {
     "data": {
      "text/html": [
       "<table>\n",
       "    <thead>\n",
       "        <tr>\n",
       "            <th>COUNT(*)</th>\n",
       "        </tr>\n",
       "    </thead>\n",
       "    <tbody>\n",
       "        <tr>\n",
       "            <td>8000</td>\n",
       "        </tr>\n",
       "    </tbody>\n",
       "</table>"
      ],
      "text/plain": [
       "[(8000,)]"
      ]
     },
     "execution_count": 110,
     "metadata": {},
     "output_type": "execute_result"
    }
   ],
   "source": [
    "%%sql \n",
    "SELECT COUNT(*) \n",
    "FROM playlists;"
   ]
  },
  {
   "cell_type": "markdown",
   "metadata": {},
   "source": [
    "### 2. CONTEO DE CANCIONES"
   ]
  },
  {
   "cell_type": "code",
   "execution_count": 111,
   "metadata": {},
   "outputs": [
    {
     "name": "stdout",
     "output_type": "stream",
     "text": [
      " * sqlite:///music_small.db\n",
      "Done.\n"
     ]
    },
    {
     "data": {
      "text/html": [
       "<table>\n",
       "    <thead>\n",
       "        <tr>\n",
       "            <th>COUNT(*)</th>\n",
       "        </tr>\n",
       "    </thead>\n",
       "    <tbody>\n",
       "        <tr>\n",
       "            <td>529108</td>\n",
       "        </tr>\n",
       "    </tbody>\n",
       "</table>"
      ],
      "text/plain": [
       "[(529108,)]"
      ]
     },
     "execution_count": 111,
     "metadata": {},
     "output_type": "execute_result"
    }
   ],
   "source": [
    "%%sql \n",
    "SELECT COUNT(*) \n",
    "FROM song;"
   ]
  },
  {
   "cell_type": "markdown",
   "metadata": {},
   "source": [
    "### 3. CONTEO DE CANCIONES UNICAS"
   ]
  },
  {
   "cell_type": "code",
   "execution_count": 181,
   "metadata": {},
   "outputs": [
    {
     "name": "stdout",
     "output_type": "stream",
     "text": [
      " * sqlite:///music_small.db\n",
      "Done.\n"
     ]
    },
    {
     "data": {
      "text/html": [
       "<table>\n",
       "    <thead>\n",
       "        <tr>\n",
       "            <th>COUNT(DISTINCT track_name)</th>\n",
       "        </tr>\n",
       "    </thead>\n",
       "    <tbody>\n",
       "        <tr>\n",
       "            <td>114492</td>\n",
       "        </tr>\n",
       "    </tbody>\n",
       "</table>"
      ],
      "text/plain": [
       "[(114492,)]"
      ]
     },
     "execution_count": 181,
     "metadata": {},
     "output_type": "execute_result"
    }
   ],
   "source": [
    "%%sql\n",
    "SELECT COUNT(DISTINCT track_name)\n",
    "FROM song;"
   ]
  },
  {
   "cell_type": "markdown",
   "metadata": {},
   "source": [
    "# BLOQUE 2"
   ]
  },
  {
   "cell_type": "markdown",
   "metadata": {},
   "source": [
    "### 1. PROMEDIO DE DURACIÓN DE CANCIONES POR NÚMERO DE SEGUIDORES"
   ]
  },
  {
   "cell_type": "code",
   "execution_count": 113,
   "metadata": {},
   "outputs": [
    {
     "name": "stdout",
     "output_type": "stream",
     "text": [
      " * sqlite:///music_small.db\n",
      "Done.\n"
     ]
    },
    {
     "data": {
      "text/html": [
       "<table>\n",
       "    <thead>\n",
       "        <tr>\n",
       "            <th>num_followers</th>\n",
       "            <th>AVG(duration_ms)</th>\n",
       "        </tr>\n",
       "    </thead>\n",
       "    <tbody>\n",
       "        <tr>\n",
       "            <td>1</td>\n",
       "            <td>14195996.448874917</td>\n",
       "        </tr>\n",
       "        <tr>\n",
       "            <td>2</td>\n",
       "            <td>17322986.85</td>\n",
       "        </tr>\n",
       "        <tr>\n",
       "            <td>3</td>\n",
       "            <td>22226082.437659033</td>\n",
       "        </tr>\n",
       "        <tr>\n",
       "            <td>4</td>\n",
       "            <td>23266030.664596274</td>\n",
       "        </tr>\n",
       "        <tr>\n",
       "            <td>5</td>\n",
       "            <td>21181834.315068495</td>\n",
       "        </tr>\n",
       "        <tr>\n",
       "            <td>6</td>\n",
       "            <td>25174297.227272727</td>\n",
       "        </tr>\n",
       "        <tr>\n",
       "            <td>7</td>\n",
       "            <td>28265655.36</td>\n",
       "        </tr>\n",
       "        <tr>\n",
       "            <td>8</td>\n",
       "            <td>27568971.347826086</td>\n",
       "        </tr>\n",
       "        <tr>\n",
       "            <td>9</td>\n",
       "            <td>28389572.266666666</td>\n",
       "        </tr>\n",
       "        <tr>\n",
       "            <td>10</td>\n",
       "            <td>20163518.2</td>\n",
       "        </tr>\n",
       "    </tbody>\n",
       "</table>"
      ],
      "text/plain": [
       "[(1, 14195996.448874917),\n",
       " (2, 17322986.85),\n",
       " (3, 22226082.437659033),\n",
       " (4, 23266030.664596274),\n",
       " (5, 21181834.315068495),\n",
       " (6, 25174297.227272727),\n",
       " (7, 28265655.36),\n",
       " (8, 27568971.347826086),\n",
       " (9, 28389572.266666666),\n",
       " (10, 20163518.2)]"
      ]
     },
     "execution_count": 113,
     "metadata": {},
     "output_type": "execute_result"
    }
   ],
   "source": [
    "%%sql\n",
    "SELECT num_followers, AVG(duration_ms)\n",
    "FROM playlists\n",
    "GROUP BY num_followers\n",
    "LIMIT 10"
   ]
  },
  {
   "cell_type": "markdown",
   "metadata": {},
   "source": [
    "### 2. PLAYLISTS CON MÁS DE DIEZ CANCIONES"
   ]
  },
  {
   "cell_type": "code",
   "execution_count": 194,
   "metadata": {},
   "outputs": [
    {
     "name": "stdout",
     "output_type": "stream",
     "text": [
      " * sqlite:///music_small.db\n",
      "Done.\n"
     ]
    },
    {
     "data": {
      "text/html": [
       "<table>\n",
       "    <thead>\n",
       "        <tr>\n",
       "            <th>COUNT (*)</th>\n",
       "        </tr>\n",
       "    </thead>\n",
       "    <tbody>\n",
       "        <tr>\n",
       "            <td>7658</td>\n",
       "        </tr>\n",
       "    </tbody>\n",
       "</table>"
      ],
      "text/plain": [
       "[(7658,)]"
      ]
     },
     "execution_count": 194,
     "metadata": {},
     "output_type": "execute_result"
    }
   ],
   "source": [
    "%%sql\n",
    "SELECT COUNT (*)\n",
    "FROM playlists\n",
    "WHERE num_tracks > 10"
   ]
  },
  {
   "cell_type": "markdown",
   "metadata": {},
   "source": [
    "### 3. CANTIDAD MÁXIMA DE CANCIONES EN TODAS LAS PLAYLISTS"
   ]
  },
  {
   "cell_type": "code",
   "execution_count": 192,
   "metadata": {},
   "outputs": [
    {
     "name": "stdout",
     "output_type": "stream",
     "text": [
      " * sqlite:///music_small.db\n",
      "Done.\n"
     ]
    },
    {
     "data": {
      "text/html": [
       "<table>\n",
       "    <thead>\n",
       "        <tr>\n",
       "            <th>MAX(num_tracks)</th>\n",
       "        </tr>\n",
       "    </thead>\n",
       "    <tbody>\n",
       "        <tr>\n",
       "            <td>250</td>\n",
       "        </tr>\n",
       "    </tbody>\n",
       "</table>"
      ],
      "text/plain": [
       "[(250,)]"
      ]
     },
     "execution_count": 192,
     "metadata": {},
     "output_type": "execute_result"
    }
   ],
   "source": [
    "%%sql\n",
    "SELECT MAX(num_tracks)\n",
    "FROM (\n",
    "SELECT pid, COUNT(*) num_tracks\n",
    "FROM song\n",
    "GROUP BY pid\n",
    ")"
   ]
  },
  {
   "cell_type": "markdown",
   "metadata": {},
   "source": [
    "### 4. Cantidad total de canciones en cada playlist de mayor a menor\n"
   ]
  },
  {
   "cell_type": "code",
   "execution_count": 172,
   "metadata": {},
   "outputs": [
    {
     "name": "stdout",
     "output_type": "stream",
     "text": [
      " * sqlite:///music_small.db\n",
      "Done.\n"
     ]
    },
    {
     "data": {
      "text/html": [
       "<table>\n",
       "    <thead>\n",
       "        <tr>\n",
       "            <th>pid</th>\n",
       "            <th>COUNT(*)</th>\n",
       "        </tr>\n",
       "    </thead>\n",
       "    <tbody>\n",
       "        <tr>\n",
       "            <td>7063</td>\n",
       "            <td>1</td>\n",
       "        </tr>\n",
       "        <tr>\n",
       "            <td>10160</td>\n",
       "            <td>1</td>\n",
       "        </tr>\n",
       "        <tr>\n",
       "            <td>10211</td>\n",
       "            <td>1</td>\n",
       "        </tr>\n",
       "        <tr>\n",
       "            <td>3149</td>\n",
       "            <td>1</td>\n",
       "        </tr>\n",
       "        <tr>\n",
       "            <td>7278</td>\n",
       "            <td>1</td>\n",
       "        </tr>\n",
       "        <tr>\n",
       "            <td>2500</td>\n",
       "            <td>1</td>\n",
       "        </tr>\n",
       "        <tr>\n",
       "            <td>6627</td>\n",
       "            <td>1</td>\n",
       "        </tr>\n",
       "        <tr>\n",
       "            <td>10063</td>\n",
       "            <td>1</td>\n",
       "        </tr>\n",
       "        <tr>\n",
       "            <td>2183</td>\n",
       "            <td>1</td>\n",
       "        </tr>\n",
       "        <tr>\n",
       "            <td>3626</td>\n",
       "            <td>1</td>\n",
       "        </tr>\n",
       "    </tbody>\n",
       "</table>"
      ],
      "text/plain": [
       "[(7063, 1),\n",
       " (10160, 1),\n",
       " (10211, 1),\n",
       " (3149, 1),\n",
       " (7278, 1),\n",
       " (2500, 1),\n",
       " (6627, 1),\n",
       " (10063, 1),\n",
       " (2183, 1),\n",
       " (3626, 1)]"
      ]
     },
     "execution_count": 172,
     "metadata": {},
     "output_type": "execute_result"
    }
   ],
   "source": [
    "%%sql\n",
    "SELECT pid, COUNT(*)\n",
    "FROM playlists\n",
    "GROUP BY pid\n",
    "ORDER BY num_tracks DESC\n",
    "LIMIT 10"
   ]
  },
  {
   "cell_type": "markdown",
   "metadata": {},
   "source": [
    "# BLOQUE 3"
   ]
  },
  {
   "cell_type": "markdown",
   "metadata": {},
   "source": [
    "### 1. SUMA DE DURACIÓN DE TODAS LAS CANCIONES DE BAD BUNNY"
   ]
  },
  {
   "cell_type": "code",
   "execution_count": 184,
   "metadata": {},
   "outputs": [
    {
     "name": "stdout",
     "output_type": "stream",
     "text": [
      " * sqlite:///music_small.db\n",
      "Done.\n"
     ]
    },
    {
     "data": {
      "text/html": [
       "<table>\n",
       "    <thead>\n",
       "        <tr>\n",
       "            <th>SUM(duration_ms)</th>\n",
       "        </tr>\n",
       "    </thead>\n",
       "    <tbody>\n",
       "        <tr>\n",
       "            <td>15007588</td>\n",
       "        </tr>\n",
       "    </tbody>\n",
       "</table>"
      ],
      "text/plain": [
       "[(15007588,)]"
      ]
     },
     "execution_count": 184,
     "metadata": {},
     "output_type": "execute_result"
    }
   ],
   "source": [
    "%%sql\n",
    "SELECT SUM(duration_ms)\n",
    "FROM song\n",
    "WHERE artist_name = 'Bad Bunny'"
   ]
  },
  {
   "cell_type": "markdown",
   "metadata": {},
   "source": [
    "### 2. PROMEDIO DE CANCIONES POR PLAYLIST"
   ]
  },
  {
   "cell_type": "code",
   "execution_count": 203,
   "metadata": {},
   "outputs": [
    {
     "name": "stdout",
     "output_type": "stream",
     "text": [
      " * sqlite:///music_small.db\n",
      "Done.\n"
     ]
    },
    {
     "data": {
      "text/html": [
       "<table>\n",
       "    <thead>\n",
       "        <tr>\n",
       "            <th>AVG(num_tracks)</th>\n",
       "        </tr>\n",
       "    </thead>\n",
       "    <tbody>\n",
       "        <tr>\n",
       "            <td>52.0</td>\n",
       "        </tr>\n",
       "        <tr>\n",
       "            <td>39.0</td>\n",
       "        </tr>\n",
       "        <tr>\n",
       "            <td>64.0</td>\n",
       "        </tr>\n",
       "        <tr>\n",
       "            <td>126.0</td>\n",
       "        </tr>\n",
       "        <tr>\n",
       "            <td>17.0</td>\n",
       "        </tr>\n",
       "        <tr>\n",
       "            <td>80.0</td>\n",
       "        </tr>\n",
       "        <tr>\n",
       "            <td>16.0</td>\n",
       "        </tr>\n",
       "        <tr>\n",
       "            <td>53.0</td>\n",
       "        </tr>\n",
       "        <tr>\n",
       "            <td>46.0</td>\n",
       "        </tr>\n",
       "        <tr>\n",
       "            <td>21.0</td>\n",
       "        </tr>\n",
       "    </tbody>\n",
       "</table>"
      ],
      "text/plain": [
       "[(52.0,),\n",
       " (39.0,),\n",
       " (64.0,),\n",
       " (126.0,),\n",
       " (17.0,),\n",
       " (80.0,),\n",
       " (16.0,),\n",
       " (53.0,),\n",
       " (46.0,),\n",
       " (21.0,)]"
      ]
     },
     "execution_count": 203,
     "metadata": {},
     "output_type": "execute_result"
    }
   ],
   "source": [
    "%%sql\n",
    "SELECT AVG(num_tracks)\n",
    "FROM playlists\n",
    "GROUP BY pid\n",
    "LIMIT 10"
   ]
  },
  {
   "cell_type": "markdown",
   "metadata": {},
   "source": [
    "### 3. PLAYLISTS QUE CONTIENEN MÁS DE UNA CANCIÓN DEL ALBÚM 311"
   ]
  },
  {
   "cell_type": "code",
   "execution_count": 204,
   "metadata": {},
   "outputs": [
    {
     "name": "stdout",
     "output_type": "stream",
     "text": [
      " * sqlite:///music_small.db\n",
      "Done.\n"
     ]
    },
    {
     "data": {
      "text/html": [
       "<table>\n",
       "    <thead>\n",
       "        <tr>\n",
       "            <th>COUNT (*)</th>\n",
       "        </tr>\n",
       "    </thead>\n",
       "    <tbody>\n",
       "        <tr>\n",
       "            <td>296000</td>\n",
       "        </tr>\n",
       "    </tbody>\n",
       "</table>"
      ],
      "text/plain": [
       "[(296000,)]"
      ]
     },
     "execution_count": 204,
     "metadata": {},
     "output_type": "execute_result"
    }
   ],
   "source": [
    "%%sql\n",
    "SELECT COUNT (*)\n",
    "FROM song JOIN(playlists)\n",
    "WHERE album_name = '311'"
   ]
  },
  {
   "cell_type": "code",
   "execution_count": null,
   "metadata": {},
   "outputs": [],
   "source": []
  }
 ],
 "metadata": {
  "kernelspec": {
   "display_name": "Python 3",
   "language": "python",
   "name": "python3"
  },
  "language_info": {
   "codemirror_mode": {
    "name": "ipython",
    "version": 3
   },
   "file_extension": ".py",
   "mimetype": "text/x-python",
   "name": "python",
   "nbconvert_exporter": "python",
   "pygments_lexer": "ipython3",
   "version": "3.12.3"
  }
 },
 "nbformat": 4,
 "nbformat_minor": 2
}
