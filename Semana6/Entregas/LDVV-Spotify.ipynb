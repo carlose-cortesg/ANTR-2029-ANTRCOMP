{
 "cells": [
  {
   "cell_type": "markdown",
   "metadata": {},
   "source": [
    "<h1 align=\"center\"> Entrega 3 - Spotify 🎵 </h1>\n",
    "<h2 align=\"center\"> Laura Daniela Vergara Villa - 201815666 </h2>"
   ]
  },
  {
   "cell_type": "markdown",
   "metadata": {},
   "source": [
    "#### **Tabla de contenidos**\n",
    "\n",
    "- [0. Preparativos básicos](#0-preparativos-básicos)\n",
    "    - [0.1. Verificación de conexiones correctas](#01-verificación-de-conexiones-correctas)\n",
    "- [1. Estructura de la base de datos](#1-estructura-de-la-base-de-datos)\n",
    "- [2. Solución de preguntas Bloque 1](#2-solución-de-preguntas-bloque-1)\n",
    "    - [2.4. Seleccionar las playlists que tienen más de 5000 seguidores](#24-seleccionar-las-playlists-que-tienen-más-de-5000-seguidores)\n",
    "    - [2.6. Contar el número de canciones únicas](#26-contar-el-número-total-de-canciones-únicas)\n",
    "    - [2.9. Nombres de las 10 canciones más largas en duración](#29-nombres-de-las-10-canciones-más-largas-en-duración)\n",
    "- [3. Solución de preguntas Bloque 2](#3-solución-de-preguntas-bloque-2)\n",
    "    - [3.2. Obtener la duración promedio de las canciones de las 10 playlists con más canciones](#32-obtener-la-duración-promedio-de-las-canciones-de-las-10-playlists-con-más-canciones)\n",
    "    - [3.7. Contar la cantidad de playlists que contienen canciones de más de un álbum --> Utilizar HAVING](#37-contar-la-cantidad-de-playlists-que-contienen-canciones-de-más-de-un-álbum---utilizar-having)\n",
    "    - [3.10. Promedio de duración de canciones por número de seguidores --> Utilizar doble CASE](#310-promedio-de-duración-de-canciones-por-número-de-seguidores---utilizar-doble-case)\n",
    "    - [3.11. Seleccionar las canciones que duran más de la duración promedio de todas las canciones](#311-seleccionar-las-canciones-que-duran-más-de-la-duración-promedio-de-todas-las-canciones)\n",
    "- [4. Solución de preguntas Bloque 3 --> Utilizar JOIN](#4-solución-de-preguntas-bloque-3----utilizar-join)\n",
    "    - [4.1. Calcular la duración total y promedio de todas las canciones en una playlist específica](#41-calcular-la-duración-total-y-promedio-de-todas-las-canciones-en-una-playlist-específica)\n",
    "    - [4.5. Obtener el número promedio de canciones por playlist](#45-obtener-el-número-promedio-de-canciones-por-playlist)\n",
    "    - [4.7 Contar la cantidad de artistas que tienen más de una canción vs. los que sólo tienen una canción](#37-contar-la-cantidad-de-artistas-que-tienen-más-de-una-canción-vs-los-que-tienen-sólo-una-canción)\n",
    "    \n"
   ]
  },
  {
   "cell_type": "markdown",
   "metadata": {},
   "source": [
    "### **0. Preparativos básicos**"
   ]
  },
  {
   "cell_type": "code",
   "execution_count": 7,
   "metadata": {},
   "outputs": [
    {
     "name": "stdout",
     "output_type": "stream",
     "text": [
      "The sql extension is already loaded. To reload it, use:\n",
      "  %reload_ext sql\n"
     ]
    }
   ],
   "source": [
    "%load_ext sql"
   ]
  },
  {
   "cell_type": "code",
   "execution_count": 10,
   "metadata": {},
   "outputs": [],
   "source": [
    "%sql sqlite:////Users/ldvergarav/Library/CloudStorage/OneDrive-Universidaddelosandes/2024-10/Metodos_computacionales/ANTR-2029-ANTRCOMP/music.db"
   ]
  },
  {
   "cell_type": "markdown",
   "metadata": {},
   "source": [
    "##### **0.1. Verificación de conexiones correctas**"
   ]
  },
  {
   "cell_type": "code",
   "execution_count": 11,
   "metadata": {},
   "outputs": [
    {
     "name": "stdout",
     "output_type": "stream",
     "text": [
      " * sqlite:////Users/ldvergarav/Library/CloudStorage/OneDrive-Universidaddelosandes/2024-10/Metodos_computacionales/ANTR-2029-ANTRCOMP/music.db\n",
      "   sqlite:///music.db\n",
      "Done.\n"
     ]
    },
    {
     "data": {
      "text/html": [
       "<table>\n",
       "    <thead>\n",
       "        <tr>\n",
       "            <th>name</th>\n",
       "        </tr>\n",
       "    </thead>\n",
       "    <tbody>\n",
       "        <tr>\n",
       "            <td>slice_time</td>\n",
       "        </tr>\n",
       "        <tr>\n",
       "            <td>playlists</td>\n",
       "        </tr>\n",
       "        <tr>\n",
       "            <td>song</td>\n",
       "        </tr>\n",
       "    </tbody>\n",
       "</table>"
      ],
      "text/plain": [
       "[('slice_time',), ('playlists',), ('song',)]"
      ]
     },
     "execution_count": 11,
     "metadata": {},
     "output_type": "execute_result"
    }
   ],
   "source": [
    "%sql SELECT name FROM sqlite_master WHERE type='table';"
   ]
  },
  {
   "cell_type": "code",
   "execution_count": 5,
   "metadata": {},
   "outputs": [
    {
     "name": "stdout",
     "output_type": "stream",
     "text": [
      " * sqlite:///music.db\n",
      "(sqlite3.OperationalError) no such table: playlists\n",
      "[SQL: SELECT * \n",
      "FROM playlists\n",
      "LIMIT 10;]\n",
      "(Background on this error at: https://sqlalche.me/e/20/e3q8)\n"
     ]
    }
   ],
   "source": [
    "%%sql \n",
    "SELECT * \n",
    "FROM playlists\n",
    "LIMIT 10;"
   ]
  },
  {
   "cell_type": "code",
   "execution_count": 5,
   "metadata": {},
   "outputs": [
    {
     "name": "stdout",
     "output_type": "stream",
     "text": [
      " * sqlite:///music.db\n",
      "Done.\n"
     ]
    },
    {
     "data": {
      "text/html": [
       "<table>\n",
       "    <thead>\n",
       "        <tr>\n",
       "            <th>track_uri</th>\n",
       "            <th>pid</th>\n",
       "            <th>pos</th>\n",
       "            <th>artist_name</th>\n",
       "            <th>artist_uri</th>\n",
       "            <th>track_name</th>\n",
       "            <th>album_uri</th>\n",
       "            <th>duration_ms</th>\n",
       "            <th>album_name</th>\n",
       "        </tr>\n",
       "    </thead>\n",
       "    <tbody>\n",
       "        <tr>\n",
       "            <td>spotify:track:6QHYEZlm9wyfXfEM1vSu1P</td>\n",
       "            <td>549000</td>\n",
       "            <td>0</td>\n",
       "            <td>Bob Dylan</td>\n",
       "            <td>spotify:artist:74ASZWbe4lXaubB36ztrGX</td>\n",
       "            <td>Boots of Spanish Leather</td>\n",
       "            <td>spotify:album:7DZeLXvr9eTVpyI1OlqtcS</td>\n",
       "            <td>277106</td>\n",
       "            <td>The Times They Are A-Changin&#x27;</td>\n",
       "        </tr>\n",
       "        <tr>\n",
       "            <td>spotify:track:3RkQ3UwOyPqpIiIvGVewuU</td>\n",
       "            <td>549000</td>\n",
       "            <td>1</td>\n",
       "            <td>Bob Dylan</td>\n",
       "            <td>spotify:artist:74ASZWbe4lXaubB36ztrGX</td>\n",
       "            <td>Mr. Tambourine Man</td>\n",
       "            <td>spotify:album:1lPoRKSgZHQAYXxzBsOQ7v</td>\n",
       "            <td>330533</td>\n",
       "            <td>Bringing It All Back Home</td>\n",
       "        </tr>\n",
       "        <tr>\n",
       "            <td>spotify:track:0ju1jP0cSPJ8tmojYBEI89</td>\n",
       "            <td>549000</td>\n",
       "            <td>2</td>\n",
       "            <td>Loggins &amp; Messina</td>\n",
       "            <td>spotify:artist:7emRV8AluG3d4e5T0DZiK9</td>\n",
       "            <td>Danny&#x27;s Song</td>\n",
       "            <td>spotify:album:5BWgJaesMjpJWCTU9sgUPf</td>\n",
       "            <td>254653</td>\n",
       "            <td>The Best: Loggins &amp; Messina Sittin&#x27; In Again</td>\n",
       "        </tr>\n",
       "        <tr>\n",
       "            <td>spotify:track:7ny2ATvjtKszCpLpfsGnVQ</td>\n",
       "            <td>549000</td>\n",
       "            <td>3</td>\n",
       "            <td>Bob Dylan</td>\n",
       "            <td>spotify:artist:74ASZWbe4lXaubB36ztrGX</td>\n",
       "            <td>A Hard Rain&#x27;s A-Gonna Fall</td>\n",
       "            <td>spotify:album:0o1uFxZ1VTviqvNaYkTJek</td>\n",
       "            <td>412200</td>\n",
       "            <td>The Freewheelin&#x27; Bob Dylan</td>\n",
       "        </tr>\n",
       "        <tr>\n",
       "            <td>spotify:track:18GiV1BaXzPVYpp9rmOg0E</td>\n",
       "            <td>549000</td>\n",
       "            <td>4</td>\n",
       "            <td>Bob Dylan</td>\n",
       "            <td>spotify:artist:74ASZWbe4lXaubB36ztrGX</td>\n",
       "            <td>Blowin&#x27; In the Wind</td>\n",
       "            <td>spotify:album:0o1uFxZ1VTviqvNaYkTJek</td>\n",
       "            <td>165426</td>\n",
       "            <td>The Freewheelin&#x27; Bob Dylan</td>\n",
       "        </tr>\n",
       "        <tr>\n",
       "            <td>spotify:track:0wfBooQ6QtDm63UIyIcDIj</td>\n",
       "            <td>549000</td>\n",
       "            <td>5</td>\n",
       "            <td>Bob Dylan</td>\n",
       "            <td>spotify:artist:74ASZWbe4lXaubB36ztrGX</td>\n",
       "            <td>John Wesley Harding</td>\n",
       "            <td>spotify:album:2KzCDxKpgLqBffHu1IZ7Kn</td>\n",
       "            <td>177200</td>\n",
       "            <td>John Wesley Harding</td>\n",
       "        </tr>\n",
       "        <tr>\n",
       "            <td>spotify:track:3xNO6JUk9ySYjxuqzcZYRB</td>\n",
       "            <td>549000</td>\n",
       "            <td>6</td>\n",
       "            <td>Bob Dylan</td>\n",
       "            <td>spotify:artist:74ASZWbe4lXaubB36ztrGX</td>\n",
       "            <td>If You See Her, Say Hello</td>\n",
       "            <td>spotify:album:4WD4pslu83FF6oMa1e19mF</td>\n",
       "            <td>288000</td>\n",
       "            <td>Blood On The Tracks</td>\n",
       "        </tr>\n",
       "        <tr>\n",
       "            <td>spotify:track:5ka7NFOlZUpVLJmA2tO0o4</td>\n",
       "            <td>549000</td>\n",
       "            <td>7</td>\n",
       "            <td>Bob Dylan</td>\n",
       "            <td>spotify:artist:74ASZWbe4lXaubB36ztrGX</td>\n",
       "            <td>Bob Dylan&#x27;s 115th Dream</td>\n",
       "            <td>spotify:album:1lPoRKSgZHQAYXxzBsOQ7v</td>\n",
       "            <td>389800</td>\n",
       "            <td>Bringing It All Back Home</td>\n",
       "        </tr>\n",
       "        <tr>\n",
       "            <td>spotify:track:2FDTgrYDUdQKyGmtynEk90</td>\n",
       "            <td>549000</td>\n",
       "            <td>8</td>\n",
       "            <td>Bob Dylan</td>\n",
       "            <td>spotify:artist:74ASZWbe4lXaubB36ztrGX</td>\n",
       "            <td>Love Minus Zero</td>\n",
       "            <td>spotify:album:1lPoRKSgZHQAYXxzBsOQ7v</td>\n",
       "            <td>171106</td>\n",
       "            <td>Bringing It All Back Home</td>\n",
       "        </tr>\n",
       "        <tr>\n",
       "            <td>spotify:track:2GbmNHjKB1HxSnyobburxg</td>\n",
       "            <td>549000</td>\n",
       "            <td>9</td>\n",
       "            <td>The Lumineers</td>\n",
       "            <td>spotify:artist:16oZKvXb6WkQlVAjwo2Wbg</td>\n",
       "            <td>Classy Girls</td>\n",
       "            <td>spotify:album:5h7fx8ILwOZ3I5yQ4eGBl7</td>\n",
       "            <td>165933</td>\n",
       "            <td>The Lumineers</td>\n",
       "        </tr>\n",
       "    </tbody>\n",
       "</table>"
      ],
      "text/plain": [
       "[('spotify:track:6QHYEZlm9wyfXfEM1vSu1P', 549000, 0, 'Bob Dylan', 'spotify:artist:74ASZWbe4lXaubB36ztrGX', 'Boots of Spanish Leather', 'spotify:album:7DZeLXvr9eTVpyI1OlqtcS', 277106, \"The Times They Are A-Changin'\"),\n",
       " ('spotify:track:3RkQ3UwOyPqpIiIvGVewuU', 549000, 1, 'Bob Dylan', 'spotify:artist:74ASZWbe4lXaubB36ztrGX', 'Mr. Tambourine Man', 'spotify:album:1lPoRKSgZHQAYXxzBsOQ7v', 330533, 'Bringing It All Back Home'),\n",
       " ('spotify:track:0ju1jP0cSPJ8tmojYBEI89', 549000, 2, 'Loggins & Messina', 'spotify:artist:7emRV8AluG3d4e5T0DZiK9', \"Danny's Song\", 'spotify:album:5BWgJaesMjpJWCTU9sgUPf', 254653, \"The Best: Loggins & Messina Sittin' In Again\"),\n",
       " ('spotify:track:7ny2ATvjtKszCpLpfsGnVQ', 549000, 3, 'Bob Dylan', 'spotify:artist:74ASZWbe4lXaubB36ztrGX', \"A Hard Rain's A-Gonna Fall\", 'spotify:album:0o1uFxZ1VTviqvNaYkTJek', 412200, \"The Freewheelin' Bob Dylan\"),\n",
       " ('spotify:track:18GiV1BaXzPVYpp9rmOg0E', 549000, 4, 'Bob Dylan', 'spotify:artist:74ASZWbe4lXaubB36ztrGX', \"Blowin' In the Wind\", 'spotify:album:0o1uFxZ1VTviqvNaYkTJek', 165426, \"The Freewheelin' Bob Dylan\"),\n",
       " ('spotify:track:0wfBooQ6QtDm63UIyIcDIj', 549000, 5, 'Bob Dylan', 'spotify:artist:74ASZWbe4lXaubB36ztrGX', 'John Wesley Harding', 'spotify:album:2KzCDxKpgLqBffHu1IZ7Kn', 177200, 'John Wesley Harding'),\n",
       " ('spotify:track:3xNO6JUk9ySYjxuqzcZYRB', 549000, 6, 'Bob Dylan', 'spotify:artist:74ASZWbe4lXaubB36ztrGX', 'If You See Her, Say Hello', 'spotify:album:4WD4pslu83FF6oMa1e19mF', 288000, 'Blood On The Tracks'),\n",
       " ('spotify:track:5ka7NFOlZUpVLJmA2tO0o4', 549000, 7, 'Bob Dylan', 'spotify:artist:74ASZWbe4lXaubB36ztrGX', \"Bob Dylan's 115th Dream\", 'spotify:album:1lPoRKSgZHQAYXxzBsOQ7v', 389800, 'Bringing It All Back Home'),\n",
       " ('spotify:track:2FDTgrYDUdQKyGmtynEk90', 549000, 8, 'Bob Dylan', 'spotify:artist:74ASZWbe4lXaubB36ztrGX', 'Love Minus Zero', 'spotify:album:1lPoRKSgZHQAYXxzBsOQ7v', 171106, 'Bringing It All Back Home'),\n",
       " ('spotify:track:2GbmNHjKB1HxSnyobburxg', 549000, 9, 'The Lumineers', 'spotify:artist:16oZKvXb6WkQlVAjwo2Wbg', 'Classy Girls', 'spotify:album:5h7fx8ILwOZ3I5yQ4eGBl7', 165933, 'The Lumineers')]"
      ]
     },
     "execution_count": 5,
     "metadata": {},
     "output_type": "execute_result"
    }
   ],
   "source": [
    "%%sql \n",
    "SELECT * \n",
    "FROM song\n",
    "LIMIT 10;"
   ]
  },
  {
   "cell_type": "markdown",
   "metadata": {},
   "source": [
    "### **1. Estructura de la base de datos**\n",
    "- Playlists:\n",
    "    - Slice\n",
    "    - pid -> Primary Key\n",
    "    - modified_at\n",
    "    - num_tracks\n",
    "    - num_albums\n",
    "    - num_followers\n",
    "\n",
    "- Song:\n",
    "    - pid -> Punto de Unión\n",
    "    - pos\n",
    "    - artist_name\n",
    "    - artist_uri\n",
    "    - track_uri -> Primary Key\n",
    "    - track_name\n",
    "    - album_uri\n",
    "    - duration_ms\n",
    "    - album_name"
   ]
  },
  {
   "cell_type": "markdown",
   "metadata": {},
   "source": [
    "### **2. Solución de preguntas bloque 1**"
   ]
  },
  {
   "cell_type": "markdown",
   "metadata": {},
   "source": [
    "#### **2.4. Seleccionar las playlists que tienen más de 5000 seguidores**"
   ]
  },
  {
   "cell_type": "code",
   "execution_count": 6,
   "metadata": {},
   "outputs": [
    {
     "name": "stdout",
     "output_type": "stream",
     "text": [
      " * sqlite:///music.db\n",
      "Done.\n"
     ]
    },
    {
     "data": {
      "text/html": [
       "<table>\n",
       "    <thead>\n",
       "        <tr>\n",
       "            <th>pid</th>\n",
       "            <th>num_followers</th>\n",
       "            <th>num_tracks</th>\n",
       "            <th>num_albums</th>\n",
       "            <th>num_artists</th>\n",
       "            <th>duration_ms</th>\n",
       "        </tr>\n",
       "    </thead>\n",
       "    <tbody>\n",
       "        <tr>\n",
       "            <td>399472</td>\n",
       "            <td>45942</td>\n",
       "            <td>111</td>\n",
       "            <td>85</td>\n",
       "            <td>78</td>\n",
       "            <td>27955610</td>\n",
       "        </tr>\n",
       "        <tr>\n",
       "            <td>180831</td>\n",
       "            <td>31539</td>\n",
       "            <td>85</td>\n",
       "            <td>9</td>\n",
       "            <td>25</td>\n",
       "            <td>11824924</td>\n",
       "        </tr>\n",
       "        <tr>\n",
       "            <td>720740</td>\n",
       "            <td>27830</td>\n",
       "            <td>81</td>\n",
       "            <td>75</td>\n",
       "            <td>72</td>\n",
       "            <td>18541204</td>\n",
       "        </tr>\n",
       "        <tr>\n",
       "            <td>7215</td>\n",
       "            <td>15842</td>\n",
       "            <td>52</td>\n",
       "            <td>46</td>\n",
       "            <td>41</td>\n",
       "            <td>11005740</td>\n",
       "        </tr>\n",
       "        <tr>\n",
       "            <td>768280</td>\n",
       "            <td>15123</td>\n",
       "            <td>13</td>\n",
       "            <td>12</td>\n",
       "            <td>7</td>\n",
       "            <td>3213942</td>\n",
       "        </tr>\n",
       "        <tr>\n",
       "            <td>383731</td>\n",
       "            <td>12604</td>\n",
       "            <td>49</td>\n",
       "            <td>45</td>\n",
       "            <td>42</td>\n",
       "            <td>11087402</td>\n",
       "        </tr>\n",
       "        <tr>\n",
       "            <td>672003</td>\n",
       "            <td>9821</td>\n",
       "            <td>59</td>\n",
       "            <td>57</td>\n",
       "            <td>50</td>\n",
       "            <td>13338505</td>\n",
       "        </tr>\n",
       "        <tr>\n",
       "            <td>742759</td>\n",
       "            <td>9345</td>\n",
       "            <td>88</td>\n",
       "            <td>8</td>\n",
       "            <td>5</td>\n",
       "            <td>14320284</td>\n",
       "        </tr>\n",
       "        <tr>\n",
       "            <td>738190</td>\n",
       "            <td>9188</td>\n",
       "            <td>15</td>\n",
       "            <td>13</td>\n",
       "            <td>9</td>\n",
       "            <td>3468317</td>\n",
       "        </tr>\n",
       "        <tr>\n",
       "            <td>147486</td>\n",
       "            <td>7912</td>\n",
       "            <td>139</td>\n",
       "            <td>55</td>\n",
       "            <td>36</td>\n",
       "            <td>34552447</td>\n",
       "        </tr>\n",
       "        <tr>\n",
       "            <td>266375</td>\n",
       "            <td>6918</td>\n",
       "            <td>69</td>\n",
       "            <td>63</td>\n",
       "            <td>43</td>\n",
       "            <td>17200179</td>\n",
       "        </tr>\n",
       "        <tr>\n",
       "            <td>48201</td>\n",
       "            <td>6568</td>\n",
       "            <td>24</td>\n",
       "            <td>23</td>\n",
       "            <td>21</td>\n",
       "            <td>5498008</td>\n",
       "        </tr>\n",
       "        <tr>\n",
       "            <td>468318</td>\n",
       "            <td>6326</td>\n",
       "            <td>227</td>\n",
       "            <td>156</td>\n",
       "            <td>69</td>\n",
       "            <td>50756394</td>\n",
       "        </tr>\n",
       "        <tr>\n",
       "            <td>452505</td>\n",
       "            <td>5822</td>\n",
       "            <td>86</td>\n",
       "            <td>77</td>\n",
       "            <td>69</td>\n",
       "            <td>20998155</td>\n",
       "        </tr>\n",
       "        <tr>\n",
       "            <td>966695</td>\n",
       "            <td>5787</td>\n",
       "            <td>58</td>\n",
       "            <td>5</td>\n",
       "            <td>3</td>\n",
       "            <td>14154313</td>\n",
       "        </tr>\n",
       "        <tr>\n",
       "            <td>52247</td>\n",
       "            <td>5282</td>\n",
       "            <td>175</td>\n",
       "            <td>113</td>\n",
       "            <td>77</td>\n",
       "            <td>50237879</td>\n",
       "        </tr>\n",
       "        <tr>\n",
       "            <td>739360</td>\n",
       "            <td>5164</td>\n",
       "            <td>211</td>\n",
       "            <td>163</td>\n",
       "            <td>85</td>\n",
       "            <td>62597751</td>\n",
       "        </tr>\n",
       "        <tr>\n",
       "            <td>990562</td>\n",
       "            <td>5021</td>\n",
       "            <td>92</td>\n",
       "            <td>75</td>\n",
       "            <td>59</td>\n",
       "            <td>21047398</td>\n",
       "        </tr>\n",
       "    </tbody>\n",
       "</table>"
      ],
      "text/plain": [
       "[(399472, 45942, 111, 85, 78, 27955610),\n",
       " (180831, 31539, 85, 9, 25, 11824924),\n",
       " (720740, 27830, 81, 75, 72, 18541204),\n",
       " (7215, 15842, 52, 46, 41, 11005740),\n",
       " (768280, 15123, 13, 12, 7, 3213942),\n",
       " (383731, 12604, 49, 45, 42, 11087402),\n",
       " (672003, 9821, 59, 57, 50, 13338505),\n",
       " (742759, 9345, 88, 8, 5, 14320284),\n",
       " (738190, 9188, 15, 13, 9, 3468317),\n",
       " (147486, 7912, 139, 55, 36, 34552447),\n",
       " (266375, 6918, 69, 63, 43, 17200179),\n",
       " (48201, 6568, 24, 23, 21, 5498008),\n",
       " (468318, 6326, 227, 156, 69, 50756394),\n",
       " (452505, 5822, 86, 77, 69, 20998155),\n",
       " (966695, 5787, 58, 5, 3, 14154313),\n",
       " (52247, 5282, 175, 113, 77, 50237879),\n",
       " (739360, 5164, 211, 163, 85, 62597751),\n",
       " (990562, 5021, 92, 75, 59, 21047398)]"
      ]
     },
     "execution_count": 6,
     "metadata": {},
     "output_type": "execute_result"
    }
   ],
   "source": [
    "%%sql \n",
    "SELECT pid, num_followers, num_tracks, num_albums, num_artists, duration_ms\n",
    "FROM playlists\n",
    "WHERE num_followers >= 5000\n",
    "ORDER BY num_followers DESC\n",
    "LIMIT 100;"
   ]
  },
  {
   "cell_type": "markdown",
   "metadata": {},
   "source": [
    "#### **2.6. Contar el número total de canciones únicas**\n"
   ]
  },
  {
   "cell_type": "markdown",
   "metadata": {},
   "source": [
    "En este query se filtra el número de canciones que aparecen sin repetirse en ninguna otra lista, e ignora todas aquellas canciones que aparezcan varias veces a lo largo de la base de datos."
   ]
  },
  {
   "cell_type": "code",
   "execution_count": 7,
   "metadata": {},
   "outputs": [
    {
     "name": "stdout",
     "output_type": "stream",
     "text": [
      " * sqlite:///music.db\n",
      "Done.\n"
     ]
    },
    {
     "data": {
      "text/html": [
       "<table>\n",
       "    <thead>\n",
       "        <tr>\n",
       "            <th>unique_song_count</th>\n",
       "        </tr>\n",
       "    </thead>\n",
       "    <tbody>\n",
       "        <tr>\n",
       "            <td>788795</td>\n",
       "        </tr>\n",
       "    </tbody>\n",
       "</table>"
      ],
      "text/plain": [
       "[(788795,)]"
      ]
     },
     "execution_count": 7,
     "metadata": {},
     "output_type": "execute_result"
    }
   ],
   "source": [
    "%%sql\n",
    "SELECT COUNT(*) AS unique_song_count\n",
    "FROM (\n",
    "    SELECT track_uri\n",
    "    FROM song\n",
    "    GROUP BY track_uri\n",
    "    HAVING COUNT(*) = 1\n",
    ") AS unique_songs;"
   ]
  },
  {
   "cell_type": "markdown",
   "metadata": {},
   "source": [
    "En este query el resultado presenta todas las canciones de la base de datos, agrupadas por única vez. Es decir, si una canción se repite en varias playlists, entonces la cuenta como una única canción."
   ]
  },
  {
   "cell_type": "code",
   "execution_count": 8,
   "metadata": {},
   "outputs": [
    {
     "name": "stdout",
     "output_type": "stream",
     "text": [
      " * sqlite:///music.db\n",
      "Done.\n"
     ]
    },
    {
     "data": {
      "text/html": [
       "<table>\n",
       "    <thead>\n",
       "        <tr>\n",
       "            <th>unique_song_count</th>\n",
       "        </tr>\n",
       "    </thead>\n",
       "    <tbody>\n",
       "        <tr>\n",
       "            <td>1584820</td>\n",
       "        </tr>\n",
       "    </tbody>\n",
       "</table>"
      ],
      "text/plain": [
       "[(1584820,)]"
      ]
     },
     "execution_count": 8,
     "metadata": {},
     "output_type": "execute_result"
    }
   ],
   "source": [
    "%%sql\n",
    "SELECT COUNT (DISTINCT track_uri) AS unique_song_count\n",
    "FROM song;"
   ]
  },
  {
   "cell_type": "markdown",
   "metadata": {},
   "source": [
    "#### **2.9. Nombres de las 10 canciones más largas en duración**"
   ]
  },
  {
   "cell_type": "code",
   "execution_count": 9,
   "metadata": {},
   "outputs": [
    {
     "name": "stdout",
     "output_type": "stream",
     "text": [
      " * sqlite:///music.db\n",
      "Done.\n"
     ]
    },
    {
     "data": {
      "text/html": [
       "<table>\n",
       "    <thead>\n",
       "        <tr>\n",
       "            <th>track_uri</th>\n",
       "            <th>track_name</th>\n",
       "            <th>duration_mins</th>\n",
       "        </tr>\n",
       "    </thead>\n",
       "    <tbody>\n",
       "        <tr>\n",
       "            <td>spotify:track:65qH0fE7j8MrtvWFnBmm87</td>\n",
       "            <td>The Hound of the Baskervilles - Sir Arthur Conan Doyle</td>\n",
       "            <td>345</td>\n",
       "        </tr>\n",
       "        <tr>\n",
       "            <td>spotify:track:4tDn5LVzkl7KXQqR5Avrmh</td>\n",
       "            <td>The Adventures of Sherlock Holmes - Sir Arthur Conan Doyle Part 1 of 2</td>\n",
       "            <td>335</td>\n",
       "        </tr>\n",
       "        <tr>\n",
       "            <td>spotify:track:15y3JWNQ9K0K00LC0Y5ZtT</td>\n",
       "            <td>The Invisible Man - H G Wells</td>\n",
       "            <td>287</td>\n",
       "        </tr>\n",
       "        <tr>\n",
       "            <td>spotify:track:1v9wpNeMOjjhRAaXJ30bTY</td>\n",
       "            <td>The Phantom of the Opera - Gaston Leroux Part 1 of 2</td>\n",
       "            <td>272</td>\n",
       "        </tr>\n",
       "        <tr>\n",
       "            <td>spotify:track:5rG8C2j2GssqEqobZ38sCq</td>\n",
       "            <td>White Fang - Jack London Part 1 of 2</td>\n",
       "            <td>254</td>\n",
       "        </tr>\n",
       "        <tr>\n",
       "            <td>spotify:track:0ZGoCEjYH7cdHBQGk73rWe</td>\n",
       "            <td>The Lost World - Sir Arthur Conan Doyle Part 1 of 2</td>\n",
       "            <td>242</td>\n",
       "        </tr>\n",
       "        <tr>\n",
       "            <td>spotify:track:27tII5RHfICODr5ZPOveQC</td>\n",
       "            <td>The Phantom of the Opera - Gaston Leroux Part 2 of 2</td>\n",
       "            <td>238</td>\n",
       "        </tr>\n",
       "        <tr>\n",
       "            <td>spotify:track:6ZrMSD58Au73IdqJyvicin</td>\n",
       "            <td>The Memoirs of Sherlock Holmes - Sir Arthur Conan Doyle Part 1 of 2</td>\n",
       "            <td>236</td>\n",
       "        </tr>\n",
       "        <tr>\n",
       "            <td>spotify:track:5AepatdtiMzpghbJL6waSA</td>\n",
       "            <td>Around the World in 80 Days - Jules Verne Part 1 of 2</td>\n",
       "            <td>207</td>\n",
       "        </tr>\n",
       "        <tr>\n",
       "            <td>spotify:track:2OMFMcSHeyCQtkXXwwtPVa</td>\n",
       "            <td>Around the World in 80 Days - Jules Verne Part 2 of 2</td>\n",
       "            <td>201</td>\n",
       "        </tr>\n",
       "    </tbody>\n",
       "</table>"
      ],
      "text/plain": [
       "[('spotify:track:65qH0fE7j8MrtvWFnBmm87', 'The Hound of the Baskervilles - Sir Arthur Conan Doyle', 345),\n",
       " ('spotify:track:4tDn5LVzkl7KXQqR5Avrmh', 'The Adventures of Sherlock Holmes - Sir Arthur Conan Doyle Part 1 of 2', 335),\n",
       " ('spotify:track:15y3JWNQ9K0K00LC0Y5ZtT', 'The Invisible Man - H G Wells', 287),\n",
       " ('spotify:track:1v9wpNeMOjjhRAaXJ30bTY', 'The Phantom of the Opera - Gaston Leroux Part 1 of 2', 272),\n",
       " ('spotify:track:5rG8C2j2GssqEqobZ38sCq', 'White Fang - Jack London Part 1 of 2', 254),\n",
       " ('spotify:track:0ZGoCEjYH7cdHBQGk73rWe', 'The Lost World - Sir Arthur Conan Doyle Part 1 of 2', 242),\n",
       " ('spotify:track:27tII5RHfICODr5ZPOveQC', 'The Phantom of the Opera - Gaston Leroux Part 2 of 2', 238),\n",
       " ('spotify:track:6ZrMSD58Au73IdqJyvicin', 'The Memoirs of Sherlock Holmes - Sir Arthur Conan Doyle Part 1 of 2', 236),\n",
       " ('spotify:track:5AepatdtiMzpghbJL6waSA', 'Around the World in 80 Days - Jules Verne Part 1 of 2', 207),\n",
       " ('spotify:track:2OMFMcSHeyCQtkXXwwtPVa', 'Around the World in 80 Days - Jules Verne Part 2 of 2', 201)]"
      ]
     },
     "execution_count": 9,
     "metadata": {},
     "output_type": "execute_result"
    }
   ],
   "source": [
    "%%sql \n",
    "SELECT DISTINCT track_uri, track_name, duration_ms/60000 AS duration_mins\n",
    "FROM song\n",
    "ORDER BY duration_ms DESC\n",
    "LIMIT 10;"
   ]
  },
  {
   "cell_type": "markdown",
   "metadata": {},
   "source": [
    "### **3. Solución de preguntas bloque 2**"
   ]
  },
  {
   "cell_type": "markdown",
   "metadata": {},
   "source": [
    "#### **3.2. Obtener la duración promedio de las canciones de las 10 playlists con más canciones**"
   ]
  },
  {
   "cell_type": "markdown",
   "metadata": {},
   "source": [
    "Este query presenta las 10 playlist con más canciones. Se usa en el siguiente query como subquery para conseguir la respuesta de esta pregunta."
   ]
  },
  {
   "cell_type": "code",
   "execution_count": 10,
   "metadata": {},
   "outputs": [
    {
     "name": "stdout",
     "output_type": "stream",
     "text": [
      " * sqlite:///music.db\n"
     ]
    },
    {
     "name": "stdout",
     "output_type": "stream",
     "text": [
      "Done.\n"
     ]
    },
    {
     "data": {
      "text/html": [
       "<table>\n",
       "    <thead>\n",
       "        <tr>\n",
       "            <th>pid</th>\n",
       "            <th>num_tracks</th>\n",
       "        </tr>\n",
       "    </thead>\n",
       "    <tbody>\n",
       "        <tr>\n",
       "            <td>864737</td>\n",
       "            <td>376</td>\n",
       "        </tr>\n",
       "        <tr>\n",
       "            <td>7063</td>\n",
       "            <td>250</td>\n",
       "        </tr>\n",
       "        <tr>\n",
       "            <td>10160</td>\n",
       "            <td>250</td>\n",
       "        </tr>\n",
       "        <tr>\n",
       "            <td>10211</td>\n",
       "            <td>250</td>\n",
       "        </tr>\n",
       "        <tr>\n",
       "            <td>13517</td>\n",
       "            <td>250</td>\n",
       "        </tr>\n",
       "        <tr>\n",
       "            <td>13700</td>\n",
       "            <td>250</td>\n",
       "        </tr>\n",
       "        <tr>\n",
       "            <td>19155</td>\n",
       "            <td>250</td>\n",
       "        </tr>\n",
       "        <tr>\n",
       "            <td>34295</td>\n",
       "            <td>250</td>\n",
       "        </tr>\n",
       "        <tr>\n",
       "            <td>38715</td>\n",
       "            <td>250</td>\n",
       "        </tr>\n",
       "        <tr>\n",
       "            <td>41591</td>\n",
       "            <td>250</td>\n",
       "        </tr>\n",
       "    </tbody>\n",
       "</table>"
      ],
      "text/plain": [
       "[(864737, 376),\n",
       " (7063, 250),\n",
       " (10160, 250),\n",
       " (10211, 250),\n",
       " (13517, 250),\n",
       " (13700, 250),\n",
       " (19155, 250),\n",
       " (34295, 250),\n",
       " (38715, 250),\n",
       " (41591, 250)]"
      ]
     },
     "execution_count": 10,
     "metadata": {},
     "output_type": "execute_result"
    }
   ],
   "source": [
    "%%sql\n",
    "SELECT pid, num_tracks\n",
    "FROM playlists\n",
    "ORDER BY num_tracks DESC\n",
    "LIMIT 10;"
   ]
  },
  {
   "cell_type": "markdown",
   "metadata": {},
   "source": [
    "Este query presenta la duración promedio en minutos de las canciones de las 10 playlists con más canciones."
   ]
  },
  {
   "cell_type": "code",
   "execution_count": 11,
   "metadata": {},
   "outputs": [
    {
     "name": "stdout",
     "output_type": "stream",
     "text": [
      " * sqlite:///music.db\n",
      "Done.\n"
     ]
    },
    {
     "data": {
      "text/html": [
       "<table>\n",
       "    <thead>\n",
       "        <tr>\n",
       "            <th>average__song_length_mins</th>\n",
       "        </tr>\n",
       "    </thead>\n",
       "    <tbody>\n",
       "        <tr>\n",
       "            <td>3.3968012185833967</td>\n",
       "        </tr>\n",
       "    </tbody>\n",
       "</table>"
      ],
      "text/plain": [
       "[(3.3968012185833967,)]"
      ]
     },
     "execution_count": 11,
     "metadata": {},
     "output_type": "execute_result"
    }
   ],
   "source": [
    "%%sql\n",
    "SELECT AVG(duration_ms/60000) AS average__song_length_mins\n",
    "FROM (\n",
    "    SELECT pid\n",
    "    FROM playlists\n",
    "    ORDER BY num_tracks DESC\n",
    "    LIMIT 10\n",
    ") AS top_playlists\n",
    "JOIN song AS s ON top_playlists.pid = s.pid;"
   ]
  },
  {
   "cell_type": "markdown",
   "metadata": {},
   "source": [
    "#### **3.7. Contar la cantidad de playlists que contienen canciones de más de un álbum -> Utilizar HAVING**"
   ]
  },
  {
   "cell_type": "code",
   "execution_count": 12,
   "metadata": {},
   "outputs": [
    {
     "name": "stdout",
     "output_type": "stream",
     "text": [
      " * sqlite:///music.db\n",
      "Done.\n"
     ]
    },
    {
     "data": {
      "text/html": [
       "<table>\n",
       "    <thead>\n",
       "        <tr>\n",
       "            <th>multiple_albums_playlists</th>\n",
       "        </tr>\n",
       "    </thead>\n",
       "    <tbody>\n",
       "        <tr>\n",
       "            <td>236</td>\n",
       "        </tr>\n",
       "    </tbody>\n",
       "</table>"
      ],
      "text/plain": [
       "[(236,)]"
      ]
     },
     "execution_count": 12,
     "metadata": {},
     "output_type": "execute_result"
    }
   ],
   "source": [
    "%%sql\n",
    "SELECT COUNT(*) AS multiple_albums_playlists\n",
    "FROM (\n",
    "    SELECT num_albums\n",
    "    FROM playlists\n",
    "    GROUP BY num_albums\n",
    "    HAVING COUNT(*) != 1\n",
    ");"
   ]
  },
  {
   "cell_type": "markdown",
   "metadata": {},
   "source": [
    "#### **3.10. Promedio de duración de canciones por número de seguidores -> utilizar doble CASE**"
   ]
  },
  {
   "cell_type": "markdown",
   "metadata": {},
   "source": [
    "Este query presenta el número de playlists de cada categoría según el número de seguidores. Se usa como base para ser el subquery del siguiente query en el que se responde la pregunta."
   ]
  },
  {
   "cell_type": "code",
   "execution_count": 13,
   "metadata": {},
   "outputs": [
    {
     "name": "stdout",
     "output_type": "stream",
     "text": [
      " * sqlite:///music.db\n",
      "Done.\n"
     ]
    },
    {
     "data": {
      "text/html": [
       "<table>\n",
       "    <thead>\n",
       "        <tr>\n",
       "            <th>followers_category</th>\n",
       "            <th>playlist_count</th>\n",
       "        </tr>\n",
       "    </thead>\n",
       "    <tbody>\n",
       "        <tr>\n",
       "            <td>1. Pocos seguidores</td>\n",
       "            <td>480875</td>\n",
       "        </tr>\n",
       "        <tr>\n",
       "            <td>2. Medios seguidores</td>\n",
       "            <td>2743</td>\n",
       "        </tr>\n",
       "        <tr>\n",
       "            <td>3. Muchos seguidores</td>\n",
       "            <td>382</td>\n",
       "        </tr>\n",
       "    </tbody>\n",
       "</table>"
      ],
      "text/plain": [
       "[('1. Pocos seguidores', 480875),\n",
       " ('2. Medios seguidores', 2743),\n",
       " ('3. Muchos seguidores', 382)]"
      ]
     },
     "execution_count": 13,
     "metadata": {},
     "output_type": "execute_result"
    }
   ],
   "source": [
    "%%sql\n",
    "SELECT \n",
    "    CASE\n",
    "        WHEN num_followers <= 10 THEN \"1. Pocos seguidores\"\n",
    "        WHEN num_followers > 10 AND num_followers <= 100 THEN \"2. Medios seguidores\"\n",
    "        WHEN num_followers > 100 THEN \"3. Muchos seguidores\"\n",
    "    END AS followers_category,\n",
    "COUNT(*) AS playlist_count\n",
    "FROM playlists\n",
    "GROUP BY followers_category;"
   ]
  },
  {
   "cell_type": "markdown",
   "metadata": {},
   "source": [
    "Este query responde la pregunta del promedio de duración de canciones por número de seguidores tomando como base el query anterior de categorización de playlists por número de seguidores. Se usó CASE y JOIN, pero no doble CASE"
   ]
  },
  {
   "cell_type": "code",
   "execution_count": 16,
   "metadata": {},
   "outputs": [
    {
     "name": "stdout",
     "output_type": "stream",
     "text": [
      " * sqlite:///music.db\n",
      "Done.\n"
     ]
    },
    {
     "data": {
      "text/html": [
       "<table>\n",
       "    <thead>\n",
       "        <tr>\n",
       "            <th>followers_category</th>\n",
       "            <th>song_avg_duration_mins</th>\n",
       "        </tr>\n",
       "    </thead>\n",
       "    <tbody>\n",
       "        <tr>\n",
       "            <td>1. Pocos seguidores</td>\n",
       "            <td>3.4110023824378763</td>\n",
       "        </tr>\n",
       "        <tr>\n",
       "            <td>2. Medios seguidores</td>\n",
       "            <td>3.447118225083276</td>\n",
       "        </tr>\n",
       "        <tr>\n",
       "            <td>3. Muchos seguidores</td>\n",
       "            <td>3.40308067237393</td>\n",
       "        </tr>\n",
       "    </tbody>\n",
       "</table>"
      ],
      "text/plain": [
       "[('1. Pocos seguidores', 3.4110023824378763),\n",
       " ('2. Medios seguidores', 3.447118225083276),\n",
       " ('3. Muchos seguidores', 3.40308067237393)]"
      ]
     },
     "execution_count": 16,
     "metadata": {},
     "output_type": "execute_result"
    }
   ],
   "source": [
    "%%sql\n",
    "WITH popularity AS (\n",
    "SELECT \n",
    "    CASE\n",
    "        WHEN num_followers <= 10 THEN \"1. Pocos seguidores\"\n",
    "        WHEN num_followers > 10 AND num_followers <= 100 THEN \"2. Medios seguidores\"\n",
    "        WHEN num_followers > 100 THEN \"3. Muchos seguidores\"\n",
    "    END AS followers_category,\n",
    "pid\n",
    "FROM playlists\n",
    ")\n",
    "SELECT followers_category, AVG(duration_ms/60000) AS song_avg_duration_mins\n",
    "FROM popularity AS p\n",
    "JOIN song AS s ON s.pid = p.pid\n",
    "GROUP BY followers_category;"
   ]
  },
  {
   "cell_type": "markdown",
   "metadata": {},
   "source": [
    "#### **3.11. Seleccionar las canciones que duran más de la duración promedio de todas las canciones**"
   ]
  },
  {
   "cell_type": "markdown",
   "metadata": {},
   "source": [
    "A esta query le puse un límite de 100 porque se estaba demorando demasiado en mostrar el resultado. Antes de ponerle el límite de 100 se tardó más de una hora y aún no terminaba de ejecutar."
   ]
  },
  {
   "cell_type": "code",
   "execution_count": 19,
   "metadata": {},
   "outputs": [
    {
     "name": "stdout",
     "output_type": "stream",
     "text": [
      " * sqlite:///music.db\n",
      "Done.\n"
     ]
    },
    {
     "data": {
      "text/html": [
       "<table>\n",
       "    <thead>\n",
       "        <tr>\n",
       "            <th>track_uri</th>\n",
       "            <th>track_name</th>\n",
       "            <th>artist_name</th>\n",
       "        </tr>\n",
       "    </thead>\n",
       "    <tbody>\n",
       "        <tr>\n",
       "            <td>spotify:track:65qH0fE7j8MrtvWFnBmm87</td>\n",
       "            <td>The Hound of the Baskervilles - Sir Arthur Conan Doyle</td>\n",
       "            <td>DBS Audiobooks</td>\n",
       "        </tr>\n",
       "        <tr>\n",
       "            <td>spotify:track:4tDn5LVzkl7KXQqR5Avrmh</td>\n",
       "            <td>The Adventures of Sherlock Holmes - Sir Arthur Conan Doyle Part 1 of 2</td>\n",
       "            <td>DBS Audiobooks</td>\n",
       "        </tr>\n",
       "        <tr>\n",
       "            <td>spotify:track:15y3JWNQ9K0K00LC0Y5ZtT</td>\n",
       "            <td>The Invisible Man - H G Wells</td>\n",
       "            <td>DBS Audiobooks</td>\n",
       "        </tr>\n",
       "        <tr>\n",
       "            <td>spotify:track:1v9wpNeMOjjhRAaXJ30bTY</td>\n",
       "            <td>The Phantom of the Opera - Gaston Leroux Part 1 of 2</td>\n",
       "            <td>DBS Audiobooks</td>\n",
       "        </tr>\n",
       "        <tr>\n",
       "            <td>spotify:track:5rG8C2j2GssqEqobZ38sCq</td>\n",
       "            <td>White Fang - Jack London Part 1 of 2</td>\n",
       "            <td>DBS Audiobooks</td>\n",
       "        </tr>\n",
       "        <tr>\n",
       "            <td>spotify:track:0ZGoCEjYH7cdHBQGk73rWe</td>\n",
       "            <td>The Lost World - Sir Arthur Conan Doyle Part 1 of 2</td>\n",
       "            <td>DBS Audiobooks</td>\n",
       "        </tr>\n",
       "        <tr>\n",
       "            <td>spotify:track:27tII5RHfICODr5ZPOveQC</td>\n",
       "            <td>The Phantom of the Opera - Gaston Leroux Part 2 of 2</td>\n",
       "            <td>DBS Audiobooks</td>\n",
       "        </tr>\n",
       "        <tr>\n",
       "            <td>spotify:track:6ZrMSD58Au73IdqJyvicin</td>\n",
       "            <td>The Memoirs of Sherlock Holmes - Sir Arthur Conan Doyle Part 1 of 2</td>\n",
       "            <td>DBS Audiobooks</td>\n",
       "        </tr>\n",
       "        <tr>\n",
       "            <td>spotify:track:5AepatdtiMzpghbJL6waSA</td>\n",
       "            <td>Around the World in 80 Days - Jules Verne Part 1 of 2</td>\n",
       "            <td>DBS Audiobooks</td>\n",
       "        </tr>\n",
       "        <tr>\n",
       "            <td>spotify:track:2OMFMcSHeyCQtkXXwwtPVa</td>\n",
       "            <td>Around the World in 80 Days - Jules Verne Part 2 of 2</td>\n",
       "            <td>DBS Audiobooks</td>\n",
       "        </tr>\n",
       "        <tr>\n",
       "            <td>spotify:track:4VgaJXj74OTEkA1GR1Kq2W</td>\n",
       "            <td>White Fang - Jack London Part 2 of 2</td>\n",
       "            <td>DBS Audiobooks</td>\n",
       "        </tr>\n",
       "        <tr>\n",
       "            <td>spotify:track:1fhjy7TN9qJVhwTx5qDCqZ</td>\n",
       "            <td>Lounge de Brazil (Continuous Mix)</td>\n",
       "            <td>DJ Maretimo</td>\n",
       "        </tr>\n",
       "        <tr>\n",
       "            <td>spotify:track:3uMIfxV8q5tPTWzJh8s6Mk</td>\n",
       "            <td>One Love Manchester - Live from One Love Manchester</td>\n",
       "            <td>Various Artists</td>\n",
       "        </tr>\n",
       "        <tr>\n",
       "            <td>spotify:track:1SH89j31E5M1cjvuhD9W1l</td>\n",
       "            <td>Ibiza House Opening (Continuous Mix)</td>\n",
       "            <td>DJ Maretimo</td>\n",
       "        </tr>\n",
       "        <tr>\n",
       "            <td>spotify:track:2WMoUp91y44m63pRYooHRO</td>\n",
       "            <td>The Strange Case of Dr Jekyll and Mr Hyde - Robert Louis Stevenson</td>\n",
       "            <td>DBS Audiobooks</td>\n",
       "        </tr>\n",
       "        <tr>\n",
       "            <td>spotify:track:35Vz5sWeVVs0daA4og1UxR</td>\n",
       "            <td>Alice&#x27;s Adventures in Wonderland - Lewis Carroll</td>\n",
       "            <td>DBS Audiobooks</td>\n",
       "        </tr>\n",
       "        <tr>\n",
       "            <td>spotify:track:1KzLyjpjIRHuuj4iX8QsC2</td>\n",
       "            <td>Monstercat Podcast EP. 100</td>\n",
       "            <td>Monstercat</td>\n",
       "        </tr>\n",
       "        <tr>\n",
       "            <td>spotify:track:1hdIe1kioyS4ZUgBLoLNBM</td>\n",
       "            <td>B-Sides 1 - YouTube Mix</td>\n",
       "            <td>relaxdaily</td>\n",
       "        </tr>\n",
       "        <tr>\n",
       "            <td>spotify:track:4mjgNE8R31AzxWfPNGtVMf</td>\n",
       "            <td>Best of 2015 (Album Mix)</td>\n",
       "            <td>Monstercat</td>\n",
       "        </tr>\n",
       "        <tr>\n",
       "            <td>spotify:track:5CmMyiq4um2aFhiLZ1rPWo</td>\n",
       "            <td>Best of 2016 (Album Mix)</td>\n",
       "            <td>Monstercat</td>\n",
       "        </tr>\n",
       "        <tr>\n",
       "            <td>spotify:track:4Rr5z6DzxugPGu6LeeJYjm</td>\n",
       "            <td>Fiesta Noventera</td>\n",
       "            <td>DJ Krlos Berrospi</td>\n",
       "        </tr>\n",
       "        <tr>\n",
       "            <td>spotify:track:7ELiwi6aYvGOXdnls4Impo</td>\n",
       "            <td>1.5 (2014 Mix)</td>\n",
       "            <td>relaxdaily</td>\n",
       "        </tr>\n",
       "        <tr>\n",
       "            <td>spotify:track:015XT3VOG24Vd1cDoJniF3</td>\n",
       "            <td>B-Sides N°1 (2014 Mix)</td>\n",
       "            <td>relaxdaily</td>\n",
       "        </tr>\n",
       "        <tr>\n",
       "            <td>spotify:track:25swt80Z4cAKdJYPlI0FVG</td>\n",
       "            <td>Ocean Breeze (2014 Mix)</td>\n",
       "            <td>relaxdaily</td>\n",
       "        </tr>\n",
       "        <tr>\n",
       "            <td>spotify:track:5VF3WU6AGt71u6xzhFkCvJ</td>\n",
       "            <td>Sunset Beach House &amp; Chill Out Lounge 2012 Mix</td>\n",
       "            <td>Continuous DJ Mix</td>\n",
       "        </tr>\n",
       "        <tr>\n",
       "            <td>spotify:track:26nKuCDkXhCdQHtpbQyUpo</td>\n",
       "            <td>Surah Al Baqara</td>\n",
       "            <td>Sheikh Mishary Alafasy</td>\n",
       "        </tr>\n",
       "        <tr>\n",
       "            <td>spotify:track:5444f6ritDXHPfRDS151y1</td>\n",
       "            <td>Monstercat Podcast EP. 060 (Contact Album Special)</td>\n",
       "            <td>Monstercat</td>\n",
       "        </tr>\n",
       "        <tr>\n",
       "            <td>spotify:track:0r0p0FwhURFYVqNs46xAkw</td>\n",
       "            <td>Monstercat Podcast EP. 127 (2016 Mix Contest Finalists)</td>\n",
       "            <td>Monstercat</td>\n",
       "        </tr>\n",
       "        <tr>\n",
       "            <td>spotify:track:0LZLefgeVnD2TikjZBqtmS</td>\n",
       "            <td>Gentle Sleep Talk-Down (With Ocean Sounds)</td>\n",
       "            <td>The Honest Guys</td>\n",
       "        </tr>\n",
       "        <tr>\n",
       "            <td>spotify:track:0l8QDtOE3RXfK2ryFIZITE</td>\n",
       "            <td>Monstercat Podcast EP. 087 (Threshold Album Special)</td>\n",
       "            <td>Monstercat</td>\n",
       "        </tr>\n",
       "        <tr>\n",
       "            <td>spotify:track:47nZevI3hkuMbdCE9IDeVk</td>\n",
       "            <td>Birds in Rain - Spring Ambience - 120 Minutes Relax and Refresh Energy</td>\n",
       "            <td>Pawel R. Stan</td>\n",
       "        </tr>\n",
       "        <tr>\n",
       "            <td>spotify:track:57u4RUJ7PG5V7es1BRvv1L</td>\n",
       "            <td>Fart Sounds - Over 2000 Farts 2 Hours</td>\n",
       "            <td>Fart Fest</td>\n",
       "        </tr>\n",
       "        <tr>\n",
       "            <td>spotify:track:4EfnXOGpCDrVdHIIftKFHD</td>\n",
       "            <td>Study Aid 2.0 - Low Alpha BiNaural Beats - Accelerated Learning Super Concentration</td>\n",
       "            <td>Healing4Happiness</td>\n",
       "        </tr>\n",
       "        <tr>\n",
       "            <td>spotify:track:0bmo63xxHjwTwcay4172ji</td>\n",
       "            <td>Manifest Your Desires Lecture</td>\n",
       "            <td>Gabrielle Bernstein</td>\n",
       "        </tr>\n",
       "        <tr>\n",
       "            <td>spotify:track:3zqyN30BgFHfQQIO6D7Up3</td>\n",
       "            <td>Monstercat Podcast EP. 070 (Mix Contest Finals)</td>\n",
       "            <td>Monstercat</td>\n",
       "        </tr>\n",
       "        <tr>\n",
       "            <td>spotify:track:3Y4UoZ4Nzsu8yUEcYsYz3q</td>\n",
       "            <td>Monstercat Podcast (023 Voyage Edition)</td>\n",
       "            <td>Monstercat</td>\n",
       "        </tr>\n",
       "        <tr>\n",
       "            <td>spotify:track:4IjwENtDPy4KqpnU9iBBca</td>\n",
       "            <td>Año Nuevo 2017</td>\n",
       "            <td>DJ Luigi</td>\n",
       "        </tr>\n",
       "        <tr>\n",
       "            <td>spotify:track:2mcWEUAA2lRe1jScb7cS1j</td>\n",
       "            <td>Winter Time, Vol. 4 (Continuous Mix)</td>\n",
       "            <td>DJ Maretimo</td>\n",
       "        </tr>\n",
       "        <tr>\n",
       "            <td>spotify:track:5XlDdpr9HgTEyBSOhSq8ip</td>\n",
       "            <td>Mix Obsesionado</td>\n",
       "            <td>DJ Snaz</td>\n",
       "        </tr>\n",
       "        <tr>\n",
       "            <td>spotify:track:6IcP2m9ApIlOHPiVIzb4Xo</td>\n",
       "            <td>Mix Gozadera (feat. Andres Sovero)</td>\n",
       "            <td>DJ Krlos Berrospi</td>\n",
       "        </tr>\n",
       "        <tr>\n",
       "            <td>spotify:track:3YuEuwO2qemWFsIUGaAoc7</td>\n",
       "            <td>432 Hz Miracle Sleep Tones</td>\n",
       "            <td>Jason Stephenson</td>\n",
       "        </tr>\n",
       "        <tr>\n",
       "            <td>spotify:track:7EMI7O5VVLaPlbzU5bXrRd</td>\n",
       "            <td>Uncaged Vol. 2 Album Mix</td>\n",
       "            <td>Monstercat</td>\n",
       "        </tr>\n",
       "        <tr>\n",
       "            <td>spotify:track:5ZmWkQoDZEv4l1cZ12Kq62</td>\n",
       "            <td>Part of the Dream - Continuous DJ Mix</td>\n",
       "            <td>Vini Vici</td>\n",
       "        </tr>\n",
       "        <tr>\n",
       "            <td>spotify:track:1TwT7bLLk0buaIJ9ZvuXRa</td>\n",
       "            <td>Dubstep 100 Top Hits Bass Blast (Trap DnB DrumStep 2hr DJ Mix 2016)</td>\n",
       "            <td>Dubster Spook</td>\n",
       "        </tr>\n",
       "        <tr>\n",
       "            <td>spotify:track:6jvMmRtSzoEibQGrQkSISQ</td>\n",
       "            <td>Monstercat Best of 2012</td>\n",
       "            <td>Monstercat</td>\n",
       "        </tr>\n",
       "        <tr>\n",
       "            <td>spotify:track:1fJfbaxWzngzKcs7oZXyaU</td>\n",
       "            <td>Uncaged Vol. 1 Album Mix</td>\n",
       "            <td>Monstercat</td>\n",
       "        </tr>\n",
       "        <tr>\n",
       "            <td>spotify:track:7Bqhue1yVfeNSY9bpafNDo</td>\n",
       "            <td>El Santo (Remix)</td>\n",
       "            <td>DJ Krlos Berrospi</td>\n",
       "        </tr>\n",
       "        <tr>\n",
       "            <td>spotify:track:0tFT1PFYKfjBGDTZlivRfY</td>\n",
       "            <td>Rainstorm Ambience with Thunder Rolls and Peels</td>\n",
       "            <td>Nature Sounds</td>\n",
       "        </tr>\n",
       "        <tr>\n",
       "            <td>spotify:track:7BOvbAZGtyzNjCqEXB7200</td>\n",
       "            <td>Tranquil Rain Shower Ambience</td>\n",
       "            <td>Nature Sounds</td>\n",
       "        </tr>\n",
       "        <tr>\n",
       "            <td>spotify:track:3yTjnwLDFIPkZLVmQfnW4q</td>\n",
       "            <td>Mix Cucharita, #2</td>\n",
       "            <td>DJ Krlos Berrospi</td>\n",
       "        </tr>\n",
       "        <tr>\n",
       "            <td>spotify:track:4m0xBaVMkGx4ccxZ5P1OqY</td>\n",
       "            <td>Study Music One with Alpha Waves for Super Learning</td>\n",
       "            <td>Healing4Happiness</td>\n",
       "        </tr>\n",
       "        <tr>\n",
       "            <td>spotify:track:7floOd3e0iNHrys04VGzZ2</td>\n",
       "            <td>Bombs Away &amp; Tenzin Bombsquad Continuous DJ Mix</td>\n",
       "            <td>Various Artists</td>\n",
       "        </tr>\n",
       "        <tr>\n",
       "            <td>spotify:track:2lLVvnISHNSOBLcaxWBZdb</td>\n",
       "            <td>Press Start (Album Mix)</td>\n",
       "            <td>Ninety9lives</td>\n",
       "        </tr>\n",
       "        <tr>\n",
       "            <td>spotify:track:25hKpvJzkVPFCW4x2vNwZM</td>\n",
       "            <td>Visiting The Classics Mix</td>\n",
       "            <td>Pablo Bolivar</td>\n",
       "        </tr>\n",
       "        <tr>\n",
       "            <td>spotify:track:0NzNkyTt3mloJD54PpwyZD</td>\n",
       "            <td>Monstercat Podcast EP. 086 (Staff Picks 2015)</td>\n",
       "            <td>Monstercat</td>\n",
       "        </tr>\n",
       "        <tr>\n",
       "            <td>spotify:track:5zZ89yNXzudPYJ5Zfx65XN</td>\n",
       "            <td>Mix Cucharita</td>\n",
       "            <td>DJ Krlos Berrospi</td>\n",
       "        </tr>\n",
       "        <tr>\n",
       "            <td>spotify:track:3iAcsVemTZqQdLPar28N5d</td>\n",
       "            <td>Stefano Noferini Club Edition Ibiza Session 2010 - Continuous Mix</td>\n",
       "            <td>Stefano Noferini</td>\n",
       "        </tr>\n",
       "        <tr>\n",
       "            <td>spotify:track:4MmYYen2ZPBQdTJb6jIgWL</td>\n",
       "            <td>Higer Spirits Guided Meditation</td>\n",
       "            <td>eMorphiX Guided Meditation</td>\n",
       "        </tr>\n",
       "        <tr>\n",
       "            <td>spotify:track:4PCfg4tnsuURUAfKoPmMrE</td>\n",
       "            <td>Grey Noise (90 Minutes) [For Colic, Fussy, Restless, Troubled, Crying Baby]</td>\n",
       "            <td>Sound Dreamer</td>\n",
       "        </tr>\n",
       "        <tr>\n",
       "            <td>spotify:track:7foc25ig7dibxvULPU2kBG</td>\n",
       "            <td>Brown Noise - 90 Minutes</td>\n",
       "            <td>Sound Dreamer</td>\n",
       "        </tr>\n",
       "        <tr>\n",
       "            <td>spotify:track:6pi3WZ1UnOnFlPoKuoo7YE</td>\n",
       "            <td>Blue Noise - 90 Minutes</td>\n",
       "            <td>Sound Dreamer</td>\n",
       "        </tr>\n",
       "        <tr>\n",
       "            <td>spotify:track:3fMzqA63YYbU29Y7HOPYRC</td>\n",
       "            <td>Level up (Album Mix)</td>\n",
       "            <td>Ninety9lives</td>\n",
       "        </tr>\n",
       "        <tr>\n",
       "            <td>spotify:track:4rloIxxV5TbeFha65k3BB5</td>\n",
       "            <td>Selva Tropical Con Truenos y Lluvia: Sonidos de la Naturaleza - Edición Especial</td>\n",
       "            <td>Amadeus</td>\n",
       "        </tr>\n",
       "        <tr>\n",
       "            <td>spotify:track:4V288hix8kxpgLMtQJZEUF</td>\n",
       "            <td>Ruscello di montagna con piogge estive: suoni naturali - 90 minuti: edizione speciale</td>\n",
       "            <td>Amadeus</td>\n",
       "        </tr>\n",
       "        <tr>\n",
       "            <td>spotify:track:1YBA6PuLlIrjNr9Hxl7qcj</td>\n",
       "            <td>Heavy Rains with Thunder and Lightning - Natural Sounds of Nature</td>\n",
       "            <td>Amadeus</td>\n",
       "        </tr>\n",
       "        <tr>\n",
       "            <td>spotify:track:0P2eVlS7CqKZJuKW9nZagT</td>\n",
       "            <td>Selva Tropical Con el Río de Verano: Sonidos Naturales - Edición Especial</td>\n",
       "            <td>Amadeus</td>\n",
       "        </tr>\n",
       "        <tr>\n",
       "            <td>spotify:track:3xWsL85Ix1TTWgvaLqEzPj</td>\n",
       "            <td>Faze DJ-Set 10 - Continuous DJ Mix</td>\n",
       "            <td>Oliver Koletzki</td>\n",
       "        </tr>\n",
       "        <tr>\n",
       "            <td>spotify:track:6A30hRxgNktJNtCd4oN7Ds</td>\n",
       "            <td>Desparcia By Queens</td>\n",
       "            <td>DJ Luigi</td>\n",
       "        </tr>\n",
       "        <tr>\n",
       "            <td>spotify:track:1gNlPGGyQ4FKTqGBTrUgEg</td>\n",
       "            <td>Relaxing Sounds of the Jungle (Sounds of Nature)</td>\n",
       "            <td>Healing Sounds for Deep Sleep and Relaxation</td>\n",
       "        </tr>\n",
       "        <tr>\n",
       "            <td>spotify:track:5rhsEcLtBWMz7yTiKrV8Hf</td>\n",
       "            <td>Evening Crickets: Relaxing Sounds of Nature</td>\n",
       "            <td>Healing Sounds for Deep Sleep and Relaxation</td>\n",
       "        </tr>\n",
       "        <tr>\n",
       "            <td>spotify:track:5ZLWwjVbJXoA2BirwVFdYp</td>\n",
       "            <td>By the Sea: Ocean Waves for Relaxation (Relaxing Sounds of Nature)</td>\n",
       "            <td>Healing Sounds for Deep Sleep and Relaxation</td>\n",
       "        </tr>\n",
       "        <tr>\n",
       "            <td>spotify:track:1X84fn12ApsMqNiZCs8AvL</td>\n",
       "            <td>Nocturnal Grooves Volume 1 mixed by The Shapeshifters [Full Length DJ Mix]</td>\n",
       "            <td>The Shapeshifters</td>\n",
       "        </tr>\n",
       "        <tr>\n",
       "            <td>spotify:track:3zT0inYFfvS5gC2QaDuy7n</td>\n",
       "            <td>The Difference Between Success and Failure</td>\n",
       "            <td>Napoleon Hill</td>\n",
       "        </tr>\n",
       "        <tr>\n",
       "            <td>spotify:track:18LVRNOcbEk9i1vRkgPFOv</td>\n",
       "            <td>Faze DJ-Set 08 - Continuous DJ Mix</td>\n",
       "            <td>HOSH</td>\n",
       "        </tr>\n",
       "        <tr>\n",
       "            <td>spotify:track:66EUs24hETcU00rtqQp06T</td>\n",
       "            <td>Minimal Techno Continuous Mix</td>\n",
       "            <td>Minimal Techno</td>\n",
       "        </tr>\n",
       "        <tr>\n",
       "            <td>spotify:track:7jTxNjSwPcPjSbK8829Vno</td>\n",
       "            <td>Surah Al-Araf</td>\n",
       "            <td>Sheikh Mishary Rashid Alfasay</td>\n",
       "        </tr>\n",
       "        <tr>\n",
       "            <td>spotify:track:6gHzc2rZzX7s18UVAg0fOQ</td>\n",
       "            <td>Nocturnal Grooves Volume 2 mixed by The Shapeshifters</td>\n",
       "            <td>The Shapeshifters</td>\n",
       "        </tr>\n",
       "        <tr>\n",
       "            <td>spotify:track:2zB79bs86aqT0kRTrrPO9P</td>\n",
       "            <td>Rage Quit Album Mix</td>\n",
       "            <td>Ninety9lives</td>\n",
       "        </tr>\n",
       "        <tr>\n",
       "            <td>spotify:track:2RlJ10HjSGYC6hxt14P5YN</td>\n",
       "            <td>9JA Jamz Vol8 - 1</td>\n",
       "            <td>Best of 9JA</td>\n",
       "        </tr>\n",
       "        <tr>\n",
       "            <td>spotify:track:5Xw6lb0uihnYibRfC9d0rA</td>\n",
       "            <td>Continuous DJ Mix</td>\n",
       "            <td>Toni Simonen</td>\n",
       "        </tr>\n",
       "        <tr>\n",
       "            <td>spotify:track:4Gxt32xdTNscLnQGzKy2G3</td>\n",
       "            <td>Exit (Continous DJ Mix) - Continuous DJ Mix</td>\n",
       "            <td>Oliver Schories</td>\n",
       "        </tr>\n",
       "        <tr>\n",
       "            <td>spotify:track:09WyC2DIQZVrXW7GUraSbP</td>\n",
       "            <td>Dancehall Mix Tape, Vol. 3 (Continuous Mix)</td>\n",
       "            <td>Buju Banton</td>\n",
       "        </tr>\n",
       "        <tr>\n",
       "            <td>spotify:track:2tiLlHb3gjshAnYOrmG5CZ</td>\n",
       "            <td>Along The Road</td>\n",
       "            <td>Dinka</td>\n",
       "        </tr>\n",
       "        <tr>\n",
       "            <td>spotify:track:0Ly1yJkEkmyNOj4BjJHLHf</td>\n",
       "            <td>Mykonos Summer Guide 2012 (Part 2) - Mixed By Cedric Zeyenne</td>\n",
       "            <td>DJ Mix</td>\n",
       "        </tr>\n",
       "        <tr>\n",
       "            <td>spotify:track:6NePIg4RRkVQz1mVnUSGuE</td>\n",
       "            <td>Dancehall Mix Tape, Vol.1 (Continuous Mix)</td>\n",
       "            <td>Cham</td>\n",
       "        </tr>\n",
       "        <tr>\n",
       "            <td>spotify:track:7hMpOwTS5n6wUbaqJdlb9r</td>\n",
       "            <td>Will Power</td>\n",
       "            <td>Napoleon Hill</td>\n",
       "        </tr>\n",
       "        <tr>\n",
       "            <td>spotify:track:5HvTClrKDquWiNh4E3gDum</td>\n",
       "            <td>Nature Sounds for Sleep: Exotic Jungle</td>\n",
       "            <td>Jamie Llewellyn</td>\n",
       "        </tr>\n",
       "        <tr>\n",
       "            <td>spotify:track:0dKtmzOsVGmk7G6M9SvFMV</td>\n",
       "            <td>Systematic Deep House Dj Mix</td>\n",
       "            <td>Various Artists</td>\n",
       "        </tr>\n",
       "        <tr>\n",
       "            <td>spotify:track:3PmwiLyD0yPI63SsglmPN5</td>\n",
       "            <td>Surah An-Nisa</td>\n",
       "            <td>Sheikh Mishary Rashid Alfasay</td>\n",
       "        </tr>\n",
       "        <tr>\n",
       "            <td>spotify:track:0m2OwWBLqxTnexqcmicez0</td>\n",
       "            <td>Continuous Mix 1</td>\n",
       "            <td>Total Fitness Music</td>\n",
       "        </tr>\n",
       "        <tr>\n",
       "            <td>spotify:track:64JHtq2gdCZ7c0PPt2h05L</td>\n",
       "            <td>Lucid Summer DJ Mix</td>\n",
       "            <td>Nadja Lind</td>\n",
       "        </tr>\n",
       "        <tr>\n",
       "            <td>spotify:track:3IG9msuvoyDjJlt2DL0ZIn</td>\n",
       "            <td>Monster Tunes Yearmix 2011 - Mixed by Mark Eteson</td>\n",
       "            <td>Mark Eteson</td>\n",
       "        </tr>\n",
       "        <tr>\n",
       "            <td>spotify:track:2v0eE85h3G3U20zAwnkgaD</td>\n",
       "            <td>Purobeach, Vol. 4 Compiled By Ben Sowton - Continuous Mix 1</td>\n",
       "            <td>Ben Sowton</td>\n",
       "        </tr>\n",
       "        <tr>\n",
       "            <td>spotify:track:5KTzFd8PFdqXRc3vWO1lod</td>\n",
       "            <td>Greatest Hits &amp; Remixes - Continuous Mix</td>\n",
       "            <td>Paul Oakenfold</td>\n",
       "        </tr>\n",
       "        <tr>\n",
       "            <td>spotify:track:2ke1acDnvSCgDeZT6X7dm0</td>\n",
       "            <td>9JA Jamz Vol.6 - 6</td>\n",
       "            <td>Best of 9JA</td>\n",
       "        </tr>\n",
       "        <tr>\n",
       "            <td>spotify:track:2K3AR9sW26ssTjTE6awPSA</td>\n",
       "            <td>Selected Remixes 2004-2008 Mixed by Jimpster</td>\n",
       "            <td>Jimpster</td>\n",
       "        </tr>\n",
       "        <tr>\n",
       "            <td>spotify:track:07towwJK629ae6VUSA8GqQ</td>\n",
       "            <td>Hardcore Heaven 4 - Part 2 - Continuous Mix by Kevin Energy</td>\n",
       "            <td>Kevin Energy</td>\n",
       "        </tr>\n",
       "        <tr>\n",
       "            <td>spotify:track:7y17uBXUe6kfDG4CWL1KdU</td>\n",
       "            <td>Ku De Ta Vol. 5 (By Jim Breese &amp; Btk)</td>\n",
       "            <td>Ku De Ta</td>\n",
       "        </tr>\n",
       "        <tr>\n",
       "            <td>spotify:track:6RvVdshlbG4mlcAnVFtMEK</td>\n",
       "            <td>Continuous Dj Mix - Original Mix</td>\n",
       "            <td>Stunna</td>\n",
       "        </tr>\n",
       "        <tr>\n",
       "            <td>spotify:track:2huuXe4xnfE6OizybnW6Zm</td>\n",
       "            <td>9JA Jamz Vol.10 Mixed by DJ Ebou</td>\n",
       "            <td>DJ Ebou</td>\n",
       "        </tr>\n",
       "    </tbody>\n",
       "</table>"
      ],
      "text/plain": [
       "[('spotify:track:65qH0fE7j8MrtvWFnBmm87', 'The Hound of the Baskervilles - Sir Arthur Conan Doyle', 'DBS Audiobooks'),\n",
       " ('spotify:track:4tDn5LVzkl7KXQqR5Avrmh', 'The Adventures of Sherlock Holmes - Sir Arthur Conan Doyle Part 1 of 2', 'DBS Audiobooks'),\n",
       " ('spotify:track:15y3JWNQ9K0K00LC0Y5ZtT', 'The Invisible Man - H G Wells', 'DBS Audiobooks'),\n",
       " ('spotify:track:1v9wpNeMOjjhRAaXJ30bTY', 'The Phantom of the Opera - Gaston Leroux Part 1 of 2', 'DBS Audiobooks'),\n",
       " ('spotify:track:5rG8C2j2GssqEqobZ38sCq', 'White Fang - Jack London Part 1 of 2', 'DBS Audiobooks'),\n",
       " ('spotify:track:0ZGoCEjYH7cdHBQGk73rWe', 'The Lost World - Sir Arthur Conan Doyle Part 1 of 2', 'DBS Audiobooks'),\n",
       " ('spotify:track:27tII5RHfICODr5ZPOveQC', 'The Phantom of the Opera - Gaston Leroux Part 2 of 2', 'DBS Audiobooks'),\n",
       " ('spotify:track:6ZrMSD58Au73IdqJyvicin', 'The Memoirs of Sherlock Holmes - Sir Arthur Conan Doyle Part 1 of 2', 'DBS Audiobooks'),\n",
       " ('spotify:track:5AepatdtiMzpghbJL6waSA', 'Around the World in 80 Days - Jules Verne Part 1 of 2', 'DBS Audiobooks'),\n",
       " ('spotify:track:2OMFMcSHeyCQtkXXwwtPVa', 'Around the World in 80 Days - Jules Verne Part 2 of 2', 'DBS Audiobooks'),\n",
       " ('spotify:track:4VgaJXj74OTEkA1GR1Kq2W', 'White Fang - Jack London Part 2 of 2', 'DBS Audiobooks'),\n",
       " ('spotify:track:1fhjy7TN9qJVhwTx5qDCqZ', 'Lounge de Brazil (Continuous Mix)', 'DJ Maretimo'),\n",
       " ('spotify:track:3uMIfxV8q5tPTWzJh8s6Mk', 'One Love Manchester - Live from One Love Manchester', 'Various Artists'),\n",
       " ('spotify:track:1SH89j31E5M1cjvuhD9W1l', 'Ibiza House Opening (Continuous Mix)', 'DJ Maretimo'),\n",
       " ('spotify:track:2WMoUp91y44m63pRYooHRO', 'The Strange Case of Dr Jekyll and Mr Hyde - Robert Louis Stevenson', 'DBS Audiobooks'),\n",
       " ('spotify:track:35Vz5sWeVVs0daA4og1UxR', \"Alice's Adventures in Wonderland - Lewis Carroll\", 'DBS Audiobooks'),\n",
       " ('spotify:track:1KzLyjpjIRHuuj4iX8QsC2', 'Monstercat Podcast EP. 100', 'Monstercat'),\n",
       " ('spotify:track:1hdIe1kioyS4ZUgBLoLNBM', 'B-Sides 1 - YouTube Mix', 'relaxdaily'),\n",
       " ('spotify:track:4mjgNE8R31AzxWfPNGtVMf', 'Best of 2015 (Album Mix)', 'Monstercat'),\n",
       " ('spotify:track:5CmMyiq4um2aFhiLZ1rPWo', 'Best of 2016 (Album Mix)', 'Monstercat'),\n",
       " ('spotify:track:4Rr5z6DzxugPGu6LeeJYjm', 'Fiesta Noventera', 'DJ Krlos Berrospi'),\n",
       " ('spotify:track:7ELiwi6aYvGOXdnls4Impo', '1.5 (2014 Mix)', 'relaxdaily'),\n",
       " ('spotify:track:015XT3VOG24Vd1cDoJniF3', 'B-Sides N°1 (2014 Mix)', 'relaxdaily'),\n",
       " ('spotify:track:25swt80Z4cAKdJYPlI0FVG', 'Ocean Breeze (2014 Mix)', 'relaxdaily'),\n",
       " ('spotify:track:5VF3WU6AGt71u6xzhFkCvJ', 'Sunset Beach House & Chill Out Lounge 2012 Mix', 'Continuous DJ Mix'),\n",
       " ('spotify:track:26nKuCDkXhCdQHtpbQyUpo', 'Surah Al Baqara', 'Sheikh Mishary Alafasy'),\n",
       " ('spotify:track:5444f6ritDXHPfRDS151y1', 'Monstercat Podcast EP. 060 (Contact Album Special)', 'Monstercat'),\n",
       " ('spotify:track:0r0p0FwhURFYVqNs46xAkw', 'Monstercat Podcast EP. 127 (2016 Mix Contest Finalists)', 'Monstercat'),\n",
       " ('spotify:track:0LZLefgeVnD2TikjZBqtmS', 'Gentle Sleep Talk-Down (With Ocean Sounds)', 'The Honest Guys'),\n",
       " ('spotify:track:0l8QDtOE3RXfK2ryFIZITE', 'Monstercat Podcast EP. 087 (Threshold Album Special)', 'Monstercat'),\n",
       " ('spotify:track:47nZevI3hkuMbdCE9IDeVk', 'Birds in Rain - Spring Ambience - 120 Minutes Relax and Refresh Energy', 'Pawel R. Stan'),\n",
       " ('spotify:track:57u4RUJ7PG5V7es1BRvv1L', 'Fart Sounds - Over 2000 Farts 2 Hours', 'Fart Fest'),\n",
       " ('spotify:track:4EfnXOGpCDrVdHIIftKFHD', 'Study Aid 2.0 - Low Alpha BiNaural Beats - Accelerated Learning Super Concentration', 'Healing4Happiness'),\n",
       " ('spotify:track:0bmo63xxHjwTwcay4172ji', 'Manifest Your Desires Lecture', 'Gabrielle Bernstein'),\n",
       " ('spotify:track:3zqyN30BgFHfQQIO6D7Up3', 'Monstercat Podcast EP. 070 (Mix Contest Finals)', 'Monstercat'),\n",
       " ('spotify:track:3Y4UoZ4Nzsu8yUEcYsYz3q', 'Monstercat Podcast (023 Voyage Edition)', 'Monstercat'),\n",
       " ('spotify:track:4IjwENtDPy4KqpnU9iBBca', 'Año Nuevo 2017', 'DJ Luigi'),\n",
       " ('spotify:track:2mcWEUAA2lRe1jScb7cS1j', 'Winter Time, Vol. 4 (Continuous Mix)', 'DJ Maretimo'),\n",
       " ('spotify:track:5XlDdpr9HgTEyBSOhSq8ip', 'Mix Obsesionado', 'DJ Snaz'),\n",
       " ('spotify:track:6IcP2m9ApIlOHPiVIzb4Xo', 'Mix Gozadera (feat. Andres Sovero)', 'DJ Krlos Berrospi'),\n",
       " ('spotify:track:3YuEuwO2qemWFsIUGaAoc7', '432 Hz Miracle Sleep Tones', 'Jason Stephenson'),\n",
       " ('spotify:track:7EMI7O5VVLaPlbzU5bXrRd', 'Uncaged Vol. 2 Album Mix', 'Monstercat'),\n",
       " ('spotify:track:5ZmWkQoDZEv4l1cZ12Kq62', 'Part of the Dream - Continuous DJ Mix', 'Vini Vici'),\n",
       " ('spotify:track:1TwT7bLLk0buaIJ9ZvuXRa', 'Dubstep 100 Top Hits Bass Blast (Trap DnB DrumStep 2hr DJ Mix 2016)', 'Dubster Spook'),\n",
       " ('spotify:track:6jvMmRtSzoEibQGrQkSISQ', 'Monstercat Best of 2012', 'Monstercat'),\n",
       " ('spotify:track:1fJfbaxWzngzKcs7oZXyaU', 'Uncaged Vol. 1 Album Mix', 'Monstercat'),\n",
       " ('spotify:track:7Bqhue1yVfeNSY9bpafNDo', 'El Santo (Remix)', 'DJ Krlos Berrospi'),\n",
       " ('spotify:track:0tFT1PFYKfjBGDTZlivRfY', 'Rainstorm Ambience with Thunder Rolls and Peels', 'Nature Sounds'),\n",
       " ('spotify:track:7BOvbAZGtyzNjCqEXB7200', 'Tranquil Rain Shower Ambience', 'Nature Sounds'),\n",
       " ('spotify:track:3yTjnwLDFIPkZLVmQfnW4q', 'Mix Cucharita, #2', 'DJ Krlos Berrospi'),\n",
       " ('spotify:track:4m0xBaVMkGx4ccxZ5P1OqY', 'Study Music One with Alpha Waves for Super Learning', 'Healing4Happiness'),\n",
       " ('spotify:track:7floOd3e0iNHrys04VGzZ2', 'Bombs Away & Tenzin Bombsquad Continuous DJ Mix', 'Various Artists'),\n",
       " ('spotify:track:2lLVvnISHNSOBLcaxWBZdb', 'Press Start (Album Mix)', 'Ninety9lives'),\n",
       " ('spotify:track:25hKpvJzkVPFCW4x2vNwZM', 'Visiting The Classics Mix', 'Pablo Bolivar'),\n",
       " ('spotify:track:0NzNkyTt3mloJD54PpwyZD', 'Monstercat Podcast EP. 086 (Staff Picks 2015)', 'Monstercat'),\n",
       " ('spotify:track:5zZ89yNXzudPYJ5Zfx65XN', 'Mix Cucharita', 'DJ Krlos Berrospi'),\n",
       " ('spotify:track:3iAcsVemTZqQdLPar28N5d', 'Stefano Noferini Club Edition Ibiza Session 2010 - Continuous Mix', 'Stefano Noferini'),\n",
       " ('spotify:track:4MmYYen2ZPBQdTJb6jIgWL', 'Higer Spirits Guided Meditation', 'eMorphiX Guided Meditation'),\n",
       " ('spotify:track:4PCfg4tnsuURUAfKoPmMrE', 'Grey Noise (90 Minutes) [For Colic, Fussy, Restless, Troubled, Crying Baby]', 'Sound Dreamer'),\n",
       " ('spotify:track:7foc25ig7dibxvULPU2kBG', 'Brown Noise - 90 Minutes', 'Sound Dreamer'),\n",
       " ('spotify:track:6pi3WZ1UnOnFlPoKuoo7YE', 'Blue Noise - 90 Minutes', 'Sound Dreamer'),\n",
       " ('spotify:track:3fMzqA63YYbU29Y7HOPYRC', 'Level up (Album Mix)', 'Ninety9lives'),\n",
       " ('spotify:track:4rloIxxV5TbeFha65k3BB5', 'Selva Tropical Con Truenos y Lluvia: Sonidos de la Naturaleza - Edición Especial', 'Amadeus'),\n",
       " ('spotify:track:4V288hix8kxpgLMtQJZEUF', 'Ruscello di montagna con piogge estive: suoni naturali - 90 minuti: edizione speciale', 'Amadeus'),\n",
       " ('spotify:track:1YBA6PuLlIrjNr9Hxl7qcj', 'Heavy Rains with Thunder and Lightning - Natural Sounds of Nature', 'Amadeus'),\n",
       " ('spotify:track:0P2eVlS7CqKZJuKW9nZagT', 'Selva Tropical Con el Río de Verano: Sonidos Naturales - Edición Especial', 'Amadeus'),\n",
       " ('spotify:track:3xWsL85Ix1TTWgvaLqEzPj', 'Faze DJ-Set 10 - Continuous DJ Mix', 'Oliver Koletzki'),\n",
       " ('spotify:track:6A30hRxgNktJNtCd4oN7Ds', 'Desparcia By Queens', 'DJ Luigi'),\n",
       " ('spotify:track:1gNlPGGyQ4FKTqGBTrUgEg', 'Relaxing Sounds of the Jungle (Sounds of Nature)', 'Healing Sounds for Deep Sleep and Relaxation'),\n",
       " ('spotify:track:5rhsEcLtBWMz7yTiKrV8Hf', 'Evening Crickets: Relaxing Sounds of Nature', 'Healing Sounds for Deep Sleep and Relaxation'),\n",
       " ('spotify:track:5ZLWwjVbJXoA2BirwVFdYp', 'By the Sea: Ocean Waves for Relaxation (Relaxing Sounds of Nature)', 'Healing Sounds for Deep Sleep and Relaxation'),\n",
       " ('spotify:track:1X84fn12ApsMqNiZCs8AvL', 'Nocturnal Grooves Volume 1 mixed by The Shapeshifters [Full Length DJ Mix]', 'The Shapeshifters'),\n",
       " ('spotify:track:3zT0inYFfvS5gC2QaDuy7n', 'The Difference Between Success and Failure', 'Napoleon Hill'),\n",
       " ('spotify:track:18LVRNOcbEk9i1vRkgPFOv', 'Faze DJ-Set 08 - Continuous DJ Mix', 'HOSH'),\n",
       " ('spotify:track:66EUs24hETcU00rtqQp06T', 'Minimal Techno Continuous Mix', 'Minimal Techno'),\n",
       " ('spotify:track:7jTxNjSwPcPjSbK8829Vno', 'Surah Al-Araf', 'Sheikh Mishary Rashid Alfasay'),\n",
       " ('spotify:track:6gHzc2rZzX7s18UVAg0fOQ', 'Nocturnal Grooves Volume 2 mixed by The Shapeshifters', 'The Shapeshifters'),\n",
       " ('spotify:track:2zB79bs86aqT0kRTrrPO9P', 'Rage Quit Album Mix', 'Ninety9lives'),\n",
       " ('spotify:track:2RlJ10HjSGYC6hxt14P5YN', '9JA Jamz Vol8 - 1', 'Best of 9JA'),\n",
       " ('spotify:track:5Xw6lb0uihnYibRfC9d0rA', 'Continuous DJ Mix', 'Toni Simonen'),\n",
       " ('spotify:track:4Gxt32xdTNscLnQGzKy2G3', 'Exit (Continous DJ Mix) - Continuous DJ Mix', 'Oliver Schories'),\n",
       " ('spotify:track:09WyC2DIQZVrXW7GUraSbP', 'Dancehall Mix Tape, Vol. 3 (Continuous Mix)', 'Buju Banton'),\n",
       " ('spotify:track:2tiLlHb3gjshAnYOrmG5CZ', 'Along The Road', 'Dinka'),\n",
       " ('spotify:track:0Ly1yJkEkmyNOj4BjJHLHf', 'Mykonos Summer Guide 2012 (Part 2) - Mixed By Cedric Zeyenne', 'DJ Mix'),\n",
       " ('spotify:track:6NePIg4RRkVQz1mVnUSGuE', 'Dancehall Mix Tape, Vol.1 (Continuous Mix)', 'Cham'),\n",
       " ('spotify:track:7hMpOwTS5n6wUbaqJdlb9r', 'Will Power', 'Napoleon Hill'),\n",
       " ('spotify:track:5HvTClrKDquWiNh4E3gDum', 'Nature Sounds for Sleep: Exotic Jungle', 'Jamie Llewellyn'),\n",
       " ('spotify:track:0dKtmzOsVGmk7G6M9SvFMV', 'Systematic Deep House Dj Mix', 'Various Artists'),\n",
       " ('spotify:track:3PmwiLyD0yPI63SsglmPN5', 'Surah An-Nisa', 'Sheikh Mishary Rashid Alfasay'),\n",
       " ('spotify:track:0m2OwWBLqxTnexqcmicez0', 'Continuous Mix 1', 'Total Fitness Music'),\n",
       " ('spotify:track:64JHtq2gdCZ7c0PPt2h05L', 'Lucid Summer DJ Mix', 'Nadja Lind'),\n",
       " ('spotify:track:3IG9msuvoyDjJlt2DL0ZIn', 'Monster Tunes Yearmix 2011 - Mixed by Mark Eteson', 'Mark Eteson'),\n",
       " ('spotify:track:2v0eE85h3G3U20zAwnkgaD', 'Purobeach, Vol. 4 Compiled By Ben Sowton - Continuous Mix 1', 'Ben Sowton'),\n",
       " ('spotify:track:5KTzFd8PFdqXRc3vWO1lod', 'Greatest Hits & Remixes - Continuous Mix', 'Paul Oakenfold'),\n",
       " ('spotify:track:2ke1acDnvSCgDeZT6X7dm0', '9JA Jamz Vol.6 - 6', 'Best of 9JA'),\n",
       " ('spotify:track:2K3AR9sW26ssTjTE6awPSA', 'Selected Remixes 2004-2008 Mixed by Jimpster', 'Jimpster'),\n",
       " ('spotify:track:07towwJK629ae6VUSA8GqQ', 'Hardcore Heaven 4 - Part 2 - Continuous Mix by Kevin Energy', 'Kevin Energy'),\n",
       " ('spotify:track:7y17uBXUe6kfDG4CWL1KdU', 'Ku De Ta Vol. 5 (By Jim Breese & Btk)', 'Ku De Ta'),\n",
       " ('spotify:track:6RvVdshlbG4mlcAnVFtMEK', 'Continuous Dj Mix - Original Mix', 'Stunna'),\n",
       " ('spotify:track:2huuXe4xnfE6OizybnW6Zm', '9JA Jamz Vol.10 Mixed by DJ Ebou', 'DJ Ebou')]"
      ]
     },
     "execution_count": 19,
     "metadata": {},
     "output_type": "execute_result"
    }
   ],
   "source": [
    "%%sql\n",
    "SELECT DISTINCT track_uri, track_name, artist_name\n",
    "FROM song\n",
    "WHERE duration_ms > (\n",
    "    SELECT AVG(duration_ms)\n",
    "    FROM song\n",
    ")\n",
    "ORDER BY duration_ms DESC\n",
    "LIMIT 100;"
   ]
  },
  {
   "cell_type": "markdown",
   "metadata": {},
   "source": [
    "### **4. Solución de preguntas bloque 3 --> Utilizar JOIN**"
   ]
  },
  {
   "cell_type": "markdown",
   "metadata": {},
   "source": [
    "#### **4.1. Calcular la duración total y promedio de todas las canciones en una playlist específica**"
   ]
  },
  {
   "cell_type": "markdown",
   "metadata": {},
   "source": [
    "Esta query es para encontrar la playlist con más canciones, pues es de esta playlist de la que voy a calcular la duración total y promedio de todas las canciones."
   ]
  },
  {
   "cell_type": "code",
   "execution_count": 20,
   "metadata": {},
   "outputs": [
    {
     "name": "stdout",
     "output_type": "stream",
     "text": [
      " * sqlite:///music.db\n",
      "Done.\n"
     ]
    },
    {
     "data": {
      "text/html": [
       "<table>\n",
       "    <thead>\n",
       "        <tr>\n",
       "            <th>pid</th>\n",
       "        </tr>\n",
       "    </thead>\n",
       "    <tbody>\n",
       "        <tr>\n",
       "            <td>864737</td>\n",
       "        </tr>\n",
       "    </tbody>\n",
       "</table>"
      ],
      "text/plain": [
       "[(864737,)]"
      ]
     },
     "execution_count": 20,
     "metadata": {},
     "output_type": "execute_result"
    }
   ],
   "source": [
    "%%sql\n",
    "SELECT pid\n",
    "FROM playlists\n",
    "ORDER BY num_tracks DESC\n",
    "LIMIT 1;"
   ]
  },
  {
   "cell_type": "markdown",
   "metadata": {},
   "source": [
    "En esta query se usa como surquery la consulta anterior para encontrar tanto el total como el promedio de duración de las canciones de esta playlist con más tracks totales."
   ]
  },
  {
   "cell_type": "code",
   "execution_count": 45,
   "metadata": {},
   "outputs": [
    {
     "name": "stdout",
     "output_type": "stream",
     "text": [
      " * sqlite:///music.db\n",
      "Done.\n"
     ]
    },
    {
     "data": {
      "text/html": [
       "<table>\n",
       "    <thead>\n",
       "        <tr>\n",
       "            <th>total_duration_mins</th>\n",
       "            <th>average_duration_mins</th>\n",
       "        </tr>\n",
       "    </thead>\n",
       "    <tbody>\n",
       "        <tr>\n",
       "            <td>1435</td>\n",
       "            <td>3.8164893617021276</td>\n",
       "        </tr>\n",
       "    </tbody>\n",
       "</table>"
      ],
      "text/plain": [
       "[(1435, 3.8164893617021276)]"
      ]
     },
     "execution_count": 45,
     "metadata": {},
     "output_type": "execute_result"
    }
   ],
   "source": [
    "%%sql\n",
    "SELECT SUM(duration_ms/60000) AS total_duration_mins, AVG(duration_ms/60000) AS average_duration_mins\n",
    "FROM song\n",
    "WHERE pid = (\n",
    "    SELECT pid\n",
    "    FROM playlists\n",
    "    ORDER BY num_tracks DESC\n",
    "    LIMIT 1\n",
    ");"
   ]
  },
  {
   "cell_type": "markdown",
   "metadata": {},
   "source": [
    "#### **4.5. Obtener el número promedio de canciones por playlist**"
   ]
  },
  {
   "cell_type": "code",
   "execution_count": 22,
   "metadata": {},
   "outputs": [
    {
     "name": "stdout",
     "output_type": "stream",
     "text": [
      " * sqlite:///music.db\n",
      "Done.\n"
     ]
    },
    {
     "data": {
      "text/html": [
       "<table>\n",
       "    <thead>\n",
       "        <tr>\n",
       "            <th>AVG(num_tracks)</th>\n",
       "        </tr>\n",
       "    </thead>\n",
       "    <tbody>\n",
       "        <tr>\n",
       "            <td>66.2549173553719</td>\n",
       "        </tr>\n",
       "    </tbody>\n",
       "</table>"
      ],
      "text/plain": [
       "[(66.2549173553719,)]"
      ]
     },
     "execution_count": 22,
     "metadata": {},
     "output_type": "execute_result"
    }
   ],
   "source": [
    "%%sql\n",
    "SELECT AVG(num_tracks)\n",
    "FROM playlists;"
   ]
  },
  {
   "cell_type": "markdown",
   "metadata": {},
   "source": [
    "#### **4.7. Contar la cantidad de artistas que tienen más de una canción vs los que tienen sólo una canción**"
   ]
  },
  {
   "cell_type": "code",
   "execution_count": 12,
   "metadata": {},
   "outputs": [
    {
     "name": "stdout",
     "output_type": "stream",
     "text": [
      " * sqlite:////Users/ldvergarav/Library/CloudStorage/OneDrive-Universidaddelosandes/2024-10/Metodos_computacionales/ANTR-2029-ANTRCOMP/music.db\n",
      "   sqlite:///music.db\n",
      "Done.\n"
     ]
    },
    {
     "data": {
      "text/html": [
       "<table>\n",
       "    <thead>\n",
       "        <tr>\n",
       "            <th>artist_category</th>\n",
       "            <th>artist_count</th>\n",
       "        </tr>\n",
       "    </thead>\n",
       "    <tbody>\n",
       "        <tr>\n",
       "            <td>Artistas con una sola canción</td>\n",
       "            <td>78380</td>\n",
       "        </tr>\n",
       "        <tr>\n",
       "            <td>Artistas con varias canciones</td>\n",
       "            <td>141266</td>\n",
       "        </tr>\n",
       "    </tbody>\n",
       "</table>"
      ],
      "text/plain": [
       "[('Artistas con una sola canción', 78380),\n",
       " ('Artistas con varias canciones', 141266)]"
      ]
     },
     "execution_count": 12,
     "metadata": {},
     "output_type": "execute_result"
    }
   ],
   "source": [
    "%%sql\n",
    "SELECT artist_category, COUNT(DISTINCT artist_uri) AS artist_count\n",
    "FROM (\n",
    "    SELECT artist_uri,\n",
    "        CASE\n",
    "            WHEN COUNT(*) > 1 THEN \"Artistas con varias canciones\"\n",
    "            WHEN COUNT(*) = 1 THEN \"Artistas con una sola canción\"\n",
    "        END AS artist_category\n",
    "    FROM song\n",
    "    GROUP BY artist_uri\n",
    ") AS artist_song_count\n",
    "GROUP BY artist_category;"
   ]
  }
 ],
 "metadata": {
  "kernelspec": {
   "display_name": "Python 3",
   "language": "python",
   "name": "python3"
  },
  "language_info": {
   "codemirror_mode": {
    "name": "ipython",
    "version": 3
   },
   "file_extension": ".py",
   "mimetype": "text/x-python",
   "name": "python",
   "nbconvert_exporter": "python",
   "pygments_lexer": "ipython3",
   "version": "3.12.3"
  }
 },
 "nbformat": 4,
 "nbformat_minor": 2
}
