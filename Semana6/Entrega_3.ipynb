{
  "nbformat": 4,
  "nbformat_minor": 0,
  "metadata": {
    "colab": {
      "provenance": []
    },
    "kernelspec": {
      "name": "python3",
      "display_name": "Python 3"
    },
    "language_info": {
      "name": "python"
    }
  },
  "cells": [
    {
      "cell_type": "markdown",
      "source": [],
      "metadata": {
        "id": "vmKN2IFLdDEr"
      }
    },
    {
      "cell_type": "markdown",
      "source": [
        "#Juan Francisco Bernal Calderón\n",
        "## Código: 202010643\n",
        "## Entrega 3"
      ],
      "metadata": {
        "id": "evxjB-tUdFSc"
      }
    },
    {
      "cell_type": "code",
      "source": [
        "%load_ext sql"
      ],
      "metadata": {
        "colab": {
          "base_uri": "https://localhost:8080/"
        },
        "id": "thZyXebZJbqz",
        "outputId": "11a1ec20-9e65-4b87-ff47-c5f6a600cdeb"
      },
      "execution_count": 43,
      "outputs": [
        {
          "output_type": "stream",
          "name": "stdout",
          "text": [
            "The sql extension is already loaded. To reload it, use:\n",
            "  %reload_ext sql\n"
          ]
        }
      ]
    },
    {
      "cell_type": "code",
      "source": [
        "%sql sqlite:///playlist.csv.db"
      ],
      "metadata": {
        "id": "ysmvoTLyJh9q"
      },
      "execution_count": 42,
      "outputs": []
    },
    {
      "cell_type": "code",
      "source": [
        "import sqlite3\n",
        "conn = sqlite3.connect('playlist.csv.db')"
      ],
      "metadata": {
        "id": "oA8wlpLCJoSi"
      },
      "execution_count": 39,
      "outputs": []
    },
    {
      "cell_type": "code",
      "source": [
        "import seaborn as sns"
      ],
      "metadata": {
        "id": "__xUsUwbjUpg"
      },
      "execution_count": 120,
      "outputs": []
    },
    {
      "cell_type": "code",
      "source": [
        "def execute_query(query):\n",
        "    return pd.read_sql_query(query, conn)"
      ],
      "metadata": {
        "id": "HJ-DmD93PmaJ"
      },
      "execution_count": 45,
      "outputs": []
    },
    {
      "cell_type": "code",
      "source": [
        "%%sql\n",
        "SELECT * FROM song LIMIT 10"
      ],
      "metadata": {
        "colab": {
          "base_uri": "https://localhost:8080/",
          "height": 428
        },
        "id": "WyJ-Juc0ccF5",
        "outputId": "26ee0ae3-b21f-426c-99f5-5dc31eb6617f"
      },
      "execution_count": 98,
      "outputs": [
        {
          "output_type": "stream",
          "name": "stdout",
          "text": [
            "   sqlite:///music.db\n",
            " * sqlite:///playlist.csv.db\n",
            "Done.\n"
          ]
        },
        {
          "output_type": "execute_result",
          "data": {
            "text/plain": [
              "[('spotify:track:4SDywo3ykB2PEthjXvo1UP', 6, 0, 'Creedence Clearwater Revival', 'spotify:artist:3IYUhFvPQItj6xySrBmZkd', 'I Put A Spell On You', 'spotify:album:7oIftk0P8cViwNpNEdCYl2', 271786, 'Creedence Clearwater Revival'),\n",
              " ('spotify:track:229SqGbacrLSBfb9XfJczF', 6, 1, 'STRFKR', 'spotify:artist:2Tz1DTzVJ5Gyh8ZwVr6ekU', 'Bury Us Alive', 'spotify:album:5pfqk4oFycMVynOD8S2Cqs', 190360, 'Reptilians'),\n",
              " ('spotify:track:0orNm6qQT2B5WFi0l7l3PV', 6, 2, '311', 'spotify:artist:41Q0HrwWBtuUkJc7C1Rp6K', \"Jackolantern's Weather\", 'spotify:album:6VIeIM5tetuv7FrYxISffU', 204160, '311'),\n",
              " ('spotify:track:1hWQvA6oGVJ2mAVsZ59AaV', 6, 3, 'Nathaniel Rateliff & The Night Sweats', 'spotify:artist:02seUFsFQP7TH4hLrTj77o', 'S.O.B.', 'spotify:album:2UCyiayMoJOwBilPLQPQvK', 247612, 'Nathaniel Rateliff & The Night Sweats'),\n",
              " ('spotify:track:56SkdBKyR2zOkjk6wVFI9s', 6, 4, 'Toadies', 'spotify:artist:2QMMktUMtwMSwUZATX1cRO', 'Possum Kingdom', 'spotify:album:7tFTqVGHceSlXOaz8IylBN', 309573, 'Rubberneck'),\n",
              " ('spotify:track:6y20BV5L33R8YXM0YuI38N', 6, 5, 'Queens of the Stone Age', 'spotify:artist:4pejUc4iciQfgdX6OKulQn', 'No One Knows', 'spotify:album:4w3NeXtywU398NYW4903rY', 278746, 'Songs For The Deaf'),\n",
              " ('spotify:track:6xy6jNeNTYwjnKTDzMyHw2', 6, 6, 'The Cranberries', 'spotify:artist:7t0rwkOPGlDPEhaOcVtOt9', 'Zombie', 'spotify:album:2KsgTeLQXz7yDV1joGOd2L', 306440, 'No Need To Argue (The Complete Sessions 1994-1995)'),\n",
              " ('spotify:track:0rK3iUuoyQp6QReDPzwlYD', 6, 7, 'Misfits', 'spotify:artist:1cXi8ALPQCBHZbf0EgP4Ey', 'Monster Mash', 'spotify:album:6MzZSl19bVR3xWwFCOZyhg', 157000, 'Project 1950'),\n",
              " ('spotify:track:2k5lMt43DRIoEZPuswnULH', 6, 8, 'Misfits', 'spotify:artist:1cXi8ALPQCBHZbf0EgP4Ey', 'Ghouls Night Out - Live', 'spotify:album:4CWxS5ASY9eRE2zXP8BTRd', 102539, 'Evilive'),\n",
              " ('spotify:track:3gN4UFoOnRHlMl3K4kU5zG', 6, 9, 'Misfits', 'spotify:artist:1cXi8ALPQCBHZbf0EgP4Ey', 'Hybrid Moments', 'spotify:album:51tAz06EJxwhsk8uNfWxBo', 102266, 'Static Age')]"
            ],
            "text/html": [
              "<table>\n",
              "    <thead>\n",
              "        <tr>\n",
              "            <th>track_uri</th>\n",
              "            <th>pid</th>\n",
              "            <th>pos</th>\n",
              "            <th>artist_name</th>\n",
              "            <th>artist_uri</th>\n",
              "            <th>track_name</th>\n",
              "            <th>album_uri</th>\n",
              "            <th>duration_ms</th>\n",
              "            <th>album_name</th>\n",
              "        </tr>\n",
              "    </thead>\n",
              "    <tbody>\n",
              "        <tr>\n",
              "            <td>spotify:track:4SDywo3ykB2PEthjXvo1UP</td>\n",
              "            <td>6</td>\n",
              "            <td>0</td>\n",
              "            <td>Creedence Clearwater Revival</td>\n",
              "            <td>spotify:artist:3IYUhFvPQItj6xySrBmZkd</td>\n",
              "            <td>I Put A Spell On You</td>\n",
              "            <td>spotify:album:7oIftk0P8cViwNpNEdCYl2</td>\n",
              "            <td>271786</td>\n",
              "            <td>Creedence Clearwater Revival</td>\n",
              "        </tr>\n",
              "        <tr>\n",
              "            <td>spotify:track:229SqGbacrLSBfb9XfJczF</td>\n",
              "            <td>6</td>\n",
              "            <td>1</td>\n",
              "            <td>STRFKR</td>\n",
              "            <td>spotify:artist:2Tz1DTzVJ5Gyh8ZwVr6ekU</td>\n",
              "            <td>Bury Us Alive</td>\n",
              "            <td>spotify:album:5pfqk4oFycMVynOD8S2Cqs</td>\n",
              "            <td>190360</td>\n",
              "            <td>Reptilians</td>\n",
              "        </tr>\n",
              "        <tr>\n",
              "            <td>spotify:track:0orNm6qQT2B5WFi0l7l3PV</td>\n",
              "            <td>6</td>\n",
              "            <td>2</td>\n",
              "            <td>311</td>\n",
              "            <td>spotify:artist:41Q0HrwWBtuUkJc7C1Rp6K</td>\n",
              "            <td>Jackolantern&#x27;s Weather</td>\n",
              "            <td>spotify:album:6VIeIM5tetuv7FrYxISffU</td>\n",
              "            <td>204160</td>\n",
              "            <td>311</td>\n",
              "        </tr>\n",
              "        <tr>\n",
              "            <td>spotify:track:1hWQvA6oGVJ2mAVsZ59AaV</td>\n",
              "            <td>6</td>\n",
              "            <td>3</td>\n",
              "            <td>Nathaniel Rateliff &amp; The Night Sweats</td>\n",
              "            <td>spotify:artist:02seUFsFQP7TH4hLrTj77o</td>\n",
              "            <td>S.O.B.</td>\n",
              "            <td>spotify:album:2UCyiayMoJOwBilPLQPQvK</td>\n",
              "            <td>247612</td>\n",
              "            <td>Nathaniel Rateliff &amp; The Night Sweats</td>\n",
              "        </tr>\n",
              "        <tr>\n",
              "            <td>spotify:track:56SkdBKyR2zOkjk6wVFI9s</td>\n",
              "            <td>6</td>\n",
              "            <td>4</td>\n",
              "            <td>Toadies</td>\n",
              "            <td>spotify:artist:2QMMktUMtwMSwUZATX1cRO</td>\n",
              "            <td>Possum Kingdom</td>\n",
              "            <td>spotify:album:7tFTqVGHceSlXOaz8IylBN</td>\n",
              "            <td>309573</td>\n",
              "            <td>Rubberneck</td>\n",
              "        </tr>\n",
              "        <tr>\n",
              "            <td>spotify:track:6y20BV5L33R8YXM0YuI38N</td>\n",
              "            <td>6</td>\n",
              "            <td>5</td>\n",
              "            <td>Queens of the Stone Age</td>\n",
              "            <td>spotify:artist:4pejUc4iciQfgdX6OKulQn</td>\n",
              "            <td>No One Knows</td>\n",
              "            <td>spotify:album:4w3NeXtywU398NYW4903rY</td>\n",
              "            <td>278746</td>\n",
              "            <td>Songs For The Deaf</td>\n",
              "        </tr>\n",
              "        <tr>\n",
              "            <td>spotify:track:6xy6jNeNTYwjnKTDzMyHw2</td>\n",
              "            <td>6</td>\n",
              "            <td>6</td>\n",
              "            <td>The Cranberries</td>\n",
              "            <td>spotify:artist:7t0rwkOPGlDPEhaOcVtOt9</td>\n",
              "            <td>Zombie</td>\n",
              "            <td>spotify:album:2KsgTeLQXz7yDV1joGOd2L</td>\n",
              "            <td>306440</td>\n",
              "            <td>No Need To Argue (The Complete Sessions 1994-1995)</td>\n",
              "        </tr>\n",
              "        <tr>\n",
              "            <td>spotify:track:0rK3iUuoyQp6QReDPzwlYD</td>\n",
              "            <td>6</td>\n",
              "            <td>7</td>\n",
              "            <td>Misfits</td>\n",
              "            <td>spotify:artist:1cXi8ALPQCBHZbf0EgP4Ey</td>\n",
              "            <td>Monster Mash</td>\n",
              "            <td>spotify:album:6MzZSl19bVR3xWwFCOZyhg</td>\n",
              "            <td>157000</td>\n",
              "            <td>Project 1950</td>\n",
              "        </tr>\n",
              "        <tr>\n",
              "            <td>spotify:track:2k5lMt43DRIoEZPuswnULH</td>\n",
              "            <td>6</td>\n",
              "            <td>8</td>\n",
              "            <td>Misfits</td>\n",
              "            <td>spotify:artist:1cXi8ALPQCBHZbf0EgP4Ey</td>\n",
              "            <td>Ghouls Night Out - Live</td>\n",
              "            <td>spotify:album:4CWxS5ASY9eRE2zXP8BTRd</td>\n",
              "            <td>102539</td>\n",
              "            <td>Evilive</td>\n",
              "        </tr>\n",
              "        <tr>\n",
              "            <td>spotify:track:3gN4UFoOnRHlMl3K4kU5zG</td>\n",
              "            <td>6</td>\n",
              "            <td>9</td>\n",
              "            <td>Misfits</td>\n",
              "            <td>spotify:artist:1cXi8ALPQCBHZbf0EgP4Ey</td>\n",
              "            <td>Hybrid Moments</td>\n",
              "            <td>spotify:album:51tAz06EJxwhsk8uNfWxBo</td>\n",
              "            <td>102266</td>\n",
              "            <td>Static Age</td>\n",
              "        </tr>\n",
              "    </tbody>\n",
              "</table>"
            ]
          },
          "metadata": {},
          "execution_count": 98
        }
      ]
    },
    {
      "cell_type": "code",
      "source": [
        "%%sql\n",
        "SELECT * FROM playlists LIMIT 10"
      ],
      "metadata": {
        "colab": {
          "base_uri": "https://localhost:8080/",
          "height": 306
        },
        "id": "2gtFvC1Ocuz3",
        "outputId": "2add483a-daf8-40d8-ebab-87a863fbf419"
      },
      "execution_count": 112,
      "outputs": [
        {
          "output_type": "stream",
          "name": "stdout",
          "text": [
            "   sqlite:///music.db\n",
            " * sqlite:///playlist.csv.db\n",
            "Done.\n"
          ]
        },
        {
          "output_type": "execute_result",
          "data": {
            "text/plain": [
              "[('0-999', 0, 1493424000, 52, 47, 1, 6, 11532414, 37),\n",
              " ('0-999', 1, 1506556800, 39, 23, 1, 5, 11656470, 21),\n",
              " ('0-999', 2, 1505692800, 64, 51, 1, 18, 14039958, 31),\n",
              " ('0-999', 3, 1501027200, 126, 107, 1, 4, 28926058, 86),\n",
              " ('0-999', 4, 1401667200, 17, 16, 2, 7, 4335282, 16),\n",
              " ('0-999', 5, 1430956800, 80, 71, 1, 3, 19156557, 56),\n",
              " ('0-999', 6, 1477094400, 16, 15, 1, 2, 3408479, 13),\n",
              " ('0-999', 7, 1509321600, 53, 52, 1, 38, 12674796, 48),\n",
              " ('0-999', 8, 1508976000, 46, 37, 2, 21, 9948921, 23),\n",
              " ('0-999', 9, 1501804800, 21, 20, 1, 10, 4297488, 18)]"
            ],
            "text/html": [
              "<table>\n",
              "    <thead>\n",
              "        <tr>\n",
              "            <th>slice</th>\n",
              "            <th>pid</th>\n",
              "            <th>modified_at</th>\n",
              "            <th>num_tracks</th>\n",
              "            <th>num_albums</th>\n",
              "            <th>num_followers</th>\n",
              "            <th>num_edits</th>\n",
              "            <th>duration_ms</th>\n",
              "            <th>num_artists</th>\n",
              "        </tr>\n",
              "    </thead>\n",
              "    <tbody>\n",
              "        <tr>\n",
              "            <td>0-999</td>\n",
              "            <td>0</td>\n",
              "            <td>1493424000</td>\n",
              "            <td>52</td>\n",
              "            <td>47</td>\n",
              "            <td>1</td>\n",
              "            <td>6</td>\n",
              "            <td>11532414</td>\n",
              "            <td>37</td>\n",
              "        </tr>\n",
              "        <tr>\n",
              "            <td>0-999</td>\n",
              "            <td>1</td>\n",
              "            <td>1506556800</td>\n",
              "            <td>39</td>\n",
              "            <td>23</td>\n",
              "            <td>1</td>\n",
              "            <td>5</td>\n",
              "            <td>11656470</td>\n",
              "            <td>21</td>\n",
              "        </tr>\n",
              "        <tr>\n",
              "            <td>0-999</td>\n",
              "            <td>2</td>\n",
              "            <td>1505692800</td>\n",
              "            <td>64</td>\n",
              "            <td>51</td>\n",
              "            <td>1</td>\n",
              "            <td>18</td>\n",
              "            <td>14039958</td>\n",
              "            <td>31</td>\n",
              "        </tr>\n",
              "        <tr>\n",
              "            <td>0-999</td>\n",
              "            <td>3</td>\n",
              "            <td>1501027200</td>\n",
              "            <td>126</td>\n",
              "            <td>107</td>\n",
              "            <td>1</td>\n",
              "            <td>4</td>\n",
              "            <td>28926058</td>\n",
              "            <td>86</td>\n",
              "        </tr>\n",
              "        <tr>\n",
              "            <td>0-999</td>\n",
              "            <td>4</td>\n",
              "            <td>1401667200</td>\n",
              "            <td>17</td>\n",
              "            <td>16</td>\n",
              "            <td>2</td>\n",
              "            <td>7</td>\n",
              "            <td>4335282</td>\n",
              "            <td>16</td>\n",
              "        </tr>\n",
              "        <tr>\n",
              "            <td>0-999</td>\n",
              "            <td>5</td>\n",
              "            <td>1430956800</td>\n",
              "            <td>80</td>\n",
              "            <td>71</td>\n",
              "            <td>1</td>\n",
              "            <td>3</td>\n",
              "            <td>19156557</td>\n",
              "            <td>56</td>\n",
              "        </tr>\n",
              "        <tr>\n",
              "            <td>0-999</td>\n",
              "            <td>6</td>\n",
              "            <td>1477094400</td>\n",
              "            <td>16</td>\n",
              "            <td>15</td>\n",
              "            <td>1</td>\n",
              "            <td>2</td>\n",
              "            <td>3408479</td>\n",
              "            <td>13</td>\n",
              "        </tr>\n",
              "        <tr>\n",
              "            <td>0-999</td>\n",
              "            <td>7</td>\n",
              "            <td>1509321600</td>\n",
              "            <td>53</td>\n",
              "            <td>52</td>\n",
              "            <td>1</td>\n",
              "            <td>38</td>\n",
              "            <td>12674796</td>\n",
              "            <td>48</td>\n",
              "        </tr>\n",
              "        <tr>\n",
              "            <td>0-999</td>\n",
              "            <td>8</td>\n",
              "            <td>1508976000</td>\n",
              "            <td>46</td>\n",
              "            <td>37</td>\n",
              "            <td>2</td>\n",
              "            <td>21</td>\n",
              "            <td>9948921</td>\n",
              "            <td>23</td>\n",
              "        </tr>\n",
              "        <tr>\n",
              "            <td>0-999</td>\n",
              "            <td>9</td>\n",
              "            <td>1501804800</td>\n",
              "            <td>21</td>\n",
              "            <td>20</td>\n",
              "            <td>1</td>\n",
              "            <td>10</td>\n",
              "            <td>4297488</td>\n",
              "            <td>18</td>\n",
              "        </tr>\n",
              "    </tbody>\n",
              "</table>"
            ]
          },
          "metadata": {},
          "execution_count": 112
        }
      ]
    },
    {
      "cell_type": "code",
      "source": [
        "##Pregunta 1: Contar el número total de canciones\n",
        "%%sql\n",
        "SELECT COUNT(*) AS total_canciones\n",
        "FROM song"
      ],
      "metadata": {
        "colab": {
          "base_uri": "https://localhost:8080/",
          "height": 114
        },
        "id": "A1jKA3FbPpOo",
        "outputId": "94141a19-2c2d-4602-abe0-920e05c01e1d"
      },
      "execution_count": 101,
      "outputs": [
        {
          "output_type": "stream",
          "name": "stdout",
          "text": [
            "   sqlite:///music.db\n",
            " * sqlite:///playlist.csv.db\n",
            "Done.\n"
          ]
        },
        {
          "output_type": "execute_result",
          "data": {
            "text/plain": [
              "[(529108,)]"
            ],
            "text/html": [
              "<table>\n",
              "    <thead>\n",
              "        <tr>\n",
              "            <th>total_canciones</th>\n",
              "        </tr>\n",
              "    </thead>\n",
              "    <tbody>\n",
              "        <tr>\n",
              "            <td>529108</td>\n",
              "        </tr>\n",
              "    </tbody>\n",
              "</table>"
            ]
          },
          "metadata": {},
          "execution_count": 101
        }
      ]
    },
    {
      "cell_type": "code",
      "source": [
        "## Pregunta 2: Seleccionar las playlists que tienen más de cierta cantidad de seguidores\n",
        "%%sql\n",
        "SELECT *\n",
        "FROM playlists\n",
        "WHERE num_followers > 1000"
      ],
      "metadata": {
        "colab": {
          "base_uri": "https://localhost:8080/",
          "height": 157
        },
        "id": "zZXQbxmqdsBu",
        "outputId": "0fc18a09-cc9b-45f1-c7ef-d8cb5281f3b2"
      },
      "execution_count": 104,
      "outputs": [
        {
          "output_type": "stream",
          "name": "stdout",
          "text": [
            "   sqlite:///music.db\n",
            " * sqlite:///playlist.csv.db\n",
            "Done.\n"
          ]
        },
        {
          "output_type": "execute_result",
          "data": {
            "text/plain": [
              "[('0-999', 765, 1499040000, 81, 37, 1038, 15, 15112167, 59),\n",
              " ('2000-2999', 2957, 1509321600, 50, 47, 2699, 14, 11765108, 46),\n",
              " ('7000-7999', 7215, 1501804800, 52, 46, 15842, 2, 11005740, 41)]"
            ],
            "text/html": [
              "<table>\n",
              "    <thead>\n",
              "        <tr>\n",
              "            <th>slice</th>\n",
              "            <th>pid</th>\n",
              "            <th>modified_at</th>\n",
              "            <th>num_tracks</th>\n",
              "            <th>num_albums</th>\n",
              "            <th>num_followers</th>\n",
              "            <th>num_edits</th>\n",
              "            <th>duration_ms</th>\n",
              "            <th>num_artists</th>\n",
              "        </tr>\n",
              "    </thead>\n",
              "    <tbody>\n",
              "        <tr>\n",
              "            <td>0-999</td>\n",
              "            <td>765</td>\n",
              "            <td>1499040000</td>\n",
              "            <td>81</td>\n",
              "            <td>37</td>\n",
              "            <td>1038</td>\n",
              "            <td>15</td>\n",
              "            <td>15112167</td>\n",
              "            <td>59</td>\n",
              "        </tr>\n",
              "        <tr>\n",
              "            <td>2000-2999</td>\n",
              "            <td>2957</td>\n",
              "            <td>1509321600</td>\n",
              "            <td>50</td>\n",
              "            <td>47</td>\n",
              "            <td>2699</td>\n",
              "            <td>14</td>\n",
              "            <td>11765108</td>\n",
              "            <td>46</td>\n",
              "        </tr>\n",
              "        <tr>\n",
              "            <td>7000-7999</td>\n",
              "            <td>7215</td>\n",
              "            <td>1501804800</td>\n",
              "            <td>52</td>\n",
              "            <td>46</td>\n",
              "            <td>15842</td>\n",
              "            <td>2</td>\n",
              "            <td>11005740</td>\n",
              "            <td>41</td>\n",
              "        </tr>\n",
              "    </tbody>\n",
              "</table>"
            ]
          },
          "metadata": {},
          "execution_count": 104
        }
      ]
    },
    {
      "cell_type": "code",
      "source": [
        "## Pregunta 3: Contar cuantas listas existen por número de canciones -> Utilizar CASE\n",
        "%%sql\n",
        "SELECT CASE\n",
        "WHEN num_tracks < 100 THEN \"Pocas Canciones\"\n",
        "WHEN num_tracks >= 100 AND num_tracks < 200 THEN \"Intermedio de Canciones\"\n",
        "ELSE \"Muchas Canciones\"\n",
        "END AS numero,\n",
        "COUNT(*) AS total_playlists\n",
        "FROM playlists\n",
        "GROUP BY numero"
      ],
      "metadata": {
        "colab": {
          "base_uri": "https://localhost:8080/",
          "height": 157
        },
        "id": "BfSKhSPGeEr0",
        "outputId": "8e1df316-1f7c-4378-f006-c9a8efe97833"
      },
      "execution_count": 107,
      "outputs": [
        {
          "output_type": "stream",
          "name": "stdout",
          "text": [
            "   sqlite:///music.db\n",
            " * sqlite:///playlist.csv.db\n",
            "Done.\n"
          ]
        },
        {
          "output_type": "execute_result",
          "data": {
            "text/plain": [
              "[('Intermedio de Canciones', 1471),\n",
              " ('Muchas Canciones', 287),\n",
              " ('Pocas Canciones', 6242)]"
            ],
            "text/html": [
              "<table>\n",
              "    <thead>\n",
              "        <tr>\n",
              "            <th>numero</th>\n",
              "            <th>total_playlists</th>\n",
              "        </tr>\n",
              "    </thead>\n",
              "    <tbody>\n",
              "        <tr>\n",
              "            <td>Intermedio de Canciones</td>\n",
              "            <td>1471</td>\n",
              "        </tr>\n",
              "        <tr>\n",
              "            <td>Muchas Canciones</td>\n",
              "            <td>287</td>\n",
              "        </tr>\n",
              "        <tr>\n",
              "            <td>Pocas Canciones</td>\n",
              "            <td>6242</td>\n",
              "        </tr>\n",
              "    </tbody>\n",
              "</table>"
            ]
          },
          "metadata": {},
          "execution_count": 107
        }
      ]
    },
    {
      "cell_type": "code",
      "source": [
        "## Pregunta 4: Calcular la duración total de todas las canciones en una playlist específica\n",
        "%%sql\n",
        "SELECT SUM(duration_ms) AS total_duracion\n",
        "FROM playlists\n",
        "WHERE pid = 9"
      ],
      "metadata": {
        "colab": {
          "base_uri": "https://localhost:8080/",
          "height": 114
        },
        "id": "7hkhSFnMfmR2",
        "outputId": "dddff0ad-69da-4397-bd5b-53f563b73ba4"
      },
      "execution_count": 114,
      "outputs": [
        {
          "output_type": "stream",
          "name": "stdout",
          "text": [
            "   sqlite:///music.db\n",
            " * sqlite:///playlist.csv.db\n",
            "Done.\n"
          ]
        },
        {
          "output_type": "execute_result",
          "data": {
            "text/plain": [
              "[(4297488,)]"
            ],
            "text/html": [
              "<table>\n",
              "    <thead>\n",
              "        <tr>\n",
              "            <th>total_duracion</th>\n",
              "        </tr>\n",
              "    </thead>\n",
              "    <tbody>\n",
              "        <tr>\n",
              "            <td>4297488</td>\n",
              "        </tr>\n",
              "    </tbody>\n",
              "</table>"
            ]
          },
          "metadata": {},
          "execution_count": 114
        }
      ]
    },
    {
      "cell_type": "code",
      "source": [
        "## Pregunta 5: Obtener la duración promedio de las canciones de las 10 playlists con más canciones\n",
        "%%sql\n",
        "SELECT AVG(duration_ms) AS duracion_promedio\n",
        "FROM playlists\n",
        "ORDER BY num_tracks DESC\n",
        "LIMIT 10"
      ],
      "metadata": {
        "colab": {
          "base_uri": "https://localhost:8080/",
          "height": 114
        },
        "id": "d96y7jYRgkiF",
        "outputId": "a4c16ea3-bb32-489d-f14e-afdc4ce272b3"
      },
      "execution_count": 118,
      "outputs": [
        {
          "output_type": "stream",
          "name": "stdout",
          "text": [
            "   sqlite:///music.db\n",
            " * sqlite:///playlist.csv.db\n",
            "Done.\n"
          ]
        },
        {
          "output_type": "execute_result",
          "data": {
            "text/plain": [
              "[(15499950.41775,)]"
            ],
            "text/html": [
              "<table>\n",
              "    <thead>\n",
              "        <tr>\n",
              "            <th>duracion_promedio</th>\n",
              "        </tr>\n",
              "    </thead>\n",
              "    <tbody>\n",
              "        <tr>\n",
              "            <td>15499950.41775</td>\n",
              "        </tr>\n",
              "    </tbody>\n",
              "</table>"
            ]
          },
          "metadata": {},
          "execution_count": 118
        }
      ]
    },
    {
      "cell_type": "code",
      "source": [
        "## Pregunta 6: Calcular la suma total de duraciones de todas las canciones de un artista específico\n",
        "%%sql\n",
        "SELECT SUM(duration_ms) AS suma_duracion\n",
        "FROM song\n",
        "WHERE artist_name = \"The Cranberries\""
      ],
      "metadata": {
        "colab": {
          "base_uri": "https://localhost:8080/",
          "height": 114
        },
        "id": "xk1mfAwrhamm",
        "outputId": "5a98c740-4fe1-47fb-d67d-620891b00c17"
      },
      "execution_count": 116,
      "outputs": [
        {
          "output_type": "stream",
          "name": "stdout",
          "text": [
            "   sqlite:///music.db\n",
            " * sqlite:///playlist.csv.db\n",
            "Done.\n"
          ]
        },
        {
          "output_type": "execute_result",
          "data": {
            "text/plain": [
              "[(34031811,)]"
            ],
            "text/html": [
              "<table>\n",
              "    <thead>\n",
              "        <tr>\n",
              "            <th>suma_duracion</th>\n",
              "        </tr>\n",
              "    </thead>\n",
              "    <tbody>\n",
              "        <tr>\n",
              "            <td>34031811</td>\n",
              "        </tr>\n",
              "    </tbody>\n",
              "</table>"
            ]
          },
          "metadata": {},
          "execution_count": 116
        }
      ]
    },
    {
      "cell_type": "code",
      "source": [
        "## Pregunta 7: Encontrar la duración más larga y más corta de todas las canciones\n",
        "%%sql\n",
        "SELECT MAX(duration_ms) AS duracion_maxima, MIN(duration_ms) AS duracion_minima\n",
        "FROM song"
      ],
      "metadata": {
        "colab": {
          "base_uri": "https://localhost:8080/",
          "height": 114
        },
        "id": "GKxByPpjilux",
        "outputId": "42306467-3886-4912-bb66-288ba1675dd6"
      },
      "execution_count": 119,
      "outputs": [
        {
          "output_type": "stream",
          "name": "stdout",
          "text": [
            "   sqlite:///music.db\n",
            " * sqlite:///playlist.csv.db\n",
            "Done.\n"
          ]
        },
        {
          "output_type": "execute_result",
          "data": {
            "text/plain": [
              "[(5279768, 0)]"
            ],
            "text/html": [
              "<table>\n",
              "    <thead>\n",
              "        <tr>\n",
              "            <th>duracion_maxima</th>\n",
              "            <th>duracion_minima</th>\n",
              "        </tr>\n",
              "    </thead>\n",
              "    <tbody>\n",
              "        <tr>\n",
              "            <td>5279768</td>\n",
              "            <td>0</td>\n",
              "        </tr>\n",
              "    </tbody>\n",
              "</table>"
            ]
          },
          "metadata": {},
          "execution_count": 119
        }
      ]
    },
    {
      "cell_type": "code",
      "source": [
        "## Pregunta 8: Calcular la duración total y promedio de todas las canciones en una playlist específica\n",
        "%%sql\n",
        "SELECT SUM(duration_ms) AS duracion_total, AVG(duration_ms) AS duracion_promedio\n",
        "FROM playlists\n",
        "WHERE pid = 9"
      ],
      "metadata": {
        "colab": {
          "base_uri": "https://localhost:8080/",
          "height": 114
        },
        "id": "26_w4D_ni8vb",
        "outputId": "417bd43b-ed6d-4483-e08f-9b6cf9d752ce"
      },
      "execution_count": 127,
      "outputs": [
        {
          "output_type": "stream",
          "name": "stdout",
          "text": [
            "   sqlite:///music.db\n",
            " * sqlite:///playlist.csv.db\n",
            "Done.\n"
          ]
        },
        {
          "output_type": "execute_result",
          "data": {
            "text/plain": [
              "[(4297488, 4297488.0)]"
            ],
            "text/html": [
              "<table>\n",
              "    <thead>\n",
              "        <tr>\n",
              "            <th>duracion_total</th>\n",
              "            <th>duracion_promedio</th>\n",
              "        </tr>\n",
              "    </thead>\n",
              "    <tbody>\n",
              "        <tr>\n",
              "            <td>4297488</td>\n",
              "            <td>4297488.0</td>\n",
              "        </tr>\n",
              "    </tbody>\n",
              "</table>"
            ]
          },
          "metadata": {},
          "execution_count": 127
        }
      ]
    },
    {
      "cell_type": "code",
      "source": [
        "## Pregunta 9: Calcular la duración total de todas las canciones de un artista específico en todas las playlists\n",
        "%%sql\n",
        "SELECT SUM(duration_ms) AS duracion_total\n",
        "FROM song\n",
        "WHERE artist_name = \"The Cranberries\""
      ],
      "metadata": {
        "colab": {
          "base_uri": "https://localhost:8080/",
          "height": 114
        },
        "id": "ENbsL5sDlf4V",
        "outputId": "8eb081f6-7d3a-401a-f8ba-6e3ee53f5386"
      },
      "execution_count": 128,
      "outputs": [
        {
          "output_type": "stream",
          "name": "stdout",
          "text": [
            "   sqlite:///music.db\n",
            " * sqlite:///playlist.csv.db\n",
            "Done.\n"
          ]
        },
        {
          "output_type": "execute_result",
          "data": {
            "text/plain": [
              "[(34031811,)]"
            ],
            "text/html": [
              "<table>\n",
              "    <thead>\n",
              "        <tr>\n",
              "            <th>duracion_total</th>\n",
              "        </tr>\n",
              "    </thead>\n",
              "    <tbody>\n",
              "        <tr>\n",
              "            <td>34031811</td>\n",
              "        </tr>\n",
              "    </tbody>\n",
              "</table>"
            ]
          },
          "metadata": {},
          "execution_count": 128
        }
      ]
    },
    {
      "cell_type": "code",
      "source": [
        "## Pregunta 10: Calcular la cantidad total de canciones en cada playlist y ordenarlas de mayor a menor\n",
        "%%sql\n",
        "SELECT pid, COUNT(*) AS num_canciones\n",
        "FROM playlists\n",
        "GROUP BY pid\n",
        "ORDER BY num_canciones ASC"
      ],
      "metadata": {
        "colab": {
          "base_uri": "https://localhost:8080/",
          "height": 306
        },
        "id": "IMY9DW5xl-Zu",
        "outputId": "c9b8dc22-98e6-4eed-be85-c942cb7f1304"
      },
      "execution_count": 132,
      "outputs": [
        {
          "output_type": "stream",
          "name": "stdout",
          "text": [
            "   sqlite:///music.db\n",
            " * sqlite:///playlist.csv.db\n",
            "Done.\n"
          ]
        },
        {
          "output_type": "execute_result",
          "data": {
            "text/plain": [
              "[(0, 1),\n",
              " (1, 1),\n",
              " (2, 1),\n",
              " (3, 1),\n",
              " (4, 1),\n",
              " (5, 1),\n",
              " (6, 1),\n",
              " (7, 1),\n",
              " (8, 1),\n",
              " (9, 1)]"
            ],
            "text/html": [
              "<table>\n",
              "    <thead>\n",
              "        <tr>\n",
              "            <th>pid</th>\n",
              "            <th>num_canciones</th>\n",
              "        </tr>\n",
              "    </thead>\n",
              "    <tbody>\n",
              "        <tr>\n",
              "            <td>0</td>\n",
              "            <td>1</td>\n",
              "        </tr>\n",
              "        <tr>\n",
              "            <td>1</td>\n",
              "            <td>1</td>\n",
              "        </tr>\n",
              "        <tr>\n",
              "            <td>2</td>\n",
              "            <td>1</td>\n",
              "        </tr>\n",
              "        <tr>\n",
              "            <td>3</td>\n",
              "            <td>1</td>\n",
              "        </tr>\n",
              "        <tr>\n",
              "            <td>4</td>\n",
              "            <td>1</td>\n",
              "        </tr>\n",
              "        <tr>\n",
              "            <td>5</td>\n",
              "            <td>1</td>\n",
              "        </tr>\n",
              "        <tr>\n",
              "            <td>6</td>\n",
              "            <td>1</td>\n",
              "        </tr>\n",
              "        <tr>\n",
              "            <td>7</td>\n",
              "            <td>1</td>\n",
              "        </tr>\n",
              "        <tr>\n",
              "            <td>8</td>\n",
              "            <td>1</td>\n",
              "        </tr>\n",
              "        <tr>\n",
              "            <td>9</td>\n",
              "            <td>1</td>\n",
              "        </tr>\n",
              "    </tbody>\n",
              "</table>"
            ]
          },
          "metadata": {},
          "execution_count": 132
        }
      ]
    }
  ]
}