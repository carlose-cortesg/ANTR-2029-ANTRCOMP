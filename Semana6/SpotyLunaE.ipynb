{
  "nbformat": 4,
  "nbformat_minor": 0,
  "metadata": {
    "colab": {
      "provenance": []
    },
    "kernelspec": {
      "name": "python3",
      "display_name": "Python 3"
    },
    "language_info": {
      "name": "python"
    }
  },
  "cells": [
    {
      "cell_type": "code",
      "execution_count": null,
      "metadata": {
        "id": "qJ4F8GZUryF_"
      },
      "outputs": [],
      "source": [
        "%load_ext sql"
      ]
    },
    {
      "cell_type": "code",
      "source": [
        "%sql sqlite:///spotify.db"
      ],
      "metadata": {
        "id": "bDYHJ3N9t_E0"
      },
      "execution_count": null,
      "outputs": []
    },
    {
      "cell_type": "code",
      "source": [
        "import sqlite3\n",
        "conn = sqlite3.connect(\"spotify.db\")"
      ],
      "metadata": {
        "id": "MJWMpuWnuIhJ"
      },
      "execution_count": null,
      "outputs": []
    },
    {
      "cell_type": "code",
      "source": [
        "%%sql\n",
        "SELECT * FROM playlists LIMIT 10"
      ],
      "metadata": {
        "colab": {
          "base_uri": "https://localhost:8080/",
          "height": 285
        },
        "id": "uShrIgKTukHF",
        "outputId": "318c0636-e65d-4aa9-a7d6-f53a1dcecc39"
      },
      "execution_count": null,
      "outputs": [
        {
          "output_type": "stream",
          "name": "stdout",
          "text": [
            " * sqlite:///spotify.db\n",
            "Done.\n"
          ]
        },
        {
          "output_type": "execute_result",
          "data": {
            "text/plain": [
              "[('0-999', 0, 1493424000, 52, 47, 1, 6, 11532414, 37),\n",
              " ('0-999', 1, 1506556800, 39, 23, 1, 5, 11656470, 21),\n",
              " ('0-999', 2, 1505692800, 64, 51, 1, 18, 14039958, 31),\n",
              " ('0-999', 3, 1501027200, 126, 107, 1, 4, 28926058, 86),\n",
              " ('0-999', 4, 1401667200, 17, 16, 2, 7, 4335282, 16),\n",
              " ('0-999', 5, 1430956800, 80, 71, 1, 3, 19156557, 56),\n",
              " ('0-999', 6, 1477094400, 16, 15, 1, 2, 3408479, 13),\n",
              " ('0-999', 7, 1509321600, 53, 52, 1, 38, 12674796, 48),\n",
              " ('0-999', 8, 1508976000, 46, 37, 2, 21, 9948921, 23),\n",
              " ('0-999', 9, 1501804800, 21, 20, 1, 10, 4297488, 18)]"
            ],
            "text/html": [
              "<table>\n",
              "    <thead>\n",
              "        <tr>\n",
              "            <th>slice</th>\n",
              "            <th>pid</th>\n",
              "            <th>modified_at</th>\n",
              "            <th>num_tracks</th>\n",
              "            <th>num_albums</th>\n",
              "            <th>num_followers</th>\n",
              "            <th>num_edits</th>\n",
              "            <th>duration_ms</th>\n",
              "            <th>num_artists</th>\n",
              "        </tr>\n",
              "    </thead>\n",
              "    <tbody>\n",
              "        <tr>\n",
              "            <td>0-999</td>\n",
              "            <td>0</td>\n",
              "            <td>1493424000</td>\n",
              "            <td>52</td>\n",
              "            <td>47</td>\n",
              "            <td>1</td>\n",
              "            <td>6</td>\n",
              "            <td>11532414</td>\n",
              "            <td>37</td>\n",
              "        </tr>\n",
              "        <tr>\n",
              "            <td>0-999</td>\n",
              "            <td>1</td>\n",
              "            <td>1506556800</td>\n",
              "            <td>39</td>\n",
              "            <td>23</td>\n",
              "            <td>1</td>\n",
              "            <td>5</td>\n",
              "            <td>11656470</td>\n",
              "            <td>21</td>\n",
              "        </tr>\n",
              "        <tr>\n",
              "            <td>0-999</td>\n",
              "            <td>2</td>\n",
              "            <td>1505692800</td>\n",
              "            <td>64</td>\n",
              "            <td>51</td>\n",
              "            <td>1</td>\n",
              "            <td>18</td>\n",
              "            <td>14039958</td>\n",
              "            <td>31</td>\n",
              "        </tr>\n",
              "        <tr>\n",
              "            <td>0-999</td>\n",
              "            <td>3</td>\n",
              "            <td>1501027200</td>\n",
              "            <td>126</td>\n",
              "            <td>107</td>\n",
              "            <td>1</td>\n",
              "            <td>4</td>\n",
              "            <td>28926058</td>\n",
              "            <td>86</td>\n",
              "        </tr>\n",
              "        <tr>\n",
              "            <td>0-999</td>\n",
              "            <td>4</td>\n",
              "            <td>1401667200</td>\n",
              "            <td>17</td>\n",
              "            <td>16</td>\n",
              "            <td>2</td>\n",
              "            <td>7</td>\n",
              "            <td>4335282</td>\n",
              "            <td>16</td>\n",
              "        </tr>\n",
              "        <tr>\n",
              "            <td>0-999</td>\n",
              "            <td>5</td>\n",
              "            <td>1430956800</td>\n",
              "            <td>80</td>\n",
              "            <td>71</td>\n",
              "            <td>1</td>\n",
              "            <td>3</td>\n",
              "            <td>19156557</td>\n",
              "            <td>56</td>\n",
              "        </tr>\n",
              "        <tr>\n",
              "            <td>0-999</td>\n",
              "            <td>6</td>\n",
              "            <td>1477094400</td>\n",
              "            <td>16</td>\n",
              "            <td>15</td>\n",
              "            <td>1</td>\n",
              "            <td>2</td>\n",
              "            <td>3408479</td>\n",
              "            <td>13</td>\n",
              "        </tr>\n",
              "        <tr>\n",
              "            <td>0-999</td>\n",
              "            <td>7</td>\n",
              "            <td>1509321600</td>\n",
              "            <td>53</td>\n",
              "            <td>52</td>\n",
              "            <td>1</td>\n",
              "            <td>38</td>\n",
              "            <td>12674796</td>\n",
              "            <td>48</td>\n",
              "        </tr>\n",
              "        <tr>\n",
              "            <td>0-999</td>\n",
              "            <td>8</td>\n",
              "            <td>1508976000</td>\n",
              "            <td>46</td>\n",
              "            <td>37</td>\n",
              "            <td>2</td>\n",
              "            <td>21</td>\n",
              "            <td>9948921</td>\n",
              "            <td>23</td>\n",
              "        </tr>\n",
              "        <tr>\n",
              "            <td>0-999</td>\n",
              "            <td>9</td>\n",
              "            <td>1501804800</td>\n",
              "            <td>21</td>\n",
              "            <td>20</td>\n",
              "            <td>1</td>\n",
              "            <td>10</td>\n",
              "            <td>4297488</td>\n",
              "            <td>18</td>\n",
              "        </tr>\n",
              "    </tbody>\n",
              "</table>"
            ]
          },
          "metadata": {},
          "execution_count": 8
        }
      ]
    },
    {
      "cell_type": "code",
      "source": [
        "%%sql\n",
        "SELECT * FROM song LIMIT 10"
      ],
      "metadata": {
        "colab": {
          "base_uri": "https://localhost:8080/",
          "height": 583
        },
        "id": "Z2JoA5hRunjf",
        "outputId": "5a08a75a-8c43-4b33-aba1-ac7d2cd567ed"
      },
      "execution_count": null,
      "outputs": [
        {
          "output_type": "stream",
          "name": "stdout",
          "text": [
            " * sqlite:///spotify.db\n",
            "Done.\n"
          ]
        },
        {
          "output_type": "execute_result",
          "data": {
            "text/plain": [
              "[('spotify:track:4SDywo3ykB2PEthjXvo1UP', 6, 0, 'Creedence Clearwater Revival', 'spotify:artist:3IYUhFvPQItj6xySrBmZkd', 'I Put A Spell On You', 'spotify:album:7oIftk0P8cViwNpNEdCYl2', 271786, 'Creedence Clearwater Revival'),\n",
              " ('spotify:track:229SqGbacrLSBfb9XfJczF', 6, 1, 'STRFKR', 'spotify:artist:2Tz1DTzVJ5Gyh8ZwVr6ekU', 'Bury Us Alive', 'spotify:album:5pfqk4oFycMVynOD8S2Cqs', 190360, 'Reptilians'),\n",
              " ('spotify:track:0orNm6qQT2B5WFi0l7l3PV', 6, 2, '311', 'spotify:artist:41Q0HrwWBtuUkJc7C1Rp6K', \"Jackolantern's Weather\", 'spotify:album:6VIeIM5tetuv7FrYxISffU', 204160, '311'),\n",
              " ('spotify:track:1hWQvA6oGVJ2mAVsZ59AaV', 6, 3, 'Nathaniel Rateliff & The Night Sweats', 'spotify:artist:02seUFsFQP7TH4hLrTj77o', 'S.O.B.', 'spotify:album:2UCyiayMoJOwBilPLQPQvK', 247612, 'Nathaniel Rateliff & The Night Sweats'),\n",
              " ('spotify:track:56SkdBKyR2zOkjk6wVFI9s', 6, 4, 'Toadies', 'spotify:artist:2QMMktUMtwMSwUZATX1cRO', 'Possum Kingdom', 'spotify:album:7tFTqVGHceSlXOaz8IylBN', 309573, 'Rubberneck'),\n",
              " ('spotify:track:6y20BV5L33R8YXM0YuI38N', 6, 5, 'Queens of the Stone Age', 'spotify:artist:4pejUc4iciQfgdX6OKulQn', 'No One Knows', 'spotify:album:4w3NeXtywU398NYW4903rY', 278746, 'Songs For The Deaf'),\n",
              " ('spotify:track:6xy6jNeNTYwjnKTDzMyHw2', 6, 6, 'The Cranberries', 'spotify:artist:7t0rwkOPGlDPEhaOcVtOt9', 'Zombie', 'spotify:album:2KsgTeLQXz7yDV1joGOd2L', 306440, 'No Need To Argue (The Complete Sessions 1994-1995)'),\n",
              " ('spotify:track:0rK3iUuoyQp6QReDPzwlYD', 6, 7, 'Misfits', 'spotify:artist:1cXi8ALPQCBHZbf0EgP4Ey', 'Monster Mash', 'spotify:album:6MzZSl19bVR3xWwFCOZyhg', 157000, 'Project 1950'),\n",
              " ('spotify:track:2k5lMt43DRIoEZPuswnULH', 6, 8, 'Misfits', 'spotify:artist:1cXi8ALPQCBHZbf0EgP4Ey', 'Ghouls Night Out - Live', 'spotify:album:4CWxS5ASY9eRE2zXP8BTRd', 102539, 'Evilive'),\n",
              " ('spotify:track:3gN4UFoOnRHlMl3K4kU5zG', 6, 9, 'Misfits', 'spotify:artist:1cXi8ALPQCBHZbf0EgP4Ey', 'Hybrid Moments', 'spotify:album:51tAz06EJxwhsk8uNfWxBo', 102266, 'Static Age')]"
            ],
            "text/html": [
              "<table>\n",
              "    <thead>\n",
              "        <tr>\n",
              "            <th>track_uri</th>\n",
              "            <th>pid</th>\n",
              "            <th>pos</th>\n",
              "            <th>artist_name</th>\n",
              "            <th>artist_uri</th>\n",
              "            <th>track_name</th>\n",
              "            <th>album_uri</th>\n",
              "            <th>duration_ms</th>\n",
              "            <th>album_name</th>\n",
              "        </tr>\n",
              "    </thead>\n",
              "    <tbody>\n",
              "        <tr>\n",
              "            <td>spotify:track:4SDywo3ykB2PEthjXvo1UP</td>\n",
              "            <td>6</td>\n",
              "            <td>0</td>\n",
              "            <td>Creedence Clearwater Revival</td>\n",
              "            <td>spotify:artist:3IYUhFvPQItj6xySrBmZkd</td>\n",
              "            <td>I Put A Spell On You</td>\n",
              "            <td>spotify:album:7oIftk0P8cViwNpNEdCYl2</td>\n",
              "            <td>271786</td>\n",
              "            <td>Creedence Clearwater Revival</td>\n",
              "        </tr>\n",
              "        <tr>\n",
              "            <td>spotify:track:229SqGbacrLSBfb9XfJczF</td>\n",
              "            <td>6</td>\n",
              "            <td>1</td>\n",
              "            <td>STRFKR</td>\n",
              "            <td>spotify:artist:2Tz1DTzVJ5Gyh8ZwVr6ekU</td>\n",
              "            <td>Bury Us Alive</td>\n",
              "            <td>spotify:album:5pfqk4oFycMVynOD8S2Cqs</td>\n",
              "            <td>190360</td>\n",
              "            <td>Reptilians</td>\n",
              "        </tr>\n",
              "        <tr>\n",
              "            <td>spotify:track:0orNm6qQT2B5WFi0l7l3PV</td>\n",
              "            <td>6</td>\n",
              "            <td>2</td>\n",
              "            <td>311</td>\n",
              "            <td>spotify:artist:41Q0HrwWBtuUkJc7C1Rp6K</td>\n",
              "            <td>Jackolantern&#x27;s Weather</td>\n",
              "            <td>spotify:album:6VIeIM5tetuv7FrYxISffU</td>\n",
              "            <td>204160</td>\n",
              "            <td>311</td>\n",
              "        </tr>\n",
              "        <tr>\n",
              "            <td>spotify:track:1hWQvA6oGVJ2mAVsZ59AaV</td>\n",
              "            <td>6</td>\n",
              "            <td>3</td>\n",
              "            <td>Nathaniel Rateliff &amp; The Night Sweats</td>\n",
              "            <td>spotify:artist:02seUFsFQP7TH4hLrTj77o</td>\n",
              "            <td>S.O.B.</td>\n",
              "            <td>spotify:album:2UCyiayMoJOwBilPLQPQvK</td>\n",
              "            <td>247612</td>\n",
              "            <td>Nathaniel Rateliff &amp; The Night Sweats</td>\n",
              "        </tr>\n",
              "        <tr>\n",
              "            <td>spotify:track:56SkdBKyR2zOkjk6wVFI9s</td>\n",
              "            <td>6</td>\n",
              "            <td>4</td>\n",
              "            <td>Toadies</td>\n",
              "            <td>spotify:artist:2QMMktUMtwMSwUZATX1cRO</td>\n",
              "            <td>Possum Kingdom</td>\n",
              "            <td>spotify:album:7tFTqVGHceSlXOaz8IylBN</td>\n",
              "            <td>309573</td>\n",
              "            <td>Rubberneck</td>\n",
              "        </tr>\n",
              "        <tr>\n",
              "            <td>spotify:track:6y20BV5L33R8YXM0YuI38N</td>\n",
              "            <td>6</td>\n",
              "            <td>5</td>\n",
              "            <td>Queens of the Stone Age</td>\n",
              "            <td>spotify:artist:4pejUc4iciQfgdX6OKulQn</td>\n",
              "            <td>No One Knows</td>\n",
              "            <td>spotify:album:4w3NeXtywU398NYW4903rY</td>\n",
              "            <td>278746</td>\n",
              "            <td>Songs For The Deaf</td>\n",
              "        </tr>\n",
              "        <tr>\n",
              "            <td>spotify:track:6xy6jNeNTYwjnKTDzMyHw2</td>\n",
              "            <td>6</td>\n",
              "            <td>6</td>\n",
              "            <td>The Cranberries</td>\n",
              "            <td>spotify:artist:7t0rwkOPGlDPEhaOcVtOt9</td>\n",
              "            <td>Zombie</td>\n",
              "            <td>spotify:album:2KsgTeLQXz7yDV1joGOd2L</td>\n",
              "            <td>306440</td>\n",
              "            <td>No Need To Argue (The Complete Sessions 1994-1995)</td>\n",
              "        </tr>\n",
              "        <tr>\n",
              "            <td>spotify:track:0rK3iUuoyQp6QReDPzwlYD</td>\n",
              "            <td>6</td>\n",
              "            <td>7</td>\n",
              "            <td>Misfits</td>\n",
              "            <td>spotify:artist:1cXi8ALPQCBHZbf0EgP4Ey</td>\n",
              "            <td>Monster Mash</td>\n",
              "            <td>spotify:album:6MzZSl19bVR3xWwFCOZyhg</td>\n",
              "            <td>157000</td>\n",
              "            <td>Project 1950</td>\n",
              "        </tr>\n",
              "        <tr>\n",
              "            <td>spotify:track:2k5lMt43DRIoEZPuswnULH</td>\n",
              "            <td>6</td>\n",
              "            <td>8</td>\n",
              "            <td>Misfits</td>\n",
              "            <td>spotify:artist:1cXi8ALPQCBHZbf0EgP4Ey</td>\n",
              "            <td>Ghouls Night Out - Live</td>\n",
              "            <td>spotify:album:4CWxS5ASY9eRE2zXP8BTRd</td>\n",
              "            <td>102539</td>\n",
              "            <td>Evilive</td>\n",
              "        </tr>\n",
              "        <tr>\n",
              "            <td>spotify:track:3gN4UFoOnRHlMl3K4kU5zG</td>\n",
              "            <td>6</td>\n",
              "            <td>9</td>\n",
              "            <td>Misfits</td>\n",
              "            <td>spotify:artist:1cXi8ALPQCBHZbf0EgP4Ey</td>\n",
              "            <td>Hybrid Moments</td>\n",
              "            <td>spotify:album:51tAz06EJxwhsk8uNfWxBo</td>\n",
              "            <td>102266</td>\n",
              "            <td>Static Age</td>\n",
              "        </tr>\n",
              "    </tbody>\n",
              "</table>"
            ]
          },
          "metadata": {},
          "execution_count": 9
        }
      ]
    },
    {
      "cell_type": "markdown",
      "source": [
        "****Respuestas de Bloque 1:"
      ],
      "metadata": {
        "id": "s1PF3TRV9oI5"
      }
    },
    {
      "cell_type": "code",
      "source": [
        "#B1 P1: total de playlists\n",
        "%%sql\n",
        "SELECT COUNT (*) AS totalplaylists\n",
        "FROM playlists"
      ],
      "metadata": {
        "colab": {
          "base_uri": "https://localhost:8080/",
          "height": 97
        },
        "id": "HSZDRABEu9Xy",
        "outputId": "287121a7-b714-4b23-ceb8-3abcfd9507b8"
      },
      "execution_count": null,
      "outputs": [
        {
          "output_type": "stream",
          "name": "stdout",
          "text": [
            " * sqlite:///spotify.db\n",
            "Done.\n"
          ]
        },
        {
          "output_type": "execute_result",
          "data": {
            "text/plain": [
              "[(8000,)]"
            ],
            "text/html": [
              "<table>\n",
              "    <thead>\n",
              "        <tr>\n",
              "            <th>totalplaylists</th>\n",
              "        </tr>\n",
              "    </thead>\n",
              "    <tbody>\n",
              "        <tr>\n",
              "            <td>8000</td>\n",
              "        </tr>\n",
              "    </tbody>\n",
              "</table>"
            ]
          },
          "metadata": {},
          "execution_count": 10
        }
      ]
    },
    {
      "cell_type": "code",
      "source": [
        "#B1 P2: num total canciones\n",
        "%%sql\n",
        "SELECT COUNT (*) AS totalsongs\n",
        "FROM song"
      ],
      "metadata": {
        "colab": {
          "base_uri": "https://localhost:8080/",
          "height": 97
        },
        "id": "AVxE_y7vv7qc",
        "outputId": "23a8df8f-a84d-439a-ee21-1e396e52d537"
      },
      "execution_count": null,
      "outputs": [
        {
          "output_type": "stream",
          "name": "stdout",
          "text": [
            " * sqlite:///spotify.db\n",
            "Done.\n"
          ]
        },
        {
          "output_type": "execute_result",
          "data": {
            "text/plain": [
              "[(529108,)]"
            ],
            "text/html": [
              "<table>\n",
              "    <thead>\n",
              "        <tr>\n",
              "            <th>totalsongs</th>\n",
              "        </tr>\n",
              "    </thead>\n",
              "    <tbody>\n",
              "        <tr>\n",
              "            <td>529108</td>\n",
              "        </tr>\n",
              "    </tbody>\n",
              "</table>"
            ]
          },
          "metadata": {},
          "execution_count": 12
        }
      ]
    },
    {
      "cell_type": "code",
      "source": [
        "#B1 P3: artista específico y en cuantas listas aparece\n",
        "%%sql\n",
        "SELECT COUNT (*)\n",
        "FROM song\n",
        "WHERE artist_name = \"Misfits\""
      ],
      "metadata": {
        "colab": {
          "base_uri": "https://localhost:8080/",
          "height": 97
        },
        "id": "JzTwMEtOwv-W",
        "outputId": "aabc364e-5db0-4386-b765-2b4cea2448c4"
      },
      "execution_count": null,
      "outputs": [
        {
          "output_type": "stream",
          "name": "stdout",
          "text": [
            " * sqlite:///spotify.db\n",
            "Done.\n"
          ]
        },
        {
          "output_type": "execute_result",
          "data": {
            "text/plain": [
              "[(33,)]"
            ],
            "text/html": [
              "<table>\n",
              "    <thead>\n",
              "        <tr>\n",
              "            <th>COUNT (*)</th>\n",
              "        </tr>\n",
              "    </thead>\n",
              "    <tbody>\n",
              "        <tr>\n",
              "            <td>33</td>\n",
              "        </tr>\n",
              "    </tbody>\n",
              "</table>"
            ]
          },
          "metadata": {},
          "execution_count": 33
        }
      ]
    },
    {
      "cell_type": "markdown",
      "source": [
        "****Respuestas de Bloque 2:"
      ],
      "metadata": {
        "id": "pDZVeZXZ9uCJ"
      }
    },
    {
      "cell_type": "code",
      "source": [
        "#B2 P1: cantidad total de playlists que contienen más de 10 canciones\n",
        "%%sql\n",
        "SELECT COUNT (*)\n",
        "FROM playlists\n",
        "WHERE num_tracks >10"
      ],
      "metadata": {
        "colab": {
          "base_uri": "https://localhost:8080/",
          "height": 97
        },
        "id": "AVnBqdIaxFBz",
        "outputId": "0eda61ba-0e83-478c-87ef-5112017b0ff3"
      },
      "execution_count": null,
      "outputs": [
        {
          "output_type": "stream",
          "name": "stdout",
          "text": [
            " * sqlite:///spotify.db\n",
            "Done.\n"
          ]
        },
        {
          "output_type": "execute_result",
          "data": {
            "text/plain": [
              "[(7658,)]"
            ],
            "text/html": [
              "<table>\n",
              "    <thead>\n",
              "        <tr>\n",
              "            <th>COUNT (*)</th>\n",
              "        </tr>\n",
              "    </thead>\n",
              "    <tbody>\n",
              "        <tr>\n",
              "            <td>7658</td>\n",
              "        </tr>\n",
              "    </tbody>\n",
              "</table>"
            ]
          },
          "metadata": {},
          "execution_count": 34
        }
      ]
    },
    {
      "cell_type": "code",
      "source": [
        "#B2 P2: número de playlists con menos de 10, más de 20 y entre 10 y 20 canciones\n",
        "%%sql\n",
        "SELECT CASE\n",
        "WHEN num_tracks < 10 THEN \"listas con menos de 10\"\n",
        "WHEN num_tracks >= 10 AND num_tracks < 20 THEN \"listas con canciones entre 10 y 20\"\n",
        "ELSE \"listas con más de 20 canciones\"\n",
        "END AS listas,\n",
        "COUNT (*) AS total_playlists\n",
        "FROM playlists\n",
        "GROUP BY listas"
      ],
      "metadata": {
        "colab": {
          "base_uri": "https://localhost:8080/",
          "height": 139
        },
        "id": "9ZmtCzjnxw_T",
        "outputId": "d69c548f-d156-4e1a-8a57-2be94fcd5ee7"
      },
      "execution_count": null,
      "outputs": [
        {
          "output_type": "stream",
          "name": "stdout",
          "text": [
            " * sqlite:///spotify.db\n",
            "Done.\n"
          ]
        },
        {
          "output_type": "execute_result",
          "data": {
            "text/plain": [
              "[('listas con canciones entre 10 y 20', 1028),\n",
              " ('listas con menos de 10', 254),\n",
              " ('listas con más de 20 canciones', 6718)]"
            ],
            "text/html": [
              "<table>\n",
              "    <thead>\n",
              "        <tr>\n",
              "            <th>listas</th>\n",
              "            <th>total_playlists</th>\n",
              "        </tr>\n",
              "    </thead>\n",
              "    <tbody>\n",
              "        <tr>\n",
              "            <td>listas con canciones entre 10 y 20</td>\n",
              "            <td>1028</td>\n",
              "        </tr>\n",
              "        <tr>\n",
              "            <td>listas con menos de 10</td>\n",
              "            <td>254</td>\n",
              "        </tr>\n",
              "        <tr>\n",
              "            <td>listas con más de 20 canciones</td>\n",
              "            <td>6718</td>\n",
              "        </tr>\n",
              "    </tbody>\n",
              "</table>"
            ]
          },
          "metadata": {},
          "execution_count": 25
        }
      ]
    },
    {
      "cell_type": "code",
      "source": [
        "#B2 P3: suma total de duraciones de todas las canciones de un artista específico\n",
        "%%sql\n",
        "SELECT SUM (duration_ms) AS duration\n",
        "FROM song\n",
        "WHERE artist_name = \"Misfits\"\n"
      ],
      "metadata": {
        "colab": {
          "base_uri": "https://localhost:8080/",
          "height": 97
        },
        "id": "9lCv6ToCxxOI",
        "outputId": "c493595e-5a1f-4b2f-df6b-ea62a5e37d26"
      },
      "execution_count": null,
      "outputs": [
        {
          "output_type": "stream",
          "name": "stdout",
          "text": [
            " * sqlite:///spotify.db\n",
            "Done.\n"
          ]
        },
        {
          "output_type": "execute_result",
          "data": {
            "text/plain": [
              "[(4199647,)]"
            ],
            "text/html": [
              "<table>\n",
              "    <thead>\n",
              "        <tr>\n",
              "            <th>duration</th>\n",
              "        </tr>\n",
              "    </thead>\n",
              "    <tbody>\n",
              "        <tr>\n",
              "            <td>4199647</td>\n",
              "        </tr>\n",
              "    </tbody>\n",
              "</table>"
            ]
          },
          "metadata": {},
          "execution_count": 31
        }
      ]
    },
    {
      "cell_type": "code",
      "source": [
        "#B2 P4: duración más larga y más corta de todas las canciones\n",
        "%%sql\n",
        "SELECT\n",
        "    MAX(duration_ms) AS Duracion_mas_larga,\n",
        "    MIN(duration_ms) AS Duracion_mas_corta\n",
        "FROM song\n",
        "\n"
      ],
      "metadata": {
        "colab": {
          "base_uri": "https://localhost:8080/",
          "height": 97
        },
        "id": "DLmmeQVRx0JL",
        "outputId": "e3042d87-63c7-416c-ebfb-cccd4e8f5e4c"
      },
      "execution_count": null,
      "outputs": [
        {
          "output_type": "stream",
          "name": "stdout",
          "text": [
            " * sqlite:///spotify.db\n",
            "Done.\n"
          ]
        },
        {
          "output_type": "execute_result",
          "data": {
            "text/plain": [
              "[(5279768, 0)]"
            ],
            "text/html": [
              "<table>\n",
              "    <thead>\n",
              "        <tr>\n",
              "            <th>Duracion_mas_larga</th>\n",
              "            <th>Duracion_mas_corta</th>\n",
              "        </tr>\n",
              "    </thead>\n",
              "    <tbody>\n",
              "        <tr>\n",
              "            <td>5279768</td>\n",
              "            <td>0</td>\n",
              "        </tr>\n",
              "    </tbody>\n",
              "</table>"
            ]
          },
          "metadata": {},
          "execution_count": 40
        }
      ]
    },
    {
      "cell_type": "markdown",
      "source": [
        "****Respuestas de Bloque 3:"
      ],
      "metadata": {
        "id": "i5aG4g2d9y60"
      }
    },
    {
      "cell_type": "code",
      "source": [
        "#B3 P1: número promedio de canciones por playlist\n",
        "%%sql\n",
        "SELECT AVG(num_tracks)\n",
        "FROM playlists"
      ],
      "metadata": {
        "colab": {
          "base_uri": "https://localhost:8080/",
          "height": 97
        },
        "id": "NhH4_XXW4z9X",
        "outputId": "31e6793e-0735-48bf-aec8-8417818b11be"
      },
      "execution_count": null,
      "outputs": [
        {
          "output_type": "stream",
          "name": "stdout",
          "text": [
            " * sqlite:///spotify.db\n",
            "Done.\n"
          ]
        },
        {
          "output_type": "execute_result",
          "data": {
            "text/plain": [
              "[(66.1385,)]"
            ],
            "text/html": [
              "<table>\n",
              "    <thead>\n",
              "        <tr>\n",
              "            <th>AVG(num_tracks)</th>\n",
              "        </tr>\n",
              "    </thead>\n",
              "    <tbody>\n",
              "        <tr>\n",
              "            <td>66.1385</td>\n",
              "        </tr>\n",
              "    </tbody>\n",
              "</table>"
            ]
          },
          "metadata": {},
          "execution_count": 43
        }
      ]
    },
    {
      "cell_type": "code",
      "source": [
        "#B3 P2: cantidad de artistas que tienen más de una canción contra los que tienen solo una canción\n",
        "%%sql\n",
        "SELECT artist_category, COUNT(artist_uri) AS artist_count\n",
        "FROM (\n",
        "    SELECT artist_uri,\n",
        "        CASE\n",
        "            WHEN COUNT(*) > 1 THEN \"artistas con más de una canción\"\n",
        "            WHEN COUNT(*) = 1 THEN \"artistas con una sola canción\"\n",
        "        END AS artist_category\n",
        "    FROM song\n",
        "    GROUP BY artist_uri\n",
        ") AS artist_song_count\n",
        "GROUP BY artist_category"
      ],
      "metadata": {
        "colab": {
          "base_uri": "https://localhost:8080/",
          "height": 118
        },
        "id": "hXor9YMW40QP",
        "outputId": "c4ed476a-617a-4644-fc06-733ad2092292"
      },
      "execution_count": null,
      "outputs": [
        {
          "output_type": "stream",
          "name": "stdout",
          "text": [
            " * sqlite:///spotify.db\n",
            "Done.\n"
          ]
        },
        {
          "output_type": "execute_result",
          "data": {
            "text/plain": [
              "[('artistas con más de una canción', 17506),\n",
              " ('artistas con una sola canción', 14395)]"
            ],
            "text/html": [
              "<table>\n",
              "    <thead>\n",
              "        <tr>\n",
              "            <th>artist_category</th>\n",
              "            <th>artist_count</th>\n",
              "        </tr>\n",
              "    </thead>\n",
              "    <tbody>\n",
              "        <tr>\n",
              "            <td>artistas con más de una canción</td>\n",
              "            <td>17506</td>\n",
              "        </tr>\n",
              "        <tr>\n",
              "            <td>artistas con una sola canción</td>\n",
              "            <td>14395</td>\n",
              "        </tr>\n",
              "    </tbody>\n",
              "</table>"
            ]
          },
          "metadata": {},
          "execution_count": 47
        }
      ]
    },
    {
      "cell_type": "code",
      "source": [
        "#B3 P3: duración total de todas las canciones en playlists con más de 50 tracks\n",
        "%%sql\n",
        "SELECT SUM (duration_ms) AS duracion_total\n",
        "FROM playlists\n",
        "WHERE num_tracks > 50"
      ],
      "metadata": {
        "colab": {
          "base_uri": "https://localhost:8080/",
          "height": 97
        },
        "id": "rqWeH0c840gg",
        "outputId": "b3406186-07c5-4995-9422-36955e11d280"
      },
      "execution_count": null,
      "outputs": [
        {
          "output_type": "stream",
          "name": "stdout",
          "text": [
            " * sqlite:///spotify.db\n",
            "Done.\n"
          ]
        },
        {
          "output_type": "execute_result",
          "data": {
            "text/plain": [
              "[(97688060688,)]"
            ],
            "text/html": [
              "<table>\n",
              "    <thead>\n",
              "        <tr>\n",
              "            <th>duracion_total</th>\n",
              "        </tr>\n",
              "    </thead>\n",
              "    <tbody>\n",
              "        <tr>\n",
              "            <td>97688060688</td>\n",
              "        </tr>\n",
              "    </tbody>\n",
              "</table>"
            ]
          },
          "metadata": {},
          "execution_count": 51
        }
      ]
    },
    {
      "cell_type": "code",
      "source": [],
      "metadata": {
        "id": "MVuT6lcl9AHj"
      },
      "execution_count": null,
      "outputs": []
    }
  ]
}