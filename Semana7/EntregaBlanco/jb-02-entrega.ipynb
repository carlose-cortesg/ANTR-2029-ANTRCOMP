{
 "cells": [
  {
   "cell_type": "code",
   "execution_count": 1,
   "metadata": {},
   "outputs": [
    {
     "name": "stdout",
     "output_type": "stream",
     "text": [
      "   slice  pid  modified_at  num_tracks  num_albums  num_followers  num_edits  \\\n",
      "0  0-999    0   1493424000          52          47              1          6   \n",
      "1  0-999    1   1506556800          39          23              1          5   \n",
      "2  0-999    2   1505692800          64          51              1         18   \n",
      "3  0-999    3   1501027200         126         107              1          4   \n",
      "4  0-999    4   1401667200          17          16              2          7   \n",
      "\n",
      "   duration_ms  num_artists  \n",
      "0     11532414           37  \n",
      "1     11656470           21  \n",
      "2     14039958           31  \n",
      "3     28926058           86  \n",
      "4      4335282           16  \n"
     ]
    }
   ],
   "source": [
    "import sqlite3\n",
    "\n",
    "import pandas as pd\n",
    "\n",
    "# Conectarse a la base de datos\n",
    "connection = sqlite3.connect('music_smaller_10000.db')\n",
    "\n",
    "# Crear el query entre comillas y transformaarlos en una dataframe\n",
    "query = \"SELECT * FROM playlists\"\n",
    "datos = pd.read_sql_query(query, connection)\n",
    "\n",
    "# Mostrar cómo queda el archivo\n",
    "print(datos.head())\n",
    "\n",
    "# Cerrar la conexión\n",
    "connection.close()"
   ]
  },
  {
   "cell_type": "code",
   "execution_count": 3,
   "metadata": {},
   "outputs": [],
   "source": [
    "import seaborn as sns"
   ]
  },
  {
   "cell_type": "code",
   "execution_count": null,
   "metadata": {},
   "outputs": [],
   "source": []
  }
 ],
 "metadata": {
  "kernelspec": {
   "display_name": "base",
   "language": "python",
   "name": "python3"
  },
  "language_info": {
   "codemirror_mode": {
    "name": "ipython",
    "version": 3
   },
   "file_extension": ".py",
   "mimetype": "text/x-python",
   "name": "python",
   "nbconvert_exporter": "python",
   "pygments_lexer": "ipython3",
   "version": "3.11.5"
  }
 },
 "nbformat": 4,
 "nbformat_minor": 2
}
