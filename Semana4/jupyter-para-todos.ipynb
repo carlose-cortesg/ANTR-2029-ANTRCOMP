+bMxubUUW1tb9Ho9DQ0NeHl5kZqaSnZ2tkkbOzs7srKyWLZsGcuXL6erq4vS0lJsbW2xt7fn/PnzrFq1Cm9vbyoqKigpKWHevHm/7XssMS6EJdl8k0VtU5pOp2P79u18+PDBok9SxPShUqlISUkhJSVlsocixsjGxobi4mI2btw44vGuri4WLVpEY2Mjvr6+Vh2bNXR3d+Pi4sK9e/dYu3btZA9HWNiRI0fQ6/W0tLRM9lCsRmJcWNu03IMwlRUUFLB48WKcnZ1pbm4mPT2dLVu2SHIghJg2Kisr6e/vZ+nSpbx+/Zo9e/agUqmM+yvE/1N/fz+tra3k5uaSmZk52cOxKIlxMdmm5RKjiZCQkGBSDvDHT0JCgsX67enpITo6Go1GQ2pqKps3bzb7teXx0ul0o16Lp6fnBI1c/K3JirmJ8OLFi1HHbmdnZywZKKaWyZo7BgcH2bdvH56enoSHhzN//nzu37//y8owvyMx+t+XmJjI6tWrWbNmjdnyoqk0P1ZXV/8y1sAyMS7EeMgSoz/09u1bk3r/P1IqlTg6Olp5RH/u48ePvHnzZsRjM2bM+O2GKmEdUznmhoaG6OrqGvW4JSvnCMv5P80dEqNT21SaHwcGBnj16tWox/+m2qEQE0USBCGEEEIIIYSRLDESQgghhBBCGEmCIIQQQgghhDCSBEEIIYQQQghhJAmCEEIIIYQQwkgSBCGEEEIIIYSRJAhCCCGEEEIII0kQhBBCCCGEEEaSIAghhBBCCCGM/gHPxlrallQktwAAAABJRU5ErkJggg==",
      "text/plain": [
       "<Figure size 1000x800 with 2 Axes>"
      ]
     },
     "metadata": {},
     "output_type": "display_data"
    }
   ],
   "source": [
    "plt.figure(figsize=(10, 8))\n",
    "numeric_penguins = penguins.select_dtypes(include=[float, int])\n",
    "corr = numeric_penguins.corr()\n",
    "sns.heatmap(corr, annot=True, cmap='coolwarm', fmt=\".2f\", linewidths=.5)"
>>>>>>> Stashed changes
   ]
  }
 ],
 "metadata": {
  "kernelspec": {
   "display_name": "Python 3",
   "language": "python",
   "name": "python3"
  },
  "language_info": {
   "codemirror_mode": {
    "name": "ipython",
    "version": 3
   },
   "file_extension": ".py",
   "mimetype": "text/x-python",
   "name": "python",
   "nbconvert_exporter": "python",
   "pygments_lexer": "ipython3",
   "version": "3.11.5"
  }
 },
 "nbformat": 4,
 "nbformat_minor": 2
}
