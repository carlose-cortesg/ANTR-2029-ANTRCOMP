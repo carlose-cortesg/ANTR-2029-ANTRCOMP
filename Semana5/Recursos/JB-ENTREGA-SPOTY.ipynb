{
 "cells": [
  {
   "cell_type": "code",
   "execution_count": 49,
   "metadata": {},
   "outputs": [
    {
     "name": "stdout",
     "output_type": "stream",
     "text": [
      "The sql extension is already loaded. To reload it, use:\n",
      "  %reload_ext sql\n"
     ]
    }
   ],
   "source": [
    "%load_ext sql\n"
   ]
  },
  {
   "cell_type": "code",
   "execution_count": 50,
   "metadata": {},
   "outputs": [],
   "source": [
    "%sql sqlite:///music_smaller_10000.db"
   ]
  },
  {
   "cell_type": "code",
   "execution_count": 51,
   "metadata": {},
   "outputs": [
    {
     "name": "stdout",
     "output_type": "stream",
     "text": [
      " * sqlite:///music_smaller_10000.db\n",
      "Done.\n"
     ]
    },
    {
     "data": {
      "text/html": [
       "<table>\n",
       "    <thead>\n",
       "        <tr>\n",
       "            <th>COUNT(*)</th>\n",
       "        </tr>\n",
       "    </thead>\n",
       "    <tbody>\n",
       "        <tr>\n",
       "            <td>8000</td>\n",
       "        </tr>\n",
       "    </tbody>\n",
       "</table>"
      ],
      "text/plain": [
       "[(8000,)]"
      ]
     },
     "execution_count": 51,
     "metadata": {},
     "output_type": "execute_result"
    }
   ],
   "source": [
    "%%sql\n",
    "SELECT COUNT(*) FROM playlists;\n"
   ]
  },
  {
   "cell_type": "code",
   "execution_count": 52,
   "metadata": {},
   "outputs": [
    {
     "name": "stdout",
     "output_type": "stream",
     "text": [
      " * sqlite:///music_smaller_10000.db\n",
      "Done.\n"
     ]
    },
    {
     "data": {
      "text/html": [
       "<table>\n",
       "    <thead>\n",
       "        <tr>\n",
       "            <th>slice</th>\n",
       "            <th>pid</th>\n",
       "            <th>modified_at</th>\n",
       "            <th>num_tracks</th>\n",
       "            <th>num_albums</th>\n",
       "            <th>num_followers</th>\n",
       "            <th>num_edits</th>\n",
       "            <th>duration_ms</th>\n",
       "            <th>num_artists</th>\n",
       "        </tr>\n",
       "    </thead>\n",
       "    <tbody>\n",
       "        <tr>\n",
       "            <td>0-999</td>\n",
       "            <td>20</td>\n",
       "            <td>1509494400</td>\n",
       "            <td>14</td>\n",
       "            <td>9</td>\n",
       "            <td>3</td>\n",
       "            <td>11</td>\n",
       "            <td>2165531</td>\n",
       "            <td>6</td>\n",
       "        </tr>\n",
       "        <tr>\n",
       "            <td>0-999</td>\n",
       "            <td>324</td>\n",
       "            <td>1509494400</td>\n",
       "            <td>74</td>\n",
       "            <td>63</td>\n",
       "            <td>3</td>\n",
       "            <td>21</td>\n",
       "            <td>22279115</td>\n",
       "            <td>40</td>\n",
       "        </tr>\n",
       "        <tr>\n",
       "            <td>0-999</td>\n",
       "            <td>350</td>\n",
       "            <td>1509494400</td>\n",
       "            <td>83</td>\n",
       "            <td>70</td>\n",
       "            <td>1</td>\n",
       "            <td>5</td>\n",
       "            <td>19787271</td>\n",
       "            <td>40</td>\n",
       "        </tr>\n",
       "        <tr>\n",
       "            <td>0-999</td>\n",
       "            <td>984</td>\n",
       "            <td>1509494400</td>\n",
       "            <td>203</td>\n",
       "            <td>150</td>\n",
       "            <td>1</td>\n",
       "            <td>50</td>\n",
       "            <td>48616835</td>\n",
       "            <td>78</td>\n",
       "        </tr>\n",
       "        <tr>\n",
       "            <td>2000-2999</td>\n",
       "            <td>2150</td>\n",
       "            <td>1509494400</td>\n",
       "            <td>104</td>\n",
       "            <td>93</td>\n",
       "            <td>1</td>\n",
       "            <td>65</td>\n",
       "            <td>23038338</td>\n",
       "            <td>68</td>\n",
       "        </tr>\n",
       "        <tr>\n",
       "            <td>2000-2999</td>\n",
       "            <td>2318</td>\n",
       "            <td>1509494400</td>\n",
       "            <td>236</td>\n",
       "            <td>159</td>\n",
       "            <td>1</td>\n",
       "            <td>29</td>\n",
       "            <td>54021904</td>\n",
       "            <td>115</td>\n",
       "        </tr>\n",
       "        <tr>\n",
       "            <td>2000-2999</td>\n",
       "            <td>2327</td>\n",
       "            <td>1509494400</td>\n",
       "            <td>142</td>\n",
       "            <td>92</td>\n",
       "            <td>1</td>\n",
       "            <td>29</td>\n",
       "            <td>31584411</td>\n",
       "            <td>69</td>\n",
       "        </tr>\n",
       "        <tr>\n",
       "            <td>2000-2999</td>\n",
       "            <td>2339</td>\n",
       "            <td>1509494400</td>\n",
       "            <td>183</td>\n",
       "            <td>142</td>\n",
       "            <td>1</td>\n",
       "            <td>110</td>\n",
       "            <td>51666285</td>\n",
       "            <td>111</td>\n",
       "        </tr>\n",
       "        <tr>\n",
       "            <td>2000-2999</td>\n",
       "            <td>2558</td>\n",
       "            <td>1509494400</td>\n",
       "            <td>67</td>\n",
       "            <td>59</td>\n",
       "            <td>1</td>\n",
       "            <td>40</td>\n",
       "            <td>16308964</td>\n",
       "            <td>54</td>\n",
       "        </tr>\n",
       "        <tr>\n",
       "            <td>2000-2999</td>\n",
       "            <td>2573</td>\n",
       "            <td>1509494400</td>\n",
       "            <td>37</td>\n",
       "            <td>25</td>\n",
       "            <td>1</td>\n",
       "            <td>12</td>\n",
       "            <td>8589783</td>\n",
       "            <td>15</td>\n",
       "        </tr>\n",
       "        <tr>\n",
       "            <td>2000-2999</td>\n",
       "            <td>2810</td>\n",
       "            <td>1509494400</td>\n",
       "            <td>40</td>\n",
       "            <td>34</td>\n",
       "            <td>1</td>\n",
       "            <td>26</td>\n",
       "            <td>8843240</td>\n",
       "            <td>27</td>\n",
       "        </tr>\n",
       "        <tr>\n",
       "            <td>3000-3999</td>\n",
       "            <td>3248</td>\n",
       "            <td>1509494400</td>\n",
       "            <td>141</td>\n",
       "            <td>92</td>\n",
       "            <td>1</td>\n",
       "            <td>73</td>\n",
       "            <td>30644891</td>\n",
       "            <td>47</td>\n",
       "        </tr>\n",
       "        <tr>\n",
       "            <td>3000-3999</td>\n",
       "            <td>3416</td>\n",
       "            <td>1509494400</td>\n",
       "            <td>31</td>\n",
       "            <td>31</td>\n",
       "            <td>1</td>\n",
       "            <td>9</td>\n",
       "            <td>7363056</td>\n",
       "            <td>29</td>\n",
       "        </tr>\n",
       "        <tr>\n",
       "            <td>3000-3999</td>\n",
       "            <td>3928</td>\n",
       "            <td>1509494400</td>\n",
       "            <td>40</td>\n",
       "            <td>36</td>\n",
       "            <td>1</td>\n",
       "            <td>17</td>\n",
       "            <td>9071291</td>\n",
       "            <td>31</td>\n",
       "        </tr>\n",
       "        <tr>\n",
       "            <td>6000-6999</td>\n",
       "            <td>6249</td>\n",
       "            <td>1509494400</td>\n",
       "            <td>73</td>\n",
       "            <td>54</td>\n",
       "            <td>1</td>\n",
       "            <td>17</td>\n",
       "            <td>15443194</td>\n",
       "            <td>45</td>\n",
       "        </tr>\n",
       "        <tr>\n",
       "            <td>6000-6999</td>\n",
       "            <td>6625</td>\n",
       "            <td>1509494400</td>\n",
       "            <td>24</td>\n",
       "            <td>20</td>\n",
       "            <td>1</td>\n",
       "            <td>14</td>\n",
       "            <td>5303944</td>\n",
       "            <td>18</td>\n",
       "        </tr>\n",
       "        <tr>\n",
       "            <td>7000-7999</td>\n",
       "            <td>7025</td>\n",
       "            <td>1509494400</td>\n",
       "            <td>111</td>\n",
       "            <td>31</td>\n",
       "            <td>1</td>\n",
       "            <td>16</td>\n",
       "            <td>19375137</td>\n",
       "            <td>21</td>\n",
       "        </tr>\n",
       "        <tr>\n",
       "            <td>7000-7999</td>\n",
       "            <td>7487</td>\n",
       "            <td>1509494400</td>\n",
       "            <td>168</td>\n",
       "            <td>136</td>\n",
       "            <td>1</td>\n",
       "            <td>54</td>\n",
       "            <td>36263538</td>\n",
       "            <td>109</td>\n",
       "        </tr>\n",
       "        <tr>\n",
       "            <td>7000-7999</td>\n",
       "            <td>7493</td>\n",
       "            <td>1509494400</td>\n",
       "            <td>78</td>\n",
       "            <td>49</td>\n",
       "            <td>3</td>\n",
       "            <td>39</td>\n",
       "            <td>17624408</td>\n",
       "            <td>34</td>\n",
       "        </tr>\n",
       "        <tr>\n",
       "            <td>8000-8999</td>\n",
       "            <td>8193</td>\n",
       "            <td>1509494400</td>\n",
       "            <td>106</td>\n",
       "            <td>89</td>\n",
       "            <td>1</td>\n",
       "            <td>80</td>\n",
       "            <td>25185678</td>\n",
       "            <td>68</td>\n",
       "        </tr>\n",
       "    </tbody>\n",
       "</table>"
      ],
      "text/plain": [
       "[('0-999', 20, 1509494400, 14, 9, 3, 11, 2165531, 6),\n",
       " ('0-999', 324, 1509494400, 74, 63, 3, 21, 22279115, 40),\n",
       " ('0-999', 350, 1509494400, 83, 70, 1, 5, 19787271, 40),\n",
       " ('0-999', 984, 1509494400, 203, 150, 1, 50, 48616835, 78),\n",
       " ('2000-2999', 2150, 1509494400, 104, 93, 1, 65, 23038338, 68),\n",
       " ('2000-2999', 2318, 1509494400, 236, 159, 1, 29, 54021904, 115),\n",
       " ('2000-2999', 2327, 1509494400, 142, 92, 1, 29, 31584411, 69),\n",
       " ('2000-2999', 2339, 1509494400, 183, 142, 1, 110, 51666285, 111),\n",
       " ('2000-2999', 2558, 1509494400, 67, 59, 1, 40, 16308964, 54),\n",
       " ('2000-2999', 2573, 1509494400, 37, 25, 1, 12, 8589783, 15),\n",
       " ('2000-2999', 2810, 1509494400, 40, 34, 1, 26, 8843240, 27),\n",
       " ('3000-3999', 3248, 1509494400, 141, 92, 1, 73, 30644891, 47),\n",
       " ('3000-3999', 3416, 1509494400, 31, 31, 1, 9, 7363056, 29),\n",
       " ('3000-3999', 3928, 1509494400, 40, 36, 1, 17, 9071291, 31),\n",
       " ('6000-6999', 6249, 1509494400, 73, 54, 1, 17, 15443194, 45),\n",
       " ('6000-6999', 6625, 1509494400, 24, 20, 1, 14, 5303944, 18),\n",
       " ('7000-7999', 7025, 1509494400, 111, 31, 1, 16, 19375137, 21),\n",
       " ('7000-7999', 7487, 1509494400, 168, 136, 1, 54, 36263538, 109),\n",
       " ('7000-7999', 7493, 1509494400, 78, 49, 3, 39, 17624408, 34),\n",
       " ('8000-8999', 8193, 1509494400, 106, 89, 1, 80, 25185678, 68)]"
      ]
     },
     "execution_count": 52,
     "metadata": {},
     "output_type": "execute_result"
    }
   ],
   "source": [
    "%%sql\n",
    "SELECT * FROM playlists ORDER BY modified_at DESC LIMIT 20;\n"
   ]
  },
  {
   "cell_type": "code",
   "execution_count": 53,
   "metadata": {},
   "outputs": [
    {
     "name": "stdout",
     "output_type": "stream",
     "text": [
      " * sqlite:///music_smaller_10000.db\n",
      "(sqlite3.OperationalError) no such table: songs\n",
      "[SQL: SELECT title FROM songs ORDER BY duration DESC LIMIT 10;]\n",
      "(Background on this error at: https://sqlalche.me/e/20/e3q8)\n"
     ]
    }
   ],
   "source": [
    "%%sql\n",
    "SELECT title FROM songs ORDER BY duration DESC LIMIT 10;\n"
   ]
  },
  {
   "cell_type": "code",
   "execution_count": 54,
   "metadata": {},
   "outputs": [
    {
     "name": "stdout",
     "output_type": "stream",
     "text": [
      " * sqlite:///music_smaller_10000.db\n",
      "(sqlite3.OperationalError) near \"<\": syntax error\n",
      "[SQL: SELECT SUM(duration) FROM songs WHERE playlist_id = <specific_playlist_id>;]\n",
      "(Background on this error at: https://sqlalche.me/e/20/e3q8)\n"
     ]
    }
   ],
   "source": [
    "%%sql\n",
    "SELECT SUM(duration) FROM songs WHERE playlist_id = <specific_playlist_id>;\n"
   ]
  },
  {
   "cell_type": "code",
   "execution_count": 55,
   "metadata": {},
   "outputs": [
    {
     "name": "stdout",
     "output_type": "stream",
     "text": [
      " * sqlite:///music_smaller_10000.db\n",
      "(sqlite3.OperationalError) no such table: songs\n",
      "[SQL: SELECT MAX(duration) AS max_duration, MIN(duration) AS min_duration FROM songs;]\n",
      "(Background on this error at: https://sqlalche.me/e/20/e3q8)\n"
     ]
    }
   ],
   "source": [
    "%%sql\n",
    "SELECT MAX(duration) AS max_duration, MIN(duration) AS min_duration FROM songs;\n"
   ]
  },
  {
   "cell_type": "code",
   "execution_count": 56,
   "metadata": {},
   "outputs": [
    {
     "name": "stdout",
     "output_type": "stream",
     "text": [
      " * sqlite:///music_smaller_10000.db\n",
      "(sqlite3.OperationalError) no such column: number_of_songs\n",
      "[SQL: SELECT COUNT(*) FROM playlists WHERE number_of_songs > 10;]\n",
      "(Background on this error at: https://sqlalche.me/e/20/e3q8)\n"
     ]
    }
   ],
   "source": [
    "%%sql\n",
    "SELECT COUNT(*) FROM playlists WHERE number_of_songs > 10;\n"
   ]
  },
  {
   "cell_type": "code",
   "execution_count": 57,
   "metadata": {},
   "outputs": [
    {
     "name": "stdout",
     "output_type": "stream",
     "text": [
      " * sqlite:///music_smaller_10000.db\n",
      "(sqlite3.OperationalError) no such table: songs\n",
      "[SQL: SELECT playlist_id, COUNT(*) as song_count FROM songs GROUP BY playlist_id ORDER BY song_count DESC;]\n",
      "(Background on this error at: https://sqlalche.me/e/20/e3q8)\n"
     ]
    }
   ],
   "source": [
    "%%sql\n",
    "SELECT playlist_id, COUNT(*) as song_count FROM songs GROUP BY playlist_id ORDER BY song_count DESC;\n"
   ]
  },
  {
   "cell_type": "code",
   "execution_count": 58,
   "metadata": {},
   "outputs": [
    {
     "name": "stdout",
     "output_type": "stream",
     "text": [
      " * sqlite:///music_smaller_10000.db\n",
      "(sqlite3.OperationalError) near \"<\": syntax error\n",
      "[SQL: SELECT p.playlist_id, SUM(s.duration) as total_duration\n",
      "FROM playlists p\n",
      "JOIN songs s ON p.playlist_id = s.playlist_id\n",
      "WHERE p.playlist_id = <specific_playlist_id>\n",
      "GROUP BY p.playlist_id;]\n",
      "(Background on this error at: https://sqlalche.me/e/20/e3q8)\n"
     ]
    }
   ],
   "source": [
    "%%sql\n",
    "SELECT p.playlist_id, SUM(s.duration) as total_duration\n",
    "FROM playlists p\n",
    "JOIN songs s ON p.playlist_id = s.playlist_id\n",
    "WHERE p.playlist_id = <specific_playlist_id>\n",
    "GROUP BY p.playlist_id;\n"
   ]
  },
  {
   "cell_type": "code",
   "execution_count": 59,
   "metadata": {},
   "outputs": [
    {
     "name": "stdout",
     "output_type": "stream",
     "text": [
      " * sqlite:///music_smaller_10000.db\n",
      "(sqlite3.OperationalError) near \"<\": syntax error\n",
      "[SQL: SELECT a.artist_id, SUM(s.duration) as total_duration\n",
      "FROM artists a\n",
      "JOIN songs s ON a.artist_id = s.artist_id\n",
      "WHERE a.artist_id = <specific_artist_id>\n",
      "GROUP BY a.artist_id;]\n",
      "(Background on this error at: https://sqlalche.me/e/20/e3q8)\n"
     ]
    }
   ],
   "source": [
    "%%sql\n",
    "SELECT a.artist_id, SUM(s.duration) as total_duration\n",
    "FROM artists a\n",
    "JOIN songs s ON a.artist_id = s.artist_id\n",
    "WHERE a.artist_id = <specific_artist_id>\n",
    "GROUP BY a.artist_id;\n"
   ]
  },
  {
   "cell_type": "code",
   "execution_count": 60,
   "metadata": {},
   "outputs": [
    {
     "name": "stdout",
     "output_type": "stream",
     "text": [
      " * sqlite:///music_smaller_10000.db\n",
      "(sqlite3.OperationalError) no such table: songs\n",
      "[SQL: SELECT p.playlist_id, COUNT(DISTINCT s.album_id) as album_count\n",
      "FROM playlists p\n",
      "JOIN songs s ON p.playlist_id = s.playlist_id\n",
      "GROUP BY p.playlist_id\n",
      "HAVING album_count > 1;]\n",
      "(Background on this error at: https://sqlalche.me/e/20/e3q8)\n"
     ]
    }
   ],
   "source": [
    "%%sql\n",
    "SELECT p.playlist_id, COUNT(DISTINCT s.album_id) as album_count\n",
    "FROM playlists p\n",
    "JOIN songs s ON p.playlist_id = s.playlist_id\n",
    "GROUP BY p.playlist_id\n",
    "HAVING album_count > 1;\n"
   ]
  }
 ],
 "metadata": {
  "kernelspec": {
   "display_name": "base",
   "language": "python",
   "name": "python3"
  },
  "language_info": {
   "codemirror_mode": {
    "name": "ipython",
    "version": 3
   },
   "file_extension": ".py",
   "mimetype": "text/x-python",
   "name": "python",
   "nbconvert_exporter": "python",
   "pygments_lexer": "ipython3",
   "version": "3.11.5"
  }
 },
 "nbformat": 4,
 "nbformat_minor": 2
}
