{
 "cells": [
  {
   "cell_type": "markdown",
   "metadata": {},
   "source": [
    "#### Mayo 2024 \n",
    "[Canción mas escuchada en Colombia en el 2016 🎼🎼](https://open.spotify.com/track/1zi7xx7UVEFkmKfv06H8x0?si=6b985fe4b3f54089)\n",
    "# Creando una base de datos mas pequeña 😅\n",
    "### [Por: Carlos Eduardo Cortés Gomez](https://carloseduardo.omg.lol/)\n",
    "-------------------------------------\n"
   ]
  },
  {
   "cell_type": "code",
   "execution_count": null,
   "metadata": {},
   "outputs": [],
   "source": [
    "### Biblioteca\n",
    "\n",
    "from sqlalchemy import create_engine, Column, Integer, String, ForeignKey\n",
    "from sqlalchemy.ext.declarative import declarative_base\n",
    "from sqlalchemy.orm import sessionmaker\n",
    "from sqlalchemy import PrimaryKeyConstraint\n",
    "from sqlalchemy.orm import sessionmaker\n",
    "from datetime import datetime"
   ]
  },
  {
   "cell_type": "code",
   "execution_count": null,
   "metadata": {},
   "outputs": [],
   "source": [
    "### Declaraciones\n",
    "Base = declarative_base()\n",
    "\n",
    "# Define models\n",
    "class SliceTime(Base):\n",
    "    __tablename__ = 'slice_time'\n",
    "    slice = Column(String, primary_key=True)\n",
    "    generated_on = Column(String)\n",
    "    version = Column(String)\n",
    "\n",
    "class Playlists(Base):\n",
    "    __tablename__ = 'playlists'\n",
    "    slice = Column(String, ForeignKey('slice_time.slice'))\n",
    "    pid = Column(Integer, primary_key=True)\n",
    "    modified_at = Column(Integer)\n",
    "    num_tracks = Column(Integer)\n",
    "    num_albums = Column(Integer)\n",
    "    num_followers = Column(Integer)\n",
    "    num_edits = Column(Integer)        # New column for number of edits\n",
    "    duration_ms = Column(Integer)      # New column for total duration in milliseconds\n",
    "    num_artists = Column(Integer)      # New column for number of artists\n",
    "\n",
    "class Song(Base):\n",
    "    __tablename__ = 'song'\n",
    "    track_uri = Column(String, nullable=False)\n",
    "    pid = Column(Integer, ForeignKey('playlists.pid'), nullable=False)\n",
    "    pos = Column(Integer)\n",
    "    artist_name = Column(String)\n",
    "    artist_uri = Column(String)\n",
    "    track_name = Column(String)\n",
    "    album_uri = Column(String)\n",
    "    duration_ms = Column(Integer)\n",
    "    album_name = Column(String)\n",
    "    \n",
    "    __table_args__ = (\n",
    "        PrimaryKeyConstraint('track_uri', 'pid', 'pos'),\n",
    "        {},\n",
    "    )"
   ]
  },
  {
   "cell_type": "code",
   "execution_count": null,
   "metadata": {},
   "outputs": [],
   "source": [
    "# Configuración de conexión a la base de datos original\n",
    "engine_original = create_engine('sqlite:///music.db')\n",
    "Base.metadata.create_all(engine_original)\n",
    "Session_original = sessionmaker(bind=engine_original)\n",
    "session_original = Session_original()\n",
    "\n",
    "# Configuración de conexión a la nueva base de datos más pequeña\n",
    "engine_new = create_engine('sqlite:///music_smaller.db')\n",
    "Base.metadata.create_all(engine_new)\n",
    "Session_new = sessionmaker(bind=engine_new)\n",
    "session_new = Session_new()"
   ]
  },
  {
   "cell_type": "code",
   "execution_count": null,
   "metadata": {},
   "outputs": [],
   "source": [
    "# Transferir 500 playlists\n",
    "playlists = session_original.query(Playlists).limit(500).all()\n",
    "\n",
    "for playlist in playlists:\n",
    "    new_playlist = Playlists(\n",
    "        slice=playlist.slice,\n",
    "        pid=playlist.pid,\n",
    "        modified_at=playlist.modified_at,  # Conversión correcta aquí\n",
    "        num_tracks=playlist.num_tracks,\n",
    "        num_albums=playlist.num_albums,\n",
    "        num_followers=playlist.num_followers,\n",
    "        num_edits=playlist.num_edits,\n",
    "        duration_ms=playlist.duration_ms,\n",
    "        num_artists=playlist.num_artists\n",
    "    )\n",
    "    session_new.add(new_playlist)\n",
    "    \n",
    "    # Transferir también las canciones asociadas\n",
    "    songs = session_original.query(Song).filter(Song.pid == playlist.pid).all()\n",
    "    for song in songs:\n",
    "        new_song = Song(\n",
    "            track_uri=song.track_uri,\n",
    "            pid=song.pid,\n",
    "            pos=song.pos,\n",
    "            artist_name=song.artist_name,\n",
    "            artist_uri=song.artist_uri,\n",
    "            track_name=song.track_name,\n",
    "            album_uri=song.album_uri,\n",
    "            duration_ms=song.duration_ms,\n",
    "            album_name=song.album_name\n",
    "        )\n",
    "        session_new.add(new_song)\n",
    "\n",
    "# Comprometer los cambios en la nueva base de datos\n",
    "session_new.commit()\n",
    "\n",
    "# Cerrar las sesiones\n",
    "session_original.close()\n",
    "session_new.close()\n"
   ]
  },
  {
   "cell_type": "code",
   "execution_count": null,
   "metadata": {},
   "outputs": [],
   "source": []
  }
 ],
 "metadata": {
  "kernelspec": {
   "display_name": "base",
   "language": "python",
   "name": "python3"
  },
  "language_info": {
   "codemirror_mode": {
    "name": "ipython",
    "version": 3
   },
   "file_extension": ".py",
   "mimetype": "text/x-python",
   "name": "python",
   "nbconvert_exporter": "python",
   "pygments_lexer": "ipython3",
   "version": "3.9.7"
  }
 },
 "nbformat": 4,
 "nbformat_minor": 2
}
