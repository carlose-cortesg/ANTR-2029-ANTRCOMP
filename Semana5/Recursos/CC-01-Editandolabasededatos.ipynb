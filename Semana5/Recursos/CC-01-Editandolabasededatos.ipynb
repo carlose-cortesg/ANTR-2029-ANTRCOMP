{
 "cells": [
  {
   "cell_type": "markdown",
   "metadata": {},
   "source": [
    "#### Mayo 2024 \n",
    "[Canción mas escuchada en Colombia en el 2018 🎼🎼](https://open.spotify.com/track/0VKkyBKCXyR99navhVRqcP?si=53cc15c7cbe04bac)\n",
    "# ¿Cómo transformar un JSON + un CSV en una BBDD en python? \n",
    "### [Por: Carlos Eduardo Cortés Gomez](https://carloseduardo.omg.lol/)\n",
    "-------------------------------------\n",
    "\n",
    "El [Spotify Million Playlist Challenge](https://research.atspotify.com/2020/09/the-million-playlist-dataset-remastered/) es una estructura de datos interesantisima que contiene metadatos de un millón de listas creadas en Spotify + las canciones que la componen(con sus respectivos metadatos). El objetivo del conjunto de datos es crear un _sandbox_ de algoritmos, abierto al público, en el problema de sistemas de recomendación. ¿Que es un modelo de recomendación? Es el modelo que permite predecir que después de escuchar Peso Pluma en el 99% de los casos el usuario no quiere escuchar Justice, Judas Priest o Disclosure. Para nuestro curso es maravilloso para practicar técnicas de exploración y de análitca básica en conjuntos de datos estructurados.\n",
    "\n",
    "- _Puede_ no ser representativa del comportamiento real de las listas en Spotify, pero probablemente tenga también información interesante\n",
    "- _Tiene un problema_ pesa 5.6 gbs en json, lo cúal hace que no se pueda manipular directamente y dificulta el trabajo colaborativo\n",
    "\n",
    "Este cuaderno tiene cómo objetivo transformar el json en un esquema SQL, filtrarla en un pedazo de interés y crear datos básicos sobre la BBDD\n",
    "\n",
    "### Importante\n",
    "\n",
    "> La BBDD completa no se va guardar en el repo, pero se puede descargar [aquí](https://www.aicrowd.com/challenges/spotify-million-playlist-dataset-challenge#challenge-dataset) (es necesario registro) para reemplazar en los strings donde se llama la base de datos."
   ]
  },
  {
   "cell_type": "markdown",
   "metadata": {},
   "source": [
    "## "
   ]
  },
  {
   "cell_type": "markdown",
   "metadata": {},
   "source": [
    "## Del formato JSON a un conjunto de Datos SQL\n",
    "\n",
    "La base de datos en su formato RAW se ve así, es un JSON anidado en tres niveles:\n",
    "1. Fecha y slice\n",
    "2. Playlist info\n",
    "3. Canciones de la Playlist\n",
    "\n",
    "Vamos a crear tres esquemas que deberían funcionar así:"
   ]
  },
  {
   "cell_type": "raw",
   "metadata": {
    "vscode": {
     "languageId": "raw"
    }
   },
   "source": [
    "slice_time:\n",
    "######## Columns #####\n",
    "generated_on  \n",
    "slice -> Primary Key\n",
    "version\n",
    "########\n",
    "\n",
    "Playlists:\n",
    "######## Columns #####\n",
    "Slice\n",
    "pid -> Primary Key\n",
    "modified_at\n",
    "num_tracks\n",
    "num_albums\n",
    "num_followers\n",
    "########\n",
    "\n",
    "Song:\n",
    "######## Columns #####\n",
    "pid\n",
    "pos\n",
    "artist_name \n",
    "artist_uri\n",
    "track_uri -> Primary Key\n",
    "track_name \n",
    "album_uri\n",
    "duration_ms\n",
    "album_name \n",
    "########"
   ]
  },
  {
   "cell_type": "raw",
   "metadata": {
    "vscode": {
     "languageId": "raw"
    }
   },
   "source": [
    "{\n",
    "    \"info\": {\n",
    "        \"\": \"2017-12-03 08:41:42.057563\", \n",
    "        \"\": \"18000-18999\", \n",
    "        \"version\": \"v1\"\n",
    "    }, \n",
    "    \"playlists\": [\n",
    "        {\n",
    "            \"name\": \"dance floor \", \n",
    "            \"collaborative\": \"false\", \n",
    "            \"pid\": 18000, \n",
    "            \"modified_at\": 1499040000, \n",
    "            \"num_tracks\": 83, \n",
    "            \"num_albums\": 70, \n",
    "            \"num_followers\": 1, \n",
    "            \"tracks\": [\n",
    "                {\n",
    "                    \"pos\": 0, \n",
    "                    \"artist_name\": \"Metro Station\", \n",
    "                    \"track_uri\": \"spotify:track:5gi7MTQ3rTkYVClOoztZwt\", \n",
    "                    \"artist_uri\": \"spotify:artist:7vXwfZyDp3spzIVNXDaTPN\", \n",
    "                    \"track_name\": \"Every Time I Touch You\", \n",
    "                    \"album_uri\": \"spotify:album:7jtgvowVpIK9UNRPfHljp0\", \n",
    "                    \"duration_ms\": 185288, \n",
    "                    \"album_name\": \"Every Time I Touch You\"\n",
    "                }, \n",
    "                            ], \n",
    "            \"num_edits\": 6, \n",
    "            \"duration_ms\": 11532414, \n",
    "            \"num_artists\": 37\n",
    "        }\n",
    "    ]\n",
    "}"
   ]
  },
  {
   "cell_type": "code",
   "execution_count": 1,
   "metadata": {},
   "outputs": [],
   "source": [
    "### Required Libraries\n",
    "import json\n",
    "import os\n",
    "from sqlalchemy import create_engine, Column, Integer, String, ForeignKey\n",
    "from sqlalchemy.ext.declarative import declarative_base\n",
    "from sqlalchemy.orm import sessionmaker\n",
    "from sqlalchemy import PrimaryKeyConstraint\n",
    "\n",
    "Base = declarative_base()"
   ]
  },
  {
   "cell_type": "code",
   "execution_count": 2,
   "metadata": {},
   "outputs": [],
   "source": [
    "# Define models\n",
    "class SliceTime(Base):\n",
    "    __tablename__ = 'slice_time'\n",
    "    slice = Column(String, primary_key=True)\n",
    "    generated_on = Column(String)\n",
    "    version = Column(String)\n",
    "\n",
    "class Playlists(Base):\n",
    "    __tablename__ = 'playlists'\n",
    "    slice = Column(String, ForeignKey('slice_time.slice'))\n",
    "    pid = Column(Integer, primary_key=True)\n",
    "    modified_at = Column(Integer)\n",
    "    num_tracks = Column(Integer)\n",
    "    num_albums = Column(Integer)\n",
    "    num_followers = Column(Integer)\n",
    "    num_edits = Column(Integer)        # New column for number of edits\n",
    "    duration_ms = Column(Integer)      # New column for total duration in milliseconds\n",
    "    num_artists = Column(Integer)      # New column for number of artists\n",
    "\n",
    "class Song(Base):\n",
    "    __tablename__ = 'song'\n",
    "    track_uri = Column(String, nullable=False)\n",
    "    pid = Column(Integer, ForeignKey('playlists.pid'), nullable=False)\n",
    "    pos = Column(Integer)\n",
    "    artist_name = Column(String)\n",
    "    artist_uri = Column(String)\n",
    "    track_name = Column(String)\n",
    "    album_uri = Column(String)\n",
    "    duration_ms = Column(Integer)\n",
    "    album_name = Column(String)\n",
    "    \n",
    "    __table_args__ = (\n",
    "        PrimaryKeyConstraint('track_uri', 'pid', 'pos'),\n",
    "        {},\n",
    "    )"
   ]
  },
  {
   "cell_type": "code",
   "execution_count": null,
   "metadata": {},
   "outputs": [],
   "source": [
    "# Load JSON data from a file\n",
    "def load_json(file_path):\n",
    "    with open(file_path, 'r') as file:\n",
    "        data = json.load(file)\n",
    "    return data"
   ]
  },
  {
   "cell_type": "code",
   "execution_count": null,
   "metadata": {},
   "outputs": [],
   "source": [
    "# Set up the database connection and create tables\n",
    "def setup_database(uri):\n",
    "    engine = create_engine(uri)\n",
    "    Base.metadata.create_all(engine)\n",
    "    return engine\n",
    "\n",
    "# Insert data into the database\n",
    "def insert_data(session, data):\n",
    "    # Insert into SliceTime\n",
    "    info_data = data['info']\n",
    "    slice_entry = SliceTime(\n",
    "        generated_on=info_data['generated_on'], \n",
    "        slice=info_data['slice'],\n",
    "        version=info_data['version']\n",
    "    )\n",
    "    session.add(slice_entry)\n",
    "    \n",
    "    # Insert into Playlists and Song\n",
    "    for playlist in data['playlists']:\n",
    "        playlist_entry = Playlists(\n",
    "            slice=info_data['slice'],\n",
    "            pid=playlist['pid'], \n",
    "            modified_at=playlist['modified_at'], \n",
    "            num_tracks=playlist['num_tracks'], \n",
    "            num_albums=playlist['num_albums'], \n",
    "            num_followers=playlist['num_followers'],\n",
    "            num_edits=playlist['num_edits'],       # New data for number of edits\n",
    "            duration_ms=playlist['duration_ms'],   # New data for total duration\n",
    "            num_artists=playlist['num_artists']    # New data for number of artists\n",
    "        )\n",
    "        session.add(playlist_entry)\n",
    "        \n",
    "        for track in playlist['tracks']:\n",
    "            track_entry = Song(\n",
    "                pid=playlist['pid'], \n",
    "                pos=track['pos'], \n",
    "                artist_name=track['artist_name'], \n",
    "                artist_uri=track['artist_uri'], \n",
    "                track_uri=track['track_uri'], \n",
    "                track_name=track['track_name'], \n",
    "                album_uri=track['album_uri'], \n",
    "                duration_ms=track['duration_ms'], \n",
    "                album_name=track['album_name']\n",
    "            )\n",
    "            session.add(track_entry)\n",
    "    \n",
    "    session.commit()\n",
    "\n",
    "def process_folder(folder_path):\n",
    "    engine = setup_database('sqlite:///music.db')\n",
    "    Session = sessionmaker(bind=engine)\n",
    "    session = Session()\n",
    "    \n",
    "    for filename in os.listdir(folder_path):\n",
    "        if filename.endswith('.json'):\n",
    "            file_path = os.path.join(folder_path, filename)\n",
    "            json_data = load_json(file_path)\n",
    "            insert_data(session, json_data)\n",
    "    \n",
    "    session.close()\n",
    "\n",
    "def main():\n",
    "    folder_path = '/Users/carloscortes/Downloads/spotify_million_playlist_dataset(1)/data'\n",
    "    process_folder(folder_path)\n",
    "\n",
    "if __name__ == '__main__':\n",
    "    main()"
   ]
  },
  {
   "cell_type": "code",
   "execution_count": null,
   "metadata": {},
   "outputs": [],
   "source": [
    "print(\"a\")"
   ]
  },
  {
   "cell_type": "code",
   "execution_count": null,
   "metadata": {},
   "outputs": [],
   "source": []
  }
 ],
 "metadata": {
  "kernelspec": {
   "display_name": "Python 3",
   "language": "python",
   "name": "python3"
  },
  "language_info": {
   "codemirror_mode": {
    "name": "ipython",
    "version": 3
   },
   "file_extension": ".py",
   "mimetype": "text/x-python",
   "name": "python",
   "nbconvert_exporter": "python",
   "pygments_lexer": "ipython3",
   "version": "3.9.7"
  }
 },
 "nbformat": 4,
 "nbformat_minor": 2
}
